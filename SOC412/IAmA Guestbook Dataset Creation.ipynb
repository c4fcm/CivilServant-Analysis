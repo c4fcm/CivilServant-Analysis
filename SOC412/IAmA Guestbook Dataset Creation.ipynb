{
 "cells": [
  {
   "cell_type": "code",
   "execution_count": 7,
   "metadata": {
    "collapsed": true
   },
   "outputs": [],
   "source": [
    "%matplotlib inline\n",
    "import inspect, os, sys, copy, pytz, re, glob, math\n",
    "import simplejson as json\n",
    "import pandas as pd\n",
    "from dateutil import parser\n",
    "import datetime\n",
    "import matplotlib.pyplot as plt   # Matplotlib for plotting\n",
    "import matplotlib.dates as md\n",
    "import numpy as np\n",
    "import seaborn as sns\n",
    "import csv\n",
    "import statsmodels.formula.api as smf  # for doing statistical regression\n",
    "import statsmodels.api as sm      # access to the wider statsmodels library, including R datasets\n",
    "from collections import Counter, defaultdict\n",
    "utc=pytz.UTC\n",
    "\n",
    "ENV = \"production\"\n",
    "BASE_DIR = \"/home/nathan/reddit_archive/\"\n",
    "sys.path.append(BASE_DIR)\n",
    "\n",
    "### FILTER OUT DEPRECATION WARNINGS ASSOCIATED WITH DECORATORS\n",
    "# https://github.com/ipython/ipython/issues/9242\n",
    "import warnings\n",
    "warnings.filterwarnings('ignore', category=DeprecationWarning, message='.*use @default decorator instead.*')"
   ]
  },
  {
   "cell_type": "code",
   "execution_count": 8,
   "metadata": {
    "collapsed": true
   },
   "outputs": [],
   "source": [
    "posts_filename = \"IAmA_posts_2017.json\"\n",
    "comments_filename = \"IAmA_comments_2017.json\""
   ]
  },
  {
   "cell_type": "code",
   "execution_count": 46,
   "metadata": {
    "collapsed": false
   },
   "outputs": [
    {
     "name": "stdout",
     "output_type": "stream",
     "text": [
      "Loaded 23079 Posts and 1397172 Comments\n",
      "Loaded 23767 Post lines and 1670538 Comment lines\n"
     ]
    }
   ],
   "source": [
    "all_posts = []\n",
    "post_ids = set()\n",
    "post_count = 0 \n",
    "with open(os.path.join(BASE_DIR, \"selected_output\", posts_filename), \"r\") as f:\n",
    "    for line in f:\n",
    "        item = json.loads(line)\n",
    "        if(item['id'] not in post_ids):\n",
    "            item['created'] = datetime.datetime.utcfromtimestamp(float(item['created_utc']))\n",
    "            lbody  = item['selftext'].lower()\n",
    "            ltitle = item['title'].lower()\n",
    "            item['AMA'] = False\n",
    "            if(lbody.find(\"proof\") > - 1 and ltitle.find(\"request\") ==-1):\n",
    "                item['AMA'] = True\n",
    "            all_posts.append(item)\n",
    "            post_ids.add(item['id'])\n",
    "        post_count += 1\n",
    "\n",
    "        \n",
    "all_posts = sorted(all_posts, key = lambda x: x['created'])        \n",
    "\n",
    "all_comments = []\n",
    "comment_ids = set()\n",
    "comment_count = 0\n",
    "with open(os.path.join(BASE_DIR, \"selected_output\", comments_filename), \"r\") as f:\n",
    "    for line in f:\n",
    "        item = json.loads(line)\n",
    "        if(item['id'] not in comment_ids):\n",
    "            item['created'] = datetime.datetime.utcfromtimestamp(float(item['created_utc']))\n",
    "            item['body.charlength'] = len(item['body'])\n",
    "            item['body.includes.question'] = item['body'].find(\"?\") > -1\n",
    "            item['toplevel'] = item['parent_id'] == item['link_id']\n",
    "            item['body'] = None\n",
    "            all_comments.append(item)\n",
    "            comment_ids.add(item['id'])\n",
    "        comment_count += 1\n",
    "all_comments = sorted(all_comments, key = lambda x: x['created'])        \n",
    "\n",
    "print(\"Loaded {0} Posts and {1} Comments\".format(len(all_posts), len(all_comments)))\n",
    "print(\"Loaded {0} Post lines and {1} Comment lines\".format(post_count, comment_count))\n",
    "#print(\"Posts have a mean of {0} comments\".format(np.mean([len(x) for x in all_comments.values()])))"
   ]
  },
  {
   "cell_type": "code",
   "execution_count": 104,
   "metadata": {
    "collapsed": false,
    "scrolled": false
   },
   "outputs": [],
   "source": [
    "ama_posts = {}\n",
    "for item in all_posts:\n",
    "    post = copy.copy(item)\n",
    "    del item['selftext']\n",
    "    if post['AMA']:\n",
    "        post['num.comments'] = 0\n",
    "        post['num.toplevel.comments'] = 0\n",
    "        post['num.toplevel.nonquestions'] = 0\n",
    "        ama_posts[post['id']] = post\n",
    "        \n",
    "ama_post_ids = [x['id'] for x in ama_posts.values()]"
   ]
  },
  {
   "cell_type": "code",
   "execution_count": 105,
   "metadata": {
    "collapsed": false
   },
   "outputs": [],
   "source": [
    "for comment in all_comments:\n",
    "    link_id = comment['link_id'].replace(\"t3_\", \"\")\n",
    "    if link_id in ama_post_ids:\n",
    "        post = ama_posts[link_id]\n",
    "        post['num.comments'] += 1\n",
    "        if(comment['toplevel']):\n",
    "            post['num.toplevel.comments'] += 1\n",
    "            if(comment['body.includes.question'] == False):\n",
    "                post['num.toplevel.nonquestions'] +=1"
   ]
  },
  {
   "cell_type": "code",
   "execution_count": 110,
   "metadata": {
    "collapsed": false
   },
   "outputs": [
    {
     "data": {
      "image/png": "[encoded data removed]",
      "text/plain": [
       "<matplotlib.figure.Figure at 0x7fe29146b8d0>"
      ]
     },
     "metadata": {},
     "output_type": "display_data"
    },
    {
     "data": {
      "image/png": "[encoded data removed]",
      "text/plain": [
       "<matplotlib.figure.Figure at 0x7fe2953470b8>"
      ]
     },
     "metadata": {},
     "output_type": "display_data"
    },
    {
     "data": {
      "image/png": "[encoded data removed]",
      "text/plain": [
       "<matplotlib.figure.Figure at 0x7fe292e76898>"
      ]
     },
     "metadata": {},
     "output_type": "display_data"
    }
   ],
   "source": [
    "plt.hist([math.log1p(x['num.comments']) for x in ama_posts.values()])\n",
    "plt.title(\"ln Num Comments per AMA\")\n",
    "plt.xlim(0,12)\n",
    "plt.ylim(0,800)\n",
    "plt.show()\n",
    "plt.hist([math.log1p(x['num.toplevel.comments']) for x in ama_posts.values()])\n",
    "plt.title(\"ln Num Toplevel Comments per AMA\")\n",
    "plt.xlim(0,12)\n",
    "plt.ylim(0,800)\n",
    "plt.show()\n",
    "plt.hist([math.log1p(x['num.toplevel.nonquestions']) for x in ama_posts.values()])\n",
    "plt.title(\"ln Num Toplevel Nonquestion Comments per AMA\")\n",
    "plt.xlim(0,12)\n",
    "plt.ylim(0,800)\n",
    "plt.show()"
   ]
  },
  {
   "cell_type": "markdown",
   "metadata": {},
   "source": [
    "### Write Posts to DataFrame"
   ]
  },
  {
   "cell_type": "code",
   "execution_count": 107,
   "metadata": {
    "collapsed": false
   },
   "outputs": [
    {
     "data": {
      "text/plain": [
       "{'AMA': True,\n",
       " 'archived': False,\n",
       " 'author': 'moldovangrandma',\n",
       " 'created': datetime.datetime(2017, 4, 21, 15, 18, 4),\n",
       " 'created_utc': '1492787884',\n",
       " 'domain': 'self.IAmA',\n",
       " 'gilded': '0',\n",
       " 'hide_score': False,\n",
       " 'id': '66ptzi',\n",
       " 'is_self': True,\n",
       " 'link_flair_css_class': 'unique',\n",
       " 'link_flair_text': 'Unique Experience',\n",
       " 'num.comments': 2500,\n",
       " 'num.toplevel.comments': 507,\n",
       " 'num.toplevel.nonquestions': 166,\n",
       " 'num_comments': '2343',\n",
       " 'over_18': False,\n",
       " 'permalink': '/r/IAmA/comments/66ptzi/i_am_a_74_year_old_grandma_from_moldova_the/',\n",
       " 'quarantine': False,\n",
       " 'retrieved_on': '1494619745',\n",
       " 'score': '22092',\n",
       " 'selftext': None,\n",
       " 'stickied': False,\n",
       " 'subreddit': 'IAmA',\n",
       " 'subreddit_id': 't5_2qzb6',\n",
       " 'thumbnail': 'self',\n",
       " 'title': 'I am a 74 year old Grandma from Moldova, the poorest country in Europe. I survived WWII, outlived 3 brothers who died of hunger and lived through the Soviet Union. AMA!',\n",
       " 'url': 'https://www.reddit.com/r/IAmA/comments/66ptzi/i_am_a_74_year_old_grandma_from_moldova_the/'}"
      ]
     },
     "execution_count": 107,
     "metadata": {},
     "output_type": "execute_result"
    }
   ],
   "source": [
    "list(ama_posts.values())[0]"
   ]
  },
  {
   "cell_type": "code",
   "execution_count": 108,
   "metadata": {
    "collapsed": false
   },
   "outputs": [],
   "source": [
    "pd.DataFrame(list(ama_posts.values())).to_csv(\"iama/iama_AMAs_01.01.2017-12.31.2017.csv\")"
   ]
  },
  {
   "cell_type": "code",
   "execution_count": null,
   "metadata": {
    "collapsed": true
   },
   "outputs": [],
   "source": []
  }
 ],
 "metadata": {
  "kernelspec": {
   "display_name": "Python 3",
   "language": "python",
   "name": "python3"
  },
  "language_info": {
   "codemirror_mode": {
    "name": "ipython",
    "version": 3
   },
   "file_extension": ".py",
   "mimetype": "text/x-python",
   "name": "python",
   "nbconvert_exporter": "python",
   "pygments_lexer": "ipython3",
   "version": "3.5.2"
  }
 },
 "nbformat": 4,
 "nbformat_minor": 0
}
