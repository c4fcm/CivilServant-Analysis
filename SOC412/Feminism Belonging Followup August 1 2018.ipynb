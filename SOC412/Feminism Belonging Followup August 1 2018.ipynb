{
 "cells": [
  {
   "cell_type": "code",
   "execution_count": null,
   "metadata": {},
   "outputs": [],
   "source": [
    "%matplotlib inline\n",
    "import inspect, os, sys, copy, pytz, re, glob, random, praw, csv\n",
    "import simplejson as json\n",
    "import pandas as pd\n",
    "from dateutil import parser\n",
    "import datetime\n",
    "import matplotlib.pyplot as plt   # Matplotlib for plotting\n",
    "import matplotlib.dates as md\n",
    "import numpy as np\n",
    "import seaborn as sns\n",
    "from collections import Counter, defaultdict\n",
    "import re, urllib\n",
    "\n",
    "from pathlib import Path\n",
    "from datetime import datetime\n",
    "import logging\n",
    "\n",
    "utc=pytz.UTC\n",
    "\n",
    "ENV = \"production\"\n",
    "os.environ['CS_ENV'] = 'production'\n",
    "BASE_DIR = \"/home/nathan/CivilServant\"\n",
    "FILE_BASE_DIR=\"/home/nathan/reddit_archive/\"\n",
    "sys.path.append(BASE_DIR)\n",
    "subreddit_id = \"2qr7i\"\n",
    "\n",
    "LOG_PATH = str(Path(BASE_DIR, \"logs\", \"praw_messenger_%s.log\" % ENV))\n",
    "logging.basicConfig(filename=LOG_PATH, level=logging.INFO)\n",
    "logging.getLogger().addHandler(logging.StreamHandler(sys.stdout))\n",
    "\n",
    "# ARCHIVE_DIR = \"/home/nathan/reddit_archive/03.2017\"\n",
    "\n",
    "# with open(os.path.join(BASE_DIR, \"config\") + \"/{env}.json\".format(env=ENV), \"r\") as config:\n",
    "#   DBCONFIG = json.loads(config.read())\n",
    "\n",
    "# ### LOAD SQLALCHEMY\n",
    "# from sqlalchemy import create_engine\n",
    "# from sqlalchemy.orm import sessionmaker\n",
    "# from sqlalchemy import text, and_, or_\n",
    "# from app.models import Base, SubredditPage, FrontPage, Subreddit, Post, ModAction, Experiment\n",
    "# from utils.common import PageType\n",
    "\n",
    "# db_engine = create_engine(\"mysql://{user}:{password}@{host}/{database}\".format(\n",
    "#     host = DBCONFIG['host'],\n",
    "#     user = DBCONFIG['user'],\n",
    "#     password = DBCONFIG['password'],\n",
    "#     database = DBCONFIG['database']))\n",
    "# DBSession = sessionmaker(bind=db_engine)\n",
    "# db_session = DBSession()\n",
    "\n",
    "### LOAD PRAW\n",
    "import reddit.connection\n",
    "conn = reddit.connection.Connect(base_dir=BASE_DIR)\n",
    "r = conn.connect(use_db_keys=False)\n",
    "\n",
    "#notebook_dir = os.getcwd()\n",
    "#os.chdir(notebook_dir)\n",
    "#import praw.errors\n",
    "\n",
    "\n",
    "### FILTER OUT DEPRECATION WARNINGS ASSOCIATED WITH DECORATORS\n",
    "# https://github.com/ipython/ipython/issues/9242\n",
    "#import warnings\n",
    "#warnings.filterwarnings('ignore', category=DeprecationWarning, message='.*use @default decorator instead.*')"
   ]
  },
  {
   "cell_type": "markdown",
   "metadata": {},
   "source": [
    "# Get list of study participants\n",
    "We avoid archiving these accounts for privacy reasons"
   ]
  },
  {
   "cell_type": "markdown",
   "metadata": {},
   "source": [
    "# Construct and personalize the message"
   ]
  },
  {
   "cell_type": "markdown",
   "metadata": {},
   "source": [
    "## Construct the message template"
   ]
  },
  {
   "cell_type": "code",
   "execution_count": null,
   "metadata": {},
   "outputs": [],
   "source": [
    "MESSAGE_SUBJECT = \"Welcome! Help r/feminism understand first-time commenters with 3 questions\"\n",
    "MESSAGE_TEMPLATE = \"\"\"Dear {username},\n",
    "\n",
    "Hello and welcome from r/feminism! \n",
    "\n",
    "Might you answer a 2 minute, 3-question survey to help us learn more about your experience? We're' currently working with researchers at Princeton University to improve newcomer experiences.\n",
    "\n",
    "[Learn more and answer the survey here]({url}). Thanks! \n",
    "\n",
    "-- [CivilServant](http://civilservant.io/) and the [r/feminism moderators](https://www.reddit.com/r/feminism/about/moderators)\n",
    "\"\"\""
   ]
  },
  {
   "cell_type": "code",
   "execution_count": null,
   "metadata": {},
   "outputs": [],
   "source": [
    "print(MESSAGE_TEMPLATE.format(username=\"natematias\", \n",
    "                              url=\"https://docs.google.com/forms/d/e/1FAIpQLSc1Atz_YmZVZIBILyVRsnZYHT3KrGqEseM-oUyz6dLllEfcVg/viewform?usp=pp_url&entry.360321409={username}\".format(\n",
    "                                  username=\"natematias\")))"
   ]
  },
  {
   "cell_type": "code",
   "execution_count": null,
   "metadata": {},
   "outputs": [],
   "source": [
    "# r.send_message(\"natematias\", MESSAGE_SUBJECT, \n",
    "#                MESSAGE_TEMPLATE.format(username=\"natematias\",\n",
    "#                                        url=\"https://docs.google.com/forms/d/e/1FAIpQLSc1Atz_YmZVZIBILyVRsnZYHT3KrGqEseM-oUyz6dLllEfcVg/viewform?usp=pp_url&entry.360321409={username}\".format(\n",
    "#                                             username=\"natematias\")))"
   ]
  },
  {
   "cell_type": "markdown",
   "metadata": {},
   "source": [
    "## Add the ability to validate users"
   ]
  },
  {
   "cell_type": "code",
   "execution_count": null,
   "metadata": {},
   "outputs": [],
   "source": [
    "def get_reddit_user(username):\n",
    "    try:\n",
    "        user_dict = r.get_redditor(username, fetch=True).json_dict\n",
    "        logging.info(\"User %s found: %s\" %(username, str(user_dict)))\n",
    "        return user_dict\n",
    "    except praw.errors.NotFound as e:\n",
    "        logging.error(\"User not found: %s\" % username)\n",
    "    except Exception as e:\n",
    "        logging.exception(\"Failed to retrieve user\")"
   ]
  },
  {
   "cell_type": "code",
   "execution_count": null,
   "metadata": {},
   "outputs": [],
   "source": [
    "import time\n",
    "send_log_dir = \"/home/nathan/CivilServant-Analysis/SOC412/feminism\"\n",
    "send_log_filename = \"followup_survey_experiment_12.csv\"\n",
    "def sent_message_previously(username):\n",
    "    with open(os.path.join(send_log_dir, send_log_filename), \"r\") as f:\n",
    "        send_log = []\n",
    "        for row in csv.DictReader(f):\n",
    "            send_log.append(row)\n",
    "            if(username == row['username']):\n",
    "                return True\n",
    "    return False"
   ]
  },
  {
   "cell_type": "markdown",
   "metadata": {},
   "source": [
    "## Add the ability to send messages"
   ]
  },
  {
   "cell_type": "code",
   "execution_count": null,
   "metadata": {},
   "outputs": [],
   "source": [
    "## RETURN TRUE IF MESSAGE WAS SENT SUCCESSFULLY\n",
    "def send_reddit_message(**message_data):\n",
    "    user = message_data[\"username\"]    \n",
    "    message = MESSAGE_TEMPLATE.format(**message_data)    \n",
    "    try:\n",
    "        logging.info(\"Sending a message to user %s with data %s\" % (user, str(message_data)))\n",
    "        response = r.send_message(user, MESSAGE_SUBJECT, message, raise_captcha_exception=True)\n",
    "        if response[\"errors\"]:\n",
    "            logging.error(\"Error in response when sending a message to user %s: %s\" % (user, str(response)))\n",
    "            return False\n",
    "        else:\n",
    "            logging.info(\"Message successfully sent to user %s\" % user)\n",
    "            return True\n",
    "    except praw.errors.InvalidCaptcha as e:\n",
    "        logging.exception(\"Message sending requires a captcha\")\n",
    "        logging.error(e.response)\n",
    "        return False\n",
    "    except Exception as e:\n",
    "        logging.exception(\"Failed to send message to %s\" % user)\n",
    "        return False"
   ]
  },
  {
   "cell_type": "markdown",
   "metadata": {},
   "source": [
    "## Wrap the messenger function with anything survey-specific"
   ]
  },
  {
   "cell_type": "code",
   "execution_count": null,
   "metadata": {},
   "outputs": [],
   "source": [
    "def send_survey_message(**message_data):\n",
    "    message = MESSAGE_TEMPLATE.format(**message_data)        \n",
    "    sent_status = send_reddit_message(**message_data)\n",
    "    with open(os.path.join(send_log_dir,send_log_filename), \"a\") as f:\n",
    "        print(\"APPENDING TO FILE: {0}\".format(message_data))\n",
    "        f.write(\",\".join(map(str, [\n",
    "            message_data['username'],\n",
    "            True, #account exists\n",
    "            message_data['get_info_date'],\n",
    "            message_data['deleted'],\n",
    "            message_data['url'],\n",
    "            sent_status\n",
    "        ])) + \"\\n\")\n",
    "        f.close()\n",
    "    \n",
    "    logging.info(\"url: %s\" % message_data[\"url\"])\n",
    "    logging.info(\"get_info_data: %s\" % message_data[\"get_info_date\"])\n",
    "    logging.info(\"deleted: %s\" % message_data[\"deleted\"])\n",
    "    "
   ]
  },
  {
   "cell_type": "code",
   "execution_count": null,
   "metadata": {},
   "outputs": [],
   "source": [
    "def decide_and_send_to_user(username):\n",
    "    if(sent_message_previously(username)):\n",
    "        logging.info(\"User %s previously received a message\" % username)\n",
    "        return None\n",
    "    else:\n",
    "        time.sleep(2)\n",
    "        user = get_reddit_user(username)\n",
    "\n",
    "    if user:\n",
    "        send_survey_message(\n",
    "            username = username,\n",
    "            get_info_date = str(datetime.utcnow()),\n",
    "            deleted = False,\n",
    "            url=\"https://docs.google.com/forms/d/e/1FAIpQLSc1Atz_YmZVZIBILyVRsnZYHT3KrGqEseM-oUyz6dLllEfcVg/viewform?usp=pp_url&entry.360321409={username}\".format(\n",
    "                username=username))\n",
    "    else:\n",
    "        with open(os.path.join(send_log_dir, send_log_filename), \"a\") as f:\n",
    "            f.write(\",\".join(map(str, [\n",
    "                username,\n",
    "                False,\n",
    "                str(datetime.utcnow()),\n",
    "                None,\n",
    "                None,\n",
    "                False\n",
    "            ])) + \"\\n\")\n",
    "            f.close()"
   ]
  },
  {
   "cell_type": "markdown",
   "metadata": {},
   "source": [
    "# Load Survey Recipients"
   ]
  },
  {
   "cell_type": "code",
   "execution_count": null,
   "metadata": {},
   "outputs": [],
   "source": [
    "## LOAD RECIPIENTS FROM A CSV FILE\n",
    "## THEN USE THE CODE BELOW TO SEND THEM THINGS\n",
    "filename = \"experiment_12_eligible_screen_names-08.02.2018.csv\"\n",
    "eligible_usernames = []\n",
    "with open(os.path.join(\"..\",\"inputs\", filename), \"r\") as f:\n",
    "    for row in csv.DictReader(f):\n",
    "        eligible_usernames.append(row['screen_name'])\n",
    "print(\"Found {0} eligible usernames\".format(len(eligible_usernames)))"
   ]
  },
  {
   "cell_type": "markdown",
   "metadata": {
    "scrolled": false
   },
   "source": [
    "# Send Surveys to Participants"
   ]
  },
  {
   "cell_type": "code",
   "execution_count": null,
   "metadata": {
    "scrolled": true
   },
   "outputs": [],
   "source": [
    "for username in eligible_usernames:\n",
    "    decide_and_send_to_user(username)"
   ]
  },
  {
   "cell_type": "code",
   "execution_count": null,
   "metadata": {},
   "outputs": [],
   "source": []
  }
 ],
 "metadata": {
  "kernelspec": {
   "display_name": "Python 3",
   "language": "python",
   "name": "python3"
  },
  "language_info": {
   "codemirror_mode": {
    "name": "ipython",
    "version": 3
   },
   "file_extension": ".py",
   "mimetype": "text/x-python",
   "name": "python",
   "nbconvert_exporter": "python",
   "pygments_lexer": "ipython3",
   "version": "3.5.2"
  }
 },
 "nbformat": 4,
 "nbformat_minor": 1
}
