{
 "cells": [
  {
   "cell_type": "code",
   "execution_count": 1,
   "metadata": {},
   "outputs": [
    {
     "name": "stderr",
     "output_type": "stream",
     "text": [
      "/usr/lib/python3.5/importlib/_bootstrap.py:222: RuntimeWarning: numpy.dtype size changed, may indicate binary incompatibility. Expected 96, got 88\n",
      "  return f(*args, **kwds)\n",
      "/usr/lib/python3.5/importlib/_bootstrap.py:222: RuntimeWarning: numpy.dtype size changed, may indicate binary incompatibility. Expected 96, got 88\n",
      "  return f(*args, **kwds)\n"
     ]
    },
    {
     "name": "stdout",
     "output_type": "stream",
     "text": [
      "Logging to /home/nathan/CivilServant/logs/CivilServant_production.log\n"
     ]
    },
    {
     "name": "stderr",
     "output_type": "stream",
     "text": [
      "substituting https://oauth.reddit.com for https://api.reddit.com in url\n",
      "GET: https://oauth.reddit.com/api/v1/me.json\n",
      "POST: https://api.reddit.com/api/v1/access_token/\n",
      "substituting https://oauth.reddit.com for https://api.reddit.com in url\n",
      "GET: https://oauth.reddit.com/api/v1/me.json\n",
      "substituting https://oauth.reddit.com for https://api.reddit.com in url\n",
      "GET: https://oauth.reddit.com/api/v1/me.json\n"
     ]
    }
   ],
   "source": [
    "%matplotlib inline\n",
    "import inspect, os, sys, copy, pytz, re, glob, random, praw, csv\n",
    "import simplejson as json\n",
    "import pandas as pd\n",
    "from dateutil import parser\n",
    "import datetime\n",
    "import matplotlib.pyplot as plt   # Matplotlib for plotting\n",
    "import matplotlib.dates as md\n",
    "import numpy as np\n",
    "import seaborn as sns\n",
    "from collections import Counter, defaultdict\n",
    "import re, urllib\n",
    "\n",
    "from pathlib import Path\n",
    "from datetime import datetime\n",
    "import logging\n",
    "\n",
    "utc=pytz.UTC\n",
    "\n",
    "ENV = \"production\"\n",
    "os.environ['CS_ENV'] = 'production'\n",
    "BASE_DIR = \"/home/nathan/CivilServant\"\n",
    "FILE_BASE_DIR=\"/home/nathan/reddit_archive/\"\n",
    "sys.path.append(BASE_DIR)\n",
    "subreddit_id = \"2qr7i\"\n",
    "\n",
    "LOG_PATH = str(Path(BASE_DIR, \"logs\", \"praw_messenger_%s.log\" % ENV))\n",
    "logging.basicConfig(filename=LOG_PATH, level=logging.INFO)\n",
    "logging.getLogger().addHandler(logging.StreamHandler(sys.stdout))\n",
    "\n",
    "# ARCHIVE_DIR = \"/home/nathan/reddit_archive/03.2017\"\n",
    "\n",
    "# with open(os.path.join(BASE_DIR, \"config\") + \"/{env}.json\".format(env=ENV), \"r\") as config:\n",
    "#   DBCONFIG = json.loads(config.read())\n",
    "\n",
    "# ### LOAD SQLALCHEMY\n",
    "# from sqlalchemy import create_engine\n",
    "# from sqlalchemy.orm import sessionmaker\n",
    "# from sqlalchemy import text, and_, or_\n",
    "# from app.models import Base, SubredditPage, FrontPage, Subreddit, Post, ModAction, Experiment\n",
    "# from utils.common import PageType\n",
    "\n",
    "# db_engine = create_engine(\"mysql://{user}:{password}@{host}/{database}\".format(\n",
    "#     host = DBCONFIG['host'],\n",
    "#     user = DBCONFIG['user'],\n",
    "#     password = DBCONFIG['password'],\n",
    "#     database = DBCONFIG['database']))\n",
    "# DBSession = sessionmaker(bind=db_engine)\n",
    "# db_session = DBSession()\n",
    "\n",
    "### LOAD PRAW\n",
    "import reddit.connection\n",
    "conn = reddit.connection.Connect(base_dir=BASE_DIR)\n",
    "r = conn.connect(use_db_keys=False)\n",
    "\n",
    "#notebook_dir = os.getcwd()\n",
    "#os.chdir(notebook_dir)\n",
    "#import praw.errors\n",
    "\n",
    "\n",
    "### FILTER OUT DEPRECATION WARNINGS ASSOCIATED WITH DECORATORS\n",
    "# https://github.com/ipython/ipython/issues/9242\n",
    "#import warnings\n",
    "#warnings.filterwarnings('ignore', category=DeprecationWarning, message='.*use @default decorator instead.*')"
   ]
  },
  {
   "cell_type": "markdown",
   "metadata": {},
   "source": [
    "# Get list of study participants\n",
    "We avoid archiving these accounts for privacy reasons"
   ]
  },
  {
   "cell_type": "markdown",
   "metadata": {},
   "source": [
    "# Construct and personalize the message"
   ]
  },
  {
   "cell_type": "markdown",
   "metadata": {},
   "source": [
    "## Construct the message template"
   ]
  },
  {
   "cell_type": "code",
   "execution_count": 2,
   "metadata": {},
   "outputs": [],
   "source": [
    "MESSAGE_SUBJECT = \"Welcome! Help r/feminism understand first-time commenters with 3 questions\"\n",
    "MESSAGE_TEMPLATE = \"\"\"Dear {username},\n",
    "\n",
    "Hello and welcome from r/feminism! \n",
    "\n",
    "Might you answer a 2 minute, 3-question survey to help us learn more about your experience? We're' currently working with researchers at Princeton University to improve newcomer experiences.\n",
    "\n",
    "[Learn more and answer the survey here]({url}). Thanks! \n",
    "\n",
    "-- [CivilServant](http://civilservant.io/) and the [r/feminism moderators](https://www.reddit.com/r/feminism/about/moderators)\n",
    "\"\"\""
   ]
  },
  {
   "cell_type": "code",
   "execution_count": 3,
   "metadata": {},
   "outputs": [
    {
     "name": "stdout",
     "output_type": "stream",
     "text": [
      "Dear natematias,\n",
      "\n",
      "Hello and welcome from r/feminism! \n",
      "\n",
      "Might you answer a 2 minute, 3-question survey to help us learn more about your experience? We're' currently working with researchers at Princeton University to improve newcomer experiences.\n",
      "\n",
      "[Learn more and answer the survey here](https://docs.google.com/forms/d/e/1FAIpQLSc1Atz_YmZVZIBILyVRsnZYHT3KrGqEseM-oUyz6dLllEfcVg/viewform?usp=pp_url&entry.360321409=natematias). Thanks! \n",
      "\n",
      "-- [CivilServant](http://civilservant.io/) and the [r/feminism moderators](https://www.reddit.com/r/feminism/about/moderators)\n",
      "\n"
     ]
    }
   ],
   "source": [
    "print(MESSAGE_TEMPLATE.format(username=\"natematias\", \n",
    "                              url=\"https://docs.google.com/forms/d/e/1FAIpQLSc1Atz_YmZVZIBILyVRsnZYHT3KrGqEseM-oUyz6dLllEfcVg/viewform?usp=pp_url&entry.360321409={username}\".format(\n",
    "                                  username=\"natematias\")))"
   ]
  },
  {
   "cell_type": "code",
   "execution_count": 4,
   "metadata": {},
   "outputs": [],
   "source": [
    "# r.send_message(\"natematias\", MESSAGE_SUBJECT, \n",
    "#                MESSAGE_TEMPLATE.format(username=\"natematias\",\n",
    "#                                        url=\"https://docs.google.com/forms/d/e/1FAIpQLSc1Atz_YmZVZIBILyVRsnZYHT3KrGqEseM-oUyz6dLllEfcVg/viewform?usp=pp_url&entry.360321409={username}\".format(\n",
    "#                                             username=\"natematias\")))"
   ]
  },
  {
   "cell_type": "markdown",
   "metadata": {},
   "source": [
    "## Add the ability to validate users"
   ]
  },
  {
   "cell_type": "code",
   "execution_count": 5,
   "metadata": {},
   "outputs": [],
   "source": [
    "def get_reddit_user(username):\n",
    "    try:\n",
    "        user_dict = r.get_redditor(username, fetch=True).json_dict\n",
    "        logging.info(\"User %s found: %s\" %(username, str(user_dict)))\n",
    "        return user_dict\n",
    "    except praw.errors.NotFound as e:\n",
    "        logging.error(\"User not found: %s\" % username)\n",
    "    except Exception as e:\n",
    "        logging.exception(\"Failed to retrieve user\")"
   ]
  },
  {
   "cell_type": "code",
   "execution_count": 6,
   "metadata": {},
   "outputs": [],
   "source": [
    "import time\n",
    "send_log_dir = \"/home/nathan/CivilServant-Analysis/SOC412/feminism\"\n",
    "send_log_filename = \"followup_survey_experiment_12.csv\"\n",
    "def sent_message_previously(username):\n",
    "    with open(os.path.join(send_log_dir, send_log_filename), \"r\") as f:\n",
    "        send_log = []\n",
    "        for row in csv.DictReader(f):\n",
    "            send_log.append(row)\n",
    "            if(username == row['username']):\n",
    "                return True\n",
    "    return False"
   ]
  },
  {
   "cell_type": "markdown",
   "metadata": {},
   "source": [
    "## Add the ability to send messages"
   ]
  },
  {
   "cell_type": "code",
   "execution_count": 7,
   "metadata": {},
   "outputs": [],
   "source": [
    "## RETURN TRUE IF MESSAGE WAS SENT SUCCESSFULLY\n",
    "def send_reddit_message(**message_data):\n",
    "    user = message_data[\"username\"]    \n",
    "    message = MESSAGE_TEMPLATE.format(**message_data)    \n",
    "    try:\n",
    "        logging.info(\"Sending a message to user %s with data %s\" % (user, str(message_data)))\n",
    "        response = r.send_message(user, MESSAGE_SUBJECT, message, raise_captcha_exception=True)\n",
    "        if response[\"errors\"]:\n",
    "            logging.error(\"Error in response when sending a message to user %s: %s\" % (user, str(response)))\n",
    "            return False\n",
    "        else:\n",
    "            logging.info(\"Message successfully sent to user %s\" % user)\n",
    "            return True\n",
    "    except praw.errors.InvalidCaptcha as e:\n",
    "        logging.exception(\"Message sending requires a captcha\")\n",
    "        logging.error(e.response)\n",
    "        return False\n",
    "    except Exception as e:\n",
    "        logging.exception(\"Failed to send message to %s\" % user)\n",
    "        return False"
   ]
  },
  {
   "cell_type": "markdown",
   "metadata": {},
   "source": [
    "## Wrap the messenger function with anything survey-specific"
   ]
  },
  {
   "cell_type": "code",
   "execution_count": 8,
   "metadata": {},
   "outputs": [],
   "source": [
    "def send_survey_message(**message_data):\n",
    "    message = MESSAGE_TEMPLATE.format(**message_data)        \n",
    "    sent_status = send_reddit_message(**message_data)\n",
    "    with open(os.path.join(send_log_dir,send_log_filename), \"a\") as f:\n",
    "        print(\"APPENDING TO FILE: {0}\".format(message_data))\n",
    "        f.write(\",\".join(map(str, [\n",
    "            message_data['username'],\n",
    "            True, #account exists\n",
    "            message_data['get_info_date'],\n",
    "            message_data['deleted'],\n",
    "            message_data['url'],\n",
    "            sent_status\n",
    "        ])) + \"\\n\")\n",
    "        f.close()\n",
    "    \n",
    "    logging.info(\"url: %s\" % message_data[\"url\"])\n",
    "    logging.info(\"get_info_data: %s\" % message_data[\"get_info_date\"])\n",
    "    logging.info(\"deleted: %s\" % message_data[\"deleted\"])\n",
    "    "
   ]
  },
  {
   "cell_type": "code",
   "execution_count": 9,
   "metadata": {},
   "outputs": [],
   "source": [
    "def decide_and_send_to_user(username):\n",
    "    if(sent_message_previously(username)):\n",
    "        logging.info(\"User %s previously received a message\" % username)\n",
    "        return None\n",
    "    else:\n",
    "        time.sleep(2)\n",
    "        user = get_reddit_user(username)\n",
    "\n",
    "    if user:\n",
    "        send_survey_message(\n",
    "            username = username,\n",
    "            get_info_date = str(datetime.utcnow()),\n",
    "            deleted = False,\n",
    "            url=\"https://docs.google.com/forms/d/e/1FAIpQLSc1Atz_YmZVZIBILyVRsnZYHT3KrGqEseM-oUyz6dLllEfcVg/viewform?usp=pp_url&entry.360321409={username}\".format(\n",
    "                username=username))\n",
    "    else:\n",
    "        with open(os.path.join(send_log_dir, send_log_filename), \"a\") as f:\n",
    "            f.write(\",\".join(map(str, [\n",
    "                username,\n",
    "                False,\n",
    "                str(datetime.utcnow()),\n",
    "                None,\n",
    "                None,\n",
    "                False\n",
    "            ])) + \"\\n\")\n",
    "            f.close()"
   ]
  },
  {
   "cell_type": "markdown",
   "metadata": {},
   "source": [
    "# Load Survey Recipients"
   ]
  },
  {
   "cell_type": "code",
   "execution_count": 10,
   "metadata": {},
   "outputs": [
    {
     "name": "stdout",
     "output_type": "stream",
     "text": [
      "Found 802 eligible usernames\n"
     ]
    }
   ],
   "source": [
    "## LOAD RECIPIENTS FROM A CSV FILE\n",
    "## THEN USE THE CODE BELOW TO SEND THEM THINGS\n",
    "filename = \"experiment_12_eligible_screen_names-08.02.2018.csv\"\n",
    "eligible_usernames = []\n",
    "with open(os.path.join(\"..\",\"inputs\", filename), \"r\") as f:\n",
    "    for row in csv.DictReader(f):\n",
    "        eligible_usernames.append(row['screen_name'])\n",
    "print(\"Found {0} eligible usernames\".format(len(eligible_usernames)))"
   ]
  },
  {
   "cell_type": "markdown",
   "metadata": {
    "scrolled": false
   },
   "source": [
    "# Send Surveys to Participants"
   ]
  },
  {
   "cell_type": "code",
   "execution_count": 11,
   "metadata": {
    "scrolled": true
   },
   "outputs": [
    {
     "name": "stdout",
     "output_type": "stream",
     "text": [
      "User i-love-vaginas previously received a message\n",
      "User beverwood previously received a message\n",
      "User rlfrlf3094 previously received a message\n",
      "User BobbieEyesUnclouded previously received a message\n",
      "User awkqueered previously received a message\n",
      "User DeathRayRobot previously received a message\n",
      "User fierce_crab previously received a message\n",
      "User 86MaisonJardin86 previously received a message\n",
      "User screwmykarma previously received a message\n",
      "User feministengineer previously received a message\n",
      "User UserLogic previously received a message\n",
      "User halfshoe previously received a message\n",
      "User majeric previously received a message\n",
      "User goonipers previously received a message\n",
      "User 3_lov33-_id previously received a message\n",
      "User joiveu previously received a message\n",
      "User Yoshithemacabre previously received a message\n",
      "User dwades00 previously received a message\n",
      "User Dr_Trumps_Wild_Ride previously received a message\n",
      "User BelowBingo previously received a message\n",
      "User Zerotai previously received a message\n",
      "User njoum previously received a message\n",
      "User Psiah previously received a message\n",
      "User anonymousbo previously received a message\n",
      "User epenn previously received a message\n",
      "User ladylucky22 previously received a message\n",
      "User academia4life previously received a message\n",
      "User Lord_Manners previously received a message\n",
      "User bruzal_flower previously received a message\n",
      "User dat_Blockchain_Boi previously received a message\n",
      "User AbleOkra previously received a message\n",
      "User Maj-Janson previously received a message\n",
      "User jessicapin86 previously received a message\n",
      "User stmistaken previously received a message\n",
      "User lakrt previously received a message\n",
      "User Skyzcx previously received a message\n",
      "User VigilKint previously received a message\n",
      "User substancePranth previously received a message\n",
      "User Fem_Con_1 previously received a message\n",
      "User throw_sticky_rice previously received a message\n",
      "User mmmstone43 previously received a message\n",
      "User taylizard previously received a message\n",
      "User owlsareowls previously received a message\n",
      "User sugar4thepill previously received a message\n",
      "User SamuraiSiren previously received a message\n",
      "User sadcoffee previously received a message\n",
      "User moldavitesmoor previously received a message\n",
      "User Marinaisgo previously received a message\n",
      "User Man-of-Inquiry previously received a message\n",
      "User beckyo504 previously received a message\n",
      "User ClueMouse previously received a message\n",
      "User dumdumdididum previously received a message\n",
      "User clitsareimportant previously received a message\n",
      "User fullonfeminist previously received a message\n",
      "User Nidifice previously received a message\n",
      "User ruby0321 previously received a message\n",
      "User fourthwavebush previously received a message\n",
      "User Defying_Maryan previously received a message\n",
      "User dt2002charm previously received a message\n",
      "User Carensza previously received a message\n",
      "User Karinkattunge previously received a message\n",
      "User DiamondOutfield previously received a message\n",
      "User PagoneE previously received a message\n",
      "User CatDogStace previously received a message\n",
      "User commonsnowflake2 previously received a message\n",
      "User Egalitarian7 previously received a message\n",
      "User opulenceistheend previously received a message\n",
      "User charlielovescoffee previously received a message\n",
      "User Resultedweed previously received a message\n",
      "User loopdeloop123456 previously received a message\n",
      "User abidma previously received a message\n",
      "User eskimo1981 previously received a message\n",
      "User Chrome_Icarus previously received a message\n",
      "User lexileftt previously received a message\n",
      "User sybildb previously received a message\n",
      "User MissionEntry previously received a message\n",
      "User HerBlackTopHat previously received a message\n",
      "User LordOfVolts previously received a message\n",
      "User anaisaurus previously received a message\n",
      "User roguestreak previously received a message\n",
      "User robainutile previously received a message\n",
      "User LovingSweetCattleAss previously received a message\n",
      "User MiasmaOfTwattery previously received a message\n",
      "User entiGayGuy previously received a message\n",
      "User iwasinfiniteonce previously received a message\n",
      "User 223257 previously received a message\n",
      "User notyouryogapants previously received a message\n",
      "User shiny_verse previously received a message\n",
      "User ArneBishop previously received a message\n",
      "User chick-fil-a_sauce previously received a message\n",
      "User the_supreme_overlord previously received a message\n",
      "User cricketandfale previously received a message\n",
      "User unicornchildddd previously received a message\n",
      "User raspberrydie previously received a message\n",
      "User Navcube0906 previously received a message\n",
      "User PhantomExpress previously received a message\n",
      "User Gmopotato previously received a message\n",
      "User timberunravel previously received a message\n",
      "User PorgDotOrg previously received a message\n",
      "User Loadofshit previously received a message\n",
      "User thefunkygorilla previously received a message\n",
      "User AnnaCherenkova previously received a message\n",
      "User ovaandout6 previously received a message\n",
      "User OrionsNoose previously received a message\n",
      "User youreagreatguybut previously received a message\n",
      "User ShitFacedSteve previously received a message\n",
      "User bfm211 previously received a message\n",
      "User outandabouttobeout previously received a message\n",
      "User Thedesigner101 previously received a message\n",
      "User Foe2018 previously received a message\n",
      "User throwaway_kid69969 previously received a message\n",
      "User jejunum69 previously received a message\n",
      "User djm710 previously received a message\n",
      "User Rip-a-bloody-billy previously received a message\n",
      "User OdiumOfArgos previously received a message\n",
      "User xubaso previously received a message\n",
      "User akmvb21 previously received a message\n",
      "User helpchangeobgyn previously received a message\n",
      "User b0tdusw previously received a message\n",
      "User GreatGreyHeron previously received a message\n",
      "User PzemoG previously received a message\n",
      "User SmokeyApple1 previously received a message\n",
      "User throwawayCAresident previously received a message\n",
      "User Ashleynortons previously received a message\n",
      "User Sylvercat97 previously received a message\n",
      "User ZankeeZero previously received a message\n",
      "User parzivalthepug previously received a message\n",
      "User LemonPez previously received a message\n",
      "User JuanDollaaa previously received a message\n",
      "User gothpocket previously received a message\n",
      "User Mizandi previously received a message\n",
      "User anxiousdilly previously received a message\n",
      "User picklepranker previously received a message\n",
      "User asongoficeandpot69 previously received a message\n",
      "User 2BeOrNo2Be previously received a message\n",
      "User JCoop410 previously received a message\n",
      "User rejecteddomain previously received a message\n",
      "User FreshFeminist-of-SLC previously received a message\n",
      "User ah_the_old_throwaway previously received a message\n",
      "User Quantroseption previously received a message\n",
      "User A_User10101 previously received a message\n",
      "User rhymeswithknoll previously received a message\n",
      "User Hipsdurr previously received a message\n",
      "User Thecatacularmenace previously received a message\n",
      "User PretendPilot0 previously received a message\n",
      "User Meteorcousin previously received a message\n",
      "User theflask22 previously received a message\n",
      "User barneylow previously received a message\n",
      "User BxAxE previously received a message\n",
      "User hippie-indigo previously received a message\n",
      "User HauntingLove previously received a message\n",
      "User fatbandoneonman previously received a message\n",
      "User BennieTheGreat00 previously received a message\n",
      "User hquws previously received a message\n",
      "User DeliciousTransition previously received a message\n",
      "User themadcharly previously received a message\n",
      "User GhostVX11 previously received a message\n",
      "User thor_moleculez previously received a message\n",
      "User GingerDoughGirl previously received a message\n",
      "User Caitelena27 previously received a message\n",
      "User antifeminist435 previously received a message\n",
      "User Ayanith previously received a message\n",
      "User msmegatron previously received a message\n",
      "User troikaparallel previously received a message\n",
      "User rachbnimble previously received a message\n",
      "User tiffamee previously received a message\n",
      "User N00gles previously received a message\n",
      "User kimbirkelund previously received a message\n",
      "User astralfoto previously received a message\n",
      "User A-Kin previously received a message\n",
      "User crudboy12 previously received a message\n",
      "User user98710 previously received a message\n"
     ]
    },
    {
     "name": "stdout",
     "output_type": "stream",
     "text": [
      "User kelizabethn previously received a message\n",
      "User drkalmenius previously received a message\n",
      "User GuyLoki previously received a message\n",
      "User busy-belief previously received a message\n",
      "User bluespudgrl previously received a message\n",
      "User me33do previously received a message\n",
      "User secretcharm previously received a message\n",
      "User the_engineeress previously received a message\n",
      "User haGaaaaaaaaaa-etc previously received a message\n",
      "User whimsicalwheelbarrow previously received a message\n",
      "User jenlew92 previously received a message\n",
      "User eliaswestgaard previously received a message\n",
      "User lilbb69 previously received a message\n",
      "User NexArcX previously received a message\n",
      "User DAMN_MY_AUNT_IS_HOT previously received a message\n",
      "User blue_arc previously received a message\n",
      "User karaoke_G previously received a message\n",
      "User adamyones previously received a message\n",
      "User Huckdog previously received a message\n",
      "User catparlee previously received a message\n",
      "User gangman731 previously received a message\n",
      "User Aug11 previously received a message\n",
      "User JDalton1995 previously received a message\n",
      "User mailmygov-throes previously received a message\n",
      "User thinking_cabbage previously received a message\n",
      "User Unequivocally_Maybe previously received a message\n",
      "User ThePreachersKid previously received a message\n",
      "User shaimasebri previously received a message\n",
      "User luceario previously received a message\n",
      "User NotSchneiderLorena previously received a message\n",
      "User Weeolwix previously received a message\n",
      "User cherrytartlette previously received a message\n",
      "User d0mzx1 previously received a message\n",
      "User LavacaSt previously received a message\n",
      "User Swaggy_pig previously received a message\n",
      "User darnyhey previously received a message\n",
      "User gingerspice04 previously received a message\n",
      "User WhiteMaleNotAshamed previously received a message\n",
      "User chickenGrill123 previously received a message\n",
      "User cakeisnotlies previously received a message\n",
      "User desamoses561 previously received a message\n",
      "User Replicator666 previously received a message\n",
      "User Magic_Troll previously received a message\n",
      "User qnvx previously received a message\n",
      "User adam-30 previously received a message\n",
      "User HumicShit previously received a message\n",
      "User MJPlays previously received a message\n",
      "User Malko_44 previously received a message\n",
      "User zambetispaghetti previously received a message\n",
      "User StraitGate previously received a message\n",
      "User HistoryModsSuck previously received a message\n",
      "User SilNoHoo previously received a message\n",
      "User user57312 previously received a message\n",
      "User BlueNovaT previously received a message\n",
      "User Proflidenbrock previously received a message\n",
      "User goodbyetolanguage previously received a message\n",
      "User boofuckinghoo88 previously received a message\n",
      "User ManyTheoriesInOne previously received a message\n",
      "User vulvarvictory previously received a message\n",
      "User SheLooksLikeFun91 previously received a message\n",
      "User CForest98 previously received a message\n",
      "User puckthedog112 previously received a message\n",
      "User Periwinkle_Panther previously received a message\n",
      "User sokondeeznuts previously received a message\n",
      "User tindershitshow previously received a message\n",
      "User samantas5855 previously received a message\n",
      "User moneyquestionthrowit previously received a message\n",
      "User LUSCIOUS_BREASTS previously received a message\n",
      "User Whatcouldgowrong52 previously received a message\n",
      "User katewithheld previously received a message\n",
      "User feminist_human previously received a message\n",
      "User wenginnis previously received a message\n",
      "User OldGuyWithaLawn previously received a message\n",
      "User tigerimtank previously received a message\n",
      "User EpicMegaSword previously received a message\n",
      "User DoveSoapisGreat previously received a message\n",
      "User appleberry_berry previously received a message\n",
      "User xxxrotkivxxx previously received a message\n",
      "User Ugly_Stench previously received a message\n",
      "User BrieRipley previously received a message\n",
      "User eller_hmpf previously received a message\n",
      "User Feminist-Gamer previously received a message\n",
      "User darth_senate501 previously received a message\n",
      "User Vaingl0rious previously received a message\n",
      "User Liam0niisan previously received a message\n",
      "User Dykish previously received a message\n",
      "User franskbroed1020 previously received a message\n",
      "User Eternal_Gas previously received a message\n",
      "User JackofAllSeams previously received a message\n",
      "User chezhalaina previously received a message\n",
      "User Gentlenukes previously received a message\n",
      "User mysticaltampon previously received a message\n",
      "User cstrumpet previously received a message\n",
      "User hookergangbang previously received a message\n",
      "User lorddarkhan previously received a message\n",
      "User LordWhat previously received a message\n",
      "User Sivecano previously received a message\n",
      "User xuwjejfiwkrnckflmw previously received a message\n",
      "User ThatClosetedTransman previously received a message\n",
      "User StephFeminista previously received a message\n",
      "User TransistorSnack previously received a message\n",
      "User throwaway-person previously received a message\n",
      "User afchu previously received a message\n",
      "User SoFeckinDone previously received a message\n",
      "User OnlyWriteHaikus previously received a message\n",
      "User mbisurgirl_ previously received a message\n",
      "User karlos1799 previously received a message\n",
      "User zurvan8 previously received a message\n",
      "User throwthisshitawayacc previously received a message\n",
      "User enzo_entolini previously received a message\n",
      "User faithiie_ previously received a message\n",
      "User FeminismAndMedia previously received a message\n",
      "User Trastoinutil previously received a message\n",
      "User lamy0720 previously received a message\n",
      "User newwavefeminist previously received a message\n",
      "User waveofinsane previously received a message\n",
      "User AdmirableBottle previously received a message\n",
      "User thinfox previously received a message\n",
      "User Emmanescence previously received a message\n",
      "User httpsrrjdkd previously received a message\n",
      "User learnsomething01 previously received a message\n",
      "User ScotSTEMStudies previously received a message\n",
      "User ProperExport previously received a message\n",
      "User Slo-Trans-Mono previously received a message\n",
      "User poohberry69 previously received a message\n",
      "User HungryHungryHippo420 previously received a message\n",
      "User carr1eg previously received a message\n",
      "User _spicy_noodle_ previously received a message\n",
      "User charxslays previously received a message\n",
      "User zmayer2018 previously received a message\n",
      "User fawkes1946 previously received a message\n",
      "User ragingsexist69 previously received a message\n",
      "User MrMistyEyes04 previously received a message\n",
      "User Theroinh previously received a message\n",
      "User sammichdreams previously received a message\n",
      "User alicianarava previously received a message\n",
      "User notproud99 previously received a message\n",
      "User Bringer_ofchaos previously received a message\n",
      "User oogieboogie38 previously received a message\n",
      "User BeefCurtain69 previously received a message\n",
      "User MunchUnit previously received a message\n",
      "User shimmerdreams previously received a message\n",
      "User grace_kit previously received a message\n",
      "User NextAdventure78 previously received a message\n",
      "User ashleymeree previously received a message\n",
      "User waggers408795 previously received a message\n",
      "User Mydreammydesire previously received a message\n",
      "User tjsfive previously received a message\n",
      "User Mcanfield532 previously received a message\n",
      "User Reperak previously received a message\n",
      "User Noahjimenez12 previously received a message\n",
      "User Katejem previously received a message\n",
      "User bavorpave previously received a message\n",
      "User wingardiumleviosuck previously received a message\n",
      "User LadyLaLaLites previously received a message\n",
      "User amysite previously received a message\n",
      "User spicylemonpepper previously received a message\n",
      "User skankhunt0b101010 previously received a message\n",
      "User IDIFNatural previously received a message\n",
      "User tabbypoints previously received a message\n",
      "User iamc88 previously received a message\n",
      "User winwnsyn previously received a message\n",
      "User PeckerwoodBonfire previously received a message\n",
      "User nerdgirllin previously received a message\n",
      "User BelleEvey previously received a message\n",
      "User Scorpion5444 previously received a message\n",
      "User 49jabiz previously received a message\n",
      "User Bullshiteverywhere previously received a message\n",
      "User lettucegendered previously received a message\n",
      "User ckjb previously received a message\n",
      "User SourLace previously received a message\n"
     ]
    },
    {
     "name": "stdout",
     "output_type": "stream",
     "text": [
      "User Limb0State previously received a message\n",
      "User buggaboo76 previously received a message\n",
      "User heyitsstevie previously received a message\n",
      "User theheshetheythatis previously received a message\n",
      "User punkchopsticks previously received a message\n",
      "User Traintoclimb512 previously received a message\n",
      "User Bookislovakia previously received a message\n",
      "User Restless_Red previously received a message\n",
      "User eccentricaunt previously received a message\n",
      "User Boibewbs25 previously received a message\n",
      "User TijuanaSlushBucket previously received a message\n",
      "User XtinaTeixeira previously received a message\n",
      "User badmemes123 previously received a message\n",
      "User nightowlnutter previously received a message\n",
      "User zenthrowaway17 previously received a message\n",
      "User outdistop previously received a message\n",
      "User rundair previously received a message\n",
      "User taigsc previously received a message\n",
      "User ThatSpinosaurid previously received a message\n",
      "User Dying_Bloodbirds previously received a message\n",
      "User Vanessa79 previously received a message\n",
      "User meh2552 previously received a message\n",
      "User waskiu previously received a message\n",
      "User Watchingculturefade previously received a message\n",
      "User idknewhere previously received a message\n",
      "User GimliStrider1 previously received a message\n",
      "User WafleToast previously received a message\n",
      "User SunBee301 previously received a message\n",
      "User fanfictionismybeing previously received a message\n",
      "User JayneJay previously received a message\n",
      "User scientific_memelord previously received a message\n",
      "User Sandypassenger previously received a message\n",
      "User thethrillisgonebaby previously received a message\n",
      "User polyglottis previously received a message\n",
      "User ZombieChew previously received a message\n",
      "User DCAwayInternet previously received a message\n",
      "User utawarerumono5 previously received a message\n",
      "User MaxBlondy1600 previously received a message\n",
      "User blueWaver2018 previously received a message\n",
      "User Chickennuggetstyle previously received a message\n",
      "User Kleiner_Denkzettel previously received a message\n",
      "User PinkAnais previously received a message\n",
      "User Hyppointhewater previously received a message\n",
      "User deimos31415 previously received a message\n",
      "User cancelwhitepeople previously received a message\n",
      "User GoogleWomensWalkout previously received a message\n",
      "User sbdbz85 previously received a message\n",
      "User jessica_ann_pin previously received a message\n",
      "User woolbandits previously received a message\n",
      "User cali_ooga previously received a message\n",
      "User UsualPlankton previously received a message\n",
      "User Queen_Niya previously received a message\n",
      "User penny_pickle previously received a message\n",
      "User dieccus previously received a message\n",
      "User shiacaon previously received a message\n",
      "User LucaMG previously received a message\n",
      "User mutualliberty previously received a message\n",
      "User turingtouring previously received a message\n",
      "User dox_elena previously received a message\n",
      "User abrahamandentity previously received a message\n",
      "User nobodyscool previously received a message\n",
      "User ydkm14 previously received a message\n",
      "User debbiecupcakesshit previously received a message\n",
      "User sumisu_1thecity previously received a message\n",
      "User marmalade_cat_ previously received a message\n",
      "User clumsyaardvark previously received a message\n",
      "User Urazakor previously received a message\n",
      "User Scorn_Kernal previously received a message\n",
      "User Manatee_Groupie previously received a message\n",
      "User jaman4dbz previously received a message\n",
      "User H3lixrr previously received a message\n",
      "User Warlord_Achilles previously received a message\n",
      "User noEggsOhDamn previously received a message\n",
      "User LezPurr previously received a message\n",
      "User smhinterestingname previously received a message\n",
      "User redridingcrow previously received a message\n",
      "User JessieA93 previously received a message\n",
      "User Anon_moos previously received a message\n",
      "User Dibbers3 previously received a message\n",
      "User Emocrash previously received a message\n",
      "User tutablu previously received a message\n",
      "User trans_radical previously received a message\n",
      "User advictoriam76 previously received a message\n",
      "User my_humanexperience previously received a message\n",
      "User RaxuQi previously received a message\n",
      "User opaxolotl previously received a message\n",
      "User forgivenforoursins previously received a message\n",
      "User wgc7000 previously received a message\n",
      "User squawkfashionbaby previously received a message\n",
      "User naeganash previously received a message\n",
      "User Lord_of_Virgins previously received a message\n",
      "User not_epi previously received a message\n",
      "User reapingdreams previously received a message\n",
      "User elirucker99 previously received a message\n",
      "User Jin2ee previously received a message\n",
      "User BitterSweetLemonCake previously received a message\n",
      "User WaitAmIA previously received a message\n",
      "User CrazyKaos2004 previously received a message\n",
      "User laaylor previously received a message\n",
      "User StraightDie previously received a message\n",
      "User FuzzyFlora1729 previously received a message\n",
      "User Casserolahhhh previously received a message\n",
      "User PoliticsIsEpic previously received a message\n",
      "User ah__ previously received a message\n",
      "User candy-raindrops previously received a message\n",
      "User logggaz previously received a message\n",
      "User npd_reflect previously received a message\n",
      "User marxamod previously received a message\n",
      "User NeutralLock previously received a message\n",
      "User jgzman previously received a message\n",
      "User ThatsWordplay previously received a message\n",
      "User _the_freckles_girl previously received a message\n",
      "User Umlawt previously received a message\n",
      "User ramenbythesea previously received a message\n",
      "User mt_42 previously received a message\n",
      "User MarganaRovel previously received a message\n",
      "User Jcsnoek previously received a message\n",
      "User apomegranite11 previously received a message\n",
      "User rosegoldchatelaine previously received a message\n",
      "User Kaelline previously received a message\n",
      "User redplaidpurpleplaid previously received a message\n",
      "User lebitso previously received a message\n",
      "User Hawt_Thawt previously received a message\n",
      "User VerymuchsoBranch previously received a message\n",
      "User Stillstilldre previously received a message\n",
      "User witchgurl8 previously received a message\n",
      "User krafty777 previously received a message\n",
      "User sahiramv previously received a message\n",
      "User PsuedoName9 previously received a message\n",
      "User OpenToAllIdeas previously received a message\n",
      "User Forsight-N10 previously received a message\n",
      "User SarcasmCupcakes previously received a message\n",
      "User DeadRatHair previously received a message\n",
      "User CautiousSquash previously received a message\n",
      "User kjmckenn previously received a message\n",
      "User anothermook previously received a message\n",
      "User throwaway_29f previously received a message\n",
      "User namesefreeze previously received a message\n",
      "User CALAMaterial previously received a message\n",
      "User PhilosophyThinking previously received a message\n",
      "User apeezy18 previously received a message\n",
      "User throwsenwaysen previously received a message\n",
      "User Fiffi_chan previously received a message\n",
      "User AlexNic1013 previously received a message\n",
      "User hegel_g_pataki previously received a message\n",
      "User flaire2 previously received a message\n",
      "User feministfromhun previously received a message\n",
      "User 20brat01 previously received a message\n",
      "User resplendantkitten previously received a message\n",
      "User kikitheguillotine previously received a message\n",
      "User mace-to-yo-face previously received a message\n",
      "User pepsispritecoke previously received a message\n",
      "User tales0braveulysses previously received a message\n",
      "User prairiecherry previously received a message\n",
      "User BibaVogue previously received a message\n",
      "User Prostetic-rectum previously received a message\n",
      "User Anne_Mia previously received a message\n",
      "User Scottishuman69 previously received a message\n",
      "User kamimw98 previously received a message\n",
      "User tothewrenchwench previously received a message\n",
      "User S1mplel1f3 previously received a message\n",
      "User EarthboundDynasty previously received a message\n",
      "User Dammit_james previously received a message\n",
      "User handsome_94 previously received a message\n",
      "User alienacean previously received a message\n",
      "User mrxulski previously received a message\n",
      "User poke1359 previously received a message\n",
      "User InuMiroLover previously received a message\n",
      "User staples16 previously received a message\n",
      "User Ixazal previously received a message\n",
      "User Fkn_Impervious previously received a message\n",
      "User themothershiper previously received a message\n"
     ]
    },
    {
     "name": "stdout",
     "output_type": "stream",
     "text": [
      "User wholesomefcknmrcls previously received a message\n",
      "User idiocracyistooreal previously received a message\n",
      "User ulubulu previously received a message\n",
      "User HotMarketingGirl previously received a message\n",
      "User TabbyCat1993 previously received a message\n",
      "User _AileenW_ previously received a message\n",
      "User TotesMessenger previously received a message\n",
      "User NotArmchairAttorney previously received a message\n",
      "User mr2jay previously received a message\n",
      "User looksmaxxingcurry previously received a message\n",
      "User nobredfruit previously received a message\n",
      "User geenasq previously received a message\n",
      "User shroedingerscook previously received a message\n",
      "User movementlocation previously received a message\n",
      "User Joie7994 previously received a message\n",
      "User AngryFeministKnitter previously received a message\n",
      "User hypnoticarmpit previously received a message\n",
      "User Garrbear909 previously received a message\n",
      "User Smileforcaroline previously received a message\n",
      "User humblesmoker previously received a message\n",
      "User egr3gious previously received a message\n",
      "User diskkddo previously received a message\n",
      "User LosingRoars previously received a message\n",
      "User chiwy1234 previously received a message\n",
      "User Megalalala previously received a message\n",
      "User IQof137 previously received a message\n",
      "User FlyinBananaPhone previously received a message\n",
      "User MostlySaneCatLady479 previously received a message\n",
      "User bluerainbow86 previously received a message\n",
      "User hippiepunkrocker previously received a message\n",
      "User maddietwocrow previously received a message\n",
      "User TheBlackQueerGirl previously received a message\n",
      "User downvotemeidcanymore previously received a message\n",
      "User edo_tendei previously received a message\n",
      "User you_are_average previously received a message\n",
      "User admalcol previously received a message\n",
      "User hoo_boy_oh_golly previously received a message\n",
      "User panor82 previously received a message\n",
      "User TheBiscuitBoyz previously received a message\n",
      "User GeckoRoamin previously received a message\n",
      "User Originalcosmos26 previously received a message\n",
      "User sc00pa previously received a message\n",
      "User pickle_dan previously received a message\n",
      "User mattiseprimm previously received a message\n",
      "User LovelyLocks55 previously received a message\n",
      "User Suessiones previously received a message\n",
      "User robot428 previously received a message\n",
      "User itsechackergirl previously received a message\n",
      "User LilBearHEHE previously received a message\n",
      "User ThatOtherFWord previously received a message\n",
      "User pheeb1510 previously received a message\n",
      "User raunakdeepan previously received a message\n",
      "User Several_Change previously received a message\n",
      "User kanermbaderm previously received a message\n",
      "User me_not_uterus previously received a message\n",
      "User A_Scared_Girl previously received a message\n",
      "User based_butts previously received a message\n",
      "User OrganicTelevision previously received a message\n",
      "User zahra112 previously received a message\n",
      "User the_wanderinguterus previously received a message\n",
      "User Tinselonalamp previously received a message\n",
      "User LordX001 previously received a message\n",
      "User PresidentialRat previously received a message\n",
      "User SubTukkZero previously received a message\n",
      "User Dysscordia previously received a message\n",
      "User professorswife previously received a message\n",
      "User MomStartingAllOver previously received a message\n",
      "User KobayashiLtg previously received a message\n",
      "User Bixsyren0 previously received a message\n",
      "User LeftSinister previously received a message\n",
      "User Never_Pie previously received a message\n",
      "User bored_messiah previously received a message\n",
      "User scrumbusmemehole previously received a message\n",
      "User zoeabbott previously received a message\n",
      "User tfarris421 previously received a message\n",
      "User XProAssasin21X previously received a message\n",
      "User maxine1980 previously received a message\n",
      "User KajsaHe previously received a message\n",
      "User Miss_InDeed previously received a message\n",
      "User kitty600 previously received a message\n",
      "User mcborderline previously received a message\n",
      "User sorar3 previously received a message\n",
      "User LittleLelly previously received a message\n",
      "User SkyeWillmore previously received a message\n",
      "User alexkvelasquez previously received a message\n",
      "User Bionic_Otter previously received a message\n",
      "User throwaway10845850 previously received a message\n",
      "User KnightofNarg previously received a message\n",
      "User Renk0b previously received a message\n",
      "User mcquizzical previously received a message\n",
      "User suiluj81 previously received a message\n",
      "User kleptoclarence previously received a message\n",
      "User Justme11384 previously received a message\n",
      "User apophagia previously received a message\n",
      "User typhoonshitstorm previously received a message\n",
      "User Leadyouareonfire previously received a message\n",
      "User Yoxs84 previously received a message\n",
      "User NiceAndRespectable previously received a message\n",
      "User StopGivingUp previously received a message\n",
      "User bloodpilgrim previously received a message\n",
      "User Bobby_Crazykite previously received a message\n",
      "User BroadwayThrowaway19 previously received a message\n",
      "User Skythesilent previously received a message\n",
      "User TheRealDonRodigan previously received a message\n",
      "User mirandajane720 previously received a message\n",
      "User Throw_Away_3_1415926 previously received a message\n",
      "User chartr previously received a message\n",
      "User XistentialPanda previously received a message\n",
      "User nagatanien previously received a message\n",
      "User TangoSierra27 previously received a message\n",
      "User birbolympix previously received a message\n",
      "User xXxVulpixXx previously received a message\n",
      "User JazzistTraveller previously received a message\n",
      "User Johan_24 previously received a message\n",
      "User WorldClassCoolArrows previously received a message\n",
      "User Fluid_Strike previously received a message\n",
      "User LtGerome previously received a message\n",
      "User SoftLow4 previously received a message\n",
      "User ToTheSource- previously received a message\n",
      "User DangerousSarah previously received a message\n",
      "User thiccboi_memes previously received a message\n",
      "User becky___bee previously received a message\n",
      "User corsint previously received a message\n",
      "User whatspopnpapi previously received a message\n",
      "User Badhousecleaner previously received a message\n",
      "User maybealexandra previously received a message\n",
      "User VoiiAU previously received a message\n",
      "User FDKRYAN previously received a message\n",
      "User xAcidicNightmare previously received a message\n",
      "User artificialfret previously received a message\n",
      "User Luvnish previously received a message\n",
      "User astrelle_sky previously received a message\n",
      "User simulatislacrimis previously received a message\n",
      "User Akura- previously received a message\n",
      "User 1sakawa previously received a message\n",
      "User finbola previously received a message\n",
      "User TeekaTeekaBoBeeka previously received a message\n",
      "User xNVUx previously received a message\n",
      "User G-Anastasia previously received a message\n",
      "User perfectlyleguell previously received a message\n",
      "User ILoveContrapoints previously received a message\n",
      "User Lindaero previously received a message\n",
      "User LynnAllyrion previously received a message\n",
      "User yeetwater previously received a message\n",
      "User kantarooxp previously received a message\n",
      "User m4ils previously received a message\n",
      "User ademfox previously received a message\n",
      "User Ayeprihl previously received a message\n",
      "User ohikheme previously received a message\n",
      "User SamaelColt previously received a message\n",
      "User awomanwithaphone previously received a message\n",
      "User positivepineconeusa previously received a message\n",
      "User Vylogue previously received a message\n",
      "User justified_tw0 previously received a message\n",
      "User kinskins22 previously received a message\n",
      "User Santasdeadfr previously received a message\n",
      "User Hellstergab previously received a message\n",
      "User cantdoxxmefm previously received a message\n",
      "User Lmfao1969 previously received a message\n",
      "User dahbeans previously received a message\n",
      "User ashthelonerrr previously received a message\n",
      "User bootesvoid_ previously received a message\n",
      "User Vir44 previously received a message\n",
      "User TLMS previously received a message\n",
      "User OhYouAreSad previously received a message\n",
      "User Throwawaymedia9 previously received a message\n",
      "User alizang previously received a message\n",
      "User shessocoolpod previously received a message\n",
      "User MindStick previously received a message\n",
      "User Batoutofhellodolly previously received a message\n",
      "User welcometoyourlifenow previously received a message\n"
     ]
    },
    {
     "name": "stdout",
     "output_type": "stream",
     "text": [
      "User missetacarinae previously received a message\n",
      "User Magnolia704 previously received a message\n",
      "User Retired_Cheese previously received a message\n",
      "User facebeneathanonymity previously received a message\n",
      "User GrilledCheese248 previously received a message\n",
      "User notakers400 previously received a message\n",
      "User Mariofan231 previously received a message\n",
      "User blandboringplain previously received a message\n",
      "User anothermaninyourlife previously received a message\n",
      "User a_rao1215 previously received a message\n",
      "User Autobots_rollouts previously received a message\n",
      "User SlyPhilosophersStone previously received a message\n",
      "User PurpleHazedMuffins previously received a message\n",
      "User PepeTheFootLettuce previously received a message\n",
      "User Buzzlightyear1267 previously received a message\n",
      "User luke_1602 previously received a message\n",
      "User iamtheonetheone123 previously received a message\n",
      "User LordOfTheREEES previously received a message\n",
      "User cat_mom1 previously received a message\n",
      "User GCnat previously received a message\n",
      "User OnePersonsThrowaway previously received a message\n",
      "User PM_ME_YOUR_REAL_FACE previously received a message\n",
      "User alphabet_banana previously received a message\n",
      "User kathieDoc previously received a message\n",
      "User LetMeBeYouLittleShit previously received a message\n",
      "User skinnysweatyman06 previously received a message\n",
      "User skinpanther previously received a message\n",
      "User amanakabarley previously received a message\n",
      "User 20haischec previously received a message\n",
      "User AwpZoomer previously received a message\n",
      "User sidebeatz previously received a message\n",
      "User Sapience45 previously received a message\n",
      "User Stafinn previously received a message\n",
      "User Transthrowahoy previously received a message\n",
      "User MaryAnnMerryPlan previously received a message\n",
      "User SoulfulGinger1213 previously received a message\n",
      "User Ride-the-Rails previously received a message\n",
      "User Prof-J-Farnsworth previously received a message\n",
      "User chaycel65 previously received a message\n",
      "User ttcthrowaway00987529 previously received a message\n",
      "User Matriarch0_0 previously received a message\n",
      "User ChurchToo previously received a message\n",
      "User Im-A-WomenHearMeRoar previously received a message\n",
      "User Linwoodexplorer previously received a message\n",
      "User lucyfer8 previously received a message\n",
      "User passiveshitposter previously received a message\n",
      "User HiPlebbit previously received a message\n",
      "User SparkleShits previously received a message\n",
      "User newwriterquestions previously received a message\n",
      "User _JustSayin previously received a message\n",
      "User lezyafuckindruggo previously received a message\n",
      "User -lyd-irl- previously received a message\n",
      "User redditor123117 previously received a message\n",
      "User happywanderess previously received a message\n",
      "User sambaza previously received a message\n",
      "User monstermouse22 previously received a message\n",
      "User benkyker previously received a message\n",
      "User CZ75n85 previously received a message\n",
      "User TheDarkLord2468 previously received a message\n",
      "User blue_controlthehuman previously received a message\n",
      "User tessposnermusic previously received a message\n",
      "User zomatay previously received a message\n",
      "User AddyH1936 previously received a message\n",
      "User steffiwolf previously received a message\n",
      "User KingWick31 previously received a message\n",
      "User emilystem previously received a message\n",
      "User bigpimping24 previously received a message\n",
      "User True_Duncan_Idaho previously received a message\n",
      "User BlizzardGTO previously received a message\n",
      "User Gondukem1 previously received a message\n",
      "User apnevo previously received a message\n",
      "User Luftwaffel65 previously received a message\n",
      "User SaladAss2929 previously received a message\n",
      "User AishiFem previously received a message\n",
      "User meovoto previously received a message\n",
      "User ThatOneEdgySocialist previously received a message\n",
      "User AnastasiaWard3 previously received a message\n",
      "User Lotajin previously received a message\n",
      "User biglittlerose previously received a message\n",
      "User AutoRedditPython previously received a message\n",
      "User mrt_greene previously received a message\n",
      "User spoontotheleft previously received a message\n",
      "User Superior_SiegeEngine previously received a message\n",
      "User Water_Bottle_Lord previously received a message\n",
      "User heartsnhearts1 found: {'has_verified_email': False, 'is_employee': False, 'created': 1551575042.0, 'icon_img': 'https://www.redditstatic.com/avatars/avatar_default_07_4856A3.png', 'subreddit': {'description': '', 'icon_size': [256, 256], 'public_description': '', 'link_flair_enabled': False, 'icon_img': 'https://www.redditstatic.com/avatars/avatar_default_07_4856A3.png', 'subreddit_type': 'user', 'is_default_banner': True, 'banner_size': None, 'display_name': 'u_heartsnhearts1', 'free_form_reports': True, 'user_is_muted': False, 'header_size': None, 'primary_color': '', 'user_is_banned': False, 'subscribers': 0, 'show_media': True, 'user_is_contributor': False, 'community_icon': '', 'banner_img': '', 'default_set': True, 'name': 't5_xhljk', 'is_default_icon': True, 'user_is_subscriber': False, 'user_is_moderator': False, 'title': '', 'over_18': False, 'icon_color': '#4856A3', 'url': '/user/heartsnhearts1/', 'link_flair_position': '', 'display_name_prefixed': 'u/heartsnhearts1', 'header_img': None, 'key_color': ''}, 'hide_from_robots': False, 'verified': True, 'id': '2jfvfsk6', 'created_utc': 1551575042.0, 'link_karma': 1, 'name': 'heartsnhearts1', 'pref_show_snoovatar': False, 'is_friend': False, 'is_mod': False, 'has_subscribed': True, 'is_gold': False, 'comment_karma': 1}\n",
      "Sending a message to user heartsnhearts1 with data {'username': 'heartsnhearts1', 'url': 'https://docs.google.com/forms/d/e/1FAIpQLSc1Atz_YmZVZIBILyVRsnZYHT3KrGqEseM-oUyz6dLllEfcVg/viewform?usp=pp_url&entry.360321409=heartsnhearts1', 'deleted': False, 'get_info_date': '2019-03-23 13:46:45.906293'}\n"
     ]
    },
    {
     "name": "stderr",
     "output_type": "stream",
     "text": [
      "substituting https://oauth.reddit.com for https://api.reddit.com in url\n",
      "GET: https://oauth.reddit.com/user/heartsnhearts1/about/.json\n",
      "substituting https://oauth.reddit.com for https://api.reddit.com in url\n",
      "POST: https://oauth.reddit.com/api/compose/.json\n"
     ]
    },
    {
     "name": "stdout",
     "output_type": "stream",
     "text": [
      "Message successfully sent to user heartsnhearts1\n",
      "APPENDING TO FILE: {'username': 'heartsnhearts1', 'url': 'https://docs.google.com/forms/d/e/1FAIpQLSc1Atz_YmZVZIBILyVRsnZYHT3KrGqEseM-oUyz6dLllEfcVg/viewform?usp=pp_url&entry.360321409=heartsnhearts1', 'deleted': False, 'get_info_date': '2019-03-23 13:46:45.906293'}\n",
      "url: https://docs.google.com/forms/d/e/1FAIpQLSc1Atz_YmZVZIBILyVRsnZYHT3KrGqEseM-oUyz6dLllEfcVg/viewform?usp=pp_url&entry.360321409=heartsnhearts1\n",
      "get_info_data: 2019-03-23 13:46:45.906293\n",
      "deleted: False\n",
      "User Weebshit14 found: {'has_verified_email': False, 'is_employee': False, 'created': 1546289688.0, 'icon_img': 'https://styles.redditmedia.com/t5_tsqm7/styles/profileIcon_k9pwn4pcmxf21.jpg?width=256&height=256&crop=256:256,smart&s=bb95bea309981a406a3165885ce0a2dea9583e9a', 'subreddit': {'description': '', 'icon_size': [256, 256], 'public_description': 'Idk, just a weeb', 'link_flair_enabled': False, 'icon_img': 'https://styles.redditmedia.com/t5_tsqm7/styles/profileIcon_k9pwn4pcmxf21.jpg?width=256&height=256&crop=256:256,smart&s=bb95bea309981a406a3165885ce0a2dea9583e9a', 'subreddit_type': 'user', 'is_default_banner': True, 'banner_size': None, 'display_name': 'u_Weebshit14', 'free_form_reports': True, 'user_is_muted': False, 'header_size': None, 'primary_color': '', 'user_is_banned': False, 'subscribers': 0, 'show_media': True, 'user_is_contributor': False, 'community_icon': '', 'banner_img': '', 'default_set': True, 'name': 't5_tsqm7', 'is_default_icon': False, 'user_is_subscriber': False, 'user_is_moderator': False, 'title': 'Weeeeeeb', 'over_18': False, 'icon_color': '', 'url': '/user/Weebshit14/', 'link_flair_position': '', 'display_name_prefixed': 'u/Weebshit14', 'header_img': None, 'key_color': ''}, 'hide_from_robots': False, 'verified': True, 'id': '2wblz0xg', 'created_utc': 1546289688.0, 'link_karma': 1348, 'name': 'Weebshit14', 'pref_show_snoovatar': False, 'is_friend': False, 'is_mod': False, 'has_subscribed': True, 'is_gold': False, 'comment_karma': 485}\n",
      "Sending a message to user Weebshit14 with data {'username': 'Weebshit14', 'url': 'https://docs.google.com/forms/d/e/1FAIpQLSc1Atz_YmZVZIBILyVRsnZYHT3KrGqEseM-oUyz6dLllEfcVg/viewform?usp=pp_url&entry.360321409=Weebshit14', 'deleted': False, 'get_info_date': '2019-03-23 13:46:50.163481'}\n"
     ]
    },
    {
     "name": "stderr",
     "output_type": "stream",
     "text": [
      "substituting https://oauth.reddit.com for https://api.reddit.com in url\n",
      "GET: https://oauth.reddit.com/user/Weebshit14/about/.json\n",
      "substituting https://oauth.reddit.com for https://api.reddit.com in url\n",
      "POST: https://oauth.reddit.com/api/compose/.json\n"
     ]
    },
    {
     "name": "stdout",
     "output_type": "stream",
     "text": [
      "Message successfully sent to user Weebshit14\n",
      "APPENDING TO FILE: {'username': 'Weebshit14', 'url': 'https://docs.google.com/forms/d/e/1FAIpQLSc1Atz_YmZVZIBILyVRsnZYHT3KrGqEseM-oUyz6dLllEfcVg/viewform?usp=pp_url&entry.360321409=Weebshit14', 'deleted': False, 'get_info_date': '2019-03-23 13:46:50.163481'}\n",
      "url: https://docs.google.com/forms/d/e/1FAIpQLSc1Atz_YmZVZIBILyVRsnZYHT3KrGqEseM-oUyz6dLllEfcVg/viewform?usp=pp_url&entry.360321409=Weebshit14\n",
      "get_info_data: 2019-03-23 13:46:50.163481\n",
      "deleted: False\n",
      "User dcbreen found: {'has_verified_email': False, 'is_employee': False, 'created': 1528656010.0, 'icon_img': 'https://www.redditstatic.com/avatars/avatar_default_09_46A508.png', 'subreddit': {'description': '', 'icon_size': [256, 256], 'public_description': '', 'link_flair_enabled': False, 'icon_img': 'https://www.redditstatic.com/avatars/avatar_default_09_46A508.png', 'subreddit_type': 'user', 'is_default_banner': True, 'banner_size': None, 'display_name': 'u_dcbreen', 'free_form_reports': True, 'user_is_muted': False, 'header_size': None, 'primary_color': '', 'user_is_banned': False, 'subscribers': 0, 'show_media': True, 'user_is_contributor': False, 'community_icon': '', 'banner_img': '', 'default_set': True, 'name': 't5_k9rgl', 'is_default_icon': True, 'user_is_subscriber': False, 'user_is_moderator': False, 'title': 'throwawayaccount2639', 'over_18': False, 'icon_color': '#46A508', 'url': '/user/dcbreen/', 'link_flair_position': '', 'display_name_prefixed': 'u/dcbreen', 'header_img': None, 'key_color': ''}, 'hide_from_robots': False, 'verified': True, 'id': '1fx32p68', 'created_utc': 1528656010.0, 'link_karma': 1, 'name': 'dcbreen', 'pref_show_snoovatar': False, 'is_friend': False, 'is_mod': False, 'has_subscribed': True, 'is_gold': False, 'comment_karma': -5}\n",
      "Sending a message to user dcbreen with data {'username': 'dcbreen', 'url': 'https://docs.google.com/forms/d/e/1FAIpQLSc1Atz_YmZVZIBILyVRsnZYHT3KrGqEseM-oUyz6dLllEfcVg/viewform?usp=pp_url&entry.360321409=dcbreen', 'deleted': False, 'get_info_date': '2019-03-23 13:46:54.343811'}\n"
     ]
    },
    {
     "name": "stderr",
     "output_type": "stream",
     "text": [
      "substituting https://oauth.reddit.com for https://api.reddit.com in url\n",
      "GET: https://oauth.reddit.com/user/dcbreen/about/.json\n",
      "substituting https://oauth.reddit.com for https://api.reddit.com in url\n",
      "POST: https://oauth.reddit.com/api/compose/.json\n"
     ]
    },
    {
     "name": "stdout",
     "output_type": "stream",
     "text": [
      "Message successfully sent to user dcbreen\n",
      "APPENDING TO FILE: {'username': 'dcbreen', 'url': 'https://docs.google.com/forms/d/e/1FAIpQLSc1Atz_YmZVZIBILyVRsnZYHT3KrGqEseM-oUyz6dLllEfcVg/viewform?usp=pp_url&entry.360321409=dcbreen', 'deleted': False, 'get_info_date': '2019-03-23 13:46:54.343811'}\n",
      "url: https://docs.google.com/forms/d/e/1FAIpQLSc1Atz_YmZVZIBILyVRsnZYHT3KrGqEseM-oUyz6dLllEfcVg/viewform?usp=pp_url&entry.360321409=dcbreen\n",
      "get_info_data: 2019-03-23 13:46:54.343811\n",
      "deleted: False\n",
      "User butter_is_dangerous found: {'has_verified_email': True, 'is_employee': False, 'created': 1531908286.0, 'icon_img': 'https://www.redditstatic.com/avatars/avatar_default_20_FFB000.png', 'subreddit': {'description': '', 'icon_size': [256, 256], 'public_description': '', 'link_flair_enabled': False, 'icon_img': 'https://www.redditstatic.com/avatars/avatar_default_20_FFB000.png', 'subreddit_type': 'user', 'is_default_banner': True, 'banner_size': None, 'display_name': 'u_butter_is_dangerous', 'free_form_reports': True, 'user_is_muted': False, 'header_size': None, 'primary_color': '', 'user_is_banned': False, 'subscribers': 0, 'show_media': True, 'user_is_contributor': False, 'community_icon': '', 'banner_img': '', 'default_set': True, 'name': 't5_lyctn', 'is_default_icon': True, 'user_is_subscriber': False, 'user_is_moderator': False, 'title': '', 'over_18': False, 'icon_color': '#FFB000', 'url': '/user/butter_is_dangerous/', 'link_flair_position': '', 'display_name_prefixed': 'u/butter_is_dangerous', 'header_img': None, 'key_color': ''}, 'hide_from_robots': False, 'verified': True, 'id': '1suldj5r', 'created_utc': 1531908286.0, 'link_karma': 1, 'name': 'butter_is_dangerous', 'pref_show_snoovatar': False, 'is_friend': False, 'is_mod': False, 'has_subscribed': False, 'is_gold': False, 'comment_karma': 0}\n",
      "Sending a message to user butter_is_dangerous with data {'username': 'butter_is_dangerous', 'url': 'https://docs.google.com/forms/d/e/1FAIpQLSc1Atz_YmZVZIBILyVRsnZYHT3KrGqEseM-oUyz6dLllEfcVg/viewform?usp=pp_url&entry.360321409=butter_is_dangerous', 'deleted': False, 'get_info_date': '2019-03-23 13:46:58.652387'}\n"
     ]
    },
    {
     "name": "stderr",
     "output_type": "stream",
     "text": [
      "substituting https://oauth.reddit.com for https://api.reddit.com in url\n",
      "GET: https://oauth.reddit.com/user/butter_is_dangerous/about/.json\n",
      "substituting https://oauth.reddit.com for https://api.reddit.com in url\n",
      "POST: https://oauth.reddit.com/api/compose/.json\n"
     ]
    },
    {
     "name": "stdout",
     "output_type": "stream",
     "text": [
      "Message successfully sent to user butter_is_dangerous\n",
      "APPENDING TO FILE: {'username': 'butter_is_dangerous', 'url': 'https://docs.google.com/forms/d/e/1FAIpQLSc1Atz_YmZVZIBILyVRsnZYHT3KrGqEseM-oUyz6dLllEfcVg/viewform?usp=pp_url&entry.360321409=butter_is_dangerous', 'deleted': False, 'get_info_date': '2019-03-23 13:46:58.652387'}\n",
      "url: https://docs.google.com/forms/d/e/1FAIpQLSc1Atz_YmZVZIBILyVRsnZYHT3KrGqEseM-oUyz6dLllEfcVg/viewform?usp=pp_url&entry.360321409=butter_is_dangerous\n",
      "get_info_data: 2019-03-23 13:46:58.652387\n",
      "deleted: False\n",
      "User not found: gmewhite\n"
     ]
    },
    {
     "name": "stderr",
     "output_type": "stream",
     "text": [
      "substituting https://oauth.reddit.com for https://api.reddit.com in url\n",
      "GET: https://oauth.reddit.com/user/gmewhite/about/.json\n"
     ]
    },
    {
     "name": "stdout",
     "output_type": "stream",
     "text": [
      "User strengthFeminist found: {'has_verified_email': False, 'is_employee': False, 'created': 1551413101.0, 'icon_img': 'https://www.redditstatic.com/avatars/avatar_default_10_EA0027.png', 'subreddit': {'description': '', 'icon_size': [256, 256], 'public_description': '', 'link_flair_enabled': False, 'icon_img': 'https://www.redditstatic.com/avatars/avatar_default_10_EA0027.png', 'subreddit_type': 'user', 'is_default_banner': True, 'banner_size': None, 'display_name': 'u_strengthFeminist', 'free_form_reports': True, 'user_is_muted': False, 'header_size': None, 'primary_color': '', 'user_is_banned': False, 'subscribers': 0, 'show_media': True, 'user_is_contributor': False, 'community_icon': '', 'banner_img': '', 'default_set': True, 'name': 't5_xe1pg', 'is_default_icon': True, 'user_is_subscriber': False, 'user_is_moderator': False, 'title': '', 'over_18': False, 'icon_color': '#EA0027', 'url': '/user/strengthFeminist/', 'link_flair_position': '', 'display_name_prefixed': 'u/strengthFeminist', 'header_img': None, 'key_color': ''}, 'hide_from_robots': False, 'verified': True, 'id': '3bkut29p', 'created_utc': 1551413101.0, 'link_karma': 1, 'name': 'strengthFeminist', 'pref_show_snoovatar': False, 'is_friend': False, 'is_mod': False, 'has_subscribed': True, 'is_gold': False, 'comment_karma': 15}\n",
      "Sending a message to user strengthFeminist with data {'username': 'strengthFeminist', 'url': 'https://docs.google.com/forms/d/e/1FAIpQLSc1Atz_YmZVZIBILyVRsnZYHT3KrGqEseM-oUyz6dLllEfcVg/viewform?usp=pp_url&entry.360321409=strengthFeminist', 'deleted': False, 'get_info_date': '2019-03-23 13:47:04.963660'}\n"
     ]
    },
    {
     "name": "stderr",
     "output_type": "stream",
     "text": [
      "substituting https://oauth.reddit.com for https://api.reddit.com in url\n",
      "GET: https://oauth.reddit.com/user/strengthFeminist/about/.json\n",
      "substituting https://oauth.reddit.com for https://api.reddit.com in url\n",
      "POST: https://oauth.reddit.com/api/compose/.json\n"
     ]
    },
    {
     "name": "stdout",
     "output_type": "stream",
     "text": [
      "Message successfully sent to user strengthFeminist\n",
      "APPENDING TO FILE: {'username': 'strengthFeminist', 'url': 'https://docs.google.com/forms/d/e/1FAIpQLSc1Atz_YmZVZIBILyVRsnZYHT3KrGqEseM-oUyz6dLllEfcVg/viewform?usp=pp_url&entry.360321409=strengthFeminist', 'deleted': False, 'get_info_date': '2019-03-23 13:47:04.963660'}\n",
      "url: https://docs.google.com/forms/d/e/1FAIpQLSc1Atz_YmZVZIBILyVRsnZYHT3KrGqEseM-oUyz6dLllEfcVg/viewform?usp=pp_url&entry.360321409=strengthFeminist\n",
      "get_info_data: 2019-03-23 13:47:04.963660\n",
      "deleted: False\n",
      "User Bold_One_ found: {'has_verified_email': True, 'is_employee': False, 'created': 1551165877.0, 'icon_img': 'https://www.redditstatic.com/avatars/avatar_default_10_D4E815.png', 'subreddit': {'description': '', 'icon_size': [256, 256], 'public_description': '', 'link_flair_enabled': False, 'icon_img': 'https://www.redditstatic.com/avatars/avatar_default_10_D4E815.png', 'subreddit_type': 'user', 'is_default_banner': True, 'banner_size': None, 'display_name': 'u_Bold_One_', 'free_form_reports': True, 'user_is_muted': False, 'header_size': None, 'primary_color': '', 'user_is_banned': False, 'subscribers': 0, 'show_media': True, 'user_is_contributor': False, 'community_icon': '', 'banner_img': '', 'default_set': True, 'name': 't5_x8hxy', 'is_default_icon': True, 'user_is_subscriber': False, 'user_is_moderator': False, 'title': '', 'over_18': False, 'icon_color': '#D4E815', 'url': '/user/Bold_One_/', 'link_flair_position': '', 'display_name_prefixed': 'u/Bold_One_', 'header_img': None, 'key_color': ''}, 'hide_from_robots': False, 'verified': True, 'id': '3avv4zih', 'created_utc': 1551165877.0, 'link_karma': 2335, 'name': 'Bold_One_', 'pref_show_snoovatar': False, 'is_friend': False, 'is_mod': False, 'has_subscribed': True, 'is_gold': False, 'comment_karma': 446}\n",
      "Sending a message to user Bold_One_ with data {'username': 'Bold_One_', 'url': 'https://docs.google.com/forms/d/e/1FAIpQLSc1Atz_YmZVZIBILyVRsnZYHT3KrGqEseM-oUyz6dLllEfcVg/viewform?usp=pp_url&entry.360321409=Bold_One_', 'deleted': False, 'get_info_date': '2019-03-23 13:47:09.119345'}\n"
     ]
    },
    {
     "name": "stderr",
     "output_type": "stream",
     "text": [
      "substituting https://oauth.reddit.com for https://api.reddit.com in url\n",
      "GET: https://oauth.reddit.com/user/Bold_One_/about/.json\n",
      "substituting https://oauth.reddit.com for https://api.reddit.com in url\n",
      "POST: https://oauth.reddit.com/api/compose/.json\n"
     ]
    },
    {
     "name": "stdout",
     "output_type": "stream",
     "text": [
      "Message successfully sent to user Bold_One_\n",
      "APPENDING TO FILE: {'username': 'Bold_One_', 'url': 'https://docs.google.com/forms/d/e/1FAIpQLSc1Atz_YmZVZIBILyVRsnZYHT3KrGqEseM-oUyz6dLllEfcVg/viewform?usp=pp_url&entry.360321409=Bold_One_', 'deleted': False, 'get_info_date': '2019-03-23 13:47:09.119345'}\n",
      "url: https://docs.google.com/forms/d/e/1FAIpQLSc1Atz_YmZVZIBILyVRsnZYHT3KrGqEseM-oUyz6dLllEfcVg/viewform?usp=pp_url&entry.360321409=Bold_One_\n",
      "get_info_data: 2019-03-23 13:47:09.119345\n",
      "deleted: False\n",
      "User FearlessAndAtLarge found: {'has_verified_email': False, 'is_employee': False, 'created': 1551641690.0, 'icon_img': 'https://www.redditstatic.com/avatars/avatar_default_16_FFD635.png', 'subreddit': {'description': '', 'icon_size': [256, 256], 'public_description': '', 'link_flair_enabled': False, 'icon_img': 'https://www.redditstatic.com/avatars/avatar_default_16_FFD635.png', 'subreddit_type': 'user', 'is_default_banner': True, 'banner_size': None, 'display_name': 'u_FearlessAndAtLarge', 'free_form_reports': True, 'user_is_muted': False, 'header_size': None, 'primary_color': '', 'user_is_banned': False, 'subscribers': 0, 'show_media': True, 'user_is_contributor': False, 'community_icon': '', 'banner_img': '', 'default_set': True, 'name': 't5_xj5he', 'is_default_icon': True, 'user_is_subscriber': False, 'user_is_moderator': False, 'title': '', 'over_18': False, 'icon_color': '#FFD635', 'url': '/user/FearlessAndAtLarge/', 'link_flair_position': '', 'display_name_prefixed': 'u/FearlessAndAtLarge', 'header_img': None, 'key_color': ''}, 'hide_from_robots': False, 'verified': True, 'id': '33jkgm9n', 'created_utc': 1551641690.0, 'link_karma': 1, 'name': 'FearlessAndAtLarge', 'pref_show_snoovatar': False, 'is_friend': False, 'is_mod': False, 'has_subscribed': True, 'is_gold': False, 'comment_karma': -4}\n",
      "Sending a message to user FearlessAndAtLarge with data {'username': 'FearlessAndAtLarge', 'url': 'https://docs.google.com/forms/d/e/1FAIpQLSc1Atz_YmZVZIBILyVRsnZYHT3KrGqEseM-oUyz6dLllEfcVg/viewform?usp=pp_url&entry.360321409=FearlessAndAtLarge', 'deleted': False, 'get_info_date': '2019-03-23 13:47:13.469763'}\n"
     ]
    },
    {
     "name": "stderr",
     "output_type": "stream",
     "text": [
      "substituting https://oauth.reddit.com for https://api.reddit.com in url\n",
      "GET: https://oauth.reddit.com/user/FearlessAndAtLarge/about/.json\n",
      "substituting https://oauth.reddit.com for https://api.reddit.com in url\n",
      "POST: https://oauth.reddit.com/api/compose/.json\n"
     ]
    },
    {
     "name": "stdout",
     "output_type": "stream",
     "text": [
      "Message successfully sent to user FearlessAndAtLarge\n",
      "APPENDING TO FILE: {'username': 'FearlessAndAtLarge', 'url': 'https://docs.google.com/forms/d/e/1FAIpQLSc1Atz_YmZVZIBILyVRsnZYHT3KrGqEseM-oUyz6dLllEfcVg/viewform?usp=pp_url&entry.360321409=FearlessAndAtLarge', 'deleted': False, 'get_info_date': '2019-03-23 13:47:13.469763'}\n",
      "url: https://docs.google.com/forms/d/e/1FAIpQLSc1Atz_YmZVZIBILyVRsnZYHT3KrGqEseM-oUyz6dLllEfcVg/viewform?usp=pp_url&entry.360321409=FearlessAndAtLarge\n",
      "get_info_data: 2019-03-23 13:47:13.469763\n",
      "deleted: False\n",
      "User WMST201 found: {'has_verified_email': False, 'is_employee': False, 'created': 1551673807.0, 'icon_img': 'https://www.redditstatic.com/avatars/avatar_default_05_FFB000.png', 'subreddit': {'description': '', 'icon_size': [256, 256], 'public_description': '', 'link_flair_enabled': False, 'icon_img': 'https://www.redditstatic.com/avatars/avatar_default_05_FFB000.png', 'subreddit_type': 'user', 'is_default_banner': True, 'banner_size': None, 'display_name': 'u_WMST201', 'free_form_reports': True, 'user_is_muted': False, 'header_size': None, 'primary_color': '', 'user_is_banned': False, 'subscribers': 0, 'show_media': True, 'user_is_contributor': False, 'community_icon': '', 'banner_img': '', 'default_set': True, 'name': 't5_xk0wy', 'is_default_icon': True, 'user_is_subscriber': False, 'user_is_moderator': False, 'title': '', 'over_18': False, 'icon_color': '#FFB000', 'url': '/user/WMST201/', 'link_flair_position': '', 'display_name_prefixed': 'u/WMST201', 'header_img': None, 'key_color': ''}, 'hide_from_robots': False, 'verified': True, 'id': '3cav9q80', 'created_utc': 1551673807.0, 'link_karma': 1, 'name': 'WMST201', 'pref_show_snoovatar': False, 'is_friend': False, 'is_mod': False, 'has_subscribed': False, 'is_gold': False, 'comment_karma': 4}\n",
      "Sending a message to user WMST201 with data {'username': 'WMST201', 'url': 'https://docs.google.com/forms/d/e/1FAIpQLSc1Atz_YmZVZIBILyVRsnZYHT3KrGqEseM-oUyz6dLllEfcVg/viewform?usp=pp_url&entry.360321409=WMST201', 'deleted': False, 'get_info_date': '2019-03-23 13:47:17.711772'}\n"
     ]
    },
    {
     "name": "stderr",
     "output_type": "stream",
     "text": [
      "substituting https://oauth.reddit.com for https://api.reddit.com in url\n",
      "GET: https://oauth.reddit.com/user/WMST201/about/.json\n",
      "substituting https://oauth.reddit.com for https://api.reddit.com in url\n",
      "POST: https://oauth.reddit.com/api/compose/.json\n"
     ]
    },
    {
     "name": "stdout",
     "output_type": "stream",
     "text": [
      "Message successfully sent to user WMST201\n",
      "APPENDING TO FILE: {'username': 'WMST201', 'url': 'https://docs.google.com/forms/d/e/1FAIpQLSc1Atz_YmZVZIBILyVRsnZYHT3KrGqEseM-oUyz6dLllEfcVg/viewform?usp=pp_url&entry.360321409=WMST201', 'deleted': False, 'get_info_date': '2019-03-23 13:47:17.711772'}\n",
      "url: https://docs.google.com/forms/d/e/1FAIpQLSc1Atz_YmZVZIBILyVRsnZYHT3KrGqEseM-oUyz6dLllEfcVg/viewform?usp=pp_url&entry.360321409=WMST201\n",
      "get_info_data: 2019-03-23 13:47:17.711772\n",
      "deleted: False\n",
      "User laurathreenames found: {'has_verified_email': False, 'is_employee': False, 'created': 1549698205.0, 'icon_img': 'https://www.redditstatic.com/avatars/avatar_default_11_24A0ED.png', 'subreddit': {'description': '', 'icon_size': [256, 256], 'public_description': '', 'link_flair_enabled': False, 'icon_img': 'https://www.redditstatic.com/avatars/avatar_default_11_24A0ED.png', 'subreddit_type': 'user', 'is_default_banner': True, 'banner_size': None, 'display_name': 'u_laurathreenames', 'free_form_reports': True, 'user_is_muted': False, 'header_size': None, 'primary_color': '', 'user_is_banned': False, 'subscribers': 0, 'show_media': True, 'user_is_contributor': False, 'community_icon': '', 'banner_img': '', 'default_set': True, 'name': 't5_w8m18', 'is_default_icon': True, 'user_is_subscriber': False, 'user_is_moderator': False, 'title': '', 'over_18': False, 'icon_color': '#24A0ED', 'url': '/user/laurathreenames/', 'link_flair_position': '', 'display_name_prefixed': 'u/laurathreenames', 'header_img': None, 'key_color': ''}, 'hide_from_robots': False, 'verified': True, 'id': '36q483fu', 'created_utc': 1549698205.0, 'link_karma': 1, 'name': 'laurathreenames', 'pref_show_snoovatar': False, 'is_friend': False, 'is_mod': False, 'has_subscribed': True, 'is_gold': False, 'comment_karma': 9}\n",
      "Sending a message to user laurathreenames with data {'username': 'laurathreenames', 'url': 'https://docs.google.com/forms/d/e/1FAIpQLSc1Atz_YmZVZIBILyVRsnZYHT3KrGqEseM-oUyz6dLllEfcVg/viewform?usp=pp_url&entry.360321409=laurathreenames', 'deleted': False, 'get_info_date': '2019-03-23 13:47:21.970213'}\n"
     ]
    },
    {
     "name": "stderr",
     "output_type": "stream",
     "text": [
      "substituting https://oauth.reddit.com for https://api.reddit.com in url\n",
      "GET: https://oauth.reddit.com/user/laurathreenames/about/.json\n",
      "substituting https://oauth.reddit.com for https://api.reddit.com in url\n",
      "POST: https://oauth.reddit.com/api/compose/.json\n"
     ]
    },
    {
     "name": "stdout",
     "output_type": "stream",
     "text": [
      "Message successfully sent to user laurathreenames\n",
      "APPENDING TO FILE: {'username': 'laurathreenames', 'url': 'https://docs.google.com/forms/d/e/1FAIpQLSc1Atz_YmZVZIBILyVRsnZYHT3KrGqEseM-oUyz6dLllEfcVg/viewform?usp=pp_url&entry.360321409=laurathreenames', 'deleted': False, 'get_info_date': '2019-03-23 13:47:21.970213'}\n",
      "url: https://docs.google.com/forms/d/e/1FAIpQLSc1Atz_YmZVZIBILyVRsnZYHT3KrGqEseM-oUyz6dLllEfcVg/viewform?usp=pp_url&entry.360321409=laurathreenames\n",
      "get_info_data: 2019-03-23 13:47:21.970213\n",
      "deleted: False\n",
      "User isntthiskindashitty found: {'has_verified_email': True, 'is_employee': False, 'created': 1541958817.0, 'icon_img': 'https://www.redditstatic.com/avatars/avatar_default_12_0079D3.png', 'subreddit': {'description': '', 'icon_size': [256, 256], 'public_description': '', 'link_flair_enabled': False, 'icon_img': 'https://www.redditstatic.com/avatars/avatar_default_12_0079D3.png', 'subreddit_type': 'user', 'is_default_banner': True, 'banner_size': None, 'display_name': 'u_isntthiskindashitty', 'free_form_reports': True, 'user_is_muted': False, 'header_size': None, 'primary_color': '', 'user_is_banned': False, 'subscribers': 0, 'show_media': True, 'user_is_contributor': False, 'community_icon': '', 'banner_img': '', 'default_set': True, 'name': 't5_r5i44', 'is_default_icon': True, 'user_is_subscriber': False, 'user_is_moderator': False, 'title': '', 'over_18': False, 'icon_color': '#0079D3', 'url': '/user/isntthiskindashitty/', 'link_flair_position': '', 'display_name_prefixed': 'u/isntthiskindashitty', 'header_img': None, 'key_color': ''}, 'hide_from_robots': False, 'verified': True, 'id': '2kwy0yuj', 'created_utc': 1541958817.0, 'link_karma': 106, 'name': 'isntthiskindashitty', 'pref_show_snoovatar': False, 'is_friend': False, 'is_mod': False, 'has_subscribed': True, 'is_gold': False, 'comment_karma': 1817}\n",
      "Sending a message to user isntthiskindashitty with data {'username': 'isntthiskindashitty', 'url': 'https://docs.google.com/forms/d/e/1FAIpQLSc1Atz_YmZVZIBILyVRsnZYHT3KrGqEseM-oUyz6dLllEfcVg/viewform?usp=pp_url&entry.360321409=isntthiskindashitty', 'deleted': False, 'get_info_date': '2019-03-23 13:47:26.253111'}\n"
     ]
    },
    {
     "name": "stderr",
     "output_type": "stream",
     "text": [
      "substituting https://oauth.reddit.com for https://api.reddit.com in url\n",
      "GET: https://oauth.reddit.com/user/isntthiskindashitty/about/.json\n",
      "substituting https://oauth.reddit.com for https://api.reddit.com in url\n",
      "POST: https://oauth.reddit.com/api/compose/.json\n"
     ]
    },
    {
     "name": "stdout",
     "output_type": "stream",
     "text": [
      "Message successfully sent to user isntthiskindashitty\n",
      "APPENDING TO FILE: {'username': 'isntthiskindashitty', 'url': 'https://docs.google.com/forms/d/e/1FAIpQLSc1Atz_YmZVZIBILyVRsnZYHT3KrGqEseM-oUyz6dLllEfcVg/viewform?usp=pp_url&entry.360321409=isntthiskindashitty', 'deleted': False, 'get_info_date': '2019-03-23 13:47:26.253111'}\n",
      "url: https://docs.google.com/forms/d/e/1FAIpQLSc1Atz_YmZVZIBILyVRsnZYHT3KrGqEseM-oUyz6dLllEfcVg/viewform?usp=pp_url&entry.360321409=isntthiskindashitty\n",
      "get_info_data: 2019-03-23 13:47:26.253111\n",
      "deleted: False\n",
      "User Roisin996 found: {'has_verified_email': False, 'is_employee': False, 'created': 1551652223.0, 'icon_img': 'https://www.redditstatic.com/avatars/avatar_default_17_46A508.png', 'subreddit': {'description': '', 'icon_size': [256, 256], 'public_description': '', 'link_flair_enabled': False, 'icon_img': 'https://www.redditstatic.com/avatars/avatar_default_17_46A508.png', 'subreddit_type': 'user', 'is_default_banner': True, 'banner_size': None, 'display_name': 'u_Roisin996', 'free_form_reports': True, 'user_is_muted': False, 'header_size': None, 'primary_color': '', 'user_is_banned': False, 'subscribers': 0, 'show_media': True, 'user_is_contributor': False, 'community_icon': '', 'banner_img': '', 'default_set': True, 'name': 't5_xjgmw', 'is_default_icon': True, 'user_is_subscriber': False, 'user_is_moderator': False, 'title': '', 'over_18': False, 'icon_color': '#46A508', 'url': '/user/Roisin996/', 'link_flair_position': '', 'display_name_prefixed': 'u/Roisin996', 'header_img': None, 'key_color': ''}, 'hide_from_robots': False, 'verified': True, 'id': '3c8o2zfc', 'created_utc': 1551652223.0, 'link_karma': 1, 'name': 'Roisin996', 'pref_show_snoovatar': False, 'is_friend': False, 'is_mod': False, 'has_subscribed': True, 'is_gold': False, 'comment_karma': 0}\n",
      "Sending a message to user Roisin996 with data {'username': 'Roisin996', 'url': 'https://docs.google.com/forms/d/e/1FAIpQLSc1Atz_YmZVZIBILyVRsnZYHT3KrGqEseM-oUyz6dLllEfcVg/viewform?usp=pp_url&entry.360321409=Roisin996', 'deleted': False, 'get_info_date': '2019-03-23 13:47:30.548873'}\n"
     ]
    },
    {
     "name": "stderr",
     "output_type": "stream",
     "text": [
      "substituting https://oauth.reddit.com for https://api.reddit.com in url\n",
      "GET: https://oauth.reddit.com/user/Roisin996/about/.json\n",
      "substituting https://oauth.reddit.com for https://api.reddit.com in url\n",
      "POST: https://oauth.reddit.com/api/compose/.json\n"
     ]
    },
    {
     "name": "stdout",
     "output_type": "stream",
     "text": [
      "Message successfully sent to user Roisin996\n",
      "APPENDING TO FILE: {'username': 'Roisin996', 'url': 'https://docs.google.com/forms/d/e/1FAIpQLSc1Atz_YmZVZIBILyVRsnZYHT3KrGqEseM-oUyz6dLllEfcVg/viewform?usp=pp_url&entry.360321409=Roisin996', 'deleted': False, 'get_info_date': '2019-03-23 13:47:30.548873'}\n",
      "url: https://docs.google.com/forms/d/e/1FAIpQLSc1Atz_YmZVZIBILyVRsnZYHT3KrGqEseM-oUyz6dLllEfcVg/viewform?usp=pp_url&entry.360321409=Roisin996\n",
      "get_info_data: 2019-03-23 13:47:30.548873\n",
      "deleted: False\n",
      "User DrKravMcGraw found: {'has_verified_email': False, 'is_employee': False, 'created': 1547995052.0, 'icon_img': 'https://www.redditstatic.com/avatars/avatar_default_20_46D160.png', 'subreddit': {'description': '', 'icon_size': [256, 256], 'public_description': '', 'link_flair_enabled': False, 'icon_img': 'https://www.redditstatic.com/avatars/avatar_default_20_46D160.png', 'subreddit_type': 'user', 'is_default_banner': True, 'banner_size': None, 'display_name': 'u_DrKravMcGraw', 'free_form_reports': True, 'user_is_muted': False, 'header_size': None, 'primary_color': '', 'user_is_banned': False, 'subscribers': 0, 'show_media': True, 'user_is_contributor': False, 'community_icon': '', 'banner_img': '', 'default_set': True, 'name': 't5_v1let', 'is_default_icon': True, 'user_is_subscriber': False, 'user_is_moderator': False, 'title': '', 'over_18': False, 'icon_color': '#46D160', 'url': '/user/DrKravMcGraw/', 'link_flair_position': '', 'display_name_prefixed': 'u/DrKravMcGraw', 'header_img': None, 'key_color': ''}, 'hide_from_robots': False, 'verified': True, 'id': '2xrb0wnb', 'created_utc': 1547995052.0, 'link_karma': 1, 'name': 'DrKravMcGraw', 'pref_show_snoovatar': False, 'is_friend': False, 'is_mod': False, 'has_subscribed': True, 'is_gold': False, 'comment_karma': -27}\n",
      "Sending a message to user DrKravMcGraw with data {'username': 'DrKravMcGraw', 'url': 'https://docs.google.com/forms/d/e/1FAIpQLSc1Atz_YmZVZIBILyVRsnZYHT3KrGqEseM-oUyz6dLllEfcVg/viewform?usp=pp_url&entry.360321409=DrKravMcGraw', 'deleted': False, 'get_info_date': '2019-03-23 13:47:34.794352'}\n"
     ]
    },
    {
     "name": "stderr",
     "output_type": "stream",
     "text": [
      "substituting https://oauth.reddit.com for https://api.reddit.com in url\n",
      "GET: https://oauth.reddit.com/user/DrKravMcGraw/about/.json\n",
      "substituting https://oauth.reddit.com for https://api.reddit.com in url\n",
      "POST: https://oauth.reddit.com/api/compose/.json\n"
     ]
    },
    {
     "name": "stdout",
     "output_type": "stream",
     "text": [
      "Message successfully sent to user DrKravMcGraw\n",
      "APPENDING TO FILE: {'username': 'DrKravMcGraw', 'url': 'https://docs.google.com/forms/d/e/1FAIpQLSc1Atz_YmZVZIBILyVRsnZYHT3KrGqEseM-oUyz6dLllEfcVg/viewform?usp=pp_url&entry.360321409=DrKravMcGraw', 'deleted': False, 'get_info_date': '2019-03-23 13:47:34.794352'}\n",
      "url: https://docs.google.com/forms/d/e/1FAIpQLSc1Atz_YmZVZIBILyVRsnZYHT3KrGqEseM-oUyz6dLllEfcVg/viewform?usp=pp_url&entry.360321409=DrKravMcGraw\n",
      "get_info_data: 2019-03-23 13:47:34.794352\n",
      "deleted: False\n",
      "User Otherwise_fly found: {'has_verified_email': False, 'is_employee': False, 'created': 1551212051.0, 'icon_img': 'https://www.redditstatic.com/avatars/avatar_default_11_EA0027.png', 'subreddit': {'description': '', 'icon_size': [256, 256], 'public_description': '', 'link_flair_enabled': False, 'icon_img': 'https://www.redditstatic.com/avatars/avatar_default_11_EA0027.png', 'subreddit_type': 'user', 'is_default_banner': True, 'banner_size': None, 'display_name': 'u_Otherwise_fly', 'free_form_reports': True, 'user_is_muted': False, 'header_size': None, 'primary_color': '', 'user_is_banned': False, 'subscribers': 0, 'show_media': True, 'user_is_contributor': False, 'community_icon': '', 'banner_img': '', 'default_set': True, 'name': 't5_x9hst', 'is_default_icon': True, 'user_is_subscriber': False, 'user_is_moderator': False, 'title': '', 'over_18': False, 'icon_color': '#EA0027', 'url': '/user/Otherwise_fly/', 'link_flair_position': '', 'display_name_prefixed': 'u/Otherwise_fly', 'header_img': None, 'key_color': ''}, 'hide_from_robots': False, 'verified': True, 'id': '3b0mte6u', 'created_utc': 1551212051.0, 'link_karma': 1, 'name': 'Otherwise_fly', 'pref_show_snoovatar': False, 'is_friend': False, 'is_mod': False, 'has_subscribed': True, 'is_gold': False, 'comment_karma': 4}\n",
      "Sending a message to user Otherwise_fly with data {'username': 'Otherwise_fly', 'url': 'https://docs.google.com/forms/d/e/1FAIpQLSc1Atz_YmZVZIBILyVRsnZYHT3KrGqEseM-oUyz6dLllEfcVg/viewform?usp=pp_url&entry.360321409=Otherwise_fly', 'deleted': False, 'get_info_date': '2019-03-23 13:47:38.929612'}\n"
     ]
    },
    {
     "name": "stderr",
     "output_type": "stream",
     "text": [
      "substituting https://oauth.reddit.com for https://api.reddit.com in url\n",
      "GET: https://oauth.reddit.com/user/Otherwise_fly/about/.json\n",
      "substituting https://oauth.reddit.com for https://api.reddit.com in url\n",
      "POST: https://oauth.reddit.com/api/compose/.json\n"
     ]
    },
    {
     "name": "stdout",
     "output_type": "stream",
     "text": [
      "Message successfully sent to user Otherwise_fly\n",
      "APPENDING TO FILE: {'username': 'Otherwise_fly', 'url': 'https://docs.google.com/forms/d/e/1FAIpQLSc1Atz_YmZVZIBILyVRsnZYHT3KrGqEseM-oUyz6dLllEfcVg/viewform?usp=pp_url&entry.360321409=Otherwise_fly', 'deleted': False, 'get_info_date': '2019-03-23 13:47:38.929612'}\n",
      "url: https://docs.google.com/forms/d/e/1FAIpQLSc1Atz_YmZVZIBILyVRsnZYHT3KrGqEseM-oUyz6dLllEfcVg/viewform?usp=pp_url&entry.360321409=Otherwise_fly\n",
      "get_info_data: 2019-03-23 13:47:38.929612\n",
      "deleted: False\n",
      "User not found: mollyrung\n"
     ]
    },
    {
     "name": "stderr",
     "output_type": "stream",
     "text": [
      "substituting https://oauth.reddit.com for https://api.reddit.com in url\n",
      "GET: https://oauth.reddit.com/user/mollyrung/about/.json\n"
     ]
    },
    {
     "name": "stdout",
     "output_type": "stream",
     "text": [
      "User sculderandmullie found: {'has_verified_email': False, 'is_employee': False, 'created': 1534610403.0, 'icon_img': 'https://www.redditstatic.com/avatars/avatar_default_11_FF585B.png', 'subreddit': {'description': '', 'icon_size': [256, 256], 'public_description': 'Science nerd with clumsy lab skills.  Steven King fan. Figure skater who’s never not falling.  Forever a soft spot for architecture and fashion. Loving dogs in all sizes and snouts.Living in Europe. ', 'link_flair_enabled': False, 'icon_img': 'https://www.redditstatic.com/avatars/avatar_default_11_FF585B.png', 'subreddit_type': 'user', 'is_default_banner': True, 'banner_size': None, 'display_name': 'u_sculderandmullie', 'free_form_reports': True, 'user_is_muted': False, 'header_size': None, 'primary_color': '', 'user_is_banned': False, 'subscribers': 0, 'show_media': True, 'user_is_contributor': False, 'community_icon': '', 'banner_img': '', 'default_set': True, 'name': 't5_ndnte', 'is_default_icon': True, 'user_is_subscriber': False, 'user_is_moderator': False, 'title': '', 'over_18': False, 'icon_color': '#FF585B', 'url': '/user/sculderandmullie/', 'link_flair_position': '', 'display_name_prefixed': 'u/sculderandmullie', 'header_img': None, 'key_color': ''}, 'hide_from_robots': False, 'verified': True, 'id': '20fmlf96', 'created_utc': 1534610403.0, 'link_karma': 1, 'name': 'sculderandmullie', 'pref_show_snoovatar': False, 'is_friend': False, 'is_mod': False, 'has_subscribed': True, 'is_gold': False, 'comment_karma': 8}\n",
      "Sending a message to user sculderandmullie with data {'username': 'sculderandmullie', 'url': 'https://docs.google.com/forms/d/e/1FAIpQLSc1Atz_YmZVZIBILyVRsnZYHT3KrGqEseM-oUyz6dLllEfcVg/viewform?usp=pp_url&entry.360321409=sculderandmullie', 'deleted': False, 'get_info_date': '2019-03-23 13:47:45.173156'}\n"
     ]
    },
    {
     "name": "stderr",
     "output_type": "stream",
     "text": [
      "substituting https://oauth.reddit.com for https://api.reddit.com in url\n",
      "GET: https://oauth.reddit.com/user/sculderandmullie/about/.json\n",
      "substituting https://oauth.reddit.com for https://api.reddit.com in url\n",
      "POST: https://oauth.reddit.com/api/compose/.json\n"
     ]
    },
    {
     "name": "stdout",
     "output_type": "stream",
     "text": [
      "Message successfully sent to user sculderandmullie\n",
      "APPENDING TO FILE: {'username': 'sculderandmullie', 'url': 'https://docs.google.com/forms/d/e/1FAIpQLSc1Atz_YmZVZIBILyVRsnZYHT3KrGqEseM-oUyz6dLllEfcVg/viewform?usp=pp_url&entry.360321409=sculderandmullie', 'deleted': False, 'get_info_date': '2019-03-23 13:47:45.173156'}\n",
      "url: https://docs.google.com/forms/d/e/1FAIpQLSc1Atz_YmZVZIBILyVRsnZYHT3KrGqEseM-oUyz6dLllEfcVg/viewform?usp=pp_url&entry.360321409=sculderandmullie\n",
      "get_info_data: 2019-03-23 13:47:45.173156\n",
      "deleted: False\n",
      "User xpl0ring found: {'has_verified_email': True, 'is_employee': False, 'created': 1551470869.0, 'icon_img': 'https://styles.redditmedia.com/t5_xf800/styles/profileIcon_ya68xn2ottj21.jpg?width=256&height=256&crop=256:256,smart&s=2f556bb87f828ebf57e2dc2c326a9e77a37cc384', 'subreddit': {'description': '', 'icon_size': [256, 256], 'public_description': '', 'link_flair_enabled': False, 'icon_img': 'https://styles.redditmedia.com/t5_xf800/styles/profileIcon_ya68xn2ottj21.jpg?width=256&height=256&crop=256:256,smart&s=2f556bb87f828ebf57e2dc2c326a9e77a37cc384', 'subreddit_type': 'user', 'is_default_banner': True, 'banner_size': None, 'display_name': 'u_xpl0ring', 'free_form_reports': True, 'user_is_muted': False, 'header_size': None, 'primary_color': '', 'user_is_banned': False, 'subscribers': 0, 'show_media': True, 'user_is_contributor': False, 'community_icon': '', 'banner_img': '', 'default_set': True, 'name': 't5_xf800', 'is_default_icon': False, 'user_is_subscriber': False, 'user_is_moderator': False, 'title': '', 'over_18': False, 'icon_color': '', 'url': '/user/xpl0ring/', 'link_flair_position': '', 'display_name_prefixed': 'u/xpl0ring', 'header_img': None, 'key_color': ''}, 'hide_from_robots': False, 'verified': True, 'id': '3bqehw8p', 'created_utc': 1551470869.0, 'link_karma': 2, 'name': 'xpl0ring', 'pref_show_snoovatar': False, 'is_friend': False, 'is_mod': False, 'has_subscribed': True, 'is_gold': False, 'comment_karma': 67}\n",
      "Sending a message to user xpl0ring with data {'username': 'xpl0ring', 'url': 'https://docs.google.com/forms/d/e/1FAIpQLSc1Atz_YmZVZIBILyVRsnZYHT3KrGqEseM-oUyz6dLllEfcVg/viewform?usp=pp_url&entry.360321409=xpl0ring', 'deleted': False, 'get_info_date': '2019-03-23 13:47:49.368973'}\n"
     ]
    },
    {
     "name": "stderr",
     "output_type": "stream",
     "text": [
      "substituting https://oauth.reddit.com for https://api.reddit.com in url\n",
      "GET: https://oauth.reddit.com/user/xpl0ring/about/.json\n",
      "substituting https://oauth.reddit.com for https://api.reddit.com in url\n",
      "POST: https://oauth.reddit.com/api/compose/.json\n"
     ]
    },
    {
     "name": "stdout",
     "output_type": "stream",
     "text": [
      "Message successfully sent to user xpl0ring\n",
      "APPENDING TO FILE: {'username': 'xpl0ring', 'url': 'https://docs.google.com/forms/d/e/1FAIpQLSc1Atz_YmZVZIBILyVRsnZYHT3KrGqEseM-oUyz6dLllEfcVg/viewform?usp=pp_url&entry.360321409=xpl0ring', 'deleted': False, 'get_info_date': '2019-03-23 13:47:49.368973'}\n",
      "url: https://docs.google.com/forms/d/e/1FAIpQLSc1Atz_YmZVZIBILyVRsnZYHT3KrGqEseM-oUyz6dLllEfcVg/viewform?usp=pp_url&entry.360321409=xpl0ring\n",
      "get_info_data: 2019-03-23 13:47:49.368973\n",
      "deleted: False\n",
      "User ZoEmma found: {'has_verified_email': False, 'is_employee': False, 'created': 1546122591.0, 'icon_img': 'https://www.redditstatic.com/avatars/avatar_default_12_A06A42.png', 'subreddit': {'description': '', 'icon_size': [256, 256], 'public_description': '', 'link_flair_enabled': False, 'icon_img': 'https://www.redditstatic.com/avatars/avatar_default_12_A06A42.png', 'subreddit_type': 'user', 'is_default_banner': True, 'banner_size': None, 'display_name': 'u_ZoEmma', 'free_form_reports': True, 'user_is_muted': False, 'header_size': None, 'primary_color': '', 'user_is_banned': False, 'subscribers': 0, 'show_media': True, 'user_is_contributor': False, 'community_icon': '', 'banner_img': '', 'default_set': True, 'name': 't5_to8tv', 'is_default_icon': True, 'user_is_subscriber': False, 'user_is_moderator': False, 'title': '', 'over_18': False, 'icon_color': '#A06A42', 'url': '/user/ZoEmma/', 'link_flair_position': '', 'display_name_prefixed': 'u/ZoEmma', 'header_img': None, 'key_color': ''}, 'hide_from_robots': False, 'verified': True, 'id': '2vv3m4wv', 'created_utc': 1546122591.0, 'link_karma': 4, 'name': 'ZoEmma', 'pref_show_snoovatar': False, 'is_friend': False, 'is_mod': False, 'has_subscribed': True, 'is_gold': False, 'comment_karma': 9}\n",
      "Sending a message to user ZoEmma with data {'username': 'ZoEmma', 'url': 'https://docs.google.com/forms/d/e/1FAIpQLSc1Atz_YmZVZIBILyVRsnZYHT3KrGqEseM-oUyz6dLllEfcVg/viewform?usp=pp_url&entry.360321409=ZoEmma', 'deleted': False, 'get_info_date': '2019-03-23 13:47:53.593139'}\n"
     ]
    },
    {
     "name": "stderr",
     "output_type": "stream",
     "text": [
      "substituting https://oauth.reddit.com for https://api.reddit.com in url\n",
      "GET: https://oauth.reddit.com/user/ZoEmma/about/.json\n",
      "substituting https://oauth.reddit.com for https://api.reddit.com in url\n",
      "POST: https://oauth.reddit.com/api/compose/.json\n"
     ]
    },
    {
     "name": "stdout",
     "output_type": "stream",
     "text": [
      "Message successfully sent to user ZoEmma\n",
      "APPENDING TO FILE: {'username': 'ZoEmma', 'url': 'https://docs.google.com/forms/d/e/1FAIpQLSc1Atz_YmZVZIBILyVRsnZYHT3KrGqEseM-oUyz6dLllEfcVg/viewform?usp=pp_url&entry.360321409=ZoEmma', 'deleted': False, 'get_info_date': '2019-03-23 13:47:53.593139'}\n",
      "url: https://docs.google.com/forms/d/e/1FAIpQLSc1Atz_YmZVZIBILyVRsnZYHT3KrGqEseM-oUyz6dLllEfcVg/viewform?usp=pp_url&entry.360321409=ZoEmma\n",
      "get_info_data: 2019-03-23 13:47:53.593139\n",
      "deleted: False\n",
      "User ComboGod15 found: {'has_verified_email': False, 'is_employee': False, 'created': 1548641791.0, 'icon_img': 'https://www.redditstatic.com/avatars/avatar_default_08_46A508.png', 'subreddit': {'description': '', 'icon_size': [256, 256], 'public_description': '', 'link_flair_enabled': False, 'icon_img': 'https://www.redditstatic.com/avatars/avatar_default_08_46A508.png', 'subreddit_type': 'user', 'is_default_banner': True, 'banner_size': None, 'display_name': 'u_ComboGod15', 'free_form_reports': True, 'user_is_muted': False, 'header_size': None, 'primary_color': '', 'user_is_banned': False, 'subscribers': 0, 'show_media': True, 'user_is_contributor': False, 'community_icon': '', 'banner_img': '', 'default_set': True, 'name': 't5_vi3eb', 'is_default_icon': True, 'user_is_subscriber': False, 'user_is_moderator': False, 'title': '', 'over_18': False, 'icon_color': '#46A508', 'url': '/user/ComboGod15/', 'link_flair_position': '', 'display_name_prefixed': 'u/ComboGod15', 'header_img': None, 'key_color': ''}, 'hide_from_robots': False, 'verified': True, 'id': '33inx4l7', 'created_utc': 1548641791.0, 'link_karma': 10, 'name': 'ComboGod15', 'pref_show_snoovatar': False, 'is_friend': False, 'is_mod': False, 'has_subscribed': True, 'is_gold': False, 'comment_karma': 2}\n",
      "Sending a message to user ComboGod15 with data {'username': 'ComboGod15', 'url': 'https://docs.google.com/forms/d/e/1FAIpQLSc1Atz_YmZVZIBILyVRsnZYHT3KrGqEseM-oUyz6dLllEfcVg/viewform?usp=pp_url&entry.360321409=ComboGod15', 'deleted': False, 'get_info_date': '2019-03-23 13:47:57.653233'}\n"
     ]
    },
    {
     "name": "stderr",
     "output_type": "stream",
     "text": [
      "substituting https://oauth.reddit.com for https://api.reddit.com in url\n",
      "GET: https://oauth.reddit.com/user/ComboGod15/about/.json\n",
      "substituting https://oauth.reddit.com for https://api.reddit.com in url\n",
      "POST: https://oauth.reddit.com/api/compose/.json\n"
     ]
    },
    {
     "name": "stdout",
     "output_type": "stream",
     "text": [
      "Message successfully sent to user ComboGod15\n",
      "APPENDING TO FILE: {'username': 'ComboGod15', 'url': 'https://docs.google.com/forms/d/e/1FAIpQLSc1Atz_YmZVZIBILyVRsnZYHT3KrGqEseM-oUyz6dLllEfcVg/viewform?usp=pp_url&entry.360321409=ComboGod15', 'deleted': False, 'get_info_date': '2019-03-23 13:47:57.653233'}\n",
      "url: https://docs.google.com/forms/d/e/1FAIpQLSc1Atz_YmZVZIBILyVRsnZYHT3KrGqEseM-oUyz6dLllEfcVg/viewform?usp=pp_url&entry.360321409=ComboGod15\n",
      "get_info_data: 2019-03-23 13:47:57.653233\n",
      "deleted: False\n",
      "User leftargus found: {'has_verified_email': True, 'is_employee': False, 'created': 1551663198.0, 'icon_img': 'https://www.redditstatic.com/avatars/avatar_default_13_DDBD37.png', 'subreddit': {'description': '', 'icon_size': [256, 256], 'public_description': '', 'link_flair_enabled': False, 'icon_img': 'https://www.redditstatic.com/avatars/avatar_default_13_DDBD37.png', 'subreddit_type': 'user', 'is_default_banner': True, 'banner_size': None, 'display_name': 'u_leftargus', 'free_form_reports': True, 'user_is_muted': False, 'header_size': None, 'primary_color': '', 'user_is_banned': False, 'subscribers': 0, 'show_media': True, 'user_is_contributor': False, 'community_icon': '', 'banner_img': '', 'default_set': False, 'name': 't5_xjr80', 'is_default_icon': True, 'user_is_subscriber': False, 'user_is_moderator': False, 'title': '', 'over_18': False, 'icon_color': '#DDBD37', 'url': '/user/leftargus/', 'link_flair_position': '', 'display_name_prefixed': 'u/leftargus', 'header_img': None, 'key_color': ''}, 'hide_from_robots': True, 'verified': True, 'id': '1df4hyt4', 'created_utc': 1551663198.0, 'link_karma': 107, 'name': 'leftargus', 'pref_show_snoovatar': False, 'is_friend': False, 'is_mod': False, 'has_subscribed': True, 'is_gold': False, 'comment_karma': 1787}\n",
      "Sending a message to user leftargus with data {'username': 'leftargus', 'url': 'https://docs.google.com/forms/d/e/1FAIpQLSc1Atz_YmZVZIBILyVRsnZYHT3KrGqEseM-oUyz6dLllEfcVg/viewform?usp=pp_url&entry.360321409=leftargus', 'deleted': False, 'get_info_date': '2019-03-23 13:48:01.791078'}\n"
     ]
    },
    {
     "name": "stderr",
     "output_type": "stream",
     "text": [
      "substituting https://oauth.reddit.com for https://api.reddit.com in url\n",
      "GET: https://oauth.reddit.com/user/leftargus/about/.json\n",
      "substituting https://oauth.reddit.com for https://api.reddit.com in url\n",
      "POST: https://oauth.reddit.com/api/compose/.json\n"
     ]
    },
    {
     "name": "stdout",
     "output_type": "stream",
     "text": [
      "Message successfully sent to user leftargus\n",
      "APPENDING TO FILE: {'username': 'leftargus', 'url': 'https://docs.google.com/forms/d/e/1FAIpQLSc1Atz_YmZVZIBILyVRsnZYHT3KrGqEseM-oUyz6dLllEfcVg/viewform?usp=pp_url&entry.360321409=leftargus', 'deleted': False, 'get_info_date': '2019-03-23 13:48:01.791078'}\n",
      "url: https://docs.google.com/forms/d/e/1FAIpQLSc1Atz_YmZVZIBILyVRsnZYHT3KrGqEseM-oUyz6dLllEfcVg/viewform?usp=pp_url&entry.360321409=leftargus\n",
      "get_info_data: 2019-03-23 13:48:01.791078\n",
      "deleted: False\n",
      "User LaRiotNerd found: {'has_verified_email': False, 'is_employee': False, 'created': 1535232832.0, 'icon_img': 'https://styles.redditmedia.com/t5_nozi9/styles/profileIcon_x6ot8z6btrh21.jpg?width=256&height=256&crop=256:256,smart&s=6d01285def3e8e5c37e34a53d44c68f8e70f57b1', 'subreddit': {'description': '', 'icon_size': [256, 256], 'public_description': '', 'link_flair_enabled': False, 'icon_img': 'https://styles.redditmedia.com/t5_nozi9/styles/profileIcon_x6ot8z6btrh21.jpg?width=256&height=256&crop=256:256,smart&s=6d01285def3e8e5c37e34a53d44c68f8e70f57b1', 'subreddit_type': 'user', 'is_default_banner': False, 'banner_size': [1280, 384], 'display_name': 'u_LaRiotNerd', 'free_form_reports': True, 'user_is_muted': False, 'header_size': None, 'primary_color': '', 'user_is_banned': False, 'subscribers': 0, 'show_media': True, 'user_is_contributor': False, 'community_icon': '', 'banner_img': 'https://styles.redditmedia.com/t5_nozi9/styles/profileBanner_y1kmji25trh21.jpg?width=1280&height=384&crop=1280:384,smart&s=bee6483ad3b1ff6eaf22323a900382225590fb23', 'default_set': True, 'name': 't5_nozi9', 'is_default_icon': False, 'user_is_subscriber': False, 'user_is_moderator': False, 'title': 'LaRiotNerd', 'over_18': False, 'icon_color': '', 'url': '/user/LaRiotNerd/', 'link_flair_position': '', 'display_name_prefixed': 'u/LaRiotNerd', 'header_img': None, 'key_color': ''}, 'hide_from_robots': False, 'verified': True, 'id': '229i59xq', 'created_utc': 1535232832.0, 'link_karma': 3, 'name': 'LaRiotNerd', 'pref_show_snoovatar': False, 'is_friend': False, 'is_mod': False, 'has_subscribed': True, 'is_gold': False, 'comment_karma': 143}\n",
      "Sending a message to user LaRiotNerd with data {'username': 'LaRiotNerd', 'url': 'https://docs.google.com/forms/d/e/1FAIpQLSc1Atz_YmZVZIBILyVRsnZYHT3KrGqEseM-oUyz6dLllEfcVg/viewform?usp=pp_url&entry.360321409=LaRiotNerd', 'deleted': False, 'get_info_date': '2019-03-23 13:48:05.904546'}\n"
     ]
    },
    {
     "name": "stderr",
     "output_type": "stream",
     "text": [
      "substituting https://oauth.reddit.com for https://api.reddit.com in url\n",
      "GET: https://oauth.reddit.com/user/LaRiotNerd/about/.json\n",
      "substituting https://oauth.reddit.com for https://api.reddit.com in url\n",
      "POST: https://oauth.reddit.com/api/compose/.json\n"
     ]
    },
    {
     "name": "stdout",
     "output_type": "stream",
     "text": [
      "Message successfully sent to user LaRiotNerd\n",
      "APPENDING TO FILE: {'username': 'LaRiotNerd', 'url': 'https://docs.google.com/forms/d/e/1FAIpQLSc1Atz_YmZVZIBILyVRsnZYHT3KrGqEseM-oUyz6dLllEfcVg/viewform?usp=pp_url&entry.360321409=LaRiotNerd', 'deleted': False, 'get_info_date': '2019-03-23 13:48:05.904546'}\n",
      "url: https://docs.google.com/forms/d/e/1FAIpQLSc1Atz_YmZVZIBILyVRsnZYHT3KrGqEseM-oUyz6dLllEfcVg/viewform?usp=pp_url&entry.360321409=LaRiotNerd\n",
      "get_info_data: 2019-03-23 13:48:05.904546\n",
      "deleted: False\n",
      "User Complex_person found: {'has_verified_email': True, 'is_employee': False, 'created': 1551924718.0, 'icon_img': 'https://www.redditstatic.com/avatars/avatar_default_01_A5A4A4.png', 'subreddit': {'description': '', 'icon_size': [256, 256], 'public_description': '', 'link_flair_enabled': False, 'icon_img': 'https://www.redditstatic.com/avatars/avatar_default_01_A5A4A4.png', 'subreddit_type': 'user', 'is_default_banner': True, 'banner_size': None, 'display_name': 'u_Complex_person', 'free_form_reports': True, 'user_is_muted': False, 'header_size': None, 'primary_color': '', 'user_is_banned': False, 'subscribers': 0, 'show_media': True, 'user_is_contributor': False, 'community_icon': '', 'banner_img': '', 'default_set': True, 'name': 't5_xpr8n', 'is_default_icon': True, 'user_is_subscriber': False, 'user_is_moderator': False, 'title': '', 'over_18': False, 'icon_color': '#A5A4A4', 'url': '/user/Complex_person/', 'link_flair_position': '', 'display_name_prefixed': 'u/Complex_person', 'header_img': None, 'key_color': ''}, 'hide_from_robots': False, 'verified': True, 'id': '3cysy53g', 'created_utc': 1551924718.0, 'link_karma': 1, 'name': 'Complex_person', 'pref_show_snoovatar': False, 'is_friend': False, 'is_mod': False, 'has_subscribed': True, 'is_gold': False, 'comment_karma': 0}\n",
      "Sending a message to user Complex_person with data {'username': 'Complex_person', 'url': 'https://docs.google.com/forms/d/e/1FAIpQLSc1Atz_YmZVZIBILyVRsnZYHT3KrGqEseM-oUyz6dLllEfcVg/viewform?usp=pp_url&entry.360321409=Complex_person', 'deleted': False, 'get_info_date': '2019-03-23 13:48:10.194401'}\n"
     ]
    },
    {
     "name": "stderr",
     "output_type": "stream",
     "text": [
      "substituting https://oauth.reddit.com for https://api.reddit.com in url\n",
      "GET: https://oauth.reddit.com/user/Complex_person/about/.json\n",
      "substituting https://oauth.reddit.com for https://api.reddit.com in url\n",
      "POST: https://oauth.reddit.com/api/compose/.json\n"
     ]
    },
    {
     "name": "stdout",
     "output_type": "stream",
     "text": [
      "Message successfully sent to user Complex_person\n",
      "APPENDING TO FILE: {'username': 'Complex_person', 'url': 'https://docs.google.com/forms/d/e/1FAIpQLSc1Atz_YmZVZIBILyVRsnZYHT3KrGqEseM-oUyz6dLllEfcVg/viewform?usp=pp_url&entry.360321409=Complex_person', 'deleted': False, 'get_info_date': '2019-03-23 13:48:10.194401'}\n",
      "url: https://docs.google.com/forms/d/e/1FAIpQLSc1Atz_YmZVZIBILyVRsnZYHT3KrGqEseM-oUyz6dLllEfcVg/viewform?usp=pp_url&entry.360321409=Complex_person\n",
      "get_info_data: 2019-03-23 13:48:10.194401\n",
      "deleted: False\n",
      "User Political_Penny found: {'has_verified_email': False, 'is_employee': False, 'created': 1551830216.0, 'icon_img': 'https://www.redditstatic.com/avatars/avatar_default_14_7193FF.png', 'subreddit': {'description': '', 'icon_size': [256, 256], 'public_description': '', 'link_flair_enabled': False, 'icon_img': 'https://www.redditstatic.com/avatars/avatar_default_14_7193FF.png', 'subreddit_type': 'user', 'is_default_banner': True, 'banner_size': None, 'display_name': 'u_Political_Penny', 'free_form_reports': True, 'user_is_muted': False, 'header_size': None, 'primary_color': '', 'user_is_banned': False, 'subscribers': 0, 'show_media': True, 'user_is_contributor': False, 'community_icon': '', 'banner_img': '', 'default_set': True, 'name': 't5_xnl39', 'is_default_icon': True, 'user_is_subscriber': False, 'user_is_moderator': False, 'title': '', 'over_18': False, 'icon_color': '#7193FF', 'url': '/user/Political_Penny/', 'link_flair_position': '', 'display_name_prefixed': 'u/Political_Penny', 'header_img': None, 'key_color': ''}, 'hide_from_robots': False, 'verified': True, 'id': '3cpod9g1', 'created_utc': 1551830216.0, 'link_karma': 1, 'name': 'Political_Penny', 'pref_show_snoovatar': False, 'is_friend': False, 'is_mod': False, 'has_subscribed': True, 'is_gold': False, 'comment_karma': -15}\n",
      "Sending a message to user Political_Penny with data {'username': 'Political_Penny', 'url': 'https://docs.google.com/forms/d/e/1FAIpQLSc1Atz_YmZVZIBILyVRsnZYHT3KrGqEseM-oUyz6dLllEfcVg/viewform?usp=pp_url&entry.360321409=Political_Penny', 'deleted': False, 'get_info_date': '2019-03-23 13:48:14.312562'}\n"
     ]
    },
    {
     "name": "stderr",
     "output_type": "stream",
     "text": [
      "substituting https://oauth.reddit.com for https://api.reddit.com in url\n",
      "GET: https://oauth.reddit.com/user/Political_Penny/about/.json\n",
      "substituting https://oauth.reddit.com for https://api.reddit.com in url\n",
      "POST: https://oauth.reddit.com/api/compose/.json\n"
     ]
    },
    {
     "name": "stdout",
     "output_type": "stream",
     "text": [
      "Message successfully sent to user Political_Penny\n",
      "APPENDING TO FILE: {'username': 'Political_Penny', 'url': 'https://docs.google.com/forms/d/e/1FAIpQLSc1Atz_YmZVZIBILyVRsnZYHT3KrGqEseM-oUyz6dLllEfcVg/viewform?usp=pp_url&entry.360321409=Political_Penny', 'deleted': False, 'get_info_date': '2019-03-23 13:48:14.312562'}\n",
      "url: https://docs.google.com/forms/d/e/1FAIpQLSc1Atz_YmZVZIBILyVRsnZYHT3KrGqEseM-oUyz6dLllEfcVg/viewform?usp=pp_url&entry.360321409=Political_Penny\n",
      "get_info_data: 2019-03-23 13:48:14.312562\n",
      "deleted: False\n",
      "User MaureenCadwallen found: {'has_verified_email': False, 'is_employee': False, 'created': 1487427385.0, 'icon_img': 'https://www.redditstatic.com/avatars/avatar_default_14_46D160.png', 'subreddit': None, 'hide_from_robots': False, 'verified': False, 'id': '15iq9t', 'created_utc': 1487427385.0, 'link_karma': 1, 'name': 'MaureenCadwallen', 'pref_show_snoovatar': False, 'is_friend': False, 'is_mod': False, 'has_subscribed': True, 'is_gold': False, 'comment_karma': 92}\n",
      "Sending a message to user MaureenCadwallen with data {'username': 'MaureenCadwallen', 'url': 'https://docs.google.com/forms/d/e/1FAIpQLSc1Atz_YmZVZIBILyVRsnZYHT3KrGqEseM-oUyz6dLllEfcVg/viewform?usp=pp_url&entry.360321409=MaureenCadwallen', 'deleted': False, 'get_info_date': '2019-03-23 13:48:18.517647'}\n"
     ]
    },
    {
     "name": "stderr",
     "output_type": "stream",
     "text": [
      "substituting https://oauth.reddit.com for https://api.reddit.com in url\n",
      "GET: https://oauth.reddit.com/user/MaureenCadwallen/about/.json\n",
      "substituting https://oauth.reddit.com for https://api.reddit.com in url\n",
      "POST: https://oauth.reddit.com/api/compose/.json\n"
     ]
    },
    {
     "name": "stdout",
     "output_type": "stream",
     "text": [
      "Message successfully sent to user MaureenCadwallen\n",
      "APPENDING TO FILE: {'username': 'MaureenCadwallen', 'url': 'https://docs.google.com/forms/d/e/1FAIpQLSc1Atz_YmZVZIBILyVRsnZYHT3KrGqEseM-oUyz6dLllEfcVg/viewform?usp=pp_url&entry.360321409=MaureenCadwallen', 'deleted': False, 'get_info_date': '2019-03-23 13:48:18.517647'}\n",
      "url: https://docs.google.com/forms/d/e/1FAIpQLSc1Atz_YmZVZIBILyVRsnZYHT3KrGqEseM-oUyz6dLllEfcVg/viewform?usp=pp_url&entry.360321409=MaureenCadwallen\n",
      "get_info_data: 2019-03-23 13:48:18.517647\n",
      "deleted: False\n",
      "User Cobby_K found: {'has_verified_email': False, 'is_employee': False, 'created': 1535677185.0, 'icon_img': 'https://www.redditstatic.com/avatars/avatar_default_15_46D160.png', 'subreddit': {'description': '', 'icon_size': [256, 256], 'public_description': '', 'link_flair_enabled': False, 'icon_img': 'https://www.redditstatic.com/avatars/avatar_default_15_46D160.png', 'subreddit_type': 'user', 'is_default_banner': True, 'banner_size': None, 'display_name': 'u_Cobby_K', 'free_form_reports': True, 'user_is_muted': False, 'header_size': None, 'primary_color': '', 'user_is_banned': False, 'subscribers': 0, 'show_media': True, 'user_is_contributor': False, 'community_icon': '', 'banner_img': '', 'default_set': True, 'name': 't5_nxfdl', 'is_default_icon': True, 'user_is_subscriber': False, 'user_is_moderator': False, 'title': '', 'over_18': False, 'icon_color': '#46D160', 'url': '/user/Cobby_K/', 'link_flair_position': '', 'display_name_prefixed': 'u/Cobby_K', 'header_img': None, 'key_color': ''}, 'hide_from_robots': False, 'verified': True, 'id': '23o7b8m2', 'created_utc': 1535677185.0, 'link_karma': 1, 'name': 'Cobby_K', 'pref_show_snoovatar': False, 'is_friend': False, 'is_mod': False, 'has_subscribed': True, 'is_gold': False, 'comment_karma': 9}\n",
      "Sending a message to user Cobby_K with data {'username': 'Cobby_K', 'url': 'https://docs.google.com/forms/d/e/1FAIpQLSc1Atz_YmZVZIBILyVRsnZYHT3KrGqEseM-oUyz6dLllEfcVg/viewform?usp=pp_url&entry.360321409=Cobby_K', 'deleted': False, 'get_info_date': '2019-03-23 13:48:22.701527'}\n"
     ]
    },
    {
     "name": "stderr",
     "output_type": "stream",
     "text": [
      "substituting https://oauth.reddit.com for https://api.reddit.com in url\n",
      "GET: https://oauth.reddit.com/user/Cobby_K/about/.json\n",
      "substituting https://oauth.reddit.com for https://api.reddit.com in url\n",
      "POST: https://oauth.reddit.com/api/compose/.json\n"
     ]
    },
    {
     "name": "stdout",
     "output_type": "stream",
     "text": [
      "Message successfully sent to user Cobby_K\n",
      "APPENDING TO FILE: {'username': 'Cobby_K', 'url': 'https://docs.google.com/forms/d/e/1FAIpQLSc1Atz_YmZVZIBILyVRsnZYHT3KrGqEseM-oUyz6dLllEfcVg/viewform?usp=pp_url&entry.360321409=Cobby_K', 'deleted': False, 'get_info_date': '2019-03-23 13:48:22.701527'}\n",
      "url: https://docs.google.com/forms/d/e/1FAIpQLSc1Atz_YmZVZIBILyVRsnZYHT3KrGqEseM-oUyz6dLllEfcVg/viewform?usp=pp_url&entry.360321409=Cobby_K\n",
      "get_info_data: 2019-03-23 13:48:22.701527\n",
      "deleted: False\n",
      "User ptrippe found: {'has_verified_email': False, 'is_employee': False, 'created': 1549987953.0, 'icon_img': 'https://www.redditstatic.com/avatars/avatar_default_18_DDBD37.png', 'subreddit': {'description': '', 'icon_size': [256, 256], 'public_description': '', 'link_flair_enabled': False, 'icon_img': 'https://www.redditstatic.com/avatars/avatar_default_18_DDBD37.png', 'subreddit_type': 'user', 'is_default_banner': True, 'banner_size': None, 'display_name': 'u_ptrippe', 'free_form_reports': True, 'user_is_muted': False, 'header_size': None, 'primary_color': '', 'user_is_banned': False, 'subscribers': 0, 'show_media': True, 'user_is_contributor': False, 'community_icon': '', 'banner_img': '', 'default_set': True, 'name': 't5_wg32t', 'is_default_icon': True, 'user_is_subscriber': False, 'user_is_moderator': False, 'title': 'Icolorrocks ', 'over_18': False, 'icon_color': '#DDBD37', 'url': '/user/ptrippe/', 'link_flair_position': '', 'display_name_prefixed': 'u/ptrippe', 'header_img': None, 'key_color': ''}, 'hide_from_robots': False, 'verified': True, 'id': '37k90hul', 'created_utc': 1549987953.0, 'link_karma': 12, 'name': 'ptrippe', 'pref_show_snoovatar': False, 'is_friend': False, 'is_mod': False, 'has_subscribed': True, 'is_gold': False, 'comment_karma': 13}\n",
      "Sending a message to user ptrippe with data {'username': 'ptrippe', 'url': 'https://docs.google.com/forms/d/e/1FAIpQLSc1Atz_YmZVZIBILyVRsnZYHT3KrGqEseM-oUyz6dLllEfcVg/viewform?usp=pp_url&entry.360321409=ptrippe', 'deleted': False, 'get_info_date': '2019-03-23 13:48:26.892201'}\n"
     ]
    },
    {
     "name": "stderr",
     "output_type": "stream",
     "text": [
      "substituting https://oauth.reddit.com for https://api.reddit.com in url\n",
      "GET: https://oauth.reddit.com/user/ptrippe/about/.json\n",
      "substituting https://oauth.reddit.com for https://api.reddit.com in url\n",
      "POST: https://oauth.reddit.com/api/compose/.json\n"
     ]
    },
    {
     "name": "stdout",
     "output_type": "stream",
     "text": [
      "Message successfully sent to user ptrippe\n",
      "APPENDING TO FILE: {'username': 'ptrippe', 'url': 'https://docs.google.com/forms/d/e/1FAIpQLSc1Atz_YmZVZIBILyVRsnZYHT3KrGqEseM-oUyz6dLllEfcVg/viewform?usp=pp_url&entry.360321409=ptrippe', 'deleted': False, 'get_info_date': '2019-03-23 13:48:26.892201'}\n",
      "url: https://docs.google.com/forms/d/e/1FAIpQLSc1Atz_YmZVZIBILyVRsnZYHT3KrGqEseM-oUyz6dLllEfcVg/viewform?usp=pp_url&entry.360321409=ptrippe\n",
      "get_info_data: 2019-03-23 13:48:26.892201\n",
      "deleted: False\n",
      "User hallelujahunagh found: {'has_verified_email': False, 'is_employee': False, 'created': 1480917701.0, 'icon_img': 'https://www.redditstatic.com/avatars/avatar_default_13_A06A42.png', 'subreddit': {'description': '', 'icon_size': [256, 256], 'public_description': '', 'link_flair_enabled': False, 'icon_img': 'https://www.redditstatic.com/avatars/avatar_default_13_A06A42.png', 'subreddit_type': 'user', 'is_default_banner': True, 'banner_size': None, 'display_name': 'u_hallelujahunagh', 'free_form_reports': True, 'user_is_muted': False, 'header_size': None, 'primary_color': '', 'user_is_banned': False, 'subscribers': 0, 'show_media': True, 'user_is_contributor': False, 'community_icon': '', 'banner_img': '', 'default_set': True, 'name': 't5_cwcte', 'is_default_icon': True, 'user_is_subscriber': False, 'user_is_moderator': False, 'title': '', 'over_18': False, 'icon_color': '#A06A42', 'url': '/user/hallelujahunagh/', 'link_flair_position': '', 'display_name_prefixed': 'u/hallelujahunagh', 'header_img': None, 'key_color': ''}, 'hide_from_robots': False, 'verified': True, 'id': '13bqzg', 'created_utc': 1480917701.0, 'link_karma': 1, 'name': 'hallelujahunagh', 'pref_show_snoovatar': False, 'is_friend': False, 'is_mod': False, 'has_subscribed': True, 'is_gold': False, 'comment_karma': 0}\n",
      "Sending a message to user hallelujahunagh with data {'username': 'hallelujahunagh', 'url': 'https://docs.google.com/forms/d/e/1FAIpQLSc1Atz_YmZVZIBILyVRsnZYHT3KrGqEseM-oUyz6dLllEfcVg/viewform?usp=pp_url&entry.360321409=hallelujahunagh', 'deleted': False, 'get_info_date': '2019-03-23 13:48:31.259084'}\n"
     ]
    },
    {
     "name": "stderr",
     "output_type": "stream",
     "text": [
      "substituting https://oauth.reddit.com for https://api.reddit.com in url\n",
      "GET: https://oauth.reddit.com/user/hallelujahunagh/about/.json\n",
      "substituting https://oauth.reddit.com for https://api.reddit.com in url\n",
      "POST: https://oauth.reddit.com/api/compose/.json\n"
     ]
    },
    {
     "name": "stdout",
     "output_type": "stream",
     "text": [
      "Message successfully sent to user hallelujahunagh\n",
      "APPENDING TO FILE: {'username': 'hallelujahunagh', 'url': 'https://docs.google.com/forms/d/e/1FAIpQLSc1Atz_YmZVZIBILyVRsnZYHT3KrGqEseM-oUyz6dLllEfcVg/viewform?usp=pp_url&entry.360321409=hallelujahunagh', 'deleted': False, 'get_info_date': '2019-03-23 13:48:31.259084'}\n",
      "url: https://docs.google.com/forms/d/e/1FAIpQLSc1Atz_YmZVZIBILyVRsnZYHT3KrGqEseM-oUyz6dLllEfcVg/viewform?usp=pp_url&entry.360321409=hallelujahunagh\n",
      "get_info_data: 2019-03-23 13:48:31.259084\n",
      "deleted: False\n",
      "User widetilde found: {'has_verified_email': True, 'is_employee': False, 'created': 1551822791.0, 'icon_img': 'https://www.redditstatic.com/avatars/avatar_default_15_FF4500.png', 'subreddit': {'description': '', 'icon_size': [256, 256], 'public_description': '', 'link_flair_enabled': False, 'icon_img': 'https://www.redditstatic.com/avatars/avatar_default_15_FF4500.png', 'subreddit_type': 'user', 'is_default_banner': True, 'banner_size': None, 'display_name': 'u_widetilde', 'free_form_reports': True, 'user_is_muted': False, 'header_size': None, 'primary_color': '', 'user_is_banned': False, 'subscribers': 0, 'show_media': True, 'user_is_contributor': False, 'community_icon': '', 'banner_img': '', 'default_set': True, 'name': 't5_xnegd', 'is_default_icon': True, 'user_is_subscriber': False, 'user_is_moderator': False, 'title': '', 'over_18': False, 'icon_color': '#FF4500', 'url': '/user/widetilde/', 'link_flair_position': '', 'display_name_prefixed': 'u/widetilde', 'header_img': None, 'key_color': ''}, 'hide_from_robots': False, 'verified': True, 'id': 'r7jd7p6', 'created_utc': 1551822791.0, 'link_karma': 1, 'name': 'widetilde', 'pref_show_snoovatar': False, 'is_friend': False, 'is_mod': False, 'has_subscribed': True, 'is_gold': False, 'comment_karma': 1}\n",
      "Sending a message to user widetilde with data {'username': 'widetilde', 'url': 'https://docs.google.com/forms/d/e/1FAIpQLSc1Atz_YmZVZIBILyVRsnZYHT3KrGqEseM-oUyz6dLllEfcVg/viewform?usp=pp_url&entry.360321409=widetilde', 'deleted': False, 'get_info_date': '2019-03-23 13:48:35.523059'}\n"
     ]
    },
    {
     "name": "stderr",
     "output_type": "stream",
     "text": [
      "substituting https://oauth.reddit.com for https://api.reddit.com in url\n",
      "GET: https://oauth.reddit.com/user/widetilde/about/.json\n",
      "substituting https://oauth.reddit.com for https://api.reddit.com in url\n",
      "POST: https://oauth.reddit.com/api/compose/.json\n"
     ]
    },
    {
     "name": "stdout",
     "output_type": "stream",
     "text": [
      "Message successfully sent to user widetilde\n",
      "APPENDING TO FILE: {'username': 'widetilde', 'url': 'https://docs.google.com/forms/d/e/1FAIpQLSc1Atz_YmZVZIBILyVRsnZYHT3KrGqEseM-oUyz6dLllEfcVg/viewform?usp=pp_url&entry.360321409=widetilde', 'deleted': False, 'get_info_date': '2019-03-23 13:48:35.523059'}\n",
      "url: https://docs.google.com/forms/d/e/1FAIpQLSc1Atz_YmZVZIBILyVRsnZYHT3KrGqEseM-oUyz6dLllEfcVg/viewform?usp=pp_url&entry.360321409=widetilde\n",
      "get_info_data: 2019-03-23 13:48:35.523059\n",
      "deleted: False\n",
      "User basqueX found: {'has_verified_email': True, 'is_employee': False, 'created': 1325140070.0, 'icon_img': 'https://www.redditstatic.com/avatars/avatar_default_09_FF66AC.png', 'subreddit': {'description': '', 'icon_size': [256, 256], 'public_description': '', 'link_flair_enabled': False, 'icon_img': 'https://www.redditstatic.com/avatars/avatar_default_09_FF66AC.png', 'subreddit_type': 'user', 'is_default_banner': True, 'banner_size': None, 'display_name': 'u_basqueX', 'free_form_reports': True, 'user_is_muted': False, 'header_size': None, 'primary_color': '', 'user_is_banned': False, 'subscribers': 0, 'show_media': True, 'user_is_contributor': False, 'community_icon': '', 'banner_img': '', 'default_set': True, 'name': 't5_b26zv', 'is_default_icon': True, 'user_is_subscriber': False, 'user_is_moderator': False, 'title': '', 'over_18': False, 'icon_color': '#FF66AC', 'url': '/user/basqueX/', 'link_flair_position': '', 'display_name_prefixed': 'u/basqueX', 'header_img': None, 'key_color': ''}, 'hide_from_robots': False, 'verified': True, 'id': '6jaz8', 'created_utc': 1325140070.0, 'link_karma': 21587, 'name': 'basqueX', 'pref_show_snoovatar': False, 'is_friend': False, 'is_mod': False, 'has_subscribed': True, 'is_gold': False, 'comment_karma': 35666}\n",
      "Sending a message to user basqueX with data {'username': 'basqueX', 'url': 'https://docs.google.com/forms/d/e/1FAIpQLSc1Atz_YmZVZIBILyVRsnZYHT3KrGqEseM-oUyz6dLllEfcVg/viewform?usp=pp_url&entry.360321409=basqueX', 'deleted': False, 'get_info_date': '2019-03-23 13:48:39.689983'}\n"
     ]
    },
    {
     "name": "stderr",
     "output_type": "stream",
     "text": [
      "substituting https://oauth.reddit.com for https://api.reddit.com in url\n",
      "GET: https://oauth.reddit.com/user/basqueX/about/.json\n",
      "substituting https://oauth.reddit.com for https://api.reddit.com in url\n",
      "POST: https://oauth.reddit.com/api/compose/.json\n"
     ]
    },
    {
     "name": "stdout",
     "output_type": "stream",
     "text": [
      "Message successfully sent to user basqueX\n",
      "APPENDING TO FILE: {'username': 'basqueX', 'url': 'https://docs.google.com/forms/d/e/1FAIpQLSc1Atz_YmZVZIBILyVRsnZYHT3KrGqEseM-oUyz6dLllEfcVg/viewform?usp=pp_url&entry.360321409=basqueX', 'deleted': False, 'get_info_date': '2019-03-23 13:48:39.689983'}\n",
      "url: https://docs.google.com/forms/d/e/1FAIpQLSc1Atz_YmZVZIBILyVRsnZYHT3KrGqEseM-oUyz6dLllEfcVg/viewform?usp=pp_url&entry.360321409=basqueX\n",
      "get_info_data: 2019-03-23 13:48:39.689983\n",
      "deleted: False\n",
      "User sandy_cheeki_breeki found: {'has_verified_email': False, 'is_employee': False, 'created': 1548516212.0, 'icon_img': 'https://www.redditstatic.com/avatars/avatar_default_12_0079D3.png', 'subreddit': {'description': '', 'icon_size': [256, 256], 'public_description': '', 'link_flair_enabled': False, 'icon_img': 'https://www.redditstatic.com/avatars/avatar_default_12_0079D3.png', 'subreddit_type': 'user', 'is_default_banner': True, 'banner_size': None, 'display_name': 'u_sandy_cheeki_breeki', 'free_form_reports': True, 'user_is_muted': False, 'header_size': None, 'primary_color': '', 'user_is_banned': False, 'subscribers': 0, 'show_media': True, 'user_is_contributor': False, 'community_icon': '', 'banner_img': '', 'default_set': True, 'name': 't5_verue', 'is_default_icon': True, 'user_is_subscriber': False, 'user_is_moderator': False, 'title': '', 'over_18': False, 'icon_color': '#0079D3', 'url': '/user/sandy_cheeki_breeki/', 'link_flair_position': '', 'display_name_prefixed': 'u/sandy_cheeki_breeki', 'header_img': None, 'key_color': ''}, 'hide_from_robots': False, 'verified': True, 'id': '335orgkn', 'created_utc': 1548516212.0, 'link_karma': 1, 'name': 'sandy_cheeki_breeki', 'pref_show_snoovatar': False, 'is_friend': False, 'is_mod': False, 'has_subscribed': True, 'is_gold': False, 'comment_karma': 3}\n",
      "Sending a message to user sandy_cheeki_breeki with data {'username': 'sandy_cheeki_breeki', 'url': 'https://docs.google.com/forms/d/e/1FAIpQLSc1Atz_YmZVZIBILyVRsnZYHT3KrGqEseM-oUyz6dLllEfcVg/viewform?usp=pp_url&entry.360321409=sandy_cheeki_breeki', 'deleted': False, 'get_info_date': '2019-03-23 13:48:43.778756'}\n"
     ]
    },
    {
     "name": "stderr",
     "output_type": "stream",
     "text": [
      "substituting https://oauth.reddit.com for https://api.reddit.com in url\n",
      "GET: https://oauth.reddit.com/user/sandy_cheeki_breeki/about/.json\n",
      "substituting https://oauth.reddit.com for https://api.reddit.com in url\n",
      "POST: https://oauth.reddit.com/api/compose/.json\n"
     ]
    },
    {
     "name": "stdout",
     "output_type": "stream",
     "text": [
      "Message successfully sent to user sandy_cheeki_breeki\n",
      "APPENDING TO FILE: {'username': 'sandy_cheeki_breeki', 'url': 'https://docs.google.com/forms/d/e/1FAIpQLSc1Atz_YmZVZIBILyVRsnZYHT3KrGqEseM-oUyz6dLllEfcVg/viewform?usp=pp_url&entry.360321409=sandy_cheeki_breeki', 'deleted': False, 'get_info_date': '2019-03-23 13:48:43.778756'}\n",
      "url: https://docs.google.com/forms/d/e/1FAIpQLSc1Atz_YmZVZIBILyVRsnZYHT3KrGqEseM-oUyz6dLllEfcVg/viewform?usp=pp_url&entry.360321409=sandy_cheeki_breeki\n",
      "get_info_data: 2019-03-23 13:48:43.778756\n",
      "deleted: False\n",
      "User islcastaway1986 found: {'has_verified_email': True, 'is_employee': False, 'created': 1432941680.0, 'icon_img': 'https://www.redditstatic.com/avatars/avatar_default_07_0079D3.png', 'subreddit': None, 'hide_from_robots': False, 'verified': False, 'id': 'nsk5a', 'created_utc': 1432941680.0, 'link_karma': 25, 'name': 'islcastaway1986', 'pref_show_snoovatar': False, 'is_friend': False, 'is_mod': False, 'has_subscribed': True, 'is_gold': False, 'comment_karma': 27}\n",
      "Sending a message to user islcastaway1986 with data {'username': 'islcastaway1986', 'url': 'https://docs.google.com/forms/d/e/1FAIpQLSc1Atz_YmZVZIBILyVRsnZYHT3KrGqEseM-oUyz6dLllEfcVg/viewform?usp=pp_url&entry.360321409=islcastaway1986', 'deleted': False, 'get_info_date': '2019-03-23 13:48:47.883363'}\n"
     ]
    },
    {
     "name": "stderr",
     "output_type": "stream",
     "text": [
      "substituting https://oauth.reddit.com for https://api.reddit.com in url\n",
      "GET: https://oauth.reddit.com/user/islcastaway1986/about/.json\n",
      "substituting https://oauth.reddit.com for https://api.reddit.com in url\n",
      "POST: https://oauth.reddit.com/api/compose/.json\n"
     ]
    },
    {
     "name": "stdout",
     "output_type": "stream",
     "text": [
      "Message successfully sent to user islcastaway1986\n",
      "APPENDING TO FILE: {'username': 'islcastaway1986', 'url': 'https://docs.google.com/forms/d/e/1FAIpQLSc1Atz_YmZVZIBILyVRsnZYHT3KrGqEseM-oUyz6dLllEfcVg/viewform?usp=pp_url&entry.360321409=islcastaway1986', 'deleted': False, 'get_info_date': '2019-03-23 13:48:47.883363'}\n",
      "url: https://docs.google.com/forms/d/e/1FAIpQLSc1Atz_YmZVZIBILyVRsnZYHT3KrGqEseM-oUyz6dLllEfcVg/viewform?usp=pp_url&entry.360321409=islcastaway1986\n",
      "get_info_data: 2019-03-23 13:48:47.883363\n",
      "deleted: False\n",
      "User SeniorOctopod found: {'has_verified_email': True, 'is_employee': False, 'created': 1548264942.0, 'icon_img': 'https://www.redditstatic.com/avatars/avatar_default_01_94E044.png', 'subreddit': {'description': '', 'icon_size': [256, 256], 'public_description': '', 'link_flair_enabled': False, 'icon_img': 'https://www.redditstatic.com/avatars/avatar_default_01_94E044.png', 'subreddit_type': 'user', 'is_default_banner': True, 'banner_size': None, 'display_name': 'u_SeniorOctopod', 'free_form_reports': True, 'user_is_muted': False, 'header_size': None, 'primary_color': '', 'user_is_banned': False, 'subscribers': 0, 'show_media': True, 'user_is_contributor': False, 'community_icon': '', 'banner_img': '', 'default_set': True, 'name': 't5_v8m1r', 'is_default_icon': True, 'user_is_subscriber': False, 'user_is_moderator': False, 'title': '', 'over_18': False, 'icon_color': '#94E044', 'url': '/user/SeniorOctopod/', 'link_flair_position': '', 'display_name_prefixed': 'u/SeniorOctopod', 'header_img': None, 'key_color': ''}, 'hide_from_robots': False, 'verified': True, 'id': '2ze8p3k8', 'created_utc': 1548264942.0, 'link_karma': 1, 'name': 'SeniorOctopod', 'pref_show_snoovatar': False, 'is_friend': False, 'is_mod': False, 'has_subscribed': True, 'is_gold': False, 'comment_karma': 1}\n",
      "Sending a message to user SeniorOctopod with data {'username': 'SeniorOctopod', 'url': 'https://docs.google.com/forms/d/e/1FAIpQLSc1Atz_YmZVZIBILyVRsnZYHT3KrGqEseM-oUyz6dLllEfcVg/viewform?usp=pp_url&entry.360321409=SeniorOctopod', 'deleted': False, 'get_info_date': '2019-03-23 13:48:52.137569'}\n"
     ]
    },
    {
     "name": "stderr",
     "output_type": "stream",
     "text": [
      "substituting https://oauth.reddit.com for https://api.reddit.com in url\n",
      "GET: https://oauth.reddit.com/user/SeniorOctopod/about/.json\n",
      "substituting https://oauth.reddit.com for https://api.reddit.com in url\n",
      "POST: https://oauth.reddit.com/api/compose/.json\n"
     ]
    },
    {
     "name": "stdout",
     "output_type": "stream",
     "text": [
      "Message successfully sent to user SeniorOctopod\n",
      "APPENDING TO FILE: {'username': 'SeniorOctopod', 'url': 'https://docs.google.com/forms/d/e/1FAIpQLSc1Atz_YmZVZIBILyVRsnZYHT3KrGqEseM-oUyz6dLllEfcVg/viewform?usp=pp_url&entry.360321409=SeniorOctopod', 'deleted': False, 'get_info_date': '2019-03-23 13:48:52.137569'}\n",
      "url: https://docs.google.com/forms/d/e/1FAIpQLSc1Atz_YmZVZIBILyVRsnZYHT3KrGqEseM-oUyz6dLllEfcVg/viewform?usp=pp_url&entry.360321409=SeniorOctopod\n",
      "get_info_data: 2019-03-23 13:48:52.137569\n",
      "deleted: False\n"
     ]
    }
   ],
   "source": [
    "for username in eligible_usernames:\n",
    "    decide_and_send_to_user(username)"
   ]
  },
  {
   "cell_type": "code",
   "execution_count": null,
   "metadata": {},
   "outputs": [],
   "source": []
  }
 ],
 "metadata": {
  "kernelspec": {
   "display_name": "Python 3",
   "language": "python",
   "name": "python3"
  },
  "language_info": {
   "codemirror_mode": {
    "name": "ipython",
    "version": 3
   },
   "file_extension": ".py",
   "mimetype": "text/x-python",
   "name": "python",
   "nbconvert_exporter": "python",
   "pygments_lexer": "ipython3",
   "version": "3.5.2"
  }
 },
 "nbformat": 4,
 "nbformat_minor": 1
}
