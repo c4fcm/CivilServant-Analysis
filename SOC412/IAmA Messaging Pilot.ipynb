{
 "cells": [
  {
   "cell_type": "code",
   "execution_count": 85,
   "metadata": {},
   "outputs": [
    {
     "name": "stderr",
     "output_type": "stream",
     "text": [
      "substituting https://oauth.reddit.com for https://api.reddit.com in url\n",
      "GET: https://oauth.reddit.com/api/v1/me.json\n",
      "POST: https://api.reddit.com/api/v1/access_token/\n",
      "substituting https://oauth.reddit.com for https://api.reddit.com in url\n",
      "GET: https://oauth.reddit.com/api/v1/me.json\n",
      "substituting https://oauth.reddit.com for https://api.reddit.com in url\n",
      "GET: https://oauth.reddit.com/api/v1/me.json\n"
     ]
    }
   ],
   "source": [
    "%matplotlib inline\n",
    "import inspect, os, sys, copy, pytz, re, glob, random, praw, csv, math\n",
    "import simplejson as json\n",
    "import pandas as pd\n",
    "from dateutil import parser\n",
    "import datetime\n",
    "import matplotlib.pyplot as plt   # Matplotlib for plotting\n",
    "import matplotlib.dates as md\n",
    "import numpy as np\n",
    "import seaborn as sns\n",
    "from collections import Counter, defaultdict\n",
    "import re, urllib\n",
    "\n",
    "from pathlib import Path\n",
    "from datetime import datetime\n",
    "import logging\n",
    "\n",
    "utc=pytz.UTC\n",
    "\n",
    "ENV = \"production\"\n",
    "os.environ['CS_ENV'] = 'production'\n",
    "BASE_DIR = \"/home/nathan/CivilServant\"\n",
    "FILE_BASE_DIR=\"/home/nathan/reddit_archive/\"\n",
    "sys.path.append(BASE_DIR)\n",
    "subreddit_id = \"2qr7i\"\n",
    "\n",
    "LOG_PATH = str(Path(BASE_DIR, \"logs\", \"praw_messenger_%s.log\" % ENV))\n",
    "logging.basicConfig(filename=LOG_PATH, level=logging.INFO)\n",
    "logging.getLogger().addHandler(logging.StreamHandler(sys.stdout))\n",
    "\n",
    "ARCHIVE_DIR = \"/home/nathan/reddit_archive/03.2017\"\n",
    "\n",
    "with open(os.path.join(BASE_DIR, \"config\") + \"/{env}.json\".format(env=ENV), \"r\") as config:\n",
    "  DBCONFIG = json.loads(config.read())\n",
    "\n",
    "### LOAD SQLALCHEMY\n",
    "from sqlalchemy import create_engine\n",
    "from sqlalchemy.orm import sessionmaker\n",
    "from sqlalchemy import text, and_, or_\n",
    "from app.models import Base, SubredditPage, FrontPage, Subreddit, Post, ModAction, Experiment\n",
    "from utils.common import PageType\n",
    "\n",
    "db_engine = create_engine(\"mysql://{user}:{password}@{host}/{database}\".format(\n",
    "    host = DBCONFIG['host'],\n",
    "    user = DBCONFIG['user'],\n",
    "    password = DBCONFIG['password'],\n",
    "    database = DBCONFIG['database']))\n",
    "DBSession = sessionmaker(bind=db_engine)\n",
    "db_session = DBSession()\n",
    "\n",
    "### LOAD PRAW\n",
    "import reddit.connection\n",
    "conn = reddit.connection.Connect(base_dir=BASE_DIR)\n",
    "r = conn.connect(use_db_keys=False)\n",
    "\n",
    "#notebook_dir = os.getcwd()\n",
    "#os.chdir(notebook_dir)\n",
    "#import praw.errors\n",
    "\n",
    "\n",
    "### FILTER OUT DEPRECATION WARNINGS ASSOCIATED WITH DECORATORS\n",
    "# https://github.com/ipython/ipython/issues/9242\n",
    "#import warnings\n",
    "#warnings.filterwarnings('ignore', category=DeprecationWarning, message='.*use @default decorator instead.*')"
   ]
  },
  {
   "cell_type": "markdown",
   "metadata": {},
   "source": [
    "# Sample Recent r/iama posts and comments"
   ]
  },
  {
   "cell_type": "code",
   "execution_count": 86,
   "metadata": {},
   "outputs": [
    {
     "name": "stdout",
     "output_type": "stream",
     "text": [
      "Loaded 1546 Posts since March 1, 2018\n",
      "Loaded 602 AMA Posts\n"
     ]
    }
   ],
   "source": [
    "query_text = \"\"\"\n",
    "select * from posts \n",
    "    WHERE subreddit_id = '2qzb6'\n",
    "    AND created_at >= '2018-03-01'\n",
    "    ORDER BY created ASC;\n",
    "\"\"\"\n",
    "\n",
    "## ADDED THE SECOND CREATED_AT TO PRESERVE EXPERIMENT INTEGRITY\n",
    "\n",
    "database_posts = []\n",
    "\n",
    "for row in db_engine.execute(text(query_text)):\n",
    "    post = {}\n",
    "    post_data = json.loads(row['post_data'])\n",
    "    for key in post_data.keys():\n",
    "        post[key] = post_data[key]\n",
    "    for key in row.keys():\n",
    "        post[key]=row[key]\n",
    "    \n",
    "    lbody  = post['selftext'].lower()\n",
    "    ltitle = post['title'].lower()\n",
    "    post['AMA'] = False\n",
    "    if(lbody.find(\"proof\") > - 1 and ltitle.find(\"request\") ==-1):\n",
    "        post['AMA'] = True\n",
    "        \n",
    "    post['created'] = post['created']\n",
    "    database_posts.append(post)\n",
    "    \n",
    "print(\"Loaded {0} Posts since March 1, 2018\".format(len(database_posts)))\n",
    "print(\"Loaded {0} AMA Posts\".format(len([x for x in database_posts if x['AMA']])))"
   ]
  },
  {
   "cell_type": "code",
   "execution_count": 87,
   "metadata": {},
   "outputs": [
    {
     "name": "stdout",
     "output_type": "stream",
     "text": [
      "Loaded 139633 Comments\n"
     ]
    }
   ],
   "source": [
    "query_text = \"\"\"\n",
    "select * from comments \n",
    "    WHERE subreddit_id = '2qzb6'\n",
    "    AND created_at >= '2018-03-01'\n",
    "    ORDER BY created_utc ASC;\n",
    "\"\"\"\n",
    "\n",
    "## ADDED THE SECOND CREATED_AT TO PRESERVE EXPERIMENT INTEGRITY\n",
    "\n",
    "database_comments = []\n",
    "\n",
    "for row in db_engine.execute(text(query_text)):\n",
    "    comment = {}\n",
    "    comment_data = json.loads(row['comment_data'])\n",
    "    for key in comment_data.keys():\n",
    "        comment[key] = comment_data[key]\n",
    "    for key in row.keys():\n",
    "        comment[key]=row[key]\n",
    "    comment['created'] = comment['created_utc']\n",
    "    database_comments.append(comment)\n",
    "    \n",
    "print(\"Loaded {0} Comments\".format(len(database_comments)))"
   ]
  },
  {
   "cell_type": "code",
   "execution_count": 88,
   "metadata": {},
   "outputs": [
    {
     "name": "stdout",
     "output_type": "stream",
     "text": [
      "28281 moderator actions loaded\n"
     ]
    }
   ],
   "source": [
    "import datetime\n",
    "\n",
    "recent_mod_actions = []\n",
    "for row in db_engine.execute(text(\"\"\"\n",
    "SELECT action_data FROM mod_actions \n",
    "    WHERE subreddit_id=\"2qzb6\" \n",
    "    AND created_utc >= \"2018-03-01\" \n",
    "    ORDER BY created_utc;\n",
    "\"\"\")):\n",
    "    mod_action = json.loads(row['action_data'])\n",
    "    mod_action['created'] = utc.localize(datetime.datetime.utcfromtimestamp(mod_action['created_utc']))\n",
    "    recent_mod_actions.append(mod_action)\n",
    "print(\"{0} moderator actions loaded\".format(len(recent_mod_actions)))"
   ]
  },
  {
   "cell_type": "code",
   "execution_count": 89,
   "metadata": {},
   "outputs": [
    {
     "name": "stdout",
     "output_type": "stream",
     "text": [
      "Matched Mod Actions: 457\n",
      "Visible AMAs: 602\n"
     ]
    }
   ],
   "source": [
    "all_posts = {}\n",
    "\n",
    "for post in database_posts:\n",
    "    if(post['AMA']):\n",
    "        post['visible'] = True\n",
    "        post['comments'] = []\n",
    "        all_posts[post['id']]  = post\n",
    "\n",
    "missing_mod_actions = []\n",
    "matched_mod_actions = 0\n",
    "for action in recent_mod_actions:\n",
    "    if action['action'] == \"removelink\":\n",
    "        key = action['target_fullname'].replace(\"t3_\",\"\")\n",
    "        if key in all_posts.keys():\n",
    "            if(key in all_posts.keys()):\n",
    "                all_posts[key]['visible'] = False\n",
    "            matched_mod_actions += 1\n",
    "        else:\n",
    "            missing_mod_actions.append(key)\n",
    "    elif action['action'] == 'approvelink':\n",
    "        key = action['target_fullname'].replace(\"t3_\",\"\")\n",
    "        if key in all_posts.keys():\n",
    "            if(key in all_posts.keys()):\n",
    "                all_posts[key]['visible'] = True\n",
    "            matched_mod_actions += 1\n",
    "        else:\n",
    "            missing_mod_actions.append(key)\n",
    "#print(\"Missing Mod Actions: {0}\".format(len(missing_mod_actions)))\n",
    "#print(\"Missing Mod Action Posts: {0}\".format(len(set(missing_mod_actions))))\n",
    "print(\"Matched Mod Actions: {0}\".format(matched_mod_actions))\n",
    "print(\"Visible AMAs: {0}\".format(len([x for x in list(all_posts.values()) if x['AMA']])))"
   ]
  },
  {
   "cell_type": "markdown",
   "metadata": {},
   "source": [
    "# Create a Per-Post Dataset of Comments, with Moderation Actions on Posts"
   ]
  },
  {
   "cell_type": "code",
   "execution_count": 90,
   "metadata": {},
   "outputs": [
    {
     "name": "stdout",
     "output_type": "stream",
     "text": [
      "Total comments included: 98376\n",
      "Total non-questions included: 57077\n"
     ]
    }
   ],
   "source": [
    "total_comments_included = 0\n",
    "total_questions_included = 0\n",
    "for comment in database_comments:\n",
    "    comment['toplevel'] = False\n",
    "    comment['question'] = False\n",
    "    if(comment['parent_id']==comment['link_id']):\n",
    "        comment['toplevel'] = True\n",
    "    if(comment['body'].find(\"?\")>-1):\n",
    "        comment['question'] = True\n",
    "    post_id = comment['link_id'].replace(\"t3_\",\"\")\n",
    "    if post_id in all_posts.keys():\n",
    "        all_posts[post_id]['comments'].append(comment)\n",
    "        total_comments_included += 1\n",
    "        total_questions_included += 1*int(comment['question'])\n",
    "\n",
    "for post_id, post in all_posts.items():\n",
    "    post['comments'] = sorted(post['comments'], key = lambda x: x['created'])\n",
    "    post['num.non.questions'] = len([x for x in post['comments'] if x['toplevel'] and x['question'] == False])\n",
    "    post['num.questions'] = len([x for x in post['comments'] if x['toplevel'] and x['question'] == True ])\n",
    "    \n",
    "print(\"Total comments included: {0}\".format(total_comments_included))\n",
    "print(\"Total non-questions included: {0}\".format(total_comments_included - total_questions_included))"
   ]
  },
  {
   "cell_type": "code",
   "execution_count": 91,
   "metadata": {},
   "outputs": [
    {
     "data": {
      "image/png": "[encoded data removed]",
      "text/plain": [
       "<Figure size 432x288 with 1 Axes>"
      ]
     },
     "metadata": {},
     "output_type": "display_data"
    }
   ],
   "source": [
    "plt.hist([math.log1p(x['num.non.questions']) for x in all_posts.values()])\n",
    "plt.title(\"Log-transformed number of non-questions per post since March 1st, 2018\")\n",
    "plt.show()"
   ]
  },
  {
   "cell_type": "markdown",
   "metadata": {},
   "source": [
    "## CREATE A STRATIFIED SAMPLE OF AMA GUESTS"
   ]
  },
  {
   "cell_type": "code",
   "execution_count": 92,
   "metadata": {},
   "outputs": [
    {
     "data": {
      "text/plain": [
       "True"
      ]
     },
     "execution_count": 92,
     "metadata": {},
     "output_type": "execute_result"
    }
   ],
   "source": [
    "list(all_posts.values())[0]['visible']"
   ]
  },
  {
   "cell_type": "code",
   "execution_count": 93,
   "metadata": {},
   "outputs": [
    {
     "name": "stdout",
     "output_type": "stream",
     "text": [
      "602\n"
     ]
    }
   ],
   "source": [
    "def ama_guest():\n",
    "    return {\"author\":None,\n",
    "            \"date\": None,\n",
    "            \"num.comments\":None,\n",
    "            \"num.questions\": 0,\n",
    "            \"num.non.questions\":0,\n",
    "            \"post.visible\": False,\n",
    "            \"title\": None}\n",
    "\n",
    "ama_guests = defaultdict(ama_guest)\n",
    "\n",
    "counter = 0\n",
    "for post_id, post in all_posts.items():\n",
    "    guest = ama_guest()\n",
    "    guest['author'] = post['author']\n",
    "    guest['title'] = post['title']\n",
    "    guest['date'] = post['created']\n",
    "    guest['num.comments'] = len(post['comments'])\n",
    "    guest['num.questions'] = post['num.questions']\n",
    "    guest['num.non.questions'] = post['num.non.questions']\n",
    "    guest['pct.questions'] = post['num.questions'] / (post['num.questions'] + post['num.non.questions'] + 1 )\n",
    "    guest['post.visible'] = post['visible']\n",
    "    ama_guests[guest['author']]  = guest\n",
    "    counter += 1\n",
    "    \n",
    "print(counter)\n"
   ]
  },
  {
   "cell_type": "code",
   "execution_count": 94,
   "metadata": {},
   "outputs": [
    {
     "data": {
      "text/plain": [
       "Counter({False: 148, True: 399})"
      ]
     },
     "execution_count": 94,
     "metadata": {},
     "output_type": "execute_result"
    }
   ],
   "source": [
    "Counter([x['post.visible'] for x in list(ama_guests.values())])"
   ]
  },
  {
   "cell_type": "code",
   "execution_count": 95,
   "metadata": {},
   "outputs": [
    {
     "data": {
      "text/plain": [
       "(array([ 83.,   0.,   5.,   5.,   1.,  29.,  33.,  56., 116.,  71.]),\n",
       " array([0.        , 0.0993865 , 0.19877301, 0.29815951, 0.39754601,\n",
       "        0.49693252, 0.59631902, 0.69570552, 0.79509202, 0.89447853,\n",
       "        0.99386503]),\n",
       " <a list of 10 Patch objects>)"
      ]
     },
     "execution_count": 95,
     "metadata": {},
     "output_type": "execute_result"
    },
    {
     "data": {
      "image/png": "[encoded data removed]",
      "text/plain": [
       "<Figure size 432x288 with 1 Axes>"
      ]
     },
     "metadata": {},
     "output_type": "display_data"
    }
   ],
   "source": [
    "plt.hist([x['pct.questions'] for x in list(ama_guests.values()) if x['post.visible']] )"
   ]
  },
  {
   "cell_type": "markdown",
   "metadata": {},
   "source": [
    "### Label comments by how many weeks previously the AMA was held (for a stratified random sample)"
   ]
  },
  {
   "cell_type": "code",
   "execution_count": 96,
   "metadata": {},
   "outputs": [],
   "source": [
    "import datetime\n",
    "one_week_in_seconds = 60*60*24*7\n",
    "current_time = datetime.datetime.utcnow()\n",
    "\n",
    "for guest_id, guest in ama_guests.items():\n",
    "    guest['ama.week.diff'] = int((current_time - guest['date']).total_seconds() / \n",
    "                                             one_week_in_seconds)\n",
    "    \n",
    "    \n",
    "    "
   ]
  },
  {
   "cell_type": "code",
   "execution_count": 97,
   "metadata": {},
   "outputs": [
    {
     "data": {
      "image/png": "[encoded data removed]",
      "text/plain": [
       "<Figure size 432x288 with 1 Axes>"
      ]
     },
     "metadata": {},
     "output_type": "display_data"
    }
   ],
   "source": [
    "plt.hist([guest['ama.week.diff'] for guest in ama_guests.values() if guest['post.visible']])\n",
    "plt.title(\"How many weeks previously was this AMA posted\")\n",
    "plt.show()"
   ]
  },
  {
   "cell_type": "markdown",
   "metadata": {},
   "source": [
    "### Create a stratified random sample of accounts to message, based on the elapsed number of weeks since they originally posted their AMA\n",
    "The purpose of this is to get response rates based on how recently they did the AMA. Note that we will want to include them int he sample even if their account doesn't exist, because we're going to be including those kinds of accounts in the study, and we will want to think about that attrition as an expected part of the sample."
   ]
  },
  {
   "cell_type": "code",
   "execution_count": 98,
   "metadata": {},
   "outputs": [],
   "source": [
    "eligible_by_week = {}\n",
    "for key in set([x['ama.week.diff'] for x in ama_guests.values()]):\n",
    "    eligible_by_week[key] = [x for x in ama_guests.values() if \n",
    "                             x['ama.week.diff'] == key and x['post.visible']]"
   ]
  },
  {
   "cell_type": "code",
   "execution_count": 99,
   "metadata": {},
   "outputs": [
    {
     "name": "stdout",
     "output_type": "stream",
     "text": [
      "Week age 0: 48 authors \n",
      "Week age 1: 36 authors \n",
      "Week age 2: 35 authors \n",
      "Week age 3: 39 authors \n",
      "Week age 4: 28 authors \n",
      "Week age 5: 43 authors \n",
      "Week age 6: 34 authors \n",
      "Week age 7: 36 authors \n",
      "Week age 8: 40 authors \n",
      "Week age 9: 29 authors \n",
      "Week age 10: 28 authors \n",
      "Week age 11: 3 authors \n"
     ]
    }
   ],
   "source": [
    "for key in sorted(eligible_by_week.keys()):\n",
    "    print(\"Week age {0}: {1} authors \".format(key, len(eligible_by_week[key])))"
   ]
  },
  {
   "cell_type": "code",
   "execution_count": 100,
   "metadata": {},
   "outputs": [
    {
     "name": "stdout",
     "output_type": "stream",
     "text": [
      "Week age 0: 27 authors \n",
      "Week age 1: 27 authors \n",
      "Week age 2: 27 authors \n",
      "Week age 3: 27 authors \n",
      "Week age 4: 27 authors \n",
      "Week age 5: 27 authors \n",
      "Week age 6: 27 authors \n",
      "Week age 7: 27 authors \n"
     ]
    }
   ],
   "source": [
    "##  Decision: create a random sample of 40 people per week\n",
    "##  Only survey the last 6 weeks\n",
    "random.seed(880442) # current milliseconds at code time\n",
    "sample_size = 27\n",
    "selected_by_week_dict = {}\n",
    "selected_by_week = {}\n",
    "for week in sorted(eligible_by_week.keys()):\n",
    "    if week <=7:\n",
    "        selected_by_week_dict[week] = random.sample(eligible_by_week[week], sample_size)\n",
    "        selected_by_week[week] = [x['author'] for x in selected_by_week_dict[week]]\n",
    "        \n",
    "for week in sorted(selected_by_week.keys()):\n",
    "    print(\"Week age {0}: {1} authors \".format(week, len(selected_by_week_dict[week])))"
   ]
  },
  {
   "cell_type": "code",
   "execution_count": 101,
   "metadata": {},
   "outputs": [
    {
     "data": {
      "text/plain": [
       "'Danejasper'"
      ]
     },
     "execution_count": 101,
     "metadata": {},
     "output_type": "execute_result"
    }
   ],
   "source": [
    "selected_by_week[0][2]"
   ]
  },
  {
   "cell_type": "markdown",
   "metadata": {},
   "source": [
    "### Create CSV of Authors to Reach"
   ]
  },
  {
   "cell_type": "code",
   "execution_count": 103,
   "metadata": {},
   "outputs": [],
   "source": [
    "all_guests = []\n",
    "for week, guests in selected_by_week_dict.items():\n",
    "    all_guests += guests"
   ]
  },
  {
   "cell_type": "code",
   "execution_count": 104,
   "metadata": {},
   "outputs": [],
   "source": [
    "#pd.DataFrame(all_guests).to_csv(\"iama/all_survey_pilot_guests-04.23.2018.csv\")"
   ]
  },
  {
   "cell_type": "markdown",
   "metadata": {},
   "source": [
    "# Construct and personalize the message\n",
    "### Construct the Message Template"
   ]
  },
  {
   "cell_type": "code",
   "execution_count": 71,
   "metadata": {},
   "outputs": [],
   "source": [
    "MESSAGE_SUBJECT = \"Help r/IAmA understand your AMA experience with 5 questions\"\n",
    "MESSAGE_TEMPLATE = \"\"\"Dear {username},\n",
    "\n",
    "Hello and welcome from r/IAmA! Might you answer a 5 minute, 5 question survey about your experience hosting an Ask Me Anything?\n",
    "\n",
    "The moderators of the IAMA subreddit have partnered with researchers learn ways to improve the Ask Me Anything experience. [CivilServant](http://civilservant.io/) is a project at Princeton University that helps online communities do research for a more understanding internet.\n",
    "\n",
    "**[Learn more and answer the survey here]({url})**. We hope it will allow us to improve the AMA hosting experience in the future.\n",
    "\n",
    "Thanks,\n",
    "\n",
    "The [IAmA Moderator Team](https://www.reddit.com/r/iama/about/moderators) and [CivilServant](https://civilservant.io)\n",
    "\"\"\""
   ]
  },
  {
   "cell_type": "code",
   "execution_count": 72,
   "metadata": {},
   "outputs": [
    {
     "name": "stdout",
     "output_type": "stream",
     "text": [
      "Dear natematias,\n",
      "\n",
      "Hello and welcome from r/IAmA! Might you answer a 5 minute, 5 question survey about your experience hosting an Ask Me Anything?\n",
      "\n",
      "The moderators of the IAMA subreddit have partnered with researchers learn ways to improve the Ask Me Anything experience. [CivilServant](http://civilservant.io/) is a project at Princeton University that helps online communities do research for a more understanding internet.\n",
      "\n",
      "**[Learn more and answer the survey here](https://docs.google.com/forms/d/e/1FAIpQLSefInEC-wFI7KKQUq1TnTYYuC9FmqbLEflW9z9fe0rh99qzAA/viewform?usp=pp_url&entry.56120278=natematias&entry.67846837&entry.1506827807)**. We hope it will allow us to improve the AMA hosting experience in the future.\n",
      "\n",
      "Thanks,\n",
      "\n",
      "The [IAmA Moderator Team](https://www.reddit.com/r/iama/about/moderators) and [CivilServant](https://civilservant.io)\n",
      "\n"
     ]
    }
   ],
   "source": [
    "print(MESSAGE_TEMPLATE.format(username=\"natematias\", \n",
    "                              url=\"https://docs.google.com/forms/d/e/1FAIpQLSefInEC-wFI7KKQUq1TnTYYuC9FmqbLEflW9z9fe0rh99qzAA/viewform?usp=pp_url&entry.56120278={username}&entry.67846837&entry.1506827807\".format(\n",
    "                              username=\"natematias\")))"
   ]
  },
  {
   "cell_type": "markdown",
   "metadata": {},
   "source": [
    "# Methods for validating users and sending messages"
   ]
  },
  {
   "cell_type": "code",
   "execution_count": 73,
   "metadata": {},
   "outputs": [],
   "source": [
    "def get_reddit_user(username):\n",
    "    try:\n",
    "        user_dict = r.get_redditor(username, fetch=True).json_dict\n",
    "        logging.info(\"User %s found: %s\" %(username, str(user_dict)))\n",
    "        return user_dict\n",
    "    except praw.errors.NotFound as e:\n",
    "        logging.error(\"User not found: %s\" % username)\n",
    "    except Exception as e:\n",
    "        logging.exception(\"Failed to retrieve user\")\n",
    "        \n",
    "import time\n",
    "## ADD LINE TO THE FILE BEFORE RUNNING\n",
    "# username,exists,date,deleted,url,first_comment_week,sent_status\n",
    "send_log_dir = \"/home/nathan/CivilServant-Analysis/SOC412/iama\"\n",
    "send_log_filename = \"message_sender_iama_04_23_2018.csv\"\n",
    "\n",
    "def sent_message_previously(username):\n",
    "    if(os.path.isfile(os.path.join(send_log_dir, send_log_filename))!=True):\n",
    "        return False\n",
    "    with open(os.path.join(send_log_dir, send_log_filename), \"r\") as f:\n",
    "        send_log = []\n",
    "        for row in csv.DictReader(f):\n",
    "            send_log.append(row)\n",
    "            if(username == row['username']):\n",
    "                return True\n",
    "    return False"
   ]
  },
  {
   "cell_type": "code",
   "execution_count": 74,
   "metadata": {},
   "outputs": [],
   "source": [
    "## RETURN TRUE IF MESSAGE WAS SENT SUCCESSFULLY\n",
    "def send_reddit_message(**message_data):\n",
    "    user = message_data[\"username\"]    \n",
    "    message = MESSAGE_TEMPLATE.format(**message_data)    \n",
    "    try:\n",
    "        logging.info(\"Sending a message to user %s with data %s\" % (user, str(message_data)))\n",
    "        response = r.send_message(user, MESSAGE_SUBJECT, message, raise_captcha_exception=True)\n",
    "        response = []\n",
    "        if response[\"errors\"]:\n",
    "            logging.error(\"Error in response when sending a message to user %s: %s\" % (user, str(response)))\n",
    "            return False\n",
    "        else:\n",
    "            logging.info(\"Message successfully sent to user %s\" % user)\n",
    "            return True\n",
    "    except praw.errors.InvalidCaptcha as e:\n",
    "        logging.exception(\"Message sending requires a captcha\")\n",
    "        logging.error(e.response)\n",
    "        return False\n",
    "    except Exception as e:\n",
    "        logging.exception(\"Failed to send message to %s\" % user)\n",
    "        return False"
   ]
  },
  {
   "cell_type": "code",
   "execution_count": 75,
   "metadata": {},
   "outputs": [],
   "source": [
    "def send_survey_message(**message_data):\n",
    "    message = MESSAGE_TEMPLATE.format(**message_data)        \n",
    "    sent_status = send_reddit_message(**message_data)\n",
    "    with open(os.path.join(send_log_dir,send_log_filename), \"a\") as f:\n",
    "        print(\"APPENDING TO FILE: {0}\".format(message_data))\n",
    "        f.write(\",\".join(map(str, [\n",
    "            message_data['username'],\n",
    "            True, #account exists\n",
    "            message_data['get_info_date'],\n",
    "            message_data['deleted'],\n",
    "            message_data['url'],\n",
    "            message_data['first_comment_week'],\n",
    "            sent_status\n",
    "        ])) + \"\\n\")\n",
    "        f.close()\n",
    "    \n",
    "    logging.info(\"first_comment_week: %s\" % message_data[\"first_comment_week\"])\n",
    "    logging.info(\"url: %s\" % message_data[\"url\"])\n",
    "    logging.info(\"get_info_data: %s\" % message_data[\"get_info_date\"])\n",
    "    logging.info(\"deleted: %s\" % message_data[\"deleted\"])\n",
    "    return message\n",
    "    "
   ]
  },
  {
   "cell_type": "code",
   "execution_count": 76,
   "metadata": {},
   "outputs": [],
   "source": [
    "import datetime\n",
    "def decide_and_send_to_user(username, first_comment_week):\n",
    "    if(sent_message_previously(username)):\n",
    "        logging.info(\"User %s previously received a message\" % username)\n",
    "        return None\n",
    "    else:\n",
    "        time.sleep(2)\n",
    "        user = get_reddit_user(username)\n",
    "\n",
    "    if user:\n",
    "        send_survey_message(\n",
    "            username = username,\n",
    "            first_comment_week = first_comment_week,\n",
    "            get_info_date = str(datetime.datetime.utcnow()),\n",
    "            deleted = False,\n",
    "            url = \"https://docs.google.com/forms/d/e/1FAIpQLSefInEC-wFI7KKQUq1TnTYYuC9FmqbLEflW9z9fe0rh99qzAA/viewform?usp=pp_url&entry.56120278={username}&entry.67846837&entry.1506827807\".format(\n",
    "                username=username))\n",
    "    else:\n",
    "        with open(os.path.join(send_log_dir, send_log_filename), \"a\") as f:\n",
    "            f.write(\",\".join(map(str, [\n",
    "                username,\n",
    "                False,\n",
    "                str(datetime.datetime.utcnow()),\n",
    "                None,\n",
    "                None,\n",
    "                first_comment_week,\n",
    "                False\n",
    "            ])) + \"\\n\")\n",
    "            f.close()"
   ]
  },
  {
   "cell_type": "markdown",
   "metadata": {},
   "source": [
    "# Send Survey to Participants"
   ]
  },
  {
   "cell_type": "code",
   "execution_count": null,
   "metadata": {},
   "outputs": [],
   "source": [
    "# import time\n",
    "# for week in sorted(selected_by_week.keys()):\n",
    "#     print(\"Week age {0}: {1} authors \".format(week, len(selected_by_week[week])))\n",
    "#     for username in selected_by_week[week]:\n",
    "#         decide_and_send_to_user(username, week)"
   ]
  },
  {
   "cell_type": "markdown",
   "metadata": {},
   "source": [
    "# Create a Moderated Posts Dataset"
   ]
  },
  {
   "cell_type": "code",
   "execution_count": 161,
   "metadata": {},
   "outputs": [],
   "source": [
    "posts_to_file = []\n",
    "for post in all_posts.values():\n",
    "    post = copy.copy(post)\n",
    "    del post['post_data']\n",
    "    del post['selftext']\n",
    "    del post['selftext_html']\n",
    "#    del post['title']\n",
    "    del post['comments']\n",
    "    if 'body' in post.keys():\n",
    "        del post['body']\n",
    "    if 'preview' in post.keys():\n",
    "        del post['preview']\n",
    "    posts_to_file.append(post)"
   ]
  },
  {
   "cell_type": "code",
   "execution_count": 162,
   "metadata": {},
   "outputs": [],
   "source": [
    "#list(all_posts.values())[0]\n",
    "#x = pd.DataFrame(posts_to_file)"
   ]
  },
  {
   "cell_type": "code",
   "execution_count": 163,
   "metadata": {},
   "outputs": [],
   "source": [
    "pd.DataFrame(posts_to_file).to_csv(\"iama/posts_with_mod_actions.csv\")"
   ]
  },
  {
   "cell_type": "code",
   "execution_count": 148,
   "metadata": {},
   "outputs": [],
   "source": [
    "#plt.hist([x['num.non.questions'] for x in posts_to_file])"
   ]
  },
  {
   "cell_type": "code",
   "execution_count": 150,
   "metadata": {},
   "outputs": [
    {
     "data": {
      "text/plain": [
       "Counter({True: 602})"
      ]
     },
     "execution_count": 150,
     "metadata": {},
     "output_type": "execute_result"
    }
   ],
   "source": [
    "#\n",
    "Counter(['num.non.questions' in x.keys() for x in posts_to_file])"
   ]
  },
  {
   "cell_type": "code",
   "execution_count": 159,
   "metadata": {},
   "outputs": [
    {
     "data": {
      "text/plain": [
       "{'AMA': True,\n",
       " 'approved': False,\n",
       " 'approved_at_utc': None,\n",
       " 'approved_by': None,\n",
       " 'archived': False,\n",
       " 'author': 'irdk_',\n",
       " 'author_flair_background_color': None,\n",
       " 'author_flair_css_class': None,\n",
       " 'author_flair_richtext': [],\n",
       " 'author_flair_text': None,\n",
       " 'author_flair_text_color': None,\n",
       " 'author_flair_type': 'text',\n",
       " 'banned_at_utc': None,\n",
       " 'banned_by': None,\n",
       " 'brand_safe': True,\n",
       " 'can_gild': True,\n",
       " 'can_mod_post': False,\n",
       " 'clicked': False,\n",
       " 'comment_data': None,\n",
       " 'comments_queried_at': None,\n",
       " 'contest_mode': False,\n",
       " 'created': datetime.datetime(2018, 4, 5, 13, 32, 8),\n",
       " 'created_at': datetime.datetime(2018, 4, 5, 17, 36),\n",
       " 'created_utc': 1522949528.0,\n",
       " 'distinguished': None,\n",
       " 'domain': 'self.IAmA',\n",
       " 'downs': 0,\n",
       " 'edited': False,\n",
       " 'gilded': 0,\n",
       " 'hidden': False,\n",
       " 'hide_score': False,\n",
       " 'id': '8a1pp9',\n",
       " 'ignore_reports': False,\n",
       " 'is_crosspostable': True,\n",
       " 'is_reddit_media_domain': False,\n",
       " 'is_self': True,\n",
       " 'is_video': False,\n",
       " 'likes': None,\n",
       " 'link_flair_css_class': None,\n",
       " 'link_flair_richtext': [],\n",
       " 'link_flair_text': None,\n",
       " 'link_flair_text_color': 'dark',\n",
       " 'link_flair_type': 'text',\n",
       " 'locked': False,\n",
       " 'media': None,\n",
       " 'media_embed': {},\n",
       " 'mod_note': None,\n",
       " 'mod_reason_by': None,\n",
       " 'mod_reason_title': None,\n",
       " 'mod_reports': [],\n",
       " 'name': 't3_8a1pp9',\n",
       " 'no_follow': True,\n",
       " 'num.non.questions': 0,\n",
       " 'num.questions': 2,\n",
       " 'num_comments': 1,\n",
       " 'num_crossposts': 0,\n",
       " 'num_reports': None,\n",
       " 'over_18': False,\n",
       " 'parent_whitelist_status': 'all_ads',\n",
       " 'permalink': '/r/IAmA/comments/8a1pp9/i_have_lupus_and_i_want_to_raise_awareness_due_to/',\n",
       " 'pinned': False,\n",
       " 'post_hint': 'self',\n",
       " 'quarantine': False,\n",
       " 'removal_reason': None,\n",
       " 'removed': False,\n",
       " 'report_reasons': None,\n",
       " 'rte_mode': 'markdown',\n",
       " 'saved': False,\n",
       " 'score': 1,\n",
       " 'secure_media': None,\n",
       " 'secure_media_embed': {},\n",
       " 'send_replies': True,\n",
       " 'spam': False,\n",
       " 'spoiler': False,\n",
       " 'stickied': False,\n",
       " 'subreddit': 'IAmA',\n",
       " 'subreddit_id': '2qzb6',\n",
       " 'subreddit_name_prefixed': 'r/IAmA',\n",
       " 'subreddit_subscribers': 17853961,\n",
       " 'subreddit_type': 'public',\n",
       " 'suggested_sort': None,\n",
       " 'thumbnail': 'self',\n",
       " 'thumbnail_height': None,\n",
       " 'thumbnail_width': None,\n",
       " 'ups': 1,\n",
       " 'url': 'https://www.reddit.com/r/IAmA/comments/8a1pp9/i_have_lupus_and_i_want_to_raise_awareness_due_to/',\n",
       " 'user_reports': [],\n",
       " 'view_count': 8,\n",
       " 'visible': True,\n",
       " 'visited': False,\n",
       " 'whitelist_status': 'all_ads'}"
      ]
     },
     "execution_count": 159,
     "metadata": {},
     "output_type": "execute_result"
    }
   ],
   "source": [
    "posts_to_file[0]"
   ]
  },
  {
   "cell_type": "code",
   "execution_count": 167,
   "metadata": {},
   "outputs": [],
   "source": [
    "removed_comments = [x for x in recent_mod_actions if x['action']=='removecomment']"
   ]
  },
  {
   "cell_type": "code",
   "execution_count": 169,
   "metadata": {},
   "outputs": [
    {
     "data": {
      "text/plain": [
       "{'action': 'removecomment',\n",
       " 'created': datetime.datetime(2018, 3, 1, 5, 2, 46, tzinfo=<UTC>),\n",
       " 'created_utc': 1519880566.0,\n",
       " 'description': None,\n",
       " 'details': 'Not question',\n",
       " 'id': 'ModAction_c837e75e-1d0d-11e8-8a34-0aec3593d7ba',\n",
       " 'mod': 'AutoModerator',\n",
       " 'mod_id36': '6l4z3',\n",
       " 'sr_id36': '2qzb6',\n",
       " 'subreddit': 'IAmA',\n",
       " 'subreddit_name_prefixed': 'r/IAmA',\n",
       " 'target_author': 'goofygoober2',\n",
       " 'target_body': 'Smh....what a disgusting thread ',\n",
       " 'target_fullname': 't1_dv02ii1',\n",
       " 'target_permalink': '/r/IAmA/comments/80y3va/im_an_ex_white_supremacist_and_klansman_ama/dv02ii1/',\n",
       " 'target_title': None}"
      ]
     },
     "execution_count": 169,
     "metadata": {},
     "output_type": "execute_result"
    }
   ],
   "source": [
    "removed_comments[1]"
   ]
  },
  {
   "cell_type": "code",
   "execution_count": null,
   "metadata": {},
   "outputs": [],
   "source": []
  }
 ],
 "metadata": {
  "kernelspec": {
   "display_name": "Python 3",
   "language": "python",
   "name": "python3"
  },
  "language_info": {
   "codemirror_mode": {
    "name": "ipython",
    "version": 3
   },
   "file_extension": ".py",
   "mimetype": "text/x-python",
   "name": "python",
   "nbconvert_exporter": "python",
   "pygments_lexer": "ipython3",
   "version": "3.5.2"
  }
 },
 "nbformat": 4,
 "nbformat_minor": 1
}
