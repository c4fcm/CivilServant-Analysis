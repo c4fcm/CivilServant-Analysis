{
 "cells": [
  {
   "cell_type": "code",
   "execution_count": 1,
   "metadata": {},
   "outputs": [
    {
     "name": "stderr",
     "output_type": "stream",
     "text": [
      "/usr/lib/python3.5/importlib/_bootstrap.py:222: RuntimeWarning: numpy.dtype size changed, may indicate binary incompatibility. Expected 96, got 88\n",
      "  return f(*args, **kwds)\n",
      "/usr/lib/python3.5/importlib/_bootstrap.py:222: RuntimeWarning: numpy.dtype size changed, may indicate binary incompatibility. Expected 96, got 88\n",
      "  return f(*args, **kwds)\n"
     ]
    }
   ],
   "source": [
    "%matplotlib inline\n",
    "import inspect, os, sys, copy, pytz, re, glob, random, praw, csv\n",
    "import simplejson as json\n",
    "import pandas as pd\n",
    "from dateutil import parser\n",
    "import datetime\n",
    "import matplotlib.pyplot as plt   # Matplotlib for plotting\n",
    "import matplotlib.dates as md\n",
    "import numpy as np\n",
    "import seaborn as sns\n",
    "from collections import Counter, defaultdict\n",
    "import re, urllib"
   ]
  },
  {
   "cell_type": "markdown",
   "metadata": {},
   "source": [
    "# Load Data from Feminism Messaging Pilot"
   ]
  },
  {
   "cell_type": "code",
   "execution_count": 23,
   "metadata": {},
   "outputs": [
    {
     "name": "stdout",
     "output_type": "stream",
     "text": [
      "Found 500 rows in the message sender referring to 500 accounts\n",
      "Found 159 survey responses, with 157 matched accounts\n"
     ]
    }
   ],
   "source": [
    "all_message_records = []\n",
    "all_accounts_included = set()\n",
    "with open(\"feminism/message_sender_feminism_04_17_2018.csv\", \"r\") as f:\n",
    "    for row in csv.DictReader(f):\n",
    "        all_message_records.append(row)\n",
    "        all_accounts_included.add(row['username'])\n",
    "        \n",
    "all_matched_usernames = set()\n",
    "all_survey_responses = []\n",
    "with open(\"/home/nathan/tmp/r_feminism_pilot_results-4.18.2018.07.16.ET.csv\", \"r\") as f:\n",
    "    for row in csv.DictReader(f):\n",
    "        all_survey_responses.append(row)\n",
    "        all_matched_usernames.add(row['the reddit username you used to comment in r/feminism'])\n",
    "        \n",
    "print(\"Found {0} rows in the message sender referring to {1} accounts\".format(\n",
    "    len(all_message_records), len(all_accounts_included)))\n",
    "print(\"Found {0} survey responses, with {1} matched accounts\".format(\n",
    "    len(all_survey_responses), len(all_matched_usernames)))"
   ]
  },
  {
   "cell_type": "markdown",
   "metadata": {},
   "source": [
    "### Create Dict of All Survey Responses, sorted by time"
   ]
  },
  {
   "cell_type": "code",
   "execution_count": 37,
   "metadata": {},
   "outputs": [],
   "source": [
    "survey_users = defaultdict(list)\n",
    "for row in all_survey_responses:\n",
    "    answer = {}\n",
    "    answer['took.survey'] = True\n",
    "    answer['account'] = row['the reddit username you used to comment in r/feminism']\n",
    "    answer['feminist'] = row['Did you identify as a feminist at the time you made your first comment in r/feminism?']\n",
    "    answer['r.feminism.relationship'] = row['Select which number, corresponding to the images above, best describes your relationship with r/feminism.']\n",
    "    answer['comments'] = row['If you have any comments or thoughts related to the sub, you may share them with us here:']\n",
    "    answer['timestamp'] = parser.parse(row['Timestamp'])\n",
    "    survey_users[answer['account']].append(answer)\n",
    "\n",
    "for key, answers in survey_users.items():\n",
    "    survey_users[key] = sorted(answers, key= lambda x: x['timestamp'])"
   ]
  },
  {
   "cell_type": "code",
   "execution_count": 44,
   "metadata": {},
   "outputs": [
    {
     "name": "stdout",
     "output_type": "stream",
     "text": [
      "Total response rate: 0.302. Response rate among existing accounts: 0.30691056910569103\n"
     ]
    }
   ],
   "source": [
    "def empty_response(username):\n",
    "    return {\n",
    "        \"took.survey\": False,\n",
    "        \"account\": username,\n",
    "        \"feminist\": None,\n",
    "        \"r.feministm.relationship\": None,\n",
    "        \"comments\": None,\n",
    "        \"timestamp\": None\n",
    "    }\n",
    "\n",
    "for row in all_message_records:\n",
    "    survey_response = empty_response(row['username'])\n",
    "    if row['username'] in survey_users.keys():\n",
    "        ## pick the first response in cases of duplicates\n",
    "        survey_response = survey_users[row['username']][0]\n",
    "    for key in survey_response.keys():\n",
    "        row[key] = survey_response[key]\n",
    "        \n",
    "print(\"Total response rate: {0}. Response rate among existing accounts: {1}\".format(\n",
    "    len([x for x in all_message_records if x['took.survey']]) / len(all_message_records),\n",
    "    len([x for x in all_message_records if x['took.survey']]) / len([x for x in all_message_records if x['deleted']==\"False\"])\n",
    "))"
   ]
  },
  {
   "cell_type": "code",
   "execution_count": 52,
   "metadata": {},
   "outputs": [
    {
     "name": "stdout",
     "output_type": "stream",
     "text": [
      "RESPONSE RATE PER WEEKS ELAPSED (out of a hundred)\n",
      "Counter({'2': 38, '1': 31, '3': 28, '0': 28, '4': 26})\n"
     ]
    }
   ],
   "source": [
    "print(\"RESPONSE RATE PER WEEKS ELAPSED (out of a hundred)\")\n",
    "print(Counter([x['first_comment_week'] for x in all_message_records if x['took.survey']]))"
   ]
  },
  {
   "cell_type": "code",
   "execution_count": 45,
   "metadata": {},
   "outputs": [],
   "source": [
    "pd.DataFrame(all_message_records).to_csv(\"feminism/merged_survey_responses-04.18.2018-07.52-ET.csv\")"
   ]
  }
 ],
 "metadata": {
  "kernelspec": {
   "display_name": "Python 3",
   "language": "python",
   "name": "python3"
  },
  "language_info": {
   "codemirror_mode": {
    "name": "ipython",
    "version": 3
   },
   "file_extension": ".py",
   "mimetype": "text/x-python",
   "name": "python",
   "nbconvert_exporter": "python",
   "pygments_lexer": "ipython3",
   "version": "3.5.2"
  }
 },
 "nbformat": 4,
 "nbformat_minor": 2
}
