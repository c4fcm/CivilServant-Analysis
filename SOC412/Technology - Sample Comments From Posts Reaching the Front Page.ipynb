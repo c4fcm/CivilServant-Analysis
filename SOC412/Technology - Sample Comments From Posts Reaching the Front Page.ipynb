{
 "cells": [
  {
   "cell_type": "code",
   "execution_count": 30,
   "metadata": {},
   "outputs": [],
   "source": [
    "%matplotlib inline\n",
    "import inspect, os, sys, copy, pytz, re, glob, csv, math, random, time\n",
    "import simplejson as json\n",
    "import pandas as pd\n",
    "from dateutil import parser\n",
    "import datetime\n",
    "import matplotlib.pyplot as plt   # Matplotlib for plotting\n",
    "import matplotlib.dates as md\n",
    "import numpy as np\n",
    "import seaborn as sns\n",
    "from collections import Counter, defaultdict\n",
    "import re, urllib\n"
   ]
  },
  {
   "cell_type": "markdown",
   "metadata": {},
   "source": [
    "# Load Dataset of r/technology Posts"
   ]
  },
  {
   "cell_type": "code",
   "execution_count": 27,
   "metadata": {},
   "outputs": [
    {
     "name": "stdout",
     "output_type": "stream",
     "text": [
      "123 threads appeared on the front page in this period\n"
     ]
    }
   ],
   "source": [
    "post_csv_path = os.path.join(\"/home/nathan/branches/CivilServant-poweranalysis/outputs\", \n",
    "                            \"sticky_comment_power_analysis_2qh16_7.2017_12.2017_posts.csv\")\n",
    "all_front_posts = []\n",
    "with open(post_csv_path, \"r\") as f:\n",
    "    for row in csv.DictReader(f):\n",
    "        if(int(row['front_page'])>0):\n",
    "            all_front_posts.append(row)\n",
    "print(\"{0} threads appeared on the front page in this period\".format(len(all_front_posts)))"
   ]
  },
  {
   "cell_type": "markdown",
   "metadata": {},
   "source": [
    "### Summary Statistics About Comments on Posts"
   ]
  },
  {
   "cell_type": "code",
   "execution_count": 28,
   "metadata": {
    "scrolled": false
   },
   "outputs": [
    {
     "data": {
      "image/png": "[encoded data removed]",
      "text/plain": [
       "<Figure size 432x288 with 1 Axes>"
      ]
     },
     "metadata": {},
     "output_type": "display_data"
    },
    {
     "data": {
      "image/png": "[encoded data removed]",
      "text/plain": [
       "<Figure size 432x288 with 1 Axes>"
      ]
     },
     "metadata": {},
     "output_type": "display_data"
    }
   ],
   "source": [
    "plt.hist([math.log1p(int(x['newcomer.comments'])) for x in all_front_posts if x['visible']=='True'])\n",
    "plt.title(\"Post Permitted\")\n",
    "plt.show()\n",
    "\n",
    "plt.hist([math.log1p(int(x['newcomer.comments'])) for x in all_front_posts if x['visible']=='False'])\n",
    "plt.title(\"Post Removed\")\n",
    "plt.show()"
   ]
  },
  {
   "cell_type": "markdown",
   "metadata": {},
   "source": [
    "### Count the total number of comments from all front page posts"
   ]
  },
  {
   "cell_type": "code",
   "execution_count": 29,
   "metadata": {},
   "outputs": [
    {
     "name": "stdout",
     "output_type": "stream",
     "text": [
      "1940.560975609756 mean comments per front page article\n",
      "288.3983739837398 mean newcomer comments per front page article\n"
     ]
    }
   ],
   "source": [
    "print(\"{0} mean comments per front page article\".format(\n",
    "    np.mean([int(x['num.comments']) for x in all_front_posts])))\n",
    "\n",
    "print(\"{0} mean newcomer comments per front page article\".format(\n",
    "    np.mean([int(x['newcomer.comments']) for x in all_front_posts])))"
   ]
  },
  {
   "cell_type": "markdown",
   "metadata": {},
   "source": [
    "### Randomly sample 20 posts that appeared on the front page"
   ]
  },
  {
   "cell_type": "code",
   "execution_count": 34,
   "metadata": {},
   "outputs": [],
   "source": [
    "sample_size = 20\n",
    "\n",
    "#print(time.time())\n",
    "random_seed = 1523541732.4927142 \n",
    "random.seed(random_seed)\n",
    "sampled_front_posts = random.sample(all_front_posts, sample_size)"
   ]
  },
  {
   "cell_type": "code",
   "execution_count": 41,
   "metadata": {},
   "outputs": [
    {
     "name": "stdout",
     "output_type": "stream",
     "text": [
      "Sampled Front Page Posts\n",
      "Total expected comment count: 43577\n"
     ]
    },
    {
     "data": {
      "text/plain": [
       "['6ruzg0',\n",
       " '7btl9y',\n",
       " '71ai2z',\n",
       " '78l5ev',\n",
       " '7mmjij',\n",
       " '79770i',\n",
       " '6t85bx',\n",
       " '77laz8',\n",
       " '6whho2',\n",
       " '7dpvc7',\n",
       " '7e6kbn',\n",
       " '7c8xmx',\n",
       " '78fcij',\n",
       " '743jxw',\n",
       " '7f2r7k',\n",
       " '7fxy2o',\n",
       " '6s1mge',\n",
       " '6u9ip1',\n",
       " '70ni9a',\n",
       " '73w7un']"
      ]
     },
     "execution_count": 41,
     "metadata": {},
     "output_type": "execute_result"
    }
   ],
   "source": [
    "print(\"Sampled Front Page Posts\")\n",
    "print(\"Total expected comment count: {0}\".format(sum([int(x['num.comments']) for x in sampled_front_posts])))\n",
    "[x['id'] for x in sampled_front_posts]"
   ]
  },
  {
   "cell_type": "code",
   "execution_count": null,
   "metadata": {},
   "outputs": [],
   "source": []
  }
 ],
 "metadata": {
  "kernelspec": {
   "display_name": "Python 3",
   "language": "python",
   "name": "python3"
  },
  "language_info": {
   "codemirror_mode": {
    "name": "ipython",
    "version": 3
   },
   "file_extension": ".py",
   "mimetype": "text/x-python",
   "name": "python",
   "nbconvert_exporter": "python",
   "pygments_lexer": "ipython3",
   "version": "3.5.2"
  }
 },
 "nbformat": 4,
 "nbformat_minor": 2
}
