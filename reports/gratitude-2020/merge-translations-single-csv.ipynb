{
 "cells": [
  {
   "cell_type": "markdown",
   "metadata": {},
   "source": [
    "# Goal. \n",
    "create a single csv to programatically read i10ns strings from\n",
    "## manual tweak required\n",
    "1. \"ARABIC FINAL\" --> rename \"ARABIC_FINAL\"\n",
    "2. Persian - delete some front-matter sheets in xlsx\n",
    "3. replace all dates with '2019-08-02'\t'2020-02-11' (with quotes, very stupid read_excel bug)"
   ]
  },
  {
   "cell_type": "code",
   "execution_count": 1,
   "metadata": {},
   "outputs": [],
   "source": [
    "import pandas as pd\n",
    "import os"
   ]
  },
  {
   "cell_type": "code",
   "execution_count": 2,
   "metadata": {},
   "outputs": [
    {
     "data": {
      "text/plain": [
       "'1.0.4'"
      ]
     },
     "execution_count": 2,
     "metadata": {},
     "output_type": "execute_result"
    }
   ],
   "source": [
    "pd.__version__"
   ]
  },
  {
   "cell_type": "code",
   "execution_count": 3,
   "metadata": {},
   "outputs": [],
   "source": [
    "datadir = os.path.join(os.getenv('TRESORDIR'), 'CivilServant/projects/wikipedia-integration/gratitude-study/datasets/debrief-translations')"
   ]
  },
  {
   "cell_type": "code",
   "execution_count": 4,
   "metadata": {},
   "outputs": [],
   "source": [
    "l10ns_f = os.listdir(datadir)"
   ]
  },
  {
   "cell_type": "code",
   "execution_count": 5,
   "metadata": {},
   "outputs": [],
   "source": [
    "l10ns_f = [f for f in l10ns_f if f.endswith('.xlsx')]"
   ]
  },
  {
   "cell_type": "code",
   "execution_count": 6,
   "metadata": {},
   "outputs": [],
   "source": [
    "l10ns_n_f = {f.split('_')[1]: f for f in l10ns_f}"
   ]
  },
  {
   "cell_type": "code",
   "execution_count": 7,
   "metadata": {},
   "outputs": [
    {
     "data": {
      "text/plain": [
       "{'ARABIC': 'debrief matierials for translation_ARABIC_FINAL.xlsx',\n",
       " 'GERMAN': 'debrief matierials for translation_GERMAN_FINAL.xlsx',\n",
       " 'PERSIAN': 'debrief matierials for translation_PERSIAN_FINAL.xlsx',\n",
       " 'POLISH': 'debrief matierials for translation_POLISH_FINAL.xlsx'}"
      ]
     },
     "execution_count": 7,
     "metadata": {},
     "output_type": "execute_result"
    }
   ],
   "source": [
    "l10ns_n_f"
   ]
  },
  {
   "cell_type": "code",
   "execution_count": 8,
   "metadata": {},
   "outputs": [
    {
     "data": {
      "text/plain": [
       "{'ARABIC': 'debrief matierials for translation_ARABIC_FINAL.xlsx',\n",
       " 'GERMAN': 'debrief matierials for translation_GERMAN_FINAL.xlsx',\n",
       " 'PERSIAN': 'debrief matierials for translation_PERSIAN_FINAL.xlsx',\n",
       " 'POLISH': 'debrief matierials for translation_POLISH_FINAL.xlsx'}"
      ]
     },
     "execution_count": 8,
     "metadata": {},
     "output_type": "execute_result"
    }
   ],
   "source": [
    "l10ns_n_f"
   ]
  },
  {
   "cell_type": "code",
   "execution_count": 9,
   "metadata": {},
   "outputs": [],
   "source": [
    "thankee_l10ns = {n: pd.read_excel(os.path.join(datadir, f), sheet_name='Thankee') for n, f in l10ns_n_f.items()}\n",
    "thanker_l10ns = {n: pd.read_excel(os.path.join(datadir, f), sheet_name='Thanker') for n, f in l10ns_n_f.items()}"
   ]
  },
  {
   "cell_type": "code",
   "execution_count": 10,
   "metadata": {},
   "outputs": [
    {
     "data": {
      "text/plain": [
       "array(['table.1.title.left', 'table.1.title.right',\n",
       "       'table.1.subtitle.left.1', 'table.1.subtitle.left.2',\n",
       "       'table.1.subtitle.left.3', 'table.1.subtitle.left.4',\n",
       "       'table.1.subtitle.right.1', 'table.1.subtitle.right.2',\n",
       "       'table.1.subtitle.right.3', 'table.1.subtitle.right.4',\n",
       "       'table.1.index.1', 'table.1.index.2', 'table.1.index.3',\n",
       "       'table.1.index.4', 'table.1.index.5', 'table.1.index.6',\n",
       "       'table.1.index.7', 'table.1.caption', nan, 'start.date',\n",
       "       'end.date', 'end.caption.text', 'lab.anewc', 'lab.newc', 'lab.exp',\n",
       "       nan, 'labor.hours.plot.title', 'labor.hours.plot.caption\\n',\n",
       "       'labor.hours.ylab', nan, 'retention.plot.ylab',\n",
       "       'retention.plot.title ', 'retention.plot.caption', nan,\n",
       "       'thanks.sent.ylab', 'thanks.sent.plot.title',\n",
       "       'thanks.sent.plot.caption'], dtype=object)"
      ]
     },
     "execution_count": 10,
     "metadata": {},
     "output_type": "execute_result"
    }
   ],
   "source": [
    "thankee_l10ns['ARABIC']['{key} DO NOT TRANSLATE THIS COLUMN'].values"
   ]
  },
  {
   "cell_type": "code",
   "execution_count": 11,
   "metadata": {},
   "outputs": [
    {
     "name": "stdout",
     "output_type": "stream",
     "text": [
      "True\n"
     ]
    }
   ],
   "source": [
    "print('start.date' in thankee_l10ns['ARABIC']['{key} DO NOT TRANSLATE THIS COLUMN'].values)"
   ]
  },
  {
   "cell_type": "code",
   "execution_count": 12,
   "metadata": {},
   "outputs": [],
   "source": [
    "assert all([len(t.columns)==3 for t in thankee_l10ns.values()])"
   ]
  },
  {
   "cell_type": "code",
   "execution_count": 13,
   "metadata": {},
   "outputs": [],
   "source": [
    "def clean_l10n_df_dict(l10ns_df_dict):\n",
    "    clean_dfs = []\n",
    "    for lang, df in l10ns_df_dict.items():\n",
    "        df = df.iloc[:, :3] # select just first 2 columns\n",
    "        print(lang)\n",
    "        print('end.date' in df['{key} DO NOT TRANSLATE THIS COLUMN'].values)\n",
    "        new_columns = [x if i!=2 else lang for i, x in enumerate(df.columns)] # make third column language name\n",
    "        new_columns = [x.split('{')[1].split('}')[0] if '{' in x else x for x in new_columns] # remove curly braces if there\n",
    "        new_columns = [x.lower() for x in new_columns] # lower cas\n",
    "#         print(new_columns)\n",
    "        df.columns = new_columns\n",
    "        df = df[pd.notnull(df['key'])] # just the rows with keys\n",
    "        df['key'] = df['key'].apply(lambda s: s.strip())\n",
    "        clean_dfs.append(df)\n",
    "    return clean_dfs"
   ]
  },
  {
   "cell_type": "code",
   "execution_count": 14,
   "metadata": {},
   "outputs": [
    {
     "name": "stdout",
     "output_type": "stream",
     "text": [
      "POLISH\n",
      "True\n",
      "ARABIC\n",
      "True\n",
      "GERMAN\n",
      "True\n",
      "PERSIAN\n",
      "True\n",
      "POLISH\n",
      "False\n",
      "ARABIC\n",
      "False\n",
      "GERMAN\n",
      "False\n",
      "PERSIAN\n",
      "False\n"
     ]
    }
   ],
   "source": [
    "clean_thankee_l10ns = clean_l10n_df_dict(thankee_l10ns)\n",
    "clean_thanker_l10ns = clean_l10n_df_dict(thanker_l10ns)"
   ]
  },
  {
   "cell_type": "code",
   "execution_count": 15,
   "metadata": {},
   "outputs": [],
   "source": [
    "# next step combine in 5-wide df"
   ]
  },
  {
   "cell_type": "code",
   "execution_count": 16,
   "metadata": {},
   "outputs": [],
   "source": [
    "langs = thankee_l10ns.keys()"
   ]
  },
  {
   "cell_type": "code",
   "execution_count": 17,
   "metadata": {},
   "outputs": [
    {
     "data": {
      "text/html": [
       "<div>\n",
       "<style scoped>\n",
       "    .dataframe tbody tr th:only-of-type {\n",
       "        vertical-align: middle;\n",
       "    }\n",
       "\n",
       "    .dataframe tbody tr th {\n",
       "        vertical-align: top;\n",
       "    }\n",
       "\n",
       "    .dataframe thead th {\n",
       "        text-align: right;\n",
       "    }\n",
       "</style>\n",
       "<table border=\"1\" class=\"dataframe\">\n",
       "  <thead>\n",
       "    <tr style=\"text-align: right;\">\n",
       "      <th></th>\n",
       "      <th>key</th>\n",
       "      <th>english</th>\n",
       "      <th>arabic</th>\n",
       "    </tr>\n",
       "  </thead>\n",
       "  <tbody>\n",
       "    <tr>\n",
       "      <th>0</th>\n",
       "      <td>table.1.title.left</td>\n",
       "      <td>eligible participants</td>\n",
       "      <td>المشاركون المؤهلون</td>\n",
       "    </tr>\n",
       "    <tr>\n",
       "      <th>1</th>\n",
       "      <td>table.1.title.right</td>\n",
       "      <td>average outcome values for accounts that were ...</td>\n",
       "      <td>متوسط قيم النتائج للحسابات التي لم يتم تخصيصها...</td>\n",
       "    </tr>\n",
       "    <tr>\n",
       "      <th>2</th>\n",
       "      <td>table.1.subtitle.left.1</td>\n",
       "      <td>monthly active</td>\n",
       "      <td>القائمة النشطة الشهرية</td>\n",
       "    </tr>\n",
       "    <tr>\n",
       "      <th>3</th>\n",
       "      <td>table.1.subtitle.left.2</td>\n",
       "      <td>available during the study</td>\n",
       "      <td>متوفرة خلال الدراسة</td>\n",
       "    </tr>\n",
       "    <tr>\n",
       "      <th>4</th>\n",
       "      <td>table.1.subtitle.left.3</td>\n",
       "      <td>included in the study</td>\n",
       "      <td>مدرجة في الدراسة</td>\n",
       "    </tr>\n",
       "    <tr>\n",
       "      <th>5</th>\n",
       "      <td>table.1.subtitle.left.4</td>\n",
       "      <td>% of treatment thanked</td>\n",
       "      <td>تم شكر % من العينة</td>\n",
       "    </tr>\n",
       "    <tr>\n",
       "      <th>6</th>\n",
       "      <td>table.1.subtitle.right.1</td>\n",
       "      <td>two week retention rate</td>\n",
       "      <td>معدل الاستبقاء لمدة أسبوعين</td>\n",
       "    </tr>\n",
       "    <tr>\n",
       "      <th>7</th>\n",
       "      <td>table.1.subtitle.right.2</td>\n",
       "      <td>pre-study labor hours</td>\n",
       "      <td>ساعات العمل قبل الدراسة</td>\n",
       "    </tr>\n",
       "    <tr>\n",
       "      <th>8</th>\n",
       "      <td>table.1.subtitle.right.3</td>\n",
       "      <td>difference in daily labor hours</td>\n",
       "      <td>الفرق في ساعات العمل اليومية</td>\n",
       "    </tr>\n",
       "    <tr>\n",
       "      <th>9</th>\n",
       "      <td>table.1.subtitle.right.4</td>\n",
       "      <td>thanks sent</td>\n",
       "      <td>تم إرسال الشكر</td>\n",
       "    </tr>\n",
       "    <tr>\n",
       "      <th>10</th>\n",
       "      <td>table.1.index.1</td>\n",
       "      <td>Newcomers</td>\n",
       "      <td>المساهمون الجدد</td>\n",
       "    </tr>\n",
       "    <tr>\n",
       "      <th>11</th>\n",
       "      <td>table.1.index.2</td>\n",
       "      <td>Arabic</td>\n",
       "      <td>العربية</td>\n",
       "    </tr>\n",
       "    <tr>\n",
       "      <th>12</th>\n",
       "      <td>table.1.index.3</td>\n",
       "      <td>German</td>\n",
       "      <td>الألمانية</td>\n",
       "    </tr>\n",
       "    <tr>\n",
       "      <th>13</th>\n",
       "      <td>table.1.index.4</td>\n",
       "      <td>Polish</td>\n",
       "      <td>البولندية</td>\n",
       "    </tr>\n",
       "    <tr>\n",
       "      <th>14</th>\n",
       "      <td>table.1.index.5</td>\n",
       "      <td>Experienced</td>\n",
       "      <td>خبير</td>\n",
       "    </tr>\n",
       "    <tr>\n",
       "      <th>15</th>\n",
       "      <td>table.1.index.6</td>\n",
       "      <td>Persian</td>\n",
       "      <td>الفارسية</td>\n",
       "    </tr>\n",
       "    <tr>\n",
       "      <th>16</th>\n",
       "      <td>table.1.index.7</td>\n",
       "      <td>Polish</td>\n",
       "      <td>البولندية</td>\n",
       "    </tr>\n",
       "    <tr>\n",
       "      <th>17</th>\n",
       "      <td>table.1.caption</td>\n",
       "      <td>Data from the Wikipedia logs for the Arabic, G...</td>\n",
       "      <td>بيانات من سجلات ويكيبيديا العربية والألمانية و...</td>\n",
       "    </tr>\n",
       "    <tr>\n",
       "      <th>19</th>\n",
       "      <td>start.date</td>\n",
       "      <td>'2019-08-02'</td>\n",
       "      <td>'2019-08-02'</td>\n",
       "    </tr>\n",
       "    <tr>\n",
       "      <th>20</th>\n",
       "      <td>end.date</td>\n",
       "      <td>'2020-02-11'</td>\n",
       "      <td>'2020-02-11'</td>\n",
       "    </tr>\n",
       "  </tbody>\n",
       "</table>\n",
       "</div>"
      ],
      "text/plain": [
       "                         key  \\\n",
       "0         table.1.title.left   \n",
       "1        table.1.title.right   \n",
       "2    table.1.subtitle.left.1   \n",
       "3    table.1.subtitle.left.2   \n",
       "4    table.1.subtitle.left.3   \n",
       "5    table.1.subtitle.left.4   \n",
       "6   table.1.subtitle.right.1   \n",
       "7   table.1.subtitle.right.2   \n",
       "8   table.1.subtitle.right.3   \n",
       "9   table.1.subtitle.right.4   \n",
       "10           table.1.index.1   \n",
       "11           table.1.index.2   \n",
       "12           table.1.index.3   \n",
       "13           table.1.index.4   \n",
       "14           table.1.index.5   \n",
       "15           table.1.index.6   \n",
       "16           table.1.index.7   \n",
       "17           table.1.caption   \n",
       "19                start.date   \n",
       "20                  end.date   \n",
       "\n",
       "                                              english  \\\n",
       "0                               eligible participants   \n",
       "1   average outcome values for accounts that were ...   \n",
       "2                                      monthly active   \n",
       "3                          available during the study   \n",
       "4                               included in the study   \n",
       "5                              % of treatment thanked   \n",
       "6                             two week retention rate   \n",
       "7                               pre-study labor hours   \n",
       "8                     difference in daily labor hours   \n",
       "9                                         thanks sent   \n",
       "10                                          Newcomers   \n",
       "11                                             Arabic   \n",
       "12                                             German   \n",
       "13                                             Polish   \n",
       "14                                        Experienced   \n",
       "15                                            Persian   \n",
       "16                                             Polish   \n",
       "17  Data from the Wikipedia logs for the Arabic, G...   \n",
       "19                                       '2019-08-02'   \n",
       "20                                       '2020-02-11'   \n",
       "\n",
       "                                               arabic  \n",
       "0                                  المشاركون المؤهلون  \n",
       "1   متوسط قيم النتائج للحسابات التي لم يتم تخصيصها...  \n",
       "2                              القائمة النشطة الشهرية  \n",
       "3                                 متوفرة خلال الدراسة  \n",
       "4                                    مدرجة في الدراسة  \n",
       "5                                  تم شكر % من العينة  \n",
       "6                         معدل الاستبقاء لمدة أسبوعين  \n",
       "7                             ساعات العمل قبل الدراسة  \n",
       "8                        الفرق في ساعات العمل اليومية  \n",
       "9                                      تم إرسال الشكر  \n",
       "10                                    المساهمون الجدد  \n",
       "11                                            العربية  \n",
       "12                                          الألمانية  \n",
       "13                                          البولندية  \n",
       "14                                               خبير  \n",
       "15                                           الفارسية  \n",
       "16                                          البولندية  \n",
       "17  بيانات من سجلات ويكيبيديا العربية والألمانية و...  \n",
       "19                                       '2019-08-02'  \n",
       "20                                       '2020-02-11'  "
      ]
     },
     "execution_count": 17,
     "metadata": {},
     "output_type": "execute_result"
    }
   ],
   "source": [
    "clean_thankee_l10ns[1].head(20)"
   ]
  },
  {
   "cell_type": "code",
   "execution_count": 18,
   "metadata": {},
   "outputs": [],
   "source": [
    "def make_wide(df_list):\n",
    "    ret_df, rest_dfs = df_list[0], df_list[1:]\n",
    "    for other_df in rest_dfs:\n",
    "        ret_df = pd.merge(ret_df, other_df, on=['key', 'english'])\n",
    "    return ret_df"
   ]
  },
  {
   "cell_type": "code",
   "execution_count": 19,
   "metadata": {},
   "outputs": [],
   "source": [
    "thankee_wide = make_wide(clean_thankee_l10ns)"
   ]
  },
  {
   "cell_type": "code",
   "execution_count": 20,
   "metadata": {},
   "outputs": [
    {
     "data": {
      "text/plain": [
       "(33, 6)"
      ]
     },
     "execution_count": 20,
     "metadata": {},
     "output_type": "execute_result"
    }
   ],
   "source": [
    "thankee_wide.shape"
   ]
  },
  {
   "cell_type": "code",
   "execution_count": 21,
   "metadata": {},
   "outputs": [],
   "source": [
    "thanker_wide = make_wide(clean_thanker_l10ns)"
   ]
  },
  {
   "cell_type": "code",
   "execution_count": 22,
   "metadata": {},
   "outputs": [
    {
     "data": {
      "text/plain": [
       "(24, 6)"
      ]
     },
     "execution_count": 22,
     "metadata": {},
     "output_type": "execute_result"
    }
   ],
   "source": [
    "thanker_wide.shape"
   ]
  },
  {
   "cell_type": "code",
   "execution_count": 23,
   "metadata": {},
   "outputs": [],
   "source": [
    "# make the thanker one unique\n",
    "thanker_wide['key'] = thanker_wide['key'].apply(lambda x: f'thanker.{x}')"
   ]
  },
  {
   "cell_type": "code",
   "execution_count": 24,
   "metadata": {},
   "outputs": [],
   "source": [
    "# next step combine thanker and thankee into single df"
   ]
  },
  {
   "cell_type": "code",
   "execution_count": 25,
   "metadata": {},
   "outputs": [],
   "source": [
    "fin_df = pd.concat([thankee_wide, thanker_wide])"
   ]
  },
  {
   "cell_type": "code",
   "execution_count": 26,
   "metadata": {},
   "outputs": [
    {
     "data": {
      "text/html": [
       "<div>\n",
       "<style scoped>\n",
       "    .dataframe tbody tr th:only-of-type {\n",
       "        vertical-align: middle;\n",
       "    }\n",
       "\n",
       "    .dataframe tbody tr th {\n",
       "        vertical-align: top;\n",
       "    }\n",
       "\n",
       "    .dataframe thead th {\n",
       "        text-align: right;\n",
       "    }\n",
       "</style>\n",
       "<table border=\"1\" class=\"dataframe\">\n",
       "  <thead>\n",
       "    <tr style=\"text-align: right;\">\n",
       "      <th></th>\n",
       "      <th>key</th>\n",
       "      <th>english</th>\n",
       "      <th>polish</th>\n",
       "      <th>arabic</th>\n",
       "      <th>german</th>\n",
       "      <th>persian</th>\n",
       "    </tr>\n",
       "  </thead>\n",
       "  <tbody>\n",
       "    <tr>\n",
       "      <th>0</th>\n",
       "      <td>table.1.title.left</td>\n",
       "      <td>eligible participants</td>\n",
       "      <td>uczestnicy spełniający wymagania</td>\n",
       "      <td>المشاركون المؤهلون</td>\n",
       "      <td>geeignete Teilnehmer</td>\n",
       "      <td>شرکت کنندگان واجد شرایط</td>\n",
       "    </tr>\n",
       "    <tr>\n",
       "      <th>1</th>\n",
       "      <td>table.1.title.right</td>\n",
       "      <td>average outcome values for accounts that were ...</td>\n",
       "      <td>przypisani do otrzymania podziękowań (grupa ko...</td>\n",
       "      <td>متوسط قيم النتائج للحسابات التي لم يتم تخصيصها...</td>\n",
       "      <td>durchschnittliche Ergebniswerte für Accounts, ...</td>\n",
       "      <td>میانگین متوسط نتيجه برای کاربرانی که تشکر برای...</td>\n",
       "    </tr>\n",
       "    <tr>\n",
       "      <th>2</th>\n",
       "      <td>table.1.subtitle.left.1</td>\n",
       "      <td>monthly active</td>\n",
       "      <td>miesięcznie aktywny</td>\n",
       "      <td>القائمة النشطة الشهرية</td>\n",
       "      <td>monatlich aktiv</td>\n",
       "      <td>فعال در طول ماه</td>\n",
       "    </tr>\n",
       "    <tr>\n",
       "      <th>3</th>\n",
       "      <td>table.1.subtitle.left.2</td>\n",
       "      <td>available during the study</td>\n",
       "      <td>dostępny podczas badania</td>\n",
       "      <td>متوفرة خلال الدراسة</td>\n",
       "      <td>während der Studie verfügbar</td>\n",
       "      <td>قابل دسترس در طول پژوهش</td>\n",
       "    </tr>\n",
       "    <tr>\n",
       "      <th>4</th>\n",
       "      <td>table.1.subtitle.left.3</td>\n",
       "      <td>included in the study</td>\n",
       "      <td>uwzględniony w badaniu</td>\n",
       "      <td>مدرجة في الدراسة</td>\n",
       "      <td>in die Studie aufgenommen</td>\n",
       "      <td>در پژوهش گنجانیده شده</td>\n",
       "    </tr>\n",
       "    <tr>\n",
       "      <th>5</th>\n",
       "      <td>table.1.subtitle.left.4</td>\n",
       "      <td>% of treatment thanked</td>\n",
       "      <td>% otrzymanych podziękowań</td>\n",
       "      <td>تم شكر % من العينة</td>\n",
       "      <td>% der Dankesempfänger in der Versuchsgruppe</td>\n",
       "      <td>درصد تجربه کسانی که مورد تشکر قرار گرفته شده اند</td>\n",
       "    </tr>\n",
       "    <tr>\n",
       "      <th>6</th>\n",
       "      <td>table.1.subtitle.right.1</td>\n",
       "      <td>two week retention rate</td>\n",
       "      <td>dwutygodniowy poziom utrzymania</td>\n",
       "      <td>معدل الاستبقاء لمدة أسبوعين</td>\n",
       "      <td>Bindungsrate über zwei Wochen</td>\n",
       "      <td>نرخ پایداری دو هفته</td>\n",
       "    </tr>\n",
       "    <tr>\n",
       "      <th>7</th>\n",
       "      <td>table.1.subtitle.right.2</td>\n",
       "      <td>pre-study labor hours</td>\n",
       "      <td>godziny robocze przed badaniem</td>\n",
       "      <td>ساعات العمل قبل الدراسة</td>\n",
       "      <td>Arbeitsstunden vor der Studie</td>\n",
       "      <td>ساعات کار پیش از پژوهش</td>\n",
       "    </tr>\n",
       "    <tr>\n",
       "      <th>8</th>\n",
       "      <td>table.1.subtitle.right.3</td>\n",
       "      <td>difference in daily labor hours</td>\n",
       "      <td>różnica w godzinach roboczych na dzień</td>\n",
       "      <td>الفرق في ساعات العمل اليومية</td>\n",
       "      <td>Differenz der Arbeitsstunden pro Tag</td>\n",
       "      <td>تفاوت در ميزان ساعات کار روزانه</td>\n",
       "    </tr>\n",
       "    <tr>\n",
       "      <th>9</th>\n",
       "      <td>table.1.subtitle.right.4</td>\n",
       "      <td>thanks sent</td>\n",
       "      <td>wysłane podziękowania</td>\n",
       "      <td>تم إرسال الشكر</td>\n",
       "      <td>verschickte Dankesnachrichten</td>\n",
       "      <td>ميزان تشکرهای ارسال شده</td>\n",
       "    </tr>\n",
       "    <tr>\n",
       "      <th>10</th>\n",
       "      <td>table.1.index.1</td>\n",
       "      <td>Newcomers</td>\n",
       "      <td>nowi użytkownicy</td>\n",
       "      <td>المساهمون الجدد</td>\n",
       "      <td>Neulinge</td>\n",
       "      <td>تازه واردان</td>\n",
       "    </tr>\n",
       "    <tr>\n",
       "      <th>11</th>\n",
       "      <td>table.1.index.2</td>\n",
       "      <td>Arabic</td>\n",
       "      <td>arabski</td>\n",
       "      <td>العربية</td>\n",
       "      <td>arabisch</td>\n",
       "      <td>عربی</td>\n",
       "    </tr>\n",
       "    <tr>\n",
       "      <th>12</th>\n",
       "      <td>table.1.index.3</td>\n",
       "      <td>German</td>\n",
       "      <td>niemiecki</td>\n",
       "      <td>الألمانية</td>\n",
       "      <td>deutsch</td>\n",
       "      <td>آلمانی</td>\n",
       "    </tr>\n",
       "    <tr>\n",
       "      <th>13</th>\n",
       "      <td>table.1.index.4</td>\n",
       "      <td>Polish</td>\n",
       "      <td>polski</td>\n",
       "      <td>البولندية</td>\n",
       "      <td>polnisch</td>\n",
       "      <td>لهستانی</td>\n",
       "    </tr>\n",
       "    <tr>\n",
       "      <th>14</th>\n",
       "      <td>table.1.index.5</td>\n",
       "      <td>Experienced</td>\n",
       "      <td>doświadczony</td>\n",
       "      <td>خبير</td>\n",
       "      <td>erfahren</td>\n",
       "      <td>باتجربه</td>\n",
       "    </tr>\n",
       "    <tr>\n",
       "      <th>15</th>\n",
       "      <td>table.1.index.6</td>\n",
       "      <td>Persian</td>\n",
       "      <td>perski</td>\n",
       "      <td>الفارسية</td>\n",
       "      <td>iranisch</td>\n",
       "      <td>فارس</td>\n",
       "    </tr>\n",
       "    <tr>\n",
       "      <th>16</th>\n",
       "      <td>table.1.index.7</td>\n",
       "      <td>Polish</td>\n",
       "      <td>polski</td>\n",
       "      <td>البولندية</td>\n",
       "      <td>polnisch</td>\n",
       "      <td>لهستانی</td>\n",
       "    </tr>\n",
       "    <tr>\n",
       "      <th>17</th>\n",
       "      <td>table.1.caption</td>\n",
       "      <td>Data from the Wikipedia logs for the Arabic, G...</td>\n",
       "      <td>Dane z logów Wikipedii dla arabskiej, niemieck...</td>\n",
       "      <td>بيانات من سجلات ويكيبيديا العربية والألمانية و...</td>\n",
       "      <td>Protokolldateien der arabischen, deutschen, po...</td>\n",
       "      <td>اطلاعات مربوط به ویکی پدیا برای ویکی پدیا های ...</td>\n",
       "    </tr>\n",
       "    <tr>\n",
       "      <th>18</th>\n",
       "      <td>start.date</td>\n",
       "      <td>'2019-08-02'</td>\n",
       "      <td>'2019-08-02'</td>\n",
       "      <td>'2019-08-02'</td>\n",
       "      <td>'2019-08-02'</td>\n",
       "      <td>۲۰۱۹ـ۰۸ـ۰۲</td>\n",
       "    </tr>\n",
       "    <tr>\n",
       "      <th>19</th>\n",
       "      <td>end.date</td>\n",
       "      <td>'2020-02-11'</td>\n",
       "      <td>'2020-02-11'</td>\n",
       "      <td>'2020-02-11'</td>\n",
       "      <td>'2020-02-11'</td>\n",
       "      <td>۲۰۲۰ـ۰۲ـ۱۱</td>\n",
       "    </tr>\n",
       "  </tbody>\n",
       "</table>\n",
       "</div>"
      ],
      "text/plain": [
       "                         key  \\\n",
       "0         table.1.title.left   \n",
       "1        table.1.title.right   \n",
       "2    table.1.subtitle.left.1   \n",
       "3    table.1.subtitle.left.2   \n",
       "4    table.1.subtitle.left.3   \n",
       "5    table.1.subtitle.left.4   \n",
       "6   table.1.subtitle.right.1   \n",
       "7   table.1.subtitle.right.2   \n",
       "8   table.1.subtitle.right.3   \n",
       "9   table.1.subtitle.right.4   \n",
       "10           table.1.index.1   \n",
       "11           table.1.index.2   \n",
       "12           table.1.index.3   \n",
       "13           table.1.index.4   \n",
       "14           table.1.index.5   \n",
       "15           table.1.index.6   \n",
       "16           table.1.index.7   \n",
       "17           table.1.caption   \n",
       "18                start.date   \n",
       "19                  end.date   \n",
       "\n",
       "                                              english  \\\n",
       "0                               eligible participants   \n",
       "1   average outcome values for accounts that were ...   \n",
       "2                                      monthly active   \n",
       "3                          available during the study   \n",
       "4                               included in the study   \n",
       "5                              % of treatment thanked   \n",
       "6                             two week retention rate   \n",
       "7                               pre-study labor hours   \n",
       "8                     difference in daily labor hours   \n",
       "9                                         thanks sent   \n",
       "10                                          Newcomers   \n",
       "11                                             Arabic   \n",
       "12                                             German   \n",
       "13                                             Polish   \n",
       "14                                        Experienced   \n",
       "15                                            Persian   \n",
       "16                                             Polish   \n",
       "17  Data from the Wikipedia logs for the Arabic, G...   \n",
       "18                                       '2019-08-02'   \n",
       "19                                       '2020-02-11'   \n",
       "\n",
       "                                               polish  \\\n",
       "0                    uczestnicy spełniający wymagania   \n",
       "1   przypisani do otrzymania podziękowań (grupa ko...   \n",
       "2                                 miesięcznie aktywny   \n",
       "3                            dostępny podczas badania   \n",
       "4                              uwzględniony w badaniu   \n",
       "5                           % otrzymanych podziękowań   \n",
       "6                     dwutygodniowy poziom utrzymania   \n",
       "7                      godziny robocze przed badaniem   \n",
       "8              różnica w godzinach roboczych na dzień   \n",
       "9                               wysłane podziękowania   \n",
       "10                                   nowi użytkownicy   \n",
       "11                                            arabski   \n",
       "12                                          niemiecki   \n",
       "13                                             polski   \n",
       "14                                       doświadczony   \n",
       "15                                             perski   \n",
       "16                                             polski   \n",
       "17  Dane z logów Wikipedii dla arabskiej, niemieck...   \n",
       "18                                       '2019-08-02'   \n",
       "19                                       '2020-02-11'   \n",
       "\n",
       "                                               arabic  \\\n",
       "0                                  المشاركون المؤهلون   \n",
       "1   متوسط قيم النتائج للحسابات التي لم يتم تخصيصها...   \n",
       "2                              القائمة النشطة الشهرية   \n",
       "3                                 متوفرة خلال الدراسة   \n",
       "4                                    مدرجة في الدراسة   \n",
       "5                                  تم شكر % من العينة   \n",
       "6                         معدل الاستبقاء لمدة أسبوعين   \n",
       "7                             ساعات العمل قبل الدراسة   \n",
       "8                        الفرق في ساعات العمل اليومية   \n",
       "9                                      تم إرسال الشكر   \n",
       "10                                    المساهمون الجدد   \n",
       "11                                            العربية   \n",
       "12                                          الألمانية   \n",
       "13                                          البولندية   \n",
       "14                                               خبير   \n",
       "15                                           الفارسية   \n",
       "16                                          البولندية   \n",
       "17  بيانات من سجلات ويكيبيديا العربية والألمانية و...   \n",
       "18                                       '2019-08-02'   \n",
       "19                                       '2020-02-11'   \n",
       "\n",
       "                                               german  \\\n",
       "0                                geeignete Teilnehmer   \n",
       "1   durchschnittliche Ergebniswerte für Accounts, ...   \n",
       "2                                     monatlich aktiv   \n",
       "3                        während der Studie verfügbar   \n",
       "4                           in die Studie aufgenommen   \n",
       "5         % der Dankesempfänger in der Versuchsgruppe   \n",
       "6                       Bindungsrate über zwei Wochen   \n",
       "7                       Arbeitsstunden vor der Studie   \n",
       "8                Differenz der Arbeitsstunden pro Tag   \n",
       "9                       verschickte Dankesnachrichten   \n",
       "10                                           Neulinge   \n",
       "11                                           arabisch   \n",
       "12                                            deutsch   \n",
       "13                                           polnisch   \n",
       "14                                           erfahren   \n",
       "15                                           iranisch   \n",
       "16                                           polnisch   \n",
       "17  Protokolldateien der arabischen, deutschen, po...   \n",
       "18                                       '2019-08-02'   \n",
       "19                                       '2020-02-11'   \n",
       "\n",
       "                                              persian  \n",
       "0                             شرکت کنندگان واجد شرایط  \n",
       "1   میانگین متوسط نتيجه برای کاربرانی که تشکر برای...  \n",
       "2                                     فعال در طول ماه  \n",
       "3                             قابل دسترس در طول پژوهش  \n",
       "4                               در پژوهش گنجانیده شده  \n",
       "5    درصد تجربه کسانی که مورد تشکر قرار گرفته شده اند  \n",
       "6                                 نرخ پایداری دو هفته  \n",
       "7                              ساعات کار پیش از پژوهش  \n",
       "8                     تفاوت در ميزان ساعات کار روزانه  \n",
       "9                             ميزان تشکرهای ارسال شده  \n",
       "10                                        تازه واردان  \n",
       "11                                               عربی  \n",
       "12                                             آلمانی  \n",
       "13                                           لهستانی   \n",
       "14                                            باتجربه  \n",
       "15                                               فارس  \n",
       "16                                            لهستانی  \n",
       "17  اطلاعات مربوط به ویکی پدیا برای ویکی پدیا های ...  \n",
       "18                                         ۲۰۱۹ـ۰۸ـ۰۲  \n",
       "19                                         ۲۰۲۰ـ۰۲ـ۱۱  "
      ]
     },
     "execution_count": 26,
     "metadata": {},
     "output_type": "execute_result"
    }
   ],
   "source": [
    "fin_df.head(20)"
   ]
  },
  {
   "cell_type": "code",
   "execution_count": 27,
   "metadata": {},
   "outputs": [],
   "source": [
    "out_f = os.path.join(datadir, 'l10ns_thanker_thankee_all.csv')\n",
    "fin_df.to_csv(out_f, index=False)"
   ]
  },
  {
   "cell_type": "code",
   "execution_count": 28,
   "metadata": {},
   "outputs": [
    {
     "data": {
      "text/plain": [
       "(57, 6)"
      ]
     },
     "execution_count": 28,
     "metadata": {},
     "output_type": "execute_result"
    }
   ],
   "source": [
    "fin_df.shape"
   ]
  }
 ],
 "metadata": {
  "kernelspec": {
   "display_name": "Python 3",
   "language": "python",
   "name": "python3"
  },
  "language_info": {
   "codemirror_mode": {
    "name": "ipython",
    "version": 3
   },
   "file_extension": ".py",
   "mimetype": "text/x-python",
   "name": "python",
   "nbconvert_exporter": "python",
   "pygments_lexer": "ipython3",
   "version": "3.6.9"
  }
 },
 "nbformat": 4,
 "nbformat_minor": 2
}
