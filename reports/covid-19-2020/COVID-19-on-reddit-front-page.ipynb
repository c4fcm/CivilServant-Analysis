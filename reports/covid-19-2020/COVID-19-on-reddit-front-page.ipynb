{
 "cells": [
  {
   "cell_type": "markdown",
   "metadata": {},
   "source": [
    "# COVID-19 on reddit's front page\n",
    "[J. Nathan Matias](https://natematias.com) and Eric Pennington\n",
    "\n",
    "March 14, 2020\n",
    "\n",
    "\n"
   ]
  },
  {
   "cell_type": "markdown",
   "metadata": {},
   "source": [
    "## Load System Environment"
   ]
  },
  {
   "cell_type": "code",
   "execution_count": 1,
   "metadata": {},
   "outputs": [
    {
     "name": "stdout",
     "output_type": "stream",
     "text": [
      "Logging to /usr/local/civilservant/platform/logs/CivilServant_production.log\n"
     ]
    }
   ],
   "source": [
    "%matplotlib inline\n",
    "import inspect, os, sys, copy, pytz, re, glob, csv, uuid, time, requests, math, jsonlines, datetime\n",
    "os.environ['AIRBRAKE_API_KEY'] = \"ca826dbd1a4594241c239bba825edd9f\" ## EDIT BEFORER USING\n",
    "os.environ['AIRBRAKE_PROJECT_ID'] = \"-1\" ## EDIT BEFORE USING\n",
    "\n",
    "import simplejson as json\n",
    "import pandas as pd\n",
    "from dateutil import parser\n",
    "import datetime\n",
    "import matplotlib.pyplot as plt   # Matplotlib for plotting\n",
    "import matplotlib.dates as md\n",
    "import numpy as np\n",
    "import seaborn as sns\n",
    "from collections import Counter, defaultdict\n",
    "utc=pytz.UTC\n",
    "\n",
    "ENV = \"production\"\n",
    "os.environ['CS_ENV'] = 'production'\n",
    "BASE_DIR = \"/usr/local/civilservant/platform\"\n",
    "sys.path.append(BASE_DIR)\n",
    "\n",
    "with open(os.path.join(BASE_DIR, \"config\") + \"/{env}.json\".format(env=ENV), \"r\") as config:\n",
    "  DBCONFIG = json.loads(config.read())\n",
    "\n",
    "### LOAD SQLALCHEMY\n",
    "from sqlalchemy import create_engine\n",
    "from sqlalchemy.orm import sessionmaker\n",
    "from sqlalchemy import text, and_, or_\n",
    "import sqlalchemy.orm.session\n",
    "import utils.common\n",
    "\n",
    "\n",
    "db_engine = create_engine(\"mysql://{user}:{password}@{host}/{database}\".format(\n",
    "    host = DBCONFIG['host'],\n",
    "    user = DBCONFIG['user'],\n",
    "    password = DBCONFIG['password'],\n",
    "    database = DBCONFIG['database']))\n",
    "DBSession = sessionmaker(bind=db_engine)\n",
    "db_session = DBSession()\n",
    "\n",
    "\n",
    "### LOAD PRAW\n",
    "#import reddit.connection\n",
    "#conn = reddit.connection.Connect(base_dir=BASE_DIR, env=\"jupyter\")\n",
    "\n",
    "from app.models import *\n",
    "from app.models import Base, SubredditPage, FrontPage, Subreddit, Post, ModAction\n",
    "from utils.common import PageType\n",
    "\n",
    "### FILTER OUT DEPRECATION WARNINGS ASSOCIATED WITH DECORATORS\n",
    "# https://github.com/ipython/ipython/issues/9242\n",
    "import warnings\n",
    "warnings.filterwarnings('ignore', category=DeprecationWarning, message='.*use @default decorator instead.*')"
   ]
  },
  {
   "cell_type": "markdown",
   "metadata": {},
   "source": [
    "## Settings"
   ]
  },
  {
   "cell_type": "code",
   "execution_count": 61,
   "metadata": {},
   "outputs": [],
   "source": [
    "#subreddit = sys.argv[2]\n",
    "opening_date = \"12/01/2019\"\n",
    "#opening_date = \"03/01/2020\"\n",
    "closing_date = \"03/15/2020\"\n",
    "\n",
    "bg_cache_file = \"front_page_posts_{0}_{1}.jsonl\".format(\n",
    "        opening_date.replace(\"/\",\"-\"), closing_date.replace(\"/\",\"-\"))\n",
    "\n",
    "#print(bg_cache_file)\n",
    "#print(\"front_page_posts_12-01-2019_03-14-2020.csv\")"
   ]
  },
  {
   "cell_type": "markdown",
   "metadata": {},
   "source": [
    "## Utility Methods"
   ]
  },
  {
   "cell_type": "markdown",
   "metadata": {},
   "source": [
    "#### Querying CivilServant"
   ]
  },
  {
   "cell_type": "code",
   "execution_count": 62,
   "metadata": {},
   "outputs": [],
   "source": [
    "\n",
    "## Query and construct rank vectors from CivilServant\n",
    "def construct_rank_vectors(is_subpage):\n",
    "    rank_vectors = {}   # rank_vectors[subid][pt][pid][page.created_at] = i\n",
    "    max_rank_vectors = {} # [pid][subid][pt] = i\n",
    "\n",
    "    for pt in [PageType.TOP, PageType.HOT]:\n",
    "        print(pt)\n",
    "        if is_subpage:\n",
    "            pages = db_session.query(SubredditPage).filter(and_(SubredditPage.page_type == pt.value,SubredditPage.created_at >= parser.parse(opening_date), SubredditPage.created_at <= parser.parse(closing_date)))\n",
    "        else:\n",
    "            pages = db_session.query(FrontPage).filter(and_(FrontPage.page_type == pt.value,\n",
    "                                                            FrontPage.created_at >= parser.parse(opening_date), \n",
    "                                                            FrontPage.created_at <= parser.parse(closing_date)))\n",
    "        for page in pages:\n",
    "            subid = \"FRONT PAGE\"\n",
    "            if is_subpage:\n",
    "                subid = page.subreddit_id\n",
    "            posts = json.loads(page.page_data)\n",
    "            for i,post in enumerate(posts):\n",
    "                pid = post['id']\n",
    "\n",
    "                #CURVE WORK\n",
    "                if subid not in rank_vectors:\n",
    "                    rank_vectors[subid] = {}\n",
    "                if pt not in rank_vectors[subid]:\n",
    "                    rank_vectors[subid][pt] = {}\n",
    "                if pid not in rank_vectors[subid][pt]:                \n",
    "                    rank_vectors[subid][pt][pid] = {}\n",
    "                rank_vectors[subid][pt][pid][page.created_at] = i\n",
    "\n",
    "                #MAX RANK WORK\n",
    "                if pid not in max_rank_vectors:\n",
    "                    max_rank_vectors[pid] = {}\n",
    "                if subid not in max_rank_vectors[pid]:\n",
    "                    max_rank_vectors[pid][subid] = {}\n",
    "                if (pt not in max_rank_vectors[pid][subid]) or (i < max_rank_vectors[pid][subid][pt]):\n",
    "                    # max rank = smallest number placement\n",
    "                    max_rank_vectors[pid][subid][pt] = i\n",
    "\n",
    "    return rank_vectors, max_rank_vectors"
   ]
  },
  {
   "cell_type": "markdown",
   "metadata": {},
   "source": [
    "#### Querying PushShift"
   ]
  },
  {
   "cell_type": "code",
   "execution_count": 63,
   "metadata": {},
   "outputs": [],
   "source": [
    "def getPSPosts(ids):\n",
    "    url = \"https://api.pushshift.io/reddit/search/submission/?ids={0}\".format(\n",
    "    \",\".join(ids)\n",
    "    )\n",
    "    r = requests.get(url)\n",
    "    data = json.loads(r.text)\n",
    "    return data['data']"
   ]
  },
  {
   "cell_type": "markdown",
   "metadata": {},
   "source": [
    "## Load List of Everything Appearing on Reddit's Front Page During COVID-19\n",
    "\n",
    "Date range: December 2019 - present\n",
    "\n",
    "(test: one week of reddit)"
   ]
  },
  {
   "cell_type": "code",
   "execution_count": 64,
   "metadata": {},
   "outputs": [
    {
     "name": "stdout",
     "output_type": "stream",
     "text": [
      "PageType.TOP\n",
      "PageType.HOT\n",
      "Completed rank vector collection from 65672 posts in in 35.990119 seconds\n"
     ]
    }
   ],
   "source": [
    "#srank_vectors, smax_rank_vectors = construct_rank_vectors(True)\n",
    "\n",
    "rank_vector_start = datetime.datetime.utcnow()\n",
    "\n",
    "frank_vectors, fmax_rank_vectors = construct_rank_vectors(False)\n",
    "\n",
    "rank_vector_end = datetime.datetime.utcnow()\n",
    "\n",
    "print(\"Completed rank vector collection from {0} posts in in {1} seconds\".format(\n",
    "    len(fmax_rank_vectors),\n",
    "    (rank_vector_end - rank_vector_start).total_seconds()\n",
    "))"
   ]
  },
  {
   "cell_type": "code",
   "execution_count": 65,
   "metadata": {},
   "outputs": [],
   "source": [
    "# print(\"Completed rank vector collection from {0} posts in in {1} seconds\".format(\n",
    "#     len(fmax_rank_vectors),\n",
    "#     (rank_vector_end - rank_vector_start).total_seconds()\n",
    "# ))"
   ]
  },
  {
   "cell_type": "markdown",
   "metadata": {},
   "source": [
    "## Query all posts appearing on the front page"
   ]
  },
  {
   "cell_type": "code",
   "execution_count": 66,
   "metadata": {},
   "outputs": [],
   "source": [
    "# dir(frank_vectors['FRONT PAGE'])\n",
    "# list(frank_vectors['FRONT PAGE'][PageType.TOP].keys())[0]\n",
    "# frank_vectors['FRONT PAGE'][PageType.TOP]['6zndrp']"
   ]
  },
  {
   "cell_type": "code",
   "execution_count": 67,
   "metadata": {},
   "outputs": [
    {
     "name": "stdout",
     "output_type": "stream",
     "text": [
      "21542 on top\n",
      "65672 total\n"
     ]
    }
   ],
   "source": [
    "fp_post_id_set = set(frank_vectors['FRONT PAGE'][PageType.TOP].keys())\n",
    "print(\"{0} on top\".format(len(fp_post_id_set)))\n",
    "fp_post_id_set.update(set(frank_vectors['FRONT PAGE'][PageType.HOT].keys()))\n",
    "print(\"{0} total\".format(len(fp_post_id_set)))\n",
    "fp_post_ids = list(fp_post_id_set)\n"
   ]
  },
  {
   "cell_type": "code",
   "execution_count": 68,
   "metadata": {},
   "outputs": [
    {
     "name": "stdout",
     "output_type": "stream",
     "text": [
      "LOAD FILE\n",
      "{0} not found. Querying from BG dataset.\n",
      "Loading 65672 posts with 66 queries. Estimate time: 1 minutes\n",
      "..................................................................\n",
      "Loading complete\n",
      "Finished writing to front_page_posts_12-01-2019_03-15-2020.jsonl\n",
      "Completed in 144.228294 seconds\n"
     ]
    }
   ],
   "source": [
    "all_posts = {}\n",
    "page_size = 1000\n",
    "courtesy_delay = 0.25\n",
    "est_query_time = 0.3\n",
    "\n",
    "bg_begin = datetime.datetime.utcnow()\n",
    "\n",
    "try:\n",
    "    print(\"LOAD FILE\")\n",
    "    with jsonlines.open(bg_cache_file) as r:\n",
    "        for post in r:\n",
    "            all_posts[post['id']] = post\n",
    "        print(\"Finished loading {0}\".format(bg_cache_file))\n",
    "    ## if you can't find the posts, then \n",
    "except FileNotFoundError:\n",
    "    ## dict of posts, with a key associated with the post ID\n",
    "    print(\"{0} not found. Querying from BG dataset.\")\n",
    "    print(\"Loading {0} posts with {1} queries. Estimate time: {2} minutes\".format(\n",
    "        len(fp_post_ids),\n",
    "        math.ceil(len(fp_post_ids)/page_size),\n",
    "        math.ceil(math.ceil((len(fp_post_ids)/page_size)*courtesy_delay + (len(fp_post_ids)/page_size)*est_query_time)/60)\n",
    "\n",
    "    ))\n",
    "\n",
    "    head = 0\n",
    "    tail = page_size\n",
    "    while(head <= len(fp_post_ids)):\n",
    "        sys.stdout.write(\".\")\n",
    "        sys.stdout.flush()\n",
    "        ids = fp_post_ids[head:tail]\n",
    "        if(len(ids)>0):\n",
    "            posts = getPSPosts(ids)\n",
    "            for post in posts:\n",
    "#                post['post_week'] = datetime.datetime.fromtimestamp(post['created_utc']).strftime(\"%Y%U\")\n",
    "                all_posts[post['id']] = post\n",
    "        time.sleep(courtesy_delay)\n",
    "        head += page_size\n",
    "        tail += page_size\n",
    "    print(\"\\nLoading complete\")\n",
    "    with jsonlines.open(bg_cache_file, \"w\") as w:\n",
    "        w.write_all(list(all_posts.values()))\n",
    "        print(\"Finished writing to {0}\".format(bg_cache_file))\n",
    "        \n",
    "bg_end = datetime.datetime.utcnow()\n",
    "\n",
    "print(\"Completed in {0} seconds\".format((bg_end - bg_begin).total_seconds()))"
   ]
  },
  {
   "cell_type": "markdown",
   "metadata": {},
   "source": [
    "# Analysis of Posts Appearing on the Front Page"
   ]
  },
  {
   "cell_type": "markdown",
   "metadata": {},
   "source": [
    "### Detect plausibly covid-19 related posts"
   ]
  },
  {
   "cell_type": "code",
   "execution_count": 81,
   "metadata": {},
   "outputs": [],
   "source": [
    "covid_tokens = ['coronavirus', \n",
    "                'covid',\n",
    "                'corona',\n",
    "                'wuhan',\n",
    "                'pandemic', \n",
    "                'outbreak',\n",
    "                'epidemic',\n",
    "                'cdc',\n",
    "                'social distance', 'self-isolate', 'self isolate',\n",
    "                'quarantine', \n",
    "                'sanitizer', 'toilet paper', \"TP\", 'wipes', \n",
    "                'world health',\n",
    "                'community spread']"
   ]
  },
  {
   "cell_type": "code",
   "execution_count": 82,
   "metadata": {},
   "outputs": [
    {
     "name": "stdout",
     "output_type": "stream",
     "text": [
      "\n",
      "Out of 65666 posts appearing on reddit front pages (TOP and HOT) \n",
      "between 12/01/2019 and 03/15/2020, 729 are covid-19 related (1.11%)\n"
     ]
    }
   ],
   "source": [
    "## iterate through posts and tag ones related to covid-19\n",
    "num_matches = 0\n",
    "total_reviewed = 0\n",
    "\n",
    "match_terms = defaultdict(list)\n",
    "\n",
    "for post_id, post in all_posts.items():\n",
    "    ltitle = post['title'].lower()\n",
    "    post['covid_19'] = False\n",
    "    for token in covid_tokens:\n",
    "        if ltitle.find(token) > -1:\n",
    "            post['covid_19'] = True\n",
    "            match_terms[token].append(ltitle)\n",
    "    if(post['covid_19']):\n",
    "        num_matches += 1\n",
    "    total_reviewed += 1\n",
    "            \n",
    "print(\"\"\"\n",
    "Out of {} posts appearing on reddit front pages (TOP and HOT) \n",
    "between {} and {}, {} are covid-19 related ({:.02f}%)\"\"\".format(\n",
    "    total_reviewed,\n",
    "    opening_date,\n",
    "    closing_date,\n",
    "    num_matches,\n",
    "    num_matches/len(all_posts)*100\n",
    "))"
   ]
  },
  {
   "cell_type": "markdown",
   "metadata": {},
   "source": [
    "### Most common domains"
   ]
  },
  {
   "cell_type": "code",
   "execution_count": 169,
   "metadata": {},
   "outputs": [
    {
     "data": {
      "text/plain": [
       "[('i.redd.it', 198),\n",
       " ('twitter.com', 33),\n",
       " ('i.imgur.com', 28),\n",
       " ('independent.co.uk', 22),\n",
       " ('businessinsider.com', 20),\n",
       " ('self.Showerthoughts', 16),\n",
       " ('cnbc.com', 13),\n",
       " ('v.redd.it', 11),\n",
       " ('scmp.com', 8),\n",
       " ('theguardian.com', 8),\n",
       " ('commondreams.org', 8),\n",
       " ('washingtonpost.com', 8),\n",
       " ('self.AskReddit', 7),\n",
       " ('imgur.com', 7),\n",
       " ('gfycat.com', 7)]"
      ]
     },
     "execution_count": 169,
     "metadata": {},
     "output_type": "execute_result"
    }
   ],
   "source": [
    "Counter([x['domain'] for x in list(all_posts.values()) if x['covid_19']]).most_common(15)"
   ]
  },
  {
   "cell_type": "markdown",
   "metadata": {},
   "source": [
    "### Maximum Rank Analysis\n",
    "(in this calculation, posts with a value of 0 appeared at the top of the list, and posts with a value of 100 appeared at the bottom of the list)"
   ]
  },
  {
   "cell_type": "code",
   "execution_count": 121,
   "metadata": {},
   "outputs": [],
   "source": [
    "rank_keys = {\n",
    "    PageType.HOT: \"hot\",\n",
    "    PageType.TOP: \"top\"\n",
    "}\n",
    "\n",
    "for post in all_posts.values():\n",
    "    post['max_hot'] = post['max_top'] = 0\n",
    "    post['front_top_seconds'] = post['front_hot_seconds'] = np.nan\n",
    "    \n",
    "    ## max rank column\n",
    "    if post['id'] in fmax_rank_vectors.keys():\n",
    "        max_rank = fmax_rank_vectors[post['id']]\n",
    "        for key,value in max_rank['FRONT PAGE'].items():\n",
    "            post['week'] = datetime.datetime.fromtimestamp(post['created_utc']).strftime(\"%Y%U\")\n",
    "            post[\"max_{0}\".format(rank_keys[key])] = value\n",
    "    ## time on front page (top)\n",
    "    \n",
    "    for key, value in frank_vectors['FRONT PAGE'].items():\n",
    "        if post['id'] in value.keys():\n",
    "            ranks = sorted(list(value[post['id']].items()), \n",
    "                           key=lambda x: x[0])\n",
    "            earliest_rank = ranks[0]\n",
    "            last_rank = ranks[-1]\n",
    "            post['front_{0}_seconds'.format(rank_keys[key])] = (last_rank[0] - earliest_rank[0]).total_seconds()\n",
    "        "
   ]
  },
  {
   "cell_type": "markdown",
   "metadata": {},
   "source": [
    "#### Average Maximum Rank"
   ]
  },
  {
   "cell_type": "code",
   "execution_count": 85,
   "metadata": {},
   "outputs": [
    {
     "name": "stdout",
     "output_type": "stream",
     "text": [
      "Average maximum rank (HOT) of NON-coronavirus content: 38.94\n",
      "Average maximum rank (HOT) of coronavirus content: 30.10\n"
     ]
    }
   ],
   "source": [
    "print(\"Average maximum rank (HOT) of NON-coronavirus content: {:0.2f}\".format(\n",
    "    np.mean([x['max_hot'] for x in all_posts.values() if x['covid_19']!=True])\n",
    "))\n",
    "print(\"Average maximum rank (HOT) of coronavirus content: {:0.2f}\".format(\n",
    "    np.mean([x['max_hot'] for x in all_posts.values() if x['covid_19']])\n",
    "))"
   ]
  },
  {
   "cell_type": "code",
   "execution_count": 86,
   "metadata": {},
   "outputs": [
    {
     "name": "stdout",
     "output_type": "stream",
     "text": [
      "Average maximum rank (TOP) of NON-coronavirus content: 15.79\n",
      "Average maximum rank (TOP) of coronavirus content: 15.20\n"
     ]
    }
   ],
   "source": [
    "print(\"Average maximum rank (TOP) of NON-coronavirus content: {:0.2f}\".format(\n",
    "    np.mean([x['max_top'] for x in all_posts.values() if x['covid_19']!=True])\n",
    "))\n",
    "print(\"Average maximum rank (TOP) of coronavirus content: {:0.2f}\".format(\n",
    "    np.mean([x['max_top'] for x in all_posts.values() if x['covid_19']])\n",
    "))"
   ]
  },
  {
   "cell_type": "markdown",
   "metadata": {},
   "source": [
    "#### Average Front Seconds"
   ]
  },
  {
   "cell_type": "code",
   "execution_count": 89,
   "metadata": {},
   "outputs": [
    {
     "name": "stdout",
     "output_type": "stream",
     "text": [
      "Average seconds on (HOT) of NON-coronavirus content: 14234.02\n",
      "Average seconds on (HOT) of coronavirus content: 14856.37\n"
     ]
    }
   ],
   "source": [
    "print(\"Average seconds on (HOT) of NON-coronavirus content: {:0.2f}\".format(\n",
    "    np.nanmean([x['front_hot_seconds'] for x in all_posts.values() if x['covid_19']!=True])\n",
    "))\n",
    "print(\"Average seconds on (HOT) of coronavirus content: {:0.2f}\".format(\n",
    "    np.nanmean([x['front_hot_seconds'] for x in all_posts.values() if x['covid_19']])\n",
    "))"
   ]
  },
  {
   "cell_type": "code",
   "execution_count": 90,
   "metadata": {},
   "outputs": [
    {
     "name": "stdout",
     "output_type": "stream",
     "text": [
      "Average seconds on (TOP) of NON-coronavirus content: 42416.16\n",
      "Average seconds on (TOP) of coronavirus content: 46081.46\n"
     ]
    }
   ],
   "source": [
    "print(\"Average seconds on (TOP) of NON-coronavirus content: {:0.2f}\".format(\n",
    "    np.nanmean([x['front_top_seconds'] for x in all_posts.values() if x['covid_19']!=True])\n",
    "))\n",
    "print(\"Average seconds on (TOP) of coronavirus content: {:0.2f}\".format(\n",
    "    np.nanmean([x['front_top_seconds'] for x in all_posts.values() if x['covid_19']])\n",
    "))"
   ]
  },
  {
   "cell_type": "code",
   "execution_count": 91,
   "metadata": {},
   "outputs": [],
   "source": [
    "top_posts_covid_19 = [x for x in all_posts.values() if x['covid_19']]\n",
    "top_covid_posts_df = pd.DataFrame(top_posts_covid_19)"
   ]
  },
  {
   "cell_type": "code",
   "execution_count": 92,
   "metadata": {},
   "outputs": [
    {
     "data": {
      "text/plain": [
       "'covid19_top_posts_front_page_12-01-2019_03-15-2020.csv'"
      ]
     },
     "execution_count": 92,
     "metadata": {},
     "output_type": "execute_result"
    }
   ],
   "source": [
    "top_posts_filename = \"covid19_top_posts_front_page_{0}_{1}.csv\".format(\n",
    "        opening_date.replace(\"/\",\"-\"), closing_date.replace(\"/\",\"-\"))\n",
    "top_posts_filename"
   ]
  },
  {
   "cell_type": "code",
   "execution_count": 131,
   "metadata": {},
   "outputs": [],
   "source": [
    "top_covid_posts_df.to_csv(top_posts_filename, columns=[\n",
    "    \"id\", \"title\", \"url\", \"week\", \"created_utc\", \"full_link\", \"is_self\", \"selftext\", \"is_video\", \"media\",\n",
    "    \"subreddit\", \"subreddit_id\", \"subreddit_subscribers\", \n",
    "    \"max_top\", \"front_top_seconds\", \n",
    "    \"max_hot\", \"front_hot_seconds\"\n",
    "])"
   ]
  },
  {
   "cell_type": "markdown",
   "metadata": {},
   "source": [
    "### Front Page Posts Per Day about COVID-19 on Reddit"
   ]
  },
  {
   "cell_type": "code",
   "execution_count": 108,
   "metadata": {},
   "outputs": [],
   "source": [
    "all_counts = Counter([datetime.datetime.fromtimestamp(x['created_utc']).strftime(\"%Y%m%d\") \n",
    "                      for x in top_posts_covid_19])\n",
    "\n",
    "elapsed_days = (parser.parse(closing_date) - parser.parse(opening_date)).days\n",
    "day_counts = {}\n",
    "for i in range(0,elapsed_days):\n",
    "    daykey = (parser.parse(opening_date) + datetime.timedelta(days=i)).strftime(\"%Y%m%d\") \n",
    "    if daykey in all_counts:\n",
    "        day_counts[daykey] = all_counts[daykey]\n",
    "    else:\n",
    "        day_counts[daykey] = 0\n",
    "        \n",
    "day_count_list = sorted([x for x in day_counts.items()], key=lambda x: x[0])"
   ]
  },
  {
   "cell_type": "code",
   "execution_count": 166,
   "metadata": {},
   "outputs": [
    {
     "data": {
      "image/png": "[encoded data removed]",
      "text/plain": [
       "<Figure size 1500x1500 with 1 Axes>"
      ]
     },
     "metadata": {},
     "output_type": "display_data"
    }
   ],
   "source": [
    "plt.figure(figsize=(5, 5), dpi= 300, facecolor='w', edgecolor='k')\n",
    "#plt.title(\"(DRAFT) Covid-19 posts per day promoted by reddit algorithms (TOP and HOT)(Dec 1 2019 - March 14 2020)\", fontsize=20)\n",
    "plt.scatter([x[0] for x in day_count_list], [x[1] for x in day_count_list])\n",
    "#plt.xticks([x[0] for x in day_count_list], [x[0] for x in day_count_list], rotation=45, fontsize=6)\n",
    "plt.ylabel(\"Posts Per Day\", fontsize=14)\n",
    "plt.show()"
   ]
  },
  {
   "cell_type": "markdown",
   "metadata": {},
   "source": [
    "#### Top 10 Subreddits"
   ]
  },
  {
   "cell_type": "code",
   "execution_count": 167,
   "metadata": {},
   "outputs": [
    {
     "data": {
      "text/plain": [
       "[('worldnews', 103),\n",
       " ('politics', 77),\n",
       " ('Coronavirus', 53),\n",
       " ('nottheonion', 19),\n",
       " ('memes', 17),\n",
       " ('funny', 16),\n",
       " ('Showerthoughts', 16),\n",
       " ('pics', 16),\n",
       " ('atheism', 13),\n",
       " ('science', 13)]"
      ]
     },
     "execution_count": 167,
     "metadata": {},
     "output_type": "execute_result"
    }
   ],
   "source": [
    "Counter([x['subreddit'] for x in list(all_posts.values()) if x['covid_19']]).most_common(10)"
   ]
  },
  {
   "cell_type": "code",
   "execution_count": 159,
   "metadata": {},
   "outputs": [
    {
     "data": {
      "text/plain": [
       "729"
      ]
     },
     "execution_count": 159,
     "metadata": {},
     "output_type": "execute_result"
    }
   ],
   "source": [
    "len([x['subreddit'] for x in list(all_posts.values()) if x['covid_19']])"
   ]
  },
  {
   "cell_type": "code",
   "execution_count": null,
   "metadata": {},
   "outputs": [],
   "source": []
  }
 ],
 "metadata": {
  "kernelspec": {
   "display_name": "Python 3",
   "language": "python",
   "name": "python3"
  },
  "language_info": {
   "codemirror_mode": {
    "name": "ipython",
    "version": 3
   },
   "file_extension": ".py",
   "mimetype": "text/x-python",
   "name": "python",
   "nbconvert_exporter": "python",
   "pygments_lexer": "ipython3",
   "version": "3.5.2"
  }
 },
 "nbformat": 4,
 "nbformat_minor": 2
}
