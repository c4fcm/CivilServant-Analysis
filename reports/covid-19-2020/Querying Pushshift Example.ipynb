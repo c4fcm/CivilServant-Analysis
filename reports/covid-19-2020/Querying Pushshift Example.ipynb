{
 "cells": [
  {
   "cell_type": "markdown",
   "metadata": {},
   "source": [
    "# Querying Pushshift for IDs"
   ]
  },
  {
   "cell_type": "code",
   "execution_count": 20,
   "metadata": {},
   "outputs": [],
   "source": [
    "import pandas as pd\n",
    "import requests\n",
    "import string\n",
    "import json\n",
    "import csv\n",
    "import time\n",
    "import datetime"
   ]
  },
  {
   "cell_type": "code",
   "execution_count": 25,
   "metadata": {},
   "outputs": [],
   "source": [
    "def getPushshiftData(ids):\n",
    "    url = \"https://api.pushshift.io/reddit/search/submission/?ids={0}\".format(\n",
    "    \",\".join(ids)\n",
    "    )\n",
    "    print(url)\n",
    "    r = requests.get(url)\n",
    "    data = json.loads(r.text)\n",
    "    return data['data']"
   ]
  },
  {
   "cell_type": "code",
   "execution_count": 26,
   "metadata": {},
   "outputs": [
    {
     "name": "stdout",
     "output_type": "stream",
     "text": [
      "https://api.pushshift.io/reddit/search/submission/?ids=6zndrp,626bua,b4vwf8,d8c640,540ot0,7wqf5r,d3756v,7pd1lr,eapuya,daenh3\n"
     ]
    }
   ],
   "source": [
    "x = getPushshiftData(['6zndrp', '626bua', 'b4vwf8', 'd8c640', '540ot0', '7wqf5r', 'd3756v', '7pd1lr', 'eapuya', 'daenh3'])"
   ]
  },
  {
   "cell_type": "code",
   "execution_count": 29,
   "metadata": {},
   "outputs": [
    {
     "data": {
      "text/plain": [
       "{'author': 'embrionyc',\n",
       " 'author_created_utc': 1286387967,\n",
       " 'author_fullname': 't2_4eow2',\n",
       " 'contest_mode': False,\n",
       " 'created_utc': 1474571976,\n",
       " 'domain': 'imgur.com',\n",
       " 'full_link': 'https://www.reddit.com/r/lifehacks/comments/540ot0/one_time_i_tried_putting_an_avocado_in_a_beer/',\n",
       " 'gilded': 0,\n",
       " 'id': '540ot0',\n",
       " 'is_self': False,\n",
       " 'locked': False,\n",
       " 'media_embed': {},\n",
       " 'num_comments': 321,\n",
       " 'over_18': False,\n",
       " 'permalink': '/r/lifehacks/comments/540ot0/one_time_i_tried_putting_an_avocado_in_a_beer/',\n",
       " 'post_hint': 'link',\n",
       " 'preview': {'images': [{'id': 'm8XmmbdGWdyvv9lq-H-c2FUjf7au0Q0qxuN_JCHBHSA',\n",
       "    'resolutions': [{'height': 81,\n",
       "      'url': 'https://i.redditmedia.com/6qbJ1yohyMLGHz9V3PQNNZJ7v99H5JCcDZwsRnFqNEU.jpg?fit=crop&amp;crop=faces%2Centropy&amp;arh=2&amp;w=108&amp;s=0bb2a894763bd36b341806ac7eb5dfcb',\n",
       "      'width': 108},\n",
       "     {'height': 162,\n",
       "      'url': 'https://i.redditmedia.com/6qbJ1yohyMLGHz9V3PQNNZJ7v99H5JCcDZwsRnFqNEU.jpg?fit=crop&amp;crop=faces%2Centropy&amp;arh=2&amp;w=216&amp;s=346e64495dd70e4677c6a8fc90e0190f',\n",
       "      'width': 216},\n",
       "     {'height': 240,\n",
       "      'url': 'https://i.redditmedia.com/6qbJ1yohyMLGHz9V3PQNNZJ7v99H5JCcDZwsRnFqNEU.jpg?fit=crop&amp;crop=faces%2Centropy&amp;arh=2&amp;w=320&amp;s=8307ae6827b86d9c011209358f40b46d',\n",
       "      'width': 320},\n",
       "     {'height': 480,\n",
       "      'url': 'https://i.redditmedia.com/6qbJ1yohyMLGHz9V3PQNNZJ7v99H5JCcDZwsRnFqNEU.jpg?fit=crop&amp;crop=faces%2Centropy&amp;arh=2&amp;w=640&amp;s=04613d37949f50ca1b5bfa3662293df8',\n",
       "      'width': 640},\n",
       "     {'height': 720,\n",
       "      'url': 'https://i.redditmedia.com/6qbJ1yohyMLGHz9V3PQNNZJ7v99H5JCcDZwsRnFqNEU.jpg?fit=crop&amp;crop=faces%2Centropy&amp;arh=2&amp;w=960&amp;s=8b9d87103d46dd19984c51fa3ece12d1',\n",
       "      'width': 960},\n",
       "     {'height': 810,\n",
       "      'url': 'https://i.redditmedia.com/6qbJ1yohyMLGHz9V3PQNNZJ7v99H5JCcDZwsRnFqNEU.jpg?fit=crop&amp;crop=faces%2Centropy&amp;arh=2&amp;w=1080&amp;s=adad9c17bc5c8c511f1a07276fb5d0e1',\n",
       "      'width': 1080}],\n",
       "    'source': {'height': 1536,\n",
       "     'url': 'https://i.redditmedia.com/6qbJ1yohyMLGHz9V3PQNNZJ7v99H5JCcDZwsRnFqNEU.jpg?s=f8483a228fd03e525e1954e97fa24647',\n",
       "     'width': 2048},\n",
       "    'variants': {}}]},\n",
       " 'retrieved_on': 1476442928,\n",
       " 'score': 4693,\n",
       " 'secure_media_embed': {},\n",
       " 'selftext': '',\n",
       " 'stickied': False,\n",
       " 'subreddit': 'lifehacks',\n",
       " 'subreddit_id': 't5_2qj5n',\n",
       " 'thumbnail': 'http://a.thumbs.redditmedia.com/pGHHS3sutnVr_AlIqL75FKRnZ8rdsLx_QrfzT-C2q70.jpg',\n",
       " 'title': 'One time I tried putting an avocado in a beer koozie and it was ripe the next day. Been doing it ever since.',\n",
       " 'url': 'http://imgur.com/gallery/RNB3L'}"
      ]
     },
     "execution_count": 29,
     "metadata": {},
     "output_type": "execute_result"
    }
   ],
   "source": [
    "x[0]"
   ]
  },
  {
   "cell_type": "code",
   "execution_count": null,
   "metadata": {},
   "outputs": [],
   "source": []
  }
 ],
 "metadata": {
  "kernelspec": {
   "display_name": "Python 3",
   "language": "python",
   "name": "python3"
  },
  "language_info": {
   "codemirror_mode": {
    "name": "ipython",
    "version": 3
   },
   "file_extension": ".py",
   "mimetype": "text/x-python",
   "name": "python",
   "nbconvert_exporter": "python",
   "pygments_lexer": "ipython3",
   "version": "3.5.2"
  }
 },
 "nbformat": 4,
 "nbformat_minor": 2
}
