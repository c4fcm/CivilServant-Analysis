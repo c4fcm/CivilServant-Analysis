{
 "cells": [
  {
   "cell_type": "code",
   "execution_count": 974,
   "metadata": {
    "collapsed": false
   },
   "outputs": [],
   "source": [
    "%matplotlib inline\n",
    "import inspect, os, sys, copy, pytz, re, glob, math, heapq\n",
    "import simplejson as json\n",
    "import pandas as pd\n",
    "from dateutil import parser\n",
    "import datetime\n",
    "import matplotlib.pyplot as plt   # Matplotlib for plotting\n",
    "import matplotlib.dates as md\n",
    "import numpy as np\n",
    "import seaborn as sns\n",
    "from collections import Counter, defaultdict\n",
    "import re, urllib\n",
    "\n",
    "utc=pytz.UTC\n",
    "\n",
    "ENV = \"production\"\n",
    "os.environ['CS_ENV'] = 'production'\n",
    "BASE_DIR = \"/home/nathan/CivilServant\"\n",
    "sys.path.append(BASE_DIR)\n",
    "subreddit_id = \"2qh13\"\n",
    "\n",
    "ARCHIVE_DIR = \"/home/nathan/reddit_archive/03.2017\"\n",
    "\n",
    "with open(os.path.join(BASE_DIR, \"config\") + \"/{env}.json\".format(env=ENV), \"r\") as config:\n",
    "  DBCONFIG = json.loads(config.read())\n",
    "\n",
    "### LOAD SQLALCHEMY\n",
    "from sqlalchemy import create_engine\n",
    "from sqlalchemy.orm import sessionmaker\n",
    "from sqlalchemy import text, and_, or_\n",
    "from app.models import Base, SubredditPage, FrontPage, Subreddit, Post, ModAction, Experiment\n",
    "from utils.common import PageType\n",
    "\n",
    "db_engine = create_engine(\"mysql://{user}:{password}@{host}/{database}\".format(\n",
    "    host = DBCONFIG['host'],\n",
    "    user = DBCONFIG['user'],\n",
    "    password = DBCONFIG['password'],\n",
    "    database = DBCONFIG['database']))\n",
    "DBSession = sessionmaker(bind=db_engine)\n",
    "db_session = DBSession()\n",
    "\n",
    "### LOAD PRAW\n",
    "import reddit.connection\n",
    "conn = reddit.connection.Connect(base_dir=BASE_DIR, env=\"jupyter\")\n",
    "#r = conn.connect()\n",
    "\n",
    "### FILTER OUT DEPRECATION WARNINGS ASSOCIATED WITH DECORATORS\n",
    "# https://github.com/ipython/ipython/issues/9242\n",
    "import warnings\n",
    "warnings.filterwarnings('ignore', category=DeprecationWarning, message='.*use @default decorator instead.*')\n",
    "\n"
   ]
  },
  {
   "cell_type": "markdown",
   "metadata": {},
   "source": [
    "# Estimating Interference on AI Nudge Study Rankings with an Interrupted Timeseries"
   ]
  },
  {
   "cell_type": "code",
   "execution_count": 975,
   "metadata": {
    "collapsed": false
   },
   "outputs": [],
   "source": [
    "experiment_begin = \"2016-11-27 17:04:19\"\n",
    "experiment_end_date = '2017-02-18 00:00:00'\n",
    "post_experiment_end_date = '2017-04-18 00:00:00'\n",
    "post_experiment_end_date_daylater = '2017-04-19 00:00:00'\n",
    "three_hundred_begin_date = utc.localize(datetime.datetime.utcfromtimestamp(1484340430.0))"
   ]
  },
  {
   "cell_type": "code",
   "execution_count": 976,
   "metadata": {
    "collapsed": false
   },
   "outputs": [
    {
     "name": "stdout",
     "output_type": "stream",
     "text": [
      "Found 1273 posts\n"
     ]
    },
    {
     "name": "stderr",
     "output_type": "stream",
     "text": [
      "/home/nathan/3venv/lib/python3.5/site-packages/sqlalchemy/dialects/mysql/base.py:2513: Warning: '@@tx_isolation' is deprecated and will be removed in a future release. Please use '@@transaction_isolation' instead\n",
      "  cursor.execute('SELECT @@tx_isolation')\n"
     ]
    }
   ],
   "source": [
    "tabloid_domains = [ 'dailymail.co.uk', 'express.co.uk','mirror.co.uk', 'news.com.au', \n",
    "                    'nypost.com', 'thesun.co.uk','dailystar.co.uk','metro.co.uk']\n",
    "msm_domains     = [ \"bbc.com\", \"reuters.com\", \"nytimes.com\", \"washingtonpost.com\", \"cnn.com\", \n",
    "                    \"telegraph.co.uk\", \"latimes.com\", \"huffingtonpost.com\", \"theguardian.com\", \"forbes.com\",\n",
    "                    \"examiner.com\", \"usatoday.com\", \"wsj.com\", \"cbsnews.com\", \"cbc.ca\", \"time.com\",\n",
    "                    \"sfgate.com\", \"newsweek.com\", \"bostonglobe.com\", \"nydailynews.com\", \"msnbc.com\",\n",
    "                    \"foxnews.com\", \"aljazeera.com\", \"nbcnews.com\", \"npr.org\", \"bloomberg.com\", \"abcnews.com\", \n",
    "                    \"aljazeera.com\", \"bigstory.ap.com\", \"cbc.ca\", \"time.com\"]\n",
    "\n",
    "omitted_matches = [\"reddit\", \"img\", \"image\", \"giphy\", \"quickmeme\"]\n",
    "\n",
    "bots = ['autotldr', 'Mentioned_Videos', 'DailMail_Bot', 'youtubefactsbot', 'HelperBot_']\n",
    "\n",
    "\n",
    "post_creation = {}\n",
    "all_posts = {}\n",
    "query_text = \"\"\"\n",
    "select * from experiment_things \n",
    "    JOIN posts ON experiment_things.id = posts.id \n",
    "    WHERE experiment_id=8 \n",
    "    AND object_type=1\n",
    "    AND posts.created_at <= '{experiment_end_date}'\n",
    "    ORDER BY posts.created ASC;\n",
    "\"\"\".format(experiment_end_date=experiment_end_date)\n",
    "\n",
    "## ADDED THE SECOND CREATED_AT TO PRESERVE EXPERIMENT INTEGRITY\n",
    "\n",
    "for row in db_engine.execute(text(query_text)):\n",
    "    post = {}\n",
    "    post_data = json.loads(row['post_data'])    \n",
    "    for key in post_data.keys():\n",
    "        post[key] = post_data[key]\n",
    "    for key in row.keys():\n",
    "        post[key]=row[key]\n",
    "    del post['post_data']\n",
    "    \n",
    "    post_created = utc.localize(datetime.datetime.utcfromtimestamp(float(post['created_utc'])))\n",
    "    post_creation[post['id']] = post_created\n",
    "    post['created']  = post_created\n",
    "    post['visible'] = True\n",
    "    post['origin'] = \"experiment.thing\"\n",
    "    post['within.experiment.period'] = True\n",
    "    all_posts[post['id']] = post\n",
    "\n",
    "#print(len(snapshotted_posts))\n",
    "print(\"Found {0} posts\".format(len(all_posts)))"
   ]
  },
  {
   "cell_type": "markdown",
   "metadata": {},
   "source": [
    "### Set Date Boundaries"
   ]
  },
  {
   "cell_type": "code",
   "execution_count": 977,
   "metadata": {
    "collapsed": false
   },
   "outputs": [],
   "source": [
    "# experiment = {}\n",
    "# for row in db_engine.execute(text(\"select name, created_at, id FROM experiments WHERE name='sticky_comment_multiarm_worldnews_0';\")):\n",
    "#     for key in row.keys():\n",
    "#         experiment[key] = row[key]\n",
    "# print(\"Earliest Date: {0}\".format(all_posts[0]['created_at']))\n",
    "earliest_date = min([x['created_at'] for x in list(all_posts.values())])\n",
    "latest_date = max([x['created_at'] for x in list(all_posts.values())])\n",
    "\n",
    "## USED TO FOLLOW THE RANKINGS FOR ANOTHER DAY\n",
    "ranking_latest_date = max([x['created_at'] for x in list(all_posts.values())]) + datetime.timedelta(days=1)\n",
    "post_experiment_latest_date = parser.parse(post_experiment_end_date)\n",
    "#front_page_latest_date =  max([x['created_at'] for x in list(all_posts.values())]) + datetime.timedelta(days=60)\n",
    "\n",
    "# print(\"Experiment Date: {0}\".format(experiment['created_at']))\n",
    "# print(\"Latest Date: {0}\".format(all_posts[-1]['created_at']))"
   ]
  },
  {
   "cell_type": "markdown",
   "metadata": {},
   "source": [
    "## Collect Posts\n",
    "### Collect Posts from the Period After the Study"
   ]
  },
  {
   "cell_type": "code",
   "execution_count": 978,
   "metadata": {
    "collapsed": false
   },
   "outputs": [
    {
     "name": "stdout",
     "output_type": "stream",
     "text": [
      "Found 938 eligible posts\n"
     ]
    }
   ],
   "source": [
    "query_text = \"\"\"\n",
    "select * FROM posts \n",
    "    WHERE subreddit_id = '{subreddit_id}' \n",
    "    AND posts.created_at >= '{experiment_end_date}'\n",
    "    AND posts.created_at <= '{post_experiment_end_date}'\n",
    "    ORDER BY posts.created ASC;\n",
    "\"\"\".format(subreddit_id = subreddit_id,\n",
    "           experiment_end_date = experiment_end_date,\n",
    "           post_experiment_end_date = post_experiment_end_date)\n",
    "\n",
    "## ADDED THE SECOND CREATED_AT TO PRESERVE EXPERIMENT INTEGRITY\n",
    "added_posts = 0 \n",
    "for row in db_engine.execute(text(query_text)):\n",
    "    post = {}\n",
    "    post_data = json.loads(row['post_data'])\n",
    "    eligible_post = False\n",
    "    \n",
    "    post_created = utc.localize(datetime.datetime.utcfromtimestamp(float(post_data['created_utc'])))\n",
    "    post_creation[post_data['id']] = post_created\n",
    "    \n",
    "    for domain in tabloid_domains:\n",
    "        if(post_data['url'].find(domain)>-1):\n",
    "            eligible_post = True\n",
    "            break\n",
    "    if(eligible_post):\n",
    "        for key in post_data.keys():\n",
    "            post[key] = post_data[key]\n",
    "        for key in row.keys():\n",
    "            post[key]=row[key]\n",
    "        del post['post_data']\n",
    "        post['visible'] = True\n",
    "        post['origin'] = 'post.query'\n",
    "        post['within.experiment.period'] = False\n",
    "        all_posts[post['id']] = post\n",
    "        added_posts += 1\n",
    "\n",
    "#print(len(snapshotted_posts))\n",
    "print(\"Found {0} eligible posts\".format(added_posts))"
   ]
  },
  {
   "cell_type": "markdown",
   "metadata": {},
   "source": [
    "### Collect Posts from Baumgartner's Dataset"
   ]
  },
  {
   "cell_type": "code",
   "execution_count": 979,
   "metadata": {
    "collapsed": false
   },
   "outputs": [
    {
     "name": "stdout",
     "output_type": "stream",
     "text": [
      "................................................................................................................................................................................Processed 176 files. 2790 posts loaded in total. 208835 added to post_creation\n"
     ]
    }
   ],
   "source": [
    "## ELIGIBLE POSTS\n",
    "file_posts = {}\n",
    "files_to_load = []\n",
    "\n",
    "for filename in glob.glob(os.path.join(ARCHIVE_DIR,\"posts\",\"*\")):\n",
    "    basename = os.path.basename(filename).split(\".\")\n",
    "    month = basename[2]\n",
    "    year = basename[3]\n",
    "    if((int(year)==2016 and int(month) >= earliest_date.month) or \n",
    "       (int(year)==2017) and int(month) <= post_experiment_latest_date.month):\n",
    "        files_to_load.append(filename)\n",
    "\n",
    "counter = 0\n",
    "for filename in files_to_load:\n",
    "    with open(filename, \"r\") as f:\n",
    "        #print(filename)\n",
    "        for line in f:\n",
    "            if(line.find(subreddit_id)>-1):\n",
    "                post = json.loads(line)                \n",
    "                post_created = utc.localize(datetime.datetime.utcfromtimestamp(float(post['created_utc'])))\n",
    "                post_creation[post['id']] = post_created\n",
    "                \n",
    "                if('subreddit_id' in post.keys() and post['subreddit_id']==\"t5_\" + subreddit_id):\n",
    "                    eligible_post = False\n",
    "                    post['created'] = post_created\n",
    "                    post_creation[post['id']] = post_created\n",
    "                    \n",
    "                    for domain in tabloid_domains:\n",
    "                        if(post['url'].find(domain) > -1):\n",
    "                            eligible_post = True\n",
    "                    if(eligible_post):\n",
    "                        post['within.experiment.period'] = False\n",
    "                        post['visible'] = True ## ASSIGN VISIBILITY\n",
    "                        post['origin'] = \"json.file\"\n",
    "                        if(post_created > utc.localize(earliest_date) and \n",
    "                           post_created <= utc.localize(post_experiment_latest_date)):\n",
    "                            post['within.experiment.period'] = True\n",
    "                            if(post_created > utc.localize(parser.parse(experiment_end_date))):\n",
    "                                post['within.experiment.period'] = False\n",
    "                            file_posts[post['id']] = post\n",
    "        counter +=1\n",
    "        sys.stdout.write(\".\")\n",
    "        sys.stdout.flush()\n",
    "print(\"Processed {0} files. {1} posts loaded in total. {2} added to post_creation\".format(counter, len(file_posts), len(post_creation)))"
   ]
  },
  {
   "cell_type": "markdown",
   "metadata": {},
   "source": [
    "### Merge Posts"
   ]
  },
  {
   "cell_type": "code",
   "execution_count": 992,
   "metadata": {
    "collapsed": false
   },
   "outputs": [
    {
     "name": "stdout",
     "output_type": "stream",
     "text": [
      "Merged 0 posts\n"
     ]
    }
   ],
   "source": [
    "merged_posts=0\n",
    "for key, post in file_posts.items():\n",
    "    if key not in all_posts.keys():\n",
    "        all_posts[key] = post\n",
    "        merged_posts +=1\n",
    "print(\"Merged {0} posts\".format(merged_posts))"
   ]
  },
  {
   "cell_type": "markdown",
   "metadata": {},
   "source": [
    "## Check Time Overlaps"
   ]
  },
  {
   "cell_type": "code",
   "execution_count": 993,
   "metadata": {
    "collapsed": false
   },
   "outputs": [
    {
     "name": "stdout",
     "output_type": "stream",
     "text": [
      "Retrieved 66977 rows and missed 64697 rows\n"
     ]
    }
   ],
   "source": [
    "# #post_creation = {}\n",
    "missed_rows = 0\n",
    "retrieved_rows = 0\n",
    "time_diffs = []\n",
    "for row in db_engine.execute(text(\"select * from posts WHERE subreddit_id = '2qh13' AND created_at > '{0}' AND created_at < '{1}';\".format(\n",
    "   earliest_date,\n",
    "   post_experiment_latest_date))):\n",
    "    \n",
    "    if(row['id'] in post_creation.keys() and row['id'] in all_posts.keys()):\n",
    "        post = json.loads(row[\"post_data\"])\n",
    "        created_at = utc.localize(datetime.datetime.utcfromtimestamp(float(post['created_utc'])))\n",
    "        time_diffs.append({\"diff\":(created_at - post_creation[row['id']]).total_seconds()/60,\n",
    "                           \"origin\":all_posts[row['id']]['origin']})\n",
    "    else:\n",
    "        missed_rows += 1\n",
    "    retrieved_rows += 1\n",
    "        #   post_creation[row['id']] = row['created']\n",
    "print(\"Retrieved {0} rows and missed {1} rows\".format(retrieved_rows, missed_rows))"
   ]
  },
  {
   "cell_type": "code",
   "execution_count": 994,
   "metadata": {
    "collapsed": false
   },
   "outputs": [
    {
     "name": "stderr",
     "output_type": "stream",
     "text": [
      "/home/nathan/3venv/lib/python3.5/site-packages/statsmodels/nonparametric/kdetools.py:20: VisibleDeprecationWarning: using a non-integer number instead of an integer will result in an error in the future\n",
      "  y = X[:m/2+1] + np.r_[0,X[m/2+1:],0]*1j\n"
     ]
    },
    {
     "data": {
      "image/png": "[encoded data removed]",
      "text/plain": [
       "<matplotlib.figure.Figure at 0x7f84f97c7780>"
      ]
     },
     "metadata": {},
     "output_type": "display_data"
    },
    {
     "data": {
      "image/png": "[encoded data removed]",
      "text/plain": [
       "<matplotlib.figure.Figure at 0x7f853c885860>"
      ]
     },
     "metadata": {},
     "output_type": "display_data"
    },
    {
     "data": {
      "image/png": "[encoded data removed]",
      "text/plain": [
       "<matplotlib.figure.Figure at 0x7f84def92908>"
      ]
     },
     "metadata": {},
     "output_type": "display_data"
    }
   ],
   "source": [
    "prs = [x['diff'] for x in time_diffs if x['origin']=='json.file']\n",
    "plt.figure(figsize=(20,5))\n",
    "sns.distplot(prs)\n",
    "plt.title(\"json.file time diffs\")\n",
    "plt.show()\n",
    "\n",
    "prs = [x['diff'] for x in time_diffs if x['origin']=='experiment.thing']\n",
    "plt.figure(figsize=(20,5))\n",
    "sns.distplot(prs)\n",
    "plt.title(\"experiment.thing time diffs\")\n",
    "plt.show()\n",
    "\n",
    "prs = [x['diff'] for x in time_diffs if x['origin']=='post.query']\n",
    "plt.figure(figsize=(20,5))\n",
    "sns.distplot(prs)\n",
    "plt.title(\"post.query time diffs\")\n",
    "plt.show()"
   ]
  },
  {
   "cell_type": "code",
   "execution_count": null,
   "metadata": {
    "collapsed": true
   },
   "outputs": [],
   "source": []
  },
  {
   "cell_type": "code",
   "execution_count": 995,
   "metadata": {
    "collapsed": true
   },
   "outputs": [],
   "source": [
    "## TODO BELOW: BE SURE THAT THE START AND END TIMES CORRESPOND PROPERLY TO THE TIMEZONES"
   ]
  },
  {
   "cell_type": "markdown",
   "metadata": {},
   "source": [
    "## Get Subreddit Rankings Data"
   ]
  },
  {
   "cell_type": "code",
   "execution_count": 996,
   "metadata": {
    "collapsed": false
   },
   "outputs": [
    {
     "name": "stdout",
     "output_type": "stream",
     "text": [
      "Acquired 50544 ranking records\n"
     ]
    }
   ],
   "source": [
    "def timediff_minutes(timediff):\n",
    "    try:\n",
    "        return timediff.total_seconds()/60\n",
    "    except:\n",
    "        return None\n",
    "    \n",
    "post_rankings = defaultdict(list)\n",
    "\n",
    "ranking_records = []\n",
    "ranking_snapshot_number = 0\n",
    "\n",
    "missing_post_ids = set()\n",
    "\n",
    "page_lengths = []\n",
    "\n",
    "prev_created_at = None\n",
    "\n",
    "posts_with_no_age = set()\n",
    "\n",
    "for page in db_engine.execute(text(\"select * from subreddit_pages WHERE subreddit_id='2qh13' AND page_type={0} AND created_at > '{1}' AND created_at < '{2}';\".format(\n",
    "    4, #PageType.HOT\n",
    "    earliest_date,\n",
    "    post_experiment_end_date_daylater\n",
    "))):\n",
    "    posts = json.loads(page['page_data'])\n",
    "    median_score = np.median([x['score'] for x in posts])\n",
    "    post_ages = []\n",
    "    \n",
    "    page_created = utc.localize(page.created_at)\n",
    "        \n",
    "    for post in posts:\n",
    "        #post_created = utc.localize(datetime.datetime.utcfromtimestamp(post['created_utc']))\n",
    "        try:\n",
    "            age = page_created - post_creation[post['id']]\n",
    "        except:\n",
    "            age = None \n",
    "            missing_post_ids.add(post['id'])\n",
    "#             submission = r.get_submission(submission_id = post['id'])\n",
    "#             if(submission):\n",
    "#                 age = page.created_at - datetime.datetime.utcfromtimestamp(submission.created_utc)\n",
    "#             else:\n",
    "#                 age = None\n",
    "        post_ages.append(timediff_minutes(age))\n",
    "    \n",
    "    ### FOR NOW OMIT MEDIAN AGE IF THERE'S MISSING INFO\n",
    "    try:\n",
    "        median_age = np.median(post_ages)\n",
    "    except:\n",
    "        median_age = None\n",
    "    \n",
    "    \n",
    "    position = 300\n",
    "\n",
    "    ### limit to the first 100 items\n",
    "    ### since we don't have 300 \n",
    "    ### until much later\n",
    "        \n",
    "    for post in posts[0:300]:\n",
    "        try:\n",
    "            age = timediff_minutes(page_created - post_creation[post['id']])\n",
    "        except:\n",
    "            age = None\n",
    "            posts_with_no_age.add(post['id'])\n",
    "            \n",
    "        snapshot = {\"created_at\":page_created,\n",
    "                    \"post.created\": post_creation[post['id']],\n",
    "                    \"snapshot.length\":len(posts),\n",
    "                    \"position\":position,\n",
    "                    \"median.score\":median_score,\n",
    "                    \"median.age\":median_age,\n",
    "                    \"post.score\":post['score'],\n",
    "                    \"post.age\": age,\n",
    "                    \"snapshot.comments\":post['num_comments'],\n",
    "                    \"post.id\":post['id'],\n",
    "                    \"ranking.snapshot\": ranking_snapshot_number}\n",
    "        post_rankings[post['id']].append(snapshot)\n",
    "        position -= 1\n",
    "        \n",
    "    try:\n",
    "        minutes_since_last = (page_created - prev_created_at).total_seconds() / 60.0\n",
    "    except:\n",
    "        minutes_since_last = None\n",
    "    \n",
    "    ## CREATE A RANKING SNAPSHOT RECORD\n",
    "    ranking_records.append({\n",
    "            \"created_at\"      : page_created,\n",
    "            \"minutes.since.last\"   : minutes_since_last,\n",
    "            \"ranking.snapshot\":ranking_snapshot_number,\n",
    "            \"snapshot.length\" : len(posts),\n",
    "            \"median.score\"    : median_score,\n",
    "            \"median.age\"      : median_age,\n",
    "            \"three.hundred.begin\" : three_hundred_begin\n",
    "        })\n",
    "    ## ITERATE THE RANKING RECORD\n",
    "    ranking_snapshot_number += 1\n",
    "    prev_created_at = page_created\n",
    "\n",
    "print(\"Acquired {0} ranking records\".format(len(ranking_records)))"
   ]
  },
  {
   "cell_type": "markdown",
   "metadata": {},
   "source": [
    "(TODO: Update ranking times to deal with the timezone adjustment made to the CivilServant code in mid-December 2016)"
   ]
  },
  {
   "cell_type": "code",
   "execution_count": 997,
   "metadata": {
    "collapsed": false
   },
   "outputs": [
    {
     "name": "stderr",
     "output_type": "stream",
     "text": [
      "/home/nathan/3venv/lib/python3.5/site-packages/statsmodels/nonparametric/kdetools.py:20: VisibleDeprecationWarning: using a non-integer number instead of an integer will result in an error in the future\n",
      "  y = X[:m/2+1] + np.r_[0,X[m/2+1:],0]*1j\n"
     ]
    },
    {
     "data": {
      "text/plain": [
       "<matplotlib.text.Text at 0x7f85586e8470>"
      ]
     },
     "execution_count": 997,
     "metadata": {},
     "output_type": "execute_result"
    },
    {
     "data": {
      "image/png": "[encoded data removed]",
      "text/plain": [
       "<matplotlib.figure.Figure at 0x7f857cd62cf8>"
      ]
     },
     "metadata": {},
     "output_type": "display_data"
    }
   ],
   "source": [
    "### TODO: FIGURE OUT WHY THERE ARE NEGATIVE AGES HERE\n",
    "sns.distplot([x['median.age'] for x in ranking_records])\n",
    "plt.title(\"Median Ages in Rankings\")"
   ]
  },
  {
   "cell_type": "markdown",
   "metadata": {},
   "source": [
    "# Collect Moderation Actions And Associate With Posts"
   ]
  },
  {
   "cell_type": "code",
   "execution_count": 998,
   "metadata": {
    "collapsed": false
   },
   "outputs": [
    {
     "name": "stdout",
     "output_type": "stream",
     "text": [
      "401838 moderator actions loaded\n"
     ]
    }
   ],
   "source": [
    "recent_mod_actions = []\n",
    "for row in db_engine.execute(text(\"\"\"\n",
    "SELECT subreddit_id, action_data FROM mod_actions \n",
    "    WHERE subreddit_id=\"2qh13\" \n",
    "    AND created_utc >= \"{experiment_begin}\" \n",
    "    AND created_utc <=  \"{post_experiment_end_date_daylater}\";\n",
    "\"\"\".format(\n",
    "            experiment_begin=experiment_begin,\n",
    "            post_experiment_end_date_daylater = post_experiment_end_date_daylater))):\n",
    "    if(row['subreddit_id']=='2qh13'):\n",
    "        mod_action = json.loads(row['action_data'])\n",
    "        mod_action['created'] = utc.localize(datetime.datetime.utcfromtimestamp(mod_action['created_utc']))\n",
    "        recent_mod_actions.append(mod_action)\n",
    "print(\"{0} moderator actions loaded\".format(len(recent_mod_actions)))"
   ]
  },
  {
   "cell_type": "code",
   "execution_count": 999,
   "metadata": {
    "collapsed": true
   },
   "outputs": [],
   "source": [
    "post_mod_actions = defaultdict(list)\n",
    "for action in recent_mod_actions:\n",
    "    if action['action'] in [\"removelink\", 'approvelink']:\n",
    "        key = action['target_fullname'].replace(\"t3_\",\"\")\n",
    "        post_mod_actions[key].append({\"created\": action['created'],\n",
    "                                      \"action\": action['action']})\n",
    "### Now sort all mod actions per post\n",
    "for key, post in post_mod_actions.items():\n",
    "    post = sorted(post, key=lambda k: k['created'])"
   ]
  },
  {
   "cell_type": "markdown",
   "metadata": {},
   "source": [
    "# Check the Integrity of the Dataset Assembled So Far"
   ]
  },
  {
   "cell_type": "code",
   "execution_count": 1000,
   "metadata": {
    "collapsed": false
   },
   "outputs": [
    {
     "data": {
      "text/plain": [
       "[4.466666666666667,\n",
       " 3.55,\n",
       " 4.0,\n",
       " 4.066666666666666,\n",
       " 4.033333333333333,\n",
       " 4.316666666666666,\n",
       " 3.6166666666666667,\n",
       " 3.9833333333333334,\n",
       " 3.933333333333333,\n",
       " 4.1,\n",
       " 4.0,\n",
       " 4.0,\n",
       " 3.9833333333333334,\n",
       " 4.066666666666666,\n",
       " 3.9,\n",
       " 4.033333333333333,\n",
       " 4.333333333333333,\n",
       " 3.716666666666667,\n",
       " 3.966666666666667,\n",
       " 4.033333333333333,\n",
       " 4.5,\n",
       " 3.4166666666666665,\n",
       " 4.1,\n",
       " 4.0,\n",
       " 3.933333333333333,\n",
       " 4.116666666666666,\n",
       " 3.966666666666667,\n",
       " 3.9,\n",
       " 4.1,\n",
       " 3.9,\n",
       " 4.1,\n",
       " 4.316666666666666,\n",
       " 3.6666666666666665,\n",
       " 4.033333333333333,\n",
       " 4.0,\n",
       " 4.533333333333333,\n",
       " 3.45,\n",
       " 4.033333333333333,\n",
       " 3.9,\n",
       " 4.1,\n",
       " 4.05,\n",
       " 3.966666666666667,\n",
       " 3.9,\n",
       " 4.033333333333333,\n",
       " 3.966666666666667,\n",
       " 4.133333333333334,\n",
       " 4.016666666666667,\n",
       " 4.3,\n",
       " 3.7,\n",
       " 4.083333333333333,\n",
       " 4.416666666666667,\n",
       " 3.4833333333333334,\n",
       " 4.0,\n",
       " 3.966666666666667,\n",
       " 3.966666666666667,\n",
       " 4.066666666666666,\n",
       " 4.0,\n",
       " 3.9833333333333334,\n",
       " 4.033333333333333,\n",
       " 3.95,\n",
       " 4.0,\n",
       " 4.0,\n",
       " 4.433333333333334,\n",
       " 3.966666666666667,\n",
       " 4.1,\n",
       " 4.116666666666666,\n",
       " 3.4166666666666665,\n",
       " 4.016666666666667,\n",
       " 3.933333333333333,\n",
       " 4.066666666666666,\n",
       " 4.083333333333333,\n",
       " 3.8833333333333333,\n",
       " 4.083333333333333,\n",
       " 3.933333333333333,\n",
       " 4.066666666666666,\n",
       " 3.933333333333333,\n",
       " 4.0,\n",
       " 4.016666666666667,\n",
       " 3.966666666666667,\n",
       " 4.133333333333334,\n",
       " 4.5,\n",
       " 3.45,\n",
       " 4.033333333333333,\n",
       " 3.966666666666667,\n",
       " 4.033333333333333,\n",
       " 3.9833333333333334,\n",
       " 4.0,\n",
       " 4.033333333333333,\n",
       " 3.9,\n",
       " 4.133333333333334,\n",
       " 3.966666666666667,\n",
       " 3.9833333333333334,\n",
       " 3.966666666666667,\n",
       " 4.066666666666666,\n",
       " 4.566666666666666,\n",
       " 3.9833333333333334,\n",
       " 3.5,\n",
       " 3.933333333333333,\n",
       " 3.966666666666667,\n",
       " 4.066666666666666,\n",
       " 3.9166666666666665,\n",
       " 4.1,\n",
       " 3.933333333333333,\n",
       " 4.066666666666666,\n",
       " 3.966666666666667,\n",
       " 4.05,\n",
       " 3.9,\n",
       " 4.0,\n",
       " 4.066666666666666,\n",
       " 4.4,\n",
       " 4.65,\n",
       " 2.933333333333333,\n",
       " 4.066666666666666,\n",
       " 4.016666666666667,\n",
       " 3.966666666666667,\n",
       " 3.933333333333333,\n",
       " 4.133333333333334,\n",
       " 4.0,\n",
       " 3.933333333333333,\n",
       " 4.033333333333333,\n",
       " 4.016666666666667,\n",
       " 3.966666666666667,\n",
       " 4.066666666666666,\n",
       " 4.0,\n",
       " 4.016666666666667,\n",
       " 5.4,\n",
       " 2.533333333333333,\n",
       " 4.033333333333333,\n",
       " 4.0,\n",
       " 4.033333333333333,\n",
       " 54.46666666666667,\n",
       " 1.2,\n",
       " 1.05,\n",
       " 1.3333333333333333,\n",
       " 1.9333333333333333,\n",
       " 4.1,\n",
       " 3.8833333333333333,\n",
       " 4.066666666666666,\n",
       " 4.0,\n",
       " 4.0,\n",
       " 3.9833333333333334,\n",
       " 4.066666666666666,\n",
       " 4.0,\n",
       " 3.933333333333333,\n",
       " 4.066666666666666,\n",
       " 4.483333333333333,\n",
       " 3.5,\n",
       " 3.9,\n",
       " 4.5,\n",
       " 3.6,\n",
       " 4.016666666666667,\n",
       " 3.966666666666667,\n",
       " 3.966666666666667,\n",
       " 4.1,\n",
       " 4.033333333333333,\n",
       " 3.8833333333333333,\n",
       " 4.066666666666666,\n",
       " 3.966666666666667,\n",
       " 3.966666666666667,\n",
       " 4.1,\n",
       " 4.35,\n",
       " 3.6,\n",
       " 4.0,\n",
       " 4.466666666666667,\n",
       " 3.933333333333333,\n",
       " 3.533333333333333,\n",
       " 4.15,\n",
       " 3.8666666666666667,\n",
       " 4.1,\n",
       " 3.933333333333333,\n",
       " 3.9833333333333334,\n",
       " 4.033333333333333]"
      ]
     },
     "execution_count": 1000,
     "metadata": {},
     "output_type": "execute_result"
    }
   ],
   "source": [
    "ranking_times = [x['created_at'] for x in list(post_rankings.values())[8]]\n",
    "time_diffs = []\n",
    "for i in range(len(ranking_times)-1):\n",
    "    i += 1\n",
    "    time_diffs.append((ranking_times[i] - ranking_times[i-1]).total_seconds()/60.)\n",
    "time_diffs"
   ]
  },
  {
   "cell_type": "code",
   "execution_count": null,
   "metadata": {
    "collapsed": false
   },
   "outputs": [],
   "source": []
  },
  {
   "cell_type": "code",
   "execution_count": null,
   "metadata": {
    "collapsed": false
   },
   "outputs": [],
   "source": []
  },
  {
   "cell_type": "markdown",
   "metadata": {},
   "source": [
    "# Create a Dataset of Post Rankings For the Period Covering 300 Ranking Items"
   ]
  },
  {
   "cell_type": "markdown",
   "metadata": {},
   "source": [
    "### Calculate Mean Time Distance Between Snapshots"
   ]
  },
  {
   "cell_type": "code",
   "execution_count": 1001,
   "metadata": {
    "collapsed": false,
    "scrolled": true
   },
   "outputs": [],
   "source": [
    "mean_mins_since_last = math.floor(np.mean([x['minutes.since.last'] for x in ranking_records if x['minutes.since.last']!=None]))\n",
    "maximum_minutes = 7*60 #seven hours (as specified in the paper)\n",
    "num_snapshots = math.floor(maximum_minutes/mean_mins_since_last)"
   ]
  },
  {
   "cell_type": "code",
   "execution_count": 1036,
   "metadata": {
    "collapsed": false
   },
   "outputs": [
    {
     "name": "stdout",
     "output_type": "stream",
     "text": [
      "Processed 1835 posts\n"
     ]
    }
   ],
   "source": [
    "rankings_added = []\n",
    "posts_processed = 0\n",
    "\n",
    "posts_with_negative_ranking_ages = []\n",
    "\n",
    "added_post_ages = []\n",
    "\n",
    "for key, post in all_posts.items():\n",
    "    try:\n",
    "        post_created = utc.localize(post['created'])\n",
    "        post['created'] = post_created\n",
    "    except:\n",
    "        post_created = post['created']\n",
    "    \n",
    "    if(post_created < three_hundred_begin_date):\n",
    "        post['rankings'] = []\n",
    "        continue\n",
    "    \n",
    "    ## FOR NOW, OMIT RANKINGS LESS THAN 0\n",
    "    rankings = [x for x in post_rankings[key] if x['post.age']>=0]\n",
    "    \n",
    "    ## DIAGNOSTIC TO FIND POSTS WITH NEGATIVE RANKINGS\n",
    "    if(key in post_rankings.keys() and len(post_rankings[key])>0 and post_rankings[key][0]['post.age']<0):\n",
    "        posts_with_negative_ranking_ages.append(post)\n",
    "        \n",
    "    minute_slots = [None for x in list(range(num_snapshots))]\n",
    "    records_index = 0\n",
    "    for record in ranking_records:\n",
    "        try:\n",
    "            greater = record['created_at'] >= utc.localize(post['created'])\n",
    "        except:\n",
    "            greater = record['created_at'] >= post['created']\n",
    "        if greater:\n",
    "            break\n",
    "        records_index += 1\n",
    "    \n",
    "    i = 0\n",
    "    for slot in minute_slots:\n",
    "        if slot is None:\n",
    "            slot = copy.copy(ranking_records[records_index])\n",
    "            slot['position'] = 0\n",
    "#            total_rankings_added += 1\n",
    "            minute_slots[i] = slot\n",
    "            \n",
    "        records_index += 1\n",
    "        i+=1\n",
    "    \n",
    "    total_rankings_added = 0\n",
    "    if(len(rankings)>0):        \n",
    "        #first_ranking_slot = math.floor(rankings[0]['post.age']/4.0)\n",
    "        #current_ranking_slot = first_ranking_slot \n",
    "        for ranking in rankings:\n",
    "            current_ranking_slot = math.floor(ranking['post.age']/4.0)\n",
    "            if(current_ranking_slot < len(minute_slots)):\n",
    "                ranking_record = copy.copy(ranking)                \n",
    "                ranking_record['post.age'] = ranking_record['created_at']  - post_created\n",
    "                ranking_record['post.created'] = post_created\n",
    "                minute_slots[current_ranking_slot] = ranking_record\n",
    "                total_rankings_added += 1\n",
    "                \n",
    "                added_post_ages.append(ranking_record['created_at']  - post_created)\n",
    "                \n",
    "    \n",
    "        \n",
    "    rankings_added.append(total_rankings_added)\n",
    "    \n",
    "    snapshot_number = 1\n",
    "    for slot in minute_slots:\n",
    "        slot['snapshot.number'] = snapshot_number\n",
    "        snapshot_number += 1\n",
    "\n",
    "    post['rankings'] = minute_slots\n",
    "    posts_processed +=1\n",
    "\n",
    "    \n",
    "#     if(posts_processed ==2):\n",
    "#         break\n",
    "print(\"Processed {0} posts\".format(posts_processed))"
   ]
  },
  {
   "cell_type": "code",
   "execution_count": 1079,
   "metadata": {
    "collapsed": false
   },
   "outputs": [
    {
     "data": {
      "text/plain": [
       "Counter({0: 956, 105: 1835})"
      ]
     },
     "execution_count": 1079,
     "metadata": {},
     "output_type": "execute_result"
    }
   ],
   "source": [
    "Counter([len(x['rankings']) for x in all_posts.values()])"
   ]
  },
  {
   "cell_type": "code",
   "execution_count": 1076,
   "metadata": {
    "collapsed": true
   },
   "outputs": [],
   "source": [
    "## ESTIMATE THE COUNT OF SNAPSHOT NUMBERS\n",
    "snapshot_numbers = defaultdict(int)\n",
    "for post in all_posts.values():\n",
    "    for ranking in post['rankings']:\n",
    "        snapshot_numbers[ranking['snapshot.number']] += 1\n",
    "Counter(snapshot_numbers.values())"
   ]
  },
  {
   "cell_type": "code",
   "execution_count": 1078,
   "metadata": {
    "collapsed": false
   },
   "outputs": [
    {
     "data": {
      "text/plain": [
       "Counter({1835: 105})"
      ]
     },
     "execution_count": 1078,
     "metadata": {},
     "output_type": "execute_result"
    }
   ],
   "source": []
  },
  {
   "cell_type": "code",
   "execution_count": 1075,
   "metadata": {
    "collapsed": false
   },
   "outputs": [
    {
     "name": "stderr",
     "output_type": "stream",
     "text": [
      "/home/nathan/3venv/lib/python3.5/site-packages/statsmodels/nonparametric/kdetools.py:20: VisibleDeprecationWarning: using a non-integer number instead of an integer will result in an error in the future\n",
      "  y = X[:m/2+1] + np.r_[0,X[m/2+1:],0]*1j\n"
     ]
    },
    {
     "data": {
      "text/plain": [
       "<matplotlib.axes._subplots.AxesSubplot at 0x7f84d04b04a8>"
      ]
     },
     "execution_count": 1075,
     "metadata": {},
     "output_type": "execute_result"
    },
    {
     "data": {
      "image/png": "[encoded data removed]",
      "text/plain": [
       "<matplotlib.figure.Figure at 0x7f84d04b0978>"
      ]
     },
     "metadata": {},
     "output_type": "display_data"
    }
   ],
   "source": [
    "plt.figure(figsize=(20,5))\n",
    "sns.distplot([x for x in rankings_added if x>0])"
   ]
  },
  {
   "cell_type": "markdown",
   "metadata": {},
   "source": [
    "### Analyze posts with negative ranking ages\n",
    "(no longer a problem, now that I'm ignoring items from when we were observing 100 ranking items, which also fell in a period when we incompletely fixed timezone issues)"
   ]
  },
  {
   "cell_type": "code",
   "execution_count": 1039,
   "metadata": {
    "collapsed": false
   },
   "outputs": [],
   "source": [
    "#sns.distplot([x.total_seconds()/6.0 for x in added_post_ages])\n",
    "#posts_with_negative_ranking_ages[1]\n",
    "#len(posts_with_negative_ranking_ages)"
   ]
  },
  {
   "cell_type": "code",
   "execution_count": 1040,
   "metadata": {
    "collapsed": false
   },
   "outputs": [],
   "source": [
    "#total_rankings_added\n",
    "#len(posts_with_negative_ranking_ages)\n",
    "#minute_slots\n",
    "#greater\n",
    "#minute_slots\n",
    "#minute_slots\n",
    "#utc.localize(datetime.datetime.utcfromtimestamp(1484340430))"
   ]
  },
  {
   "cell_type": "code",
   "execution_count": 1041,
   "metadata": {
    "collapsed": false
   },
   "outputs": [],
   "source": [
    "#print(earliest_date)\n",
    "#sns.distplot([(x['created'] - utc.localize(earliest_date)).total_seconds()/86400 for x in posts_with_negative_ranking_ages])"
   ]
  },
  {
   "cell_type": "code",
   "execution_count": 1042,
   "metadata": {
    "collapsed": false
   },
   "outputs": [],
   "source": [
    "# negative_median_ages = 0\n",
    "# for post in list(all_posts.values()):\n",
    "#     for ranking in post['rankings']"
   ]
  },
  {
   "cell_type": "markdown",
   "metadata": {},
   "source": [
    "### Plot first time difference, and in the future, figure out why some of time differences are -10  hours"
   ]
  },
  {
   "cell_type": "code",
   "execution_count": 1043,
   "metadata": {
    "collapsed": true
   },
   "outputs": [],
   "source": [
    "first_rankings = []\n",
    "for key, post in all_posts.items():\n",
    "    if(post['created'] < three_hundred_begin_date):\n",
    "        continue\n",
    "    rankings = post_rankings[key]\n",
    "    if(len(rankings)>0):\n",
    "        first_rankings.append({\"post.origin\":post['origin'], \n",
    "                               \"first.post.age\":rankings[0]['post.age']})"
   ]
  },
  {
   "cell_type": "code",
   "execution_count": 1044,
   "metadata": {
    "collapsed": false
   },
   "outputs": [
    {
     "name": "stdout",
     "output_type": "stream",
     "text": [
      "938\n"
     ]
    },
    {
     "name": "stderr",
     "output_type": "stream",
     "text": [
      "/home/nathan/3venv/lib/python3.5/site-packages/statsmodels/nonparametric/kdetools.py:20: VisibleDeprecationWarning: using a non-integer number instead of an integer will result in an error in the future\n",
      "  y = X[:m/2+1] + np.r_[0,X[m/2+1:],0]*1j\n"
     ]
    },
    {
     "data": {
      "image/png": "[encoded data removed]",
      "text/plain": [
       "<matplotlib.figure.Figure at 0x7f84bbbd0710>"
      ]
     },
     "metadata": {},
     "output_type": "display_data"
    }
   ],
   "source": [
    "prs = [math.log1p(x['first.post.age']) for x in first_rankings if x['post.origin']=='post.query']\n",
    "print(len(prs))\n",
    "plt.figure(figsize=(20,5))\n",
    "post_ages = prs\n",
    "sns.distplot(post_ages)\n",
    "plt.show()"
   ]
  },
  {
   "cell_type": "code",
   "execution_count": 1045,
   "metadata": {
    "collapsed": false
   },
   "outputs": [
    {
     "name": "stderr",
     "output_type": "stream",
     "text": [
      "/home/nathan/3venv/lib/python3.5/site-packages/statsmodels/nonparametric/kdetools.py:20: VisibleDeprecationWarning: using a non-integer number instead of an integer will result in an error in the future\n",
      "  y = X[:m/2+1] + np.r_[0,X[m/2+1:],0]*1j\n"
     ]
    },
    {
     "name": "stdout",
     "output_type": "stream",
     "text": [
      "40\n"
     ]
    },
    {
     "data": {
      "image/png": "[encoded data removed]",
      "text/plain": [
       "<matplotlib.figure.Figure at 0x7f848dfcf860>"
      ]
     },
     "metadata": {},
     "output_type": "display_data"
    }
   ],
   "source": [
    "prs = [math.log1p(x['first.post.age']) for x in first_rankings if x['post.origin']=='json.file']\n",
    "print(len(prs))\n",
    "plt.figure(figsize=(20,5))\n",
    "post_ages = prs\n",
    "sns.distplot(post_ages)\n",
    "plt.show()"
   ]
  },
  {
   "cell_type": "code",
   "execution_count": 1046,
   "metadata": {
    "collapsed": false
   },
   "outputs": [
    {
     "name": "stdout",
     "output_type": "stream",
     "text": [
      "502\n"
     ]
    },
    {
     "name": "stderr",
     "output_type": "stream",
     "text": [
      "/home/nathan/3venv/lib/python3.5/site-packages/statsmodels/nonparametric/kdetools.py:20: VisibleDeprecationWarning: using a non-integer number instead of an integer will result in an error in the future\n",
      "  y = X[:m/2+1] + np.r_[0,X[m/2+1:],0]*1j\n"
     ]
    },
    {
     "data": {
      "image/png": "[encoded data removed]",
      "text/plain": [
       "<matplotlib.figure.Figure at 0x7f84d41682e8>"
      ]
     },
     "metadata": {},
     "output_type": "display_data"
    }
   ],
   "source": [
    "prs = [math.log1p(x['first.post.age']) for x in first_rankings if x['post.origin']=='experiment.thing']\n",
    "print(len(prs))\n",
    "plt.figure(figsize=(20,5))\n",
    "post_ages = prs\n",
    "sns.distplot(post_ages)\n",
    "plt.show()"
   ]
  },
  {
   "cell_type": "markdown",
   "metadata": {
    "collapsed": false
   },
   "source": [
    "# Merge Moderation Actions with Rankings"
   ]
  },
  {
   "cell_type": "code",
   "execution_count": 1066,
   "metadata": {
    "collapsed": false
   },
   "outputs": [
    {
     "name": "stdout",
     "output_type": "stream",
     "text": [
      "Marked 58272 rankings not visible out of 192675 rankings.\n"
     ]
    }
   ],
   "source": [
    "not_visible_rankings = 0\n",
    "total_rankings = 0\n",
    "for key, post in all_posts.items():\n",
    "    actions = []\n",
    "    if(key in post_mod_actions.keys()):\n",
    "        actions = post_mod_actions[key] #only approvelink and removelink\n",
    "    \n",
    "    ## IF THERE ARE MODERATION ACTIONS:\n",
    "    if(len(actions)>0):\n",
    "        visibility = True\n",
    "        next_pointer = 0\n",
    "        next_pointer_time = actions[next_pointer]['created']\n",
    "        \n",
    "        for ranking in post['rankings']:\n",
    "            if(ranking['created_at'] > next_pointer_time and next_pointer < len(actions) ):\n",
    "                while True:\n",
    "                    visibility = actions[next_pointer]['action'] != 'removelink'\n",
    "                    if(next_pointer + 1 < len(actions)):\n",
    "                        next_pointer += 1\n",
    "                        next_pointer_time = actions[next_pointer]['created']\n",
    "                        if(next_pointer_time > ranking['created_at']):\n",
    "                            break\n",
    "                    else:\n",
    "                        break\n",
    "\n",
    "            ranking['post.visibility'] = visibility\n",
    "            if(visibility==False):\n",
    "                not_visible_rankings += 1\n",
    "    else:\n",
    "        for ranking in post['rankings']:\n",
    "            ranking['post.visibility'] = True\n",
    "            \n",
    "    total_rankings += len(post['rankings'])\n",
    "\n",
    "print(\"Marked {0} rankings not visible out of {1} rankings.\".format(not_visible_rankings, total_rankings))"
   ]
  },
  {
   "cell_type": "code",
   "execution_count": 1067,
   "metadata": {
    "collapsed": false
   },
   "outputs": [],
   "source": [
    "#\"Marked 58270 rankings not visible out of 192675 rankings.\""
   ]
  },
  {
   "cell_type": "markdown",
   "metadata": {},
   "source": [
    "## Add Experiment Condition to Post Rankings"
   ]
  },
  {
   "cell_type": "code",
   "execution_count": 1068,
   "metadata": {
    "collapsed": false
   },
   "outputs": [
    {
     "name": "stdout",
     "output_type": "stream",
     "text": [
      "Found 1273 posts in experiment out of 2791\n"
     ]
    }
   ],
   "source": [
    "posts_in_experiment = 0\n",
    "\n",
    "for post in list(all_posts.values()):\n",
    "    rand_block = None\n",
    "    treatment = 3 # after the experiment\n",
    "    rand_num = None\n",
    "    \n",
    "    if \"metadata_json\" in post.keys():\n",
    "        metadata = json.loads(post['metadata_json'])\n",
    "        rand_block = metadata['randomization']['block.id']\n",
    "        treatment = int(metadata['randomization']['treatment'])\n",
    "        rand_num = int(metadata['randomization'][''])\n",
    "        posts_in_experiment += 1\n",
    "        \n",
    "    for ranking in post['rankings']:\n",
    "        ranking['treatment'] = treatment\n",
    "        ranking['rand.block'] = rand_block\n",
    "        ranking['rand.num'] = rand_num\n",
    "        \n",
    "print(\"Found {0} posts in experiment out of {1}\".format(posts_in_experiment, len(all_posts)))\n",
    "    "
   ]
  },
  {
   "cell_type": "markdown",
   "metadata": {},
   "source": [
    "### Create a dataset of rankings"
   ]
  },
  {
   "cell_type": "code",
   "execution_count": 1090,
   "metadata": {
    "collapsed": false
   },
   "outputs": [
    {
     "name": "stdout",
     "output_type": "stream",
     "text": [
      "Created 192675 rankings for 1835 posts at an average of 105.0 rankings per post\n"
     ]
    }
   ],
   "source": [
    "all_rankings = []\n",
    "post_count = 0\n",
    "\n",
    "for post in all_posts.values():\n",
    "    try:\n",
    "        post_created = utc.localize(post['created'])\n",
    "        post['created'] = post_created\n",
    "    except:\n",
    "        post_created = post['created']\n",
    "    \n",
    "    if(post_created < three_hundred_begin_date):\n",
    "        continue\n",
    "    \n",
    "    post_count += 1\n",
    "    for ranking in post['rankings']:\n",
    "        ranking['post.created'] = post_created\n",
    "        ranking['post.id'] = post['id']\n",
    "        all_rankings.append(ranking)\n",
    "print(\"Created {0} rankings for {1} posts at an average of {2} rankings per post\".format(\n",
    "    len(all_rankings),\n",
    "    post_count,\n",
    "    len(all_rankings)/post_count))"
   ]
  },
  {
   "cell_type": "code",
   "execution_count": 1091,
   "metadata": {
    "collapsed": false
   },
   "outputs": [
    {
     "data": {
      "text/plain": [
       "1835"
      ]
     },
     "execution_count": 1091,
     "metadata": {},
     "output_type": "execute_result"
    }
   ],
   "source": [
    "len([x for x in all_rankings if 'snapshot.number' in x.keys() and x['snapshot.number']==3])"
   ]
  },
  {
   "cell_type": "code",
   "execution_count": 1094,
   "metadata": {
    "collapsed": false
   },
   "outputs": [
    {
     "data": {
      "text/plain": [
       "105.0"
      ]
     },
     "execution_count": 1094,
     "metadata": {},
     "output_type": "execute_result"
    }
   ],
   "source": [
    "len(all_rankings) / len(set([x['post.id'] for x in all_rankings]))"
   ]
  },
  {
   "cell_type": "code",
   "execution_count": null,
   "metadata": {
    "collapsed": false
   },
   "outputs": [],
   "source": []
  },
  {
   "cell_type": "code",
   "execution_count": 1095,
   "metadata": {
    "collapsed": false
   },
   "outputs": [],
   "source": [
    "#all_rankings[1000]"
   ]
  },
  {
   "cell_type": "code",
   "execution_count": 1096,
   "metadata": {
    "collapsed": false
   },
   "outputs": [],
   "source": [
    "pd.DataFrame(all_rankings).to_csv(\"outputs/r_worldnews_300_rankings_with_post_experiment-03.24.2018.csv\")"
   ]
  },
  {
   "cell_type": "code",
   "execution_count": null,
   "metadata": {
    "collapsed": true
   },
   "outputs": [],
   "source": []
  }
 ],
 "metadata": {
  "kernelspec": {
   "display_name": "Python 3",
   "language": "python",
   "name": "python3"
  },
  "language_info": {
   "codemirror_mode": {
    "name": "ipython",
    "version": 3
   },
   "file_extension": ".py",
   "mimetype": "text/x-python",
   "name": "python",
   "nbconvert_exporter": "python",
   "pygments_lexer": "ipython3",
   "version": "3.5.2"
  }
 },
 "nbformat": 4,
 "nbformat_minor": 0
}
