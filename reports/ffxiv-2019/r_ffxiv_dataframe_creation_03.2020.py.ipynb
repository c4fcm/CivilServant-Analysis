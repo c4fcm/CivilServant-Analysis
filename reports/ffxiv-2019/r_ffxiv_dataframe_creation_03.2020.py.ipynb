{
 "cells": [
  {
   "cell_type": "markdown",
   "metadata": {},
   "source": [
    "# r/ffxiv Experiment Dataframe Creation\n",
    "March 2020\n",
    "\n",
    "J. Nathan Matias and Eric Pennington"
   ]
  },
  {
   "cell_type": "markdown",
   "metadata": {},
   "source": [
    "### Libraries and environment"
   ]
  },
  {
   "cell_type": "code",
   "execution_count": 26,
   "metadata": {},
   "outputs": [],
   "source": [
    "%matplotlib inline\n",
    "import inspect, os, sys, copy, pytz, re, glob, csv, uuid, datetime\n",
    "os.environ['AIRBRAKE_API_KEY'] = \"ca826dbd1a4594241c239bba825edd9f\" ## EDIT BEFORER USING\n",
    "os.environ['AIRBRAKE_PROJECT_ID'] = \"-1\" ## EDIT BEFORE USING\n",
    "\n",
    "import simplejson as json\n",
    "import pandas as pd\n",
    "from dateutil import parser\n",
    "import datetime\n",
    "import matplotlib.pyplot as plt   # Matplotlib for plotting\n",
    "import matplotlib.dates as md\n",
    "from collections import Counter, defaultdict\n",
    "utc=pytz.UTC\n",
    "\n",
    "ENV = \"production\"\n",
    "os.environ['CS_ENV'] = 'production'\n",
    "BASE_DIR = \"/usr/local/civilservant/platform\"\n",
    "sys.path.append(BASE_DIR)\n",
    "\n",
    "with open(os.path.join(BASE_DIR, \"config\") + \"/{env}.json\".format(env=ENV), \"r\") as config:\n",
    "  DBCONFIG = json.loads(config.read())\n",
    "\n",
    "### LOAD SQLALCHEMY\n",
    "from sqlalchemy import create_engine\n",
    "from sqlalchemy.orm import sessionmaker\n",
    "from sqlalchemy import text, and_, or_\n",
    "import sqlalchemy.orm.session\n",
    "import utils.common\n",
    "\n",
    "\n",
    "db_engine = create_engine(\"mysql://{user}:{password}@{host}/{database}\".format(\n",
    "    host = DBCONFIG['host'],\n",
    "    user = DBCONFIG['user'],\n",
    "    password = DBCONFIG['password'],\n",
    "    database = DBCONFIG['database']))\n",
    "DBSession = sessionmaker(bind=db_engine)\n",
    "db_session = DBSession()\n",
    "\n",
    "\n",
    "### LOAD PRAW\n",
    "#import reddit.connection\n",
    "#conn = reddit.connection.Connect(base_dir=BASE_DIR, env=\"jupyter\")\n",
    "\n",
    "from app.models import *\n",
    "\n",
    "### FILTER OUT DEPRECATION WARNINGS ASSOCIATED WITH DECORATORS\n",
    "# https://github.com/ipython/ipython/issues/9242\n",
    "import warnings\n",
    "warnings.filterwarnings('ignore', category=DeprecationWarning, message='.*use @default decorator instead.*')"
   ]
  },
  {
   "cell_type": "markdown",
   "metadata": {},
   "source": [
    "# Global Experiment Settings"
   ]
  },
  {
   "cell_type": "code",
   "execution_count": 23,
   "metadata": {},
   "outputs": [],
   "source": [
    "subreddit_id = \"2rgs7\""
   ]
  },
  {
   "cell_type": "markdown",
   "metadata": {},
   "source": [
    "# Create a Dataset of Posts Appearing In the Experiment"
   ]
  },
  {
   "cell_type": "code",
   "execution_count": 15,
   "metadata": {},
   "outputs": [],
   "source": [
    "experiment_posts = []\n",
    "for row in db_engine.execute(text(\"\"\"\n",
    "select * from experiment_things \n",
    "  JOIN posts on experiment_things.id = posts.id \n",
    "  WHERE object_type=1 \n",
    "    AND (experiment_id=15 OR experiment_id=16)\n",
    "  ORDER BY posts.created ASC;\n",
    "\n",
    "\"\"\")):\n",
    "    post = {}\n",
    "    for key in row.keys():\n",
    "        post[key]=row[key]\n",
    "    metadata = json.loads(row['metadata_json'])\n",
    "    for key in metadata['randomization'].keys():\n",
    "        post[key] = metadata['randomization'][key]\n",
    "    post['treat.number'] = int(post[''])\n",
    "    del post['']\n",
    "    del post['metadata_json']\n",
    "    post['post_data']  = json.loads(post['post_data'])\n",
    "    experiment_posts.append(post)"
   ]
  },
  {
   "cell_type": "code",
   "execution_count": 34,
   "metadata": {},
   "outputs": [
    {
     "name": "stdout",
     "output_type": "stream",
     "text": [
      "12100 posts have been assigned to treatment or control in the experiment.\n",
      "Earliest Date: 2019-07-06 12:26:30\n",
      "Latest Date: 2019-08-24 19:06:05\n"
     ]
    }
   ],
   "source": [
    "print(\"{0} posts have been assigned to treatment or control in the experiment.\".format(len(experiment_posts)))\n",
    "earliest_date = experiment_posts[0]['created']\n",
    "latest_date = experiment_posts[-1]['created']\n",
    "print(\"Earliest Date: {0}\".format(earliest_date))\n",
    "print(\"Latest Date: {0}\".format(latest_date))"
   ]
  },
  {
   "cell_type": "markdown",
   "metadata": {},
   "source": [
    "### Load Moderator Actions Between the Earliest Date and One Week After the Final Post"
   ]
  },
  {
   "cell_type": "code",
   "execution_count": 28,
   "metadata": {},
   "outputs": [
    {
     "name": "stdout",
     "output_type": "stream",
     "text": [
      "49497 moderator actions loaded\n"
     ]
    }
   ],
   "source": [
    "recent_mod_actions = []\n",
    "for row in db_engine.execute(text(\"\"\"\n",
    "SELECT action_data FROM mod_actions \n",
    "    WHERE subreddit_id=\"{0}\" AND \n",
    "          created_utc >= \"{1}\" AND\n",
    "          created_utc <= \"{2}\"\n",
    "    ORDER BY created_utc;\n",
    "\"\"\".format(subreddit_id,\n",
    "           earliest_date,\n",
    "           latest_date +  datetime.timedelta(days=7)))):\n",
    "    mod_action = json.loads(row['action_data'])\n",
    "    mod_action['created'] = utc.localize(datetime.datetime.utcfromtimestamp(mod_action['created_utc']))\n",
    "    recent_mod_actions.append(mod_action)\n",
    "print(\"{0} moderator actions loaded\".format(len(recent_mod_actions)))"
   ]
  },
  {
   "cell_type": "markdown",
   "metadata": {},
   "source": [
    "### Tag posts as visible or non-visible based on moderation log\n",
    "Also: create study_posts, which is the dict used to create the final dataframe"
   ]
  },
  {
   "cell_type": "code",
   "execution_count": 33,
   "metadata": {},
   "outputs": [
    {
     "name": "stdout",
     "output_type": "stream",
     "text": [
      "Post Count: 12100\n",
      "Matched Mod Actions: 4160\n"
     ]
    }
   ],
   "source": [
    "study_posts = {}\n",
    "for post in experiment_posts:\n",
    "    post['visible'] = True\n",
    "    study_posts[post['id']] = post\n",
    "recent_post_count = len(study_posts.values())\n",
    "print(\"Post Count: {0}\".format(recent_post_count))\n",
    "\n",
    "missing_mod_actions = []\n",
    "matched_mod_actions = 0\n",
    "for action in recent_mod_actions:\n",
    "    if action['action'] == \"removelink\":\n",
    "        key = action['target_fullname'].replace(\"t3_\",\"\")\n",
    "        if key in study_posts.keys():\n",
    "            study_posts[key]['visible'] = False\n",
    "            matched_mod_actions += 1\n",
    "        else:\n",
    "            missing_mod_actions.append(key)\n",
    "    elif action['action'] == 'approvelink':\n",
    "        key = action['target_fullname'].replace(\"t3_\",\"\")\n",
    "        if key in study_posts.keys():\n",
    "            study_posts[key]['visible'] = True\n",
    "            matched_mod_actions += 1\n",
    "        else:\n",
    "            missing_mod_actions.append(key)\n",
    "#print(\"Missing Mod Actions: {0}\".format(len(missing_mod_actions)))\n",
    "# print(\"Missing Mod Action Posts: {0}\".format(len(set(missing_mod_actions))))\n",
    "print(\"Matched Mod Actions: {0}\".format(matched_mod_actions))"
   ]
  },
  {
   "cell_type": "markdown",
   "metadata": {},
   "source": [
    "# Create a Dataset of Comments In the Experiment\n",
    "## Load last six months of comments from CivilServant and Baumgartner systems\n",
    "Six months before 2019-07-06 12:26:30"
   ]
  },
  {
   "cell_type": "code",
   "execution_count": null,
   "metadata": {},
   "outputs": [],
   "source": []
  }
 ],
 "metadata": {
  "kernelspec": {
   "display_name": "Python 3",
   "language": "python",
   "name": "python3"
  },
  "language_info": {
   "codemirror_mode": {
    "name": "ipython",
    "version": 3
   },
   "file_extension": ".py",
   "mimetype": "text/x-python",
   "name": "python",
   "nbconvert_exporter": "python",
   "pygments_lexer": "ipython3",
   "version": "3.5.2"
  }
 },
 "nbformat": 4,
 "nbformat_minor": 2
}
