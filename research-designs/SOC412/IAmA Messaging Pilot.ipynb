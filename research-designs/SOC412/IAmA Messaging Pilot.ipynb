{
 "cells": [
  {
   "cell_type": "code",
   "execution_count": 34,
   "metadata": {},
   "outputs": [],
   "source": [
    "%matplotlib inline\n",
    "import inspect, os, sys, copy, pytz, re, glob, random, math\n",
    "import simplejson as json\n",
    "import pandas as pd\n",
    "from dateutil import parser\n",
    "import datetime\n",
    "import matplotlib.pyplot as plt   # Matplotlib for plotting\n",
    "import matplotlib.dates as md\n",
    "import numpy as np\n",
    "import seaborn as sns\n",
    "from collections import Counter, defaultdict\n",
    "import re, urllib\n",
    "\n",
    "utc=pytz.UTC\n",
    "\n",
    "ENV = \"production\"\n",
    "os.environ['CS_ENV'] = 'production'\n",
    "BASE_DIR = \"/home/nathan/CivilServant\"\n",
    "FILE_BASE_DIR=\"/home/nathan/reddit_archive/\"\n",
    "sys.path.append(BASE_DIR)\n",
    "subreddit_id = \"2qh13\"\n",
    "\n",
    "ARCHIVE_DIR = \"/home/nathan/reddit_archive/03.2017\"\n",
    "\n",
    "with open(os.path.join(BASE_DIR, \"config\") + \"/{env}.json\".format(env=ENV), \"r\") as config:\n",
    "  DBCONFIG = json.loads(config.read())\n",
    "\n",
    "### LOAD SQLALCHEMY\n",
    "from sqlalchemy import create_engine\n",
    "from sqlalchemy.orm import sessionmaker\n",
    "from sqlalchemy import text, and_, or_\n",
    "from app.models import Base, SubredditPage, FrontPage, Subreddit, Post, ModAction, Experiment\n",
    "from utils.common import PageType\n",
    "\n",
    "db_engine = create_engine(\"mysql://{user}:{password}@{host}/{database}\".format(\n",
    "    host = DBCONFIG['host'],\n",
    "    user = DBCONFIG['user'],\n",
    "    password = DBCONFIG['password'],\n",
    "    database = DBCONFIG['database']))\n",
    "DBSession = sessionmaker(bind=db_engine)\n",
    "db_session = DBSession()\n",
    "\n",
    "### LOAD PRAW\n",
    "import reddit.connection\n",
    "conn = reddit.connection.Connect(base_dir=BASE_DIR, env=\"jupyter\")\n",
    "\n",
    "### FILTER OUT DEPRECATION WARNINGS ASSOCIATED WITH DECORATORS\n",
    "# https://github.com/ipython/ipython/issues/9242\n",
    "import warnings\n",
    "warnings.filterwarnings('ignore', category=DeprecationWarning, message='.*use @default decorator instead.*')"
   ]
  },
  {
   "cell_type": "markdown",
   "metadata": {},
   "source": [
    "# Sample Recent r/iama posts and comments"
   ]
  },
  {
   "cell_type": "code",
   "execution_count": 15,
   "metadata": {},
   "outputs": [
    {
     "name": "stdout",
     "output_type": "stream",
     "text": [
      "Loaded 1237 Posts since March 1, 2018\n",
      "Loaded 465 AMA Posts\n"
     ]
    }
   ],
   "source": [
    "query_text = \"\"\"\n",
    "select * from posts \n",
    "    WHERE subreddit_id = '2qzb6'\n",
    "    AND created_at >= '2018-03-01'\n",
    "    ORDER BY created ASC;\n",
    "\"\"\"\n",
    "\n",
    "## ADDED THE SECOND CREATED_AT TO PRESERVE EXPERIMENT INTEGRITY\n",
    "\n",
    "database_posts = []\n",
    "\n",
    "for row in db_engine.execute(text(query_text)):\n",
    "    post = {}\n",
    "    post_data = json.loads(row['post_data'])\n",
    "    for key in post_data.keys():\n",
    "        post[key] = post_data[key]\n",
    "    for key in row.keys():\n",
    "        post[key]=row[key]\n",
    "    \n",
    "    lbody  = post['selftext'].lower()\n",
    "    ltitle = post['title'].lower()\n",
    "    post['AMA'] = False\n",
    "    if(lbody.find(\"proof\") > - 1 and ltitle.find(\"request\") ==-1):\n",
    "        post['AMA'] = True\n",
    "        \n",
    "    post['created'] = post['created']\n",
    "    database_posts.append(post)\n",
    "    \n",
    "print(\"Loaded {0} Posts since March 1, 2018\".format(len(database_posts)))\n",
    "print(\"Loaded {0} AMA Posts\".format(len([x for x in database_posts if x['AMA']])))"
   ]
  },
  {
   "cell_type": "code",
   "execution_count": 5,
   "metadata": {},
   "outputs": [
    {
     "name": "stdout",
     "output_type": "stream",
     "text": [
      "Loaded 100813 Comments\n"
     ]
    }
   ],
   "source": [
    "query_text = \"\"\"\n",
    "select * from comments \n",
    "    WHERE subreddit_id = '2qzb6'\n",
    "    AND created_at >= '2018-03-01'\n",
    "    ORDER BY created_utc ASC;\n",
    "\"\"\"\n",
    "\n",
    "## ADDED THE SECOND CREATED_AT TO PRESERVE EXPERIMENT INTEGRITY\n",
    "\n",
    "database_comments = []\n",
    "\n",
    "for row in db_engine.execute(text(query_text)):\n",
    "    comment = {}\n",
    "    comment_data = json.loads(row['comment_data'])\n",
    "    for key in comment_data.keys():\n",
    "        comment[key] = comment_data[key]\n",
    "    for key in row.keys():\n",
    "        comment[key]=row[key]\n",
    "    comment['created'] = comment['created_utc']\n",
    "    database_comments.append(comment)\n",
    "    \n",
    "print(\"Loaded {0} Comments\".format(len(database_comments)))"
   ]
  },
  {
   "cell_type": "code",
   "execution_count": 7,
   "metadata": {},
   "outputs": [
    {
     "name": "stdout",
     "output_type": "stream",
     "text": [
      "20997 moderator actions loaded\n"
     ]
    }
   ],
   "source": [
    "recent_mod_actions = []\n",
    "for row in db_engine.execute(text(\"\"\"\n",
    "SELECT action_data FROM mod_actions \n",
    "    WHERE subreddit_id=\"2qzb6\" \n",
    "    AND created_utc >= \"2018-03-01\" \n",
    "    ORDER BY created_utc;\n",
    "\"\"\")):\n",
    "    mod_action = json.loads(row['action_data'])\n",
    "    mod_action['created'] = utc.localize(datetime.datetime.utcfromtimestamp(mod_action['created_utc']))\n",
    "    recent_mod_actions.append(mod_action)\n",
    "print(\"{0} moderator actions loaded\".format(len(recent_mod_actions)))"
   ]
  },
  {
   "cell_type": "code",
   "execution_count": 21,
   "metadata": {},
   "outputs": [
    {
     "name": "stdout",
     "output_type": "stream",
     "text": [
      "Matched Mod Actions: 359\n",
      "Visible AMAs: 465\n"
     ]
    }
   ],
   "source": [
    "all_posts = {}\n",
    "\n",
    "for post in database_posts:\n",
    "    if(post['AMA']):\n",
    "        post['visible'] = True\n",
    "        post['comments'] = []\n",
    "        all_posts[post['id']]  = post\n",
    "\n",
    "missing_mod_actions = []\n",
    "matched_mod_actions = 0\n",
    "for action in recent_mod_actions:\n",
    "    if action['action'] == \"removelink\":\n",
    "        key = action['target_fullname'].replace(\"t3_\",\"\")\n",
    "        if key in all_posts.keys():\n",
    "            if(key in all_posts.keys()):\n",
    "                all_posts[key]['visible'] = False\n",
    "            matched_mod_actions += 1\n",
    "        else:\n",
    "            missing_mod_actions.append(key)\n",
    "    elif action['action'] == 'approvelink':\n",
    "        key = action['target_fullname'].replace(\"t3_\",\"\")\n",
    "        if key in all_posts.keys():\n",
    "            if(key in all_posts.keys()):\n",
    "                all_posts[key]['visible'] = True\n",
    "            matched_mod_actions += 1\n",
    "        else:\n",
    "            missing_mod_actions.append(key)\n",
    "#print(\"Missing Mod Actions: {0}\".format(len(missing_mod_actions)))\n",
    "#print(\"Missing Mod Action Posts: {0}\".format(len(set(missing_mod_actions))))\n",
    "print(\"Matched Mod Actions: {0}\".format(matched_mod_actions))\n",
    "print(\"Visible AMAs: {0}\".format(len([x for x in list(all_posts.values()) if x['AMA']])))"
   ]
  },
  {
   "cell_type": "markdown",
   "metadata": {},
   "source": [
    "# Create a Per-Post Dataset of Comments, with Moderation Actions on Posts"
   ]
  },
  {
   "cell_type": "code",
   "execution_count": 40,
   "metadata": {},
   "outputs": [
    {
     "name": "stdout",
     "output_type": "stream",
     "text": [
      "Total comments included: 64941\n",
      "Total non-questions included: 37258\n"
     ]
    }
   ],
   "source": [
    "total_comments_included = 0\n",
    "total_questions_included = 0\n",
    "for comment in database_comments:\n",
    "    comment['toplevel'] = False\n",
    "    comment['question'] = False\n",
    "    if(comment['parent_id']==comment['link_id']):\n",
    "        comment['toplevel'] = True\n",
    "    if(comment['body'].find(\"?\")>-1):\n",
    "        comment['question'] = True\n",
    "    post_id = comment['link_id'].replace(\"t3_\",\"\")\n",
    "    if post_id in all_posts.keys():\n",
    "        all_posts[post_id]['comments'].append(comment)\n",
    "        total_comments_included += 1\n",
    "        total_questions_included += 1*int(comment['question'])\n",
    "\n",
    "for post_id, post in all_posts.items():\n",
    "    post['comments'] = sorted(post['comments'], key = lambda x: x['created'])\n",
    "    post['num.non.questions'] = len([x for x in post['comments'] if x['toplevel'] and x['question'] == False])\n",
    "    post['num.questions'] = len([x for x in post['comments'] if x['toplevel'] and x['question'] == True ])\n",
    "    \n",
    "print(\"Total comments included: {0}\".format(total_comments_included))\n",
    "print(\"Total non-questions included: {0}\".format(total_comments_included - total_questions_included))"
   ]
  },
  {
   "cell_type": "code",
   "execution_count": 38,
   "metadata": {},
   "outputs": [
    {
     "data": {
      "image/png": "[encoded data removed]",
      "text/plain": [
       "<Figure size 432x288 with 1 Axes>"
      ]
     },
     "metadata": {},
     "output_type": "display_data"
    }
   ],
   "source": [
    "plt.hist([math.log1p(x['non.questions']) for x in all_posts.values()])\n",
    "plt.title(\"Log-transformed number of non-questions per post since March 1st, 2018\")\n",
    "plt.show()"
   ]
  },
  {
   "cell_type": "markdown",
   "metadata": {},
   "source": [
    "## CREATE A STRATIFIED SAMPLE OF AMA GUESTS"
   ]
  },
  {
   "cell_type": "code",
   "execution_count": 52,
   "metadata": {},
   "outputs": [
    {
     "name": "stdout",
     "output_type": "stream",
     "text": [
      "465\n"
     ]
    }
   ],
   "source": [
    "def ama_guest():\n",
    "    return {\"author\":None,\n",
    "            \"date\": None,\n",
    "            \"num.comments\":None,\n",
    "            \"num.questions\": 0,\n",
    "            \"num.non.questions\":0}\n",
    "\n",
    "ama_guests = defaultdict(ama_guest)\n",
    "\n",
    "counter = 0\n",
    "for post_id, post in all_posts.items():\n",
    "    guest = ama_guest()\n",
    "    guest['author'] = post['author']\n",
    "    guest['date'] = post['created']\n",
    "    guest['num.comments'] = len(post['comments'])\n",
    "    guest['num.questions'] = post['num.questions']\n",
    "    guest['num.non.questions'] = post['num.non.questions']\n",
    "    guest['pct.questions'] = post['num.questions'] / (post['num.questions'] + post['num.non.questions'] + 1 )\n",
    "    ama_guests[guest['author']]  = guest\n",
    "    counter += 1\n",
    "    \n",
    "print(counter)\n"
   ]
  },
  {
   "cell_type": "code",
   "execution_count": 54,
   "metadata": {},
   "outputs": [
    {
     "data": {
      "text/plain": [
       "(array([ 93.,   0.,   0.,   2.,  20.,   5.,  29.,  58., 110., 120.]),\n",
       " array([0.        , 0.0999229 , 0.1998458 , 0.2997687 , 0.3996916 ,\n",
       "        0.49961449, 0.59953739, 0.69946029, 0.79938319, 0.89930609,\n",
       "        0.99922899]),\n",
       " <a list of 10 Patch objects>)"
      ]
     },
     "execution_count": 54,
     "metadata": {},
     "output_type": "execute_result"
    },
    {
     "data": {
      "image/png": "[encoded data removed]",
      "text/plain": [
       "<Figure size 432x288 with 1 Axes>"
      ]
     },
     "metadata": {},
     "output_type": "display_data"
    }
   ],
   "source": [
    "plt.hist([x['pct.questions'] for x in list(ama_guests.values())] )"
   ]
  },
  {
   "cell_type": "markdown",
   "metadata": {},
   "source": [
    "### Label comments by how many weeks previously the AMA was held (for a stratified random sample)"
   ]
  },
  {
   "cell_type": "code",
   "execution_count": 56,
   "metadata": {},
   "outputs": [],
   "source": [
    "one_week_in_seconds = 60*60*24*7\n",
    "current_time = datetime.datetime.utcnow()\n",
    "\n",
    "for guest_id, guest in ama_guests.items():\n",
    "    guest['ama.week.diff'] = int((current_time - guest['date']).total_seconds() / \n",
    "                                             one_week_in_seconds)\n",
    "    \n",
    "    \n",
    "    "
   ]
  },
  {
   "cell_type": "code",
   "execution_count": 59,
   "metadata": {},
   "outputs": [
    {
     "data": {
      "image/png": "[encoded data removed]",
      "text/plain": [
       "<Figure size 432x288 with 1 Axes>"
      ]
     },
     "metadata": {},
     "output_type": "display_data"
    }
   ],
   "source": [
    "plt.hist([guest['ama.week.diff'] for guest in ama_guests.values()])\n",
    "plt.title(\"How many weeks previously was this AMA posted\")\n",
    "plt.show()"
   ]
  },
  {
   "cell_type": "markdown",
   "metadata": {},
   "source": [
    "### Create a stratified random sample of accounts to message, based on the elapsed number of weeks since they originally posted their AMA\n",
    "The purpose of this is to get response rates based on how recently they did the AMA. Note that we will want to include them int he sample even if their account doesn't exist, because we're going to be including those kinds of accounts in the study, and we will want to think about that attrition as an expected part of the sample."
   ]
  },
  {
   "cell_type": "code",
   "execution_count": 61,
   "metadata": {},
   "outputs": [],
   "source": [
    "eligible_by_week = {}\n",
    "for key in set([x['ama.week.diff'] for x in ama_guests.values()]):\n",
    "    eligible_by_week[key] = [x['author'] for x in ama_guests.values() if \n",
    "                             x['ama.week.diff'] == key]"
   ]
  },
  {
   "cell_type": "code",
   "execution_count": 62,
   "metadata": {},
   "outputs": [
    {
     "name": "stdout",
     "output_type": "stream",
     "text": [
      "Week age 0: 51 authors \n",
      "Week age 1: 66 authors \n",
      "Week age 2: 50 authors \n",
      "Week age 3: 67 authors \n",
      "Week age 4: 61 authors \n",
      "Week age 5: 41 authors \n",
      "Week age 6: 42 authors \n",
      "Week age 7: 28 authors \n",
      "Week age 8: 28 authors \n",
      "Week age 9: 3 authors \n"
     ]
    }
   ],
   "source": [
    "for key in sorted(eligible_by_week.keys()):\n",
    "    print(\"Week age {0}: {1} authors \".format(key, len(eligible_by_week[key])))"
   ]
  },
  {
   "cell_type": "code",
   "execution_count": 63,
   "metadata": {},
   "outputs": [
    {
     "name": "stdout",
     "output_type": "stream",
     "text": [
      "Week age 0: 40 authors \n",
      "Week age 1: 40 authors \n",
      "Week age 2: 40 authors \n",
      "Week age 3: 40 authors \n",
      "Week age 4: 40 authors \n"
     ]
    }
   ],
   "source": [
    "##  Decision: create a random sample of 40 people per week\n",
    "##  Only survey the last 6 weeks\n",
    "random.seed(880442) # current milliseconds at code time\n",
    "sample_size = 40\n",
    "selected_by_week = {}\n",
    "for week in sorted(eligible_by_week.keys()):\n",
    "    if week <=4:\n",
    "        selected_by_week[week] = random.sample(eligible_by_week[week], sample_size)\n",
    "        \n",
    "for week in sorted(selected_by_week.keys()):\n",
    "    print(\"Week age {0}: {1} authors \".format(week, len(selected_by_week[week])))"
   ]
  },
  {
   "cell_type": "markdown",
   "metadata": {},
   "source": [
    "# Construct and personalize the message"
   ]
  },
  {
   "cell_type": "markdown",
   "metadata": {},
   "source": [
    "# Send the message"
   ]
  },
  {
   "cell_type": "code",
   "execution_count": 73,
   "metadata": {},
   "outputs": [
    {
     "data": {
      "text/plain": [
       "False"
      ]
     },
     "execution_count": 73,
     "metadata": {},
     "output_type": "execute_result"
    }
   ],
   "source": []
  },
  {
   "cell_type": "code",
   "execution_count": null,
   "metadata": {},
   "outputs": [],
   "source": [
    "#r.send_message('user', 'Subject Line', 'You are awesome!')"
   ]
  }
 ],
 "metadata": {
  "kernelspec": {
   "display_name": "Python 3",
   "language": "python",
   "name": "python3"
  },
  "language_info": {
   "codemirror_mode": {
    "name": "ipython",
    "version": 3
   },
   "file_extension": ".py",
   "mimetype": "text/x-python",
   "name": "python",
   "nbconvert_exporter": "python",
   "pygments_lexer": "ipython3",
   "version": "3.5.2"
  }
 },
 "nbformat": 4,
 "nbformat_minor": 1
}
