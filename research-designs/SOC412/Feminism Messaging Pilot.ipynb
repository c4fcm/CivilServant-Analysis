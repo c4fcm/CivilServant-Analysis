{
 "cells": [
  {
   "cell_type": "code",
   "execution_count": 93,
   "metadata": {},
   "outputs": [],
   "source": [
    "%matplotlib inline\n",
    "import inspect, os, sys, copy, pytz, re, glob, random\n",
    "import simplejson as json\n",
    "import pandas as pd\n",
    "from dateutil import parser\n",
    "import datetime\n",
    "import matplotlib.pyplot as plt   # Matplotlib for plotting\n",
    "import matplotlib.dates as md\n",
    "import numpy as np\n",
    "import seaborn as sns\n",
    "from collections import Counter, defaultdict\n",
    "import re, urllib\n",
    "\n",
    "utc=pytz.UTC\n",
    "\n",
    "ENV = \"production\"\n",
    "os.environ['CS_ENV'] = 'production'\n",
    "BASE_DIR = \"/home/nathan/CivilServant\"\n",
    "FILE_BASE_DIR=\"/home/nathan/reddit_archive/\"\n",
    "sys.path.append(BASE_DIR)\n",
    "subreddit_id = \"2qh13\"\n",
    "\n",
    "ARCHIVE_DIR = \"/home/nathan/reddit_archive/03.2017\"\n",
    "\n",
    "with open(os.path.join(BASE_DIR, \"config\") + \"/{env}.json\".format(env=ENV), \"r\") as config:\n",
    "  DBCONFIG = json.loads(config.read())\n",
    "\n",
    "### LOAD SQLALCHEMY\n",
    "from sqlalchemy import create_engine\n",
    "from sqlalchemy.orm import sessionmaker\n",
    "from sqlalchemy import text, and_, or_\n",
    "from app.models import Base, SubredditPage, FrontPage, Subreddit, Post, ModAction, Experiment\n",
    "from utils.common import PageType\n",
    "\n",
    "db_engine = create_engine(\"mysql://{user}:{password}@{host}/{database}\".format(\n",
    "    host = DBCONFIG['host'],\n",
    "    user = DBCONFIG['user'],\n",
    "    password = DBCONFIG['password'],\n",
    "    database = DBCONFIG['database']))\n",
    "DBSession = sessionmaker(bind=db_engine)\n",
    "db_session = DBSession()\n",
    "\n",
    "### LOAD PRAW\n",
    "import reddit.connection\n",
    "conn = reddit.connection.Connect(base_dir=BASE_DIR, env=\"jupyter\")\n",
    "\n",
    "### FILTER OUT DEPRECATION WARNINGS ASSOCIATED WITH DECORATORS\n",
    "# https://github.com/ipython/ipython/issues/9242\n",
    "import warnings\n",
    "warnings.filterwarnings('ignore', category=DeprecationWarning, message='.*use @default decorator instead.*')"
   ]
  },
  {
   "cell_type": "markdown",
   "metadata": {},
   "source": [
    "# Sample Recent r/feminism newcomer commenters"
   ]
  },
  {
   "cell_type": "markdown",
   "metadata": {},
   "source": [
    "### Data integrity checks and load background data"
   ]
  },
  {
   "cell_type": "code",
   "execution_count": null,
   "metadata": {
    "collapsed": true
   },
   "outputs": [],
   "source": [
    "## LOOK AT HOW RECENT OUR COMMENTS DATASET IS (HOPE THAT WE HAVE ALL THE WAY TO THE BEGINNING OF MARCH)\n",
    "## LOOK AT HOW RECENT OUR SUBMISSIONS DATASET IS (HOPE THAT WE HAVE ALL THE WAY TO THE BEGINNING OF MARCH)\n",
    "\n",
    "## CONSTRUCT A MEASURE OF THE SIX MONTH WINDOW (FROM Feminism Newcomer Analysis)"
   ]
  },
  {
   "cell_type": "code",
   "execution_count": 64,
   "metadata": {},
   "outputs": [
    {
     "name": "stdout",
     "output_type": "stream",
     "text": [
      "Loaded 6642 Comments\n"
     ]
    }
   ],
   "source": [
    "query_text = \"\"\"\n",
    "select * from comments \n",
    "    WHERE subreddit_id = '2qr7i'\n",
    "    AND created_at >= '2018-03-01'\n",
    "    ORDER BY created_utc ASC;\n",
    "\"\"\"\n",
    "\n",
    "## ADDED THE SECOND CREATED_AT TO PRESERVE EXPERIMENT INTEGRITY\n",
    "\n",
    "database_comments = []\n",
    "\n",
    "for row in db_engine.execute(text(query_text)):\n",
    "    comment = {}\n",
    "    comment_data = json.loads(row['comment_data'])\n",
    "    for key in comment_data.keys():\n",
    "        comment[key] = comment_data[key]\n",
    "    for key in row.keys():\n",
    "        comment[key]=row[key]\n",
    "    comment['created'] = comment['created_utc']\n",
    "    database_comments.append(comment)\n",
    "    \n",
    "print(\"Loaded {0} Comments\".format(len(database_comments)))"
   ]
  },
  {
   "cell_type": "code",
   "execution_count": 65,
   "metadata": {},
   "outputs": [
    {
     "name": "stdout",
     "output_type": "stream",
     "text": [
      "Loaded 91906 Comments\n",
      "Loaded 90555 Comment lines\n"
     ]
    }
   ],
   "source": [
    "file_comments = []\n",
    "comment_ids = set()\n",
    "comment_count = 0\n",
    "\n",
    "comments_filename=\"full_feminism_comments_through_02_2018.json\"\n",
    "\n",
    "with open(os.path.join(FILE_BASE_DIR, \"selected_output\", comments_filename), \"r\") as f:\n",
    "    for line in f:\n",
    "        item = json.loads(line)\n",
    "        if(item['id'] not in comment_ids):\n",
    "            item['created'] = datetime.datetime.utcfromtimestamp(float(item['created_utc']))\n",
    "            item['body.charlength'] = len(item['body'])\n",
    "            #item['body'] = None\n",
    "            file_comments.append(item)\n",
    "            comment_ids.add(item['id'])\n",
    "        comment_count += 1\n",
    "#file_comments = sorted(file_comments, key = lambda x: x['created'])        \n",
    "\n",
    "print(\"Loaded {0} Comments\".format(len(all_comments)))\n",
    "print(\"Loaded {0} Comment lines\".format(comment_count))"
   ]
  },
  {
   "cell_type": "markdown",
   "metadata": {},
   "source": [
    "### Add database comments to file-loaded comments"
   ]
  },
  {
   "cell_type": "code",
   "execution_count": 66,
   "metadata": {},
   "outputs": [
    {
     "name": "stdout",
     "output_type": "stream",
     "text": [
      "Keys in file and in database: [retrieved_on,body.charlength]\n",
      "Merged comment datasets. Added 6494 comments and skipped 148 duplicates\n"
     ]
    }
   ],
   "source": [
    "keys_to_include = []\n",
    "for key in file_comments[0].keys():\n",
    "    if key in database_comments[0].keys():\n",
    "        keys_to_include.append(key)\n",
    "print(\"Keys in file and in database: [{0}]\".format((\",\").join(keys_to_skip)))\n",
    "\n",
    "\n",
    "all_comments = file_comments\n",
    "\n",
    "added_comment_ids = 0\n",
    "duplicate_comment_ids = 0\n",
    "\n",
    "for comment in database_comments:\n",
    "    if comment['id'] not in comment_ids:\n",
    "        trimmed_comment = {}\n",
    "        for key in keys_to_include:\n",
    "            trimmed_comment[key] = comment[key]\n",
    "        all_comments.append(trimmed_comment)\n",
    "        comment_ids.add(comment['id'])\n",
    "        added_comment_ids += 1\n",
    "    else:\n",
    "        duplicate_comment_ids += 1\n",
    "print(\"Merged comment datasets. Added {0} comments and skipped {1} duplicates\".format(\n",
    "    added_comment_ids, duplicate_comment_ids))\n",
    "\n",
    "## NOW SORT COMMENTS\n",
    "all_comments = sorted(all_comments, key = lambda x: x['created'])        "
   ]
  },
  {
   "cell_type": "markdown",
   "metadata": {},
   "source": [
    "### Record the number of previous comments that a participant made in the prior six months"
   ]
  },
  {
   "cell_type": "code",
   "execution_count": null,
   "metadata": {},
   "outputs": [
    {
     "name": "stdout",
     "output_type": "stream",
     "text": [
      "\n",
      "comments.........................................................................................."
     ]
    }
   ],
   "source": [
    "def previous_actions():\n",
    "    return {\"comments\":[], \"posts\":[]}\n",
    "\n",
    "author_records = defaultdict(previous_actions)\n",
    "\n",
    "for item in all_comments:\n",
    "    author_id = item['author']\n",
    "    author_records[author_id]['comments'].append(item)\n",
    "\n",
    "#one_eighty_days in seconds\n",
    "def count_if_eligible(current, comparator):\n",
    "    one_eighty_days = 60*60*24*180\n",
    "    if(current['created'] > comparator['created'] and \n",
    "       (current['created'] - comparator['created']).total_seconds()<one_eighty_days):\n",
    "        return 1\n",
    "    return 0\n",
    "\n",
    "earliest_date = all_comments[0]['created']\n",
    "\n",
    "sys.stdout.write(\"\\ncomments\")\n",
    "sys.stdout.flush()\n",
    "items_processed = 0\n",
    "for item in all_comments:\n",
    "    previous_comments = 0\n",
    "    for comment in author_records[item['author']]['comments']:\n",
    "        if(item['created'] > comment['created']):\n",
    "            previous_comments += count_if_eligible(item, comment) \n",
    "    items_processed += 1\n",
    "    item['previous.comments'] = previous_comments\n",
    "    item['eligible'] = item['created'] > earliest_date\n",
    "    \n",
    "    if(items_processed % 1000 == 0):\n",
    "        sys.stdout.write(\".\")\n",
    "        sys.stdout.flush()\n",
    "    "
   ]
  },
  {
   "cell_type": "markdown",
   "metadata": {},
   "source": [
    "# Create a Sample of Recent Commenters \n",
    "First time commenters within the last 45 days"
   ]
  },
  {
   "cell_type": "code",
   "execution_count": 77,
   "metadata": {},
   "outputs": [],
   "source": [
    "recent_comment_in_seconds = 60*60*24*45\n",
    "current_time = datetime.datetime.utcnow()"
   ]
  },
  {
   "cell_type": "code",
   "execution_count": 80,
   "metadata": {},
   "outputs": [
    {
     "name": "stdout",
     "output_type": "stream",
     "text": [
      "Total comments: 91906. Eligible comments: 1652\n"
     ]
    }
   ],
   "source": [
    "eligible_comments = [x for x in all_comments if x['eligible'] and \n",
    "                      (current_time - x['created']).total_seconds() < recent_comment_in_seconds and\n",
    "                      x['previous.comments']==0]\n",
    "\n",
    "print(\"Total comments: {0}. Eligible comments: {1}\".format(\n",
    "    len(all_comments),\n",
    "    len(eligible_comments)))"
   ]
  },
  {
   "cell_type": "markdown",
   "metadata": {},
   "source": [
    "### Label comments by how many weeks previously they commented for the first time (for a stratified random sample)"
   ]
  },
  {
   "cell_type": "code",
   "execution_count": 82,
   "metadata": {},
   "outputs": [],
   "source": [
    "one_week_in_seconds = 60*60*24*7\n",
    "\n",
    "for comment in eligible_comments:\n",
    "    comment['first.comment.week.diff'] = int((current_time - comment['created']).total_seconds() / \n",
    "                                             one_week_in_seconds)\n",
    "    \n",
    "    \n",
    "    "
   ]
  },
  {
   "cell_type": "code",
   "execution_count": 84,
   "metadata": {},
   "outputs": [
    {
     "data": {
      "image/png": "[encoded data removed]",
      "text/plain": [
       "<Figure size 432x288 with 1 Axes>"
      ]
     },
     "metadata": {},
     "output_type": "display_data"
    }
   ],
   "source": [
    "plt.hist([comment['first.comment.week.diff'] for comment in eligible_comments])\n",
    "plt.title(\"How many weeks previously was this comment posted\")\n",
    "plt.show()"
   ]
  },
  {
   "cell_type": "markdown",
   "metadata": {},
   "source": [
    "### Create a stratified random sample of accounts to message, based on the elapsed number of weeks since they originally posted their first comment\n",
    "Later, we may want to do a post-hoc analysis of how many comments they had previously made in the subreddit. Note that we will want to include them int he sample even if their account doesn't exist, because we're going to be including those kinds of accounts in the study, and we will want to think about that attrition as an expected part of the sample."
   ]
  },
  {
   "cell_type": "code",
   "execution_count": 88,
   "metadata": {},
   "outputs": [],
   "source": [
    "eligible_by_week = {}\n",
    "for key in set([x['first.comment.week.diff'] for x in eligible_comments]):\n",
    "    eligible_by_week[key] = [x['author'] for x in eligible_comments if \n",
    "                             x['first.comment.week.diff'] == key]"
   ]
  },
  {
   "cell_type": "code",
   "execution_count": 90,
   "metadata": {},
   "outputs": [
    {
     "name": "stdout",
     "output_type": "stream",
     "text": [
      "Week age 0: 266 authors \n",
      "Week age 1: 265 authors \n",
      "Week age 2: 240 authors \n",
      "Week age 3: 257 authors \n",
      "Week age 4: 311 authors \n",
      "Week age 5: 176 authors \n",
      "Week age 6: 137 authors \n"
     ]
    }
   ],
   "source": [
    "for key in sorted(eligible_by_week.keys()):\n",
    "    print(\"Week age {0}: {1} authors \".format(key, len(eligible_by_week[key])))"
   ]
  },
  {
   "cell_type": "code",
   "execution_count": 101,
   "metadata": {},
   "outputs": [
    {
     "name": "stdout",
     "output_type": "stream",
     "text": [
      "Week age 0: 200 authors \n",
      "Week age 1: 200 authors \n",
      "Week age 2: 200 authors \n",
      "Week age 3: 200 authors \n",
      "Week age 4: 200 authors \n"
     ]
    }
   ],
   "source": [
    "##  Decision: survey 200 authors per group\n",
    "##  Only survey the last 4 weeks\n",
    "random.seed(880442) # current milliseconds at code time\n",
    "sample_size = 200\n",
    "selected_by_week = {}\n",
    "for week in sorted(eligible_by_week.keys()):\n",
    "    if week <=4:\n",
    "        selected_by_week[week] = random.sample(eligible_by_week[week], sample_size)\n",
    "        \n",
    "for week in sorted(selected_by_week.keys()):\n",
    "    print(\"Week age {0}: {1} authors \".format(week, len(selected_by_week[week])))"
   ]
  },
  {
   "cell_type": "markdown",
   "metadata": {},
   "source": [
    "# Construct and personalize the message"
   ]
  },
  {
   "cell_type": "markdown",
   "metadata": {},
   "source": [
    "# Send the message"
   ]
  },
  {
   "cell_type": "code",
   "execution_count": 73,
   "metadata": {},
   "outputs": [
    {
     "data": {
      "text/plain": [
       "False"
      ]
     },
     "execution_count": 73,
     "metadata": {},
     "output_type": "execute_result"
    }
   ],
   "source": []
  },
  {
   "cell_type": "code",
   "execution_count": null,
   "metadata": {},
   "outputs": [],
   "source": [
    "#r.send_message('user', 'Subject Line', 'You are awesome!')"
   ]
  }
 ],
 "metadata": {
  "kernelspec": {
   "display_name": "Python 3",
   "language": "python",
   "name": "python3"
  },
  "language_info": {
   "codemirror_mode": {
    "name": "ipython",
    "version": 3
   },
   "file_extension": ".py",
   "mimetype": "text/x-python",
   "name": "python",
   "nbconvert_exporter": "python",
   "pygments_lexer": "ipython3",
   "version": "3.5.2"
  }
 },
 "nbformat": 4,
 "nbformat_minor": 1
}
