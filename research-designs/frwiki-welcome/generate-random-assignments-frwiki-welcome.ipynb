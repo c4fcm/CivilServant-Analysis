{
 "cells": [
  {
   "cell_type": "code",
   "execution_count": 1,
   "metadata": {},
   "outputs": [],
   "source": [
    "import numpy as np\n",
    "import pandas as pd\n",
    "import datetime, os\n",
    "#import randomization # this one doesn't make a dataframe :(\n",
    "# from stochatreat import stochatreat # this one doesnt include the block_id :(\n",
    "from rpy2.robjects.packages import importr\n",
    "import rpy2.robjects as ro # this will be useful if not running in Jupyter\n",
    "%load_ext rpy2.ipython"
   ]
  },
  {
   "cell_type": "code",
   "execution_count": 2,
   "metadata": {},
   "outputs": [],
   "source": [
    "n_randomizations = 100_000\n",
    "n_arms = 3\n",
    "units_per_block = 6 #aka total number of randomizations in each block. assumes balanced blocks, so block size = units_per_block = n_arms * (x arm appearances)"
   ]
  },
  {
   "cell_type": "code",
   "execution_count": 4,
   "metadata": {},
   "outputs": [],
   "source": [
    "%%R -i n_randomizations -i n_arms -i units_per_block\n",
    "library(blockrand)\n",
    "set.seed(667)\n",
    "\n",
    "########### French Wikipedia Welcome Experiment\n",
    "#observations = 10\n",
    "## We will run this for 90 days. In 2019 The maximum number of newcomers per 30 days has never exceeded\n",
    "## 20,000. So 60,000 should be sufficient.\n",
    "\n",
    "frwiki <- blockrand(n=n_randomizations, \n",
    "                    num.levels = n_arms,\n",
    "                    levels = c(0,1,2),\n",
    "                    block.sizes = c(units_per_block/n_arms, units_per_block/n_arms, units_per_block/n_arms), \n",
    "                    id.prefix='newcomer_', \n",
    "                    #block.prefix='frwiki.block',\n",
    "                    #stratum='post'\n",
    "                    )"
   ]
  },
  {
   "cell_type": "code",
   "execution_count": 9,
   "metadata": {},
   "outputs": [],
   "source": [
    "%R -o frwiki"
   ]
  },
  {
   "cell_type": "code",
   "execution_count": 10,
   "metadata": {},
   "outputs": [
    {
     "data": {
      "text/html": [
       "<div>\n",
       "<style scoped>\n",
       "    .dataframe tbody tr th:only-of-type {\n",
       "        vertical-align: middle;\n",
       "    }\n",
       "\n",
       "    .dataframe tbody tr th {\n",
       "        vertical-align: top;\n",
       "    }\n",
       "\n",
       "    .dataframe thead th {\n",
       "        text-align: right;\n",
       "    }\n",
       "</style>\n",
       "<table border=\"1\" class=\"dataframe\">\n",
       "  <thead>\n",
       "    <tr style=\"text-align: right;\">\n",
       "      <th></th>\n",
       "      <th>id</th>\n",
       "      <th>block.id</th>\n",
       "      <th>block.size</th>\n",
       "      <th>treatment</th>\n",
       "    </tr>\n",
       "  </thead>\n",
       "  <tbody>\n",
       "    <tr>\n",
       "      <th>1</th>\n",
       "      <td>newcomer_001</td>\n",
       "      <td>1</td>\n",
       "      <td>6.0</td>\n",
       "      <td>2</td>\n",
       "    </tr>\n",
       "    <tr>\n",
       "      <th>2</th>\n",
       "      <td>newcomer_002</td>\n",
       "      <td>1</td>\n",
       "      <td>6.0</td>\n",
       "      <td>0</td>\n",
       "    </tr>\n",
       "    <tr>\n",
       "      <th>3</th>\n",
       "      <td>newcomer_003</td>\n",
       "      <td>1</td>\n",
       "      <td>6.0</td>\n",
       "      <td>2</td>\n",
       "    </tr>\n",
       "    <tr>\n",
       "      <th>4</th>\n",
       "      <td>newcomer_004</td>\n",
       "      <td>1</td>\n",
       "      <td>6.0</td>\n",
       "      <td>1</td>\n",
       "    </tr>\n",
       "    <tr>\n",
       "      <th>5</th>\n",
       "      <td>newcomer_005</td>\n",
       "      <td>1</td>\n",
       "      <td>6.0</td>\n",
       "      <td>1</td>\n",
       "    </tr>\n",
       "    <tr>\n",
       "      <th>6</th>\n",
       "      <td>newcomer_006</td>\n",
       "      <td>1</td>\n",
       "      <td>6.0</td>\n",
       "      <td>0</td>\n",
       "    </tr>\n",
       "    <tr>\n",
       "      <th>7</th>\n",
       "      <td>newcomer_007</td>\n",
       "      <td>2</td>\n",
       "      <td>6.0</td>\n",
       "      <td>1</td>\n",
       "    </tr>\n",
       "    <tr>\n",
       "      <th>8</th>\n",
       "      <td>newcomer_008</td>\n",
       "      <td>2</td>\n",
       "      <td>6.0</td>\n",
       "      <td>2</td>\n",
       "    </tr>\n",
       "    <tr>\n",
       "      <th>9</th>\n",
       "      <td>newcomer_009</td>\n",
       "      <td>2</td>\n",
       "      <td>6.0</td>\n",
       "      <td>1</td>\n",
       "    </tr>\n",
       "    <tr>\n",
       "      <th>10</th>\n",
       "      <td>newcomer_010</td>\n",
       "      <td>2</td>\n",
       "      <td>6.0</td>\n",
       "      <td>0</td>\n",
       "    </tr>\n",
       "    <tr>\n",
       "      <th>11</th>\n",
       "      <td>newcomer_011</td>\n",
       "      <td>2</td>\n",
       "      <td>6.0</td>\n",
       "      <td>2</td>\n",
       "    </tr>\n",
       "    <tr>\n",
       "      <th>12</th>\n",
       "      <td>newcomer_012</td>\n",
       "      <td>2</td>\n",
       "      <td>6.0</td>\n",
       "      <td>0</td>\n",
       "    </tr>\n",
       "  </tbody>\n",
       "</table>\n",
       "</div>"
      ],
      "text/plain": [
       "              id block.id  block.size treatment\n",
       "1   newcomer_001        1         6.0         2\n",
       "2   newcomer_002        1         6.0         0\n",
       "3   newcomer_003        1         6.0         2\n",
       "4   newcomer_004        1         6.0         1\n",
       "5   newcomer_005        1         6.0         1\n",
       "6   newcomer_006        1         6.0         0\n",
       "7   newcomer_007        2         6.0         1\n",
       "8   newcomer_008        2         6.0         2\n",
       "9   newcomer_009        2         6.0         1\n",
       "10  newcomer_010        2         6.0         0\n",
       "11  newcomer_011        2         6.0         2\n",
       "12  newcomer_012        2         6.0         0"
      ]
     },
     "execution_count": 10,
     "metadata": {},
     "output_type": "execute_result"
    }
   ],
   "source": [
    "frwiki.head(12)"
   ]
  },
  {
   "cell_type": "code",
   "execution_count": 11,
   "metadata": {},
   "outputs": [],
   "source": [
    "target_colnames = {\"block.id\":\"randomization_block_id\",\n",
    "                       \"block.size\":\"randomization_block_size\",\n",
    "                       \"treatment\":\"randomization_arm\"}\n",
    "exportable = frwiki.rename(target_colnames,\n",
    "                      axis='columns')"
   ]
  },
  {
   "cell_type": "code",
   "execution_count": 12,
   "metadata": {},
   "outputs": [],
   "source": [
    "exportable = exportable[[\"randomization_arm\", \"randomization_block_id\",]]"
   ]
  },
  {
   "cell_type": "code",
   "execution_count": 13,
   "metadata": {},
   "outputs": [],
   "source": [
    "exportable = exportable.astype(int)"
   ]
  },
  {
   "cell_type": "code",
   "execution_count": 14,
   "metadata": {},
   "outputs": [
    {
     "data": {
      "text/html": [
       "<div>\n",
       "<style scoped>\n",
       "    .dataframe tbody tr th:only-of-type {\n",
       "        vertical-align: middle;\n",
       "    }\n",
       "\n",
       "    .dataframe tbody tr th {\n",
       "        vertical-align: top;\n",
       "    }\n",
       "\n",
       "    .dataframe thead th {\n",
       "        text-align: right;\n",
       "    }\n",
       "</style>\n",
       "<table border=\"1\" class=\"dataframe\">\n",
       "  <thead>\n",
       "    <tr style=\"text-align: right;\">\n",
       "      <th></th>\n",
       "      <th>randomization_arm</th>\n",
       "      <th>randomization_block_id</th>\n",
       "    </tr>\n",
       "  </thead>\n",
       "  <tbody>\n",
       "    <tr>\n",
       "      <th>1</th>\n",
       "      <td>2</td>\n",
       "      <td>1</td>\n",
       "    </tr>\n",
       "    <tr>\n",
       "      <th>2</th>\n",
       "      <td>0</td>\n",
       "      <td>1</td>\n",
       "    </tr>\n",
       "    <tr>\n",
       "      <th>3</th>\n",
       "      <td>2</td>\n",
       "      <td>1</td>\n",
       "    </tr>\n",
       "    <tr>\n",
       "      <th>4</th>\n",
       "      <td>1</td>\n",
       "      <td>1</td>\n",
       "    </tr>\n",
       "    <tr>\n",
       "      <th>5</th>\n",
       "      <td>1</td>\n",
       "      <td>1</td>\n",
       "    </tr>\n",
       "  </tbody>\n",
       "</table>\n",
       "</div>"
      ],
      "text/plain": [
       "   randomization_arm  randomization_block_id\n",
       "1                  2                       1\n",
       "2                  0                       1\n",
       "3                  2                       1\n",
       "4                  1                       1\n",
       "5                  1                       1"
      ]
     },
     "execution_count": 14,
     "metadata": {},
     "output_type": "execute_result"
    }
   ],
   "source": [
    "exportable.head()"
   ]
  },
  {
   "cell_type": "code",
   "execution_count": 15,
   "metadata": {},
   "outputs": [],
   "source": [
    "fname_stem = 'fr-randomziation'\n",
    "date = datetime.datetime.today().strftime('%Y%m%d')\n",
    "fname = os.path.join('/data/project/frwelcome/randomizations', f'{fname_stem}-{date}-{n_randomizations}.split.noindex.json')\n",
    "exportable.to_json(fname, orient='split', index=False)"
   ]
  },
  {
   "cell_type": "code",
   "execution_count": 16,
   "metadata": {},
   "outputs": [
    {
     "name": "stdout",
     "output_type": "stream",
     "text": [
      "2.3M\t/data/project/frwelcome/randomizations/fr-dummy-randomziation-201909024.csv\r\n",
      "13M\t/data/project/frwelcome/randomizations/fr-dummy-randomziation-201909024.json\r\n",
      "200K\t/data/project/frwelcome/randomizations/fr-dummy-randomziation-20190924-10000.columns.json\r\n",
      "116K\t/data/project/frwelcome/randomizations/fr-dummy-randomziation-20190924-10000.csv\r\n",
      "592K\t/data/project/frwelcome/randomizations/fr-dummy-randomziation-20190924-10000.index.json\r\n",
      "592K\t/data/project/frwelcome/randomizations/fr-dummy-randomziation-20190924-10000.json\r\n",
      "528K\t/data/project/frwelcome/randomizations/fr-dummy-randomziation-20190924-10000.redcords.json\r\n",
      "136K\t/data/project/frwelcome/randomizations/fr-dummy-randomziation-20190924-10000.split.json\r\n",
      "88K\t/data/project/frwelcome/randomizations/fr-dummy-randomziation-20190924-10000.split.noindex.json\r\n",
      "2.3M\t/data/project/frwelcome/randomizations/fr-dummy-randomziation-20190924-100000.columns.json\r\n",
      "1.3M\t/data/project/frwelcome/randomizations/fr-dummy-randomziation-20190924-100000.csv\r\n",
      "6.0M\t/data/project/frwelcome/randomizations/fr-dummy-randomziation-20190924-100000.index.json\r\n",
      "6.0M\t/data/project/frwelcome/randomizations/fr-dummy-randomziation-20190924-100000.json\r\n",
      "5.3M\t/data/project/frwelcome/randomizations/fr-dummy-randomziation-20190924-100000.redcords.json\r\n",
      "1.5M\t/data/project/frwelcome/randomizations/fr-dummy-randomziation-20190924-100000.split.json\r\n",
      "948K\t/data/project/frwelcome/randomizations/fr-dummy-randomziation-20190924-100000.split.noindex.json\r\n",
      "6.0M\t/data/project/frwelcome/randomizations/fr-dummy-randomziation.json\r\n",
      "4.0K\t/data/project/frwelcome/randomizations/fr-obfuscations.json\r\n",
      "4.0K\t/data/project/frwelcome/randomizations/fr-randomziation-20191014-10.split.noindex.json\r\n",
      "4.0K\t/data/project/frwelcome/randomizations/fr-randomziation-20191014-100.split.noindex.json\r\n",
      "912K\t/data/project/frwelcome/randomizations/fr-randomziation-20191014-100000.split.noindex.json\r\n"
     ]
    }
   ],
   "source": [
    "!du -h /data/project/frwelcome/randomizations/*"
   ]
  },
  {
   "cell_type": "code",
   "execution_count": null,
   "metadata": {},
   "outputs": [],
   "source": []
  }
 ],
 "metadata": {
  "kernelspec": {
   "display_name": "Python 3",
   "language": "python",
   "name": "python3"
  },
  "language_info": {
   "codemirror_mode": {
    "name": "ipython",
    "version": 3
   },
   "file_extension": ".py",
   "mimetype": "text/x-python",
   "name": "python",
   "nbconvert_exporter": "python",
   "pygments_lexer": "ipython3",
   "version": "3.6.8"
  }
 },
 "nbformat": 4,
 "nbformat_minor": 2
}
