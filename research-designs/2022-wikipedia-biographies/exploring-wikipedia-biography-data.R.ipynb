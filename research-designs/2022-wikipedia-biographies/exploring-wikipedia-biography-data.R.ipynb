{
 "cells": [
  {
   "cell_type": "markdown",
   "metadata": {},
   "source": [
    "# Exploring Wikipedia Biography Data\n",
    "June-July 2022\n",
    "\n",
    "J. Nathan Matias and Sarah Gilbert\n",
    "\n",
    "Links and Notes:\n",
    "* [Lab Notebook](https://docs.google.com/document/d/1rruAIGWjTwK0QMyHX3M9FRY3AAhqMq4W2dPgnCOAqg8/edit#heading=h.2j7nvvg5nrlm)\n",
    "* Data from [visual gender biases project](https://osf.io/preprints/socarxiv/59rey/) available in Tresorit at `Organizing Analysis/2022/wikipedia-biographies`"
   ]
  },
  {
   "cell_type": "markdown",
   "metadata": {},
   "source": [
    "## Load Data"
   ]
  },
  {
   "cell_type": "code",
   "execution_count": 11,
   "metadata": {},
   "outputs": [],
   "source": [
    "library(gmodels)"
   ]
  },
  {
   "cell_type": "code",
   "execution_count": 5,
   "metadata": {},
   "outputs": [],
   "source": [
    "data.path <- \"/home/civilservant/Tresors/Organizing Analysis/2022-wikipedia-biographies/\"\n",
    "\n",
    "bios.df <- read.csv(paste(data.path, \"wikiPeopleLangCounts_16.csv\", sep=\"\"))"
   ]
  },
  {
   "cell_type": "markdown",
   "metadata": {},
   "source": [
    "### Initial Summary Statistics & Questions\n",
    "\n",
    "What proportion of biographies (women and men) do not have images, especially within certain professions?\n",
    "* Journalism\n",
    "* Academia\n",
    "\n",
    "Between languages\n"
   ]
  },
  {
   "cell_type": "code",
   "execution_count": 18,
   "metadata": {},
   "outputs": [],
   "source": [
    "bios.df$en.has.image <- bios.df$enwiki > 0\n",
    "bios.df$en.page.exists <- bios.df$enwiki > -1"
   ]
  },
  {
   "cell_type": "code",
   "execution_count": 7,
   "metadata": {},
   "outputs": [
    {
     "data": {
      "text/html": [
       "<ol class=list-inline>\n",
       "\t<li>'peopleID'</li>\n",
       "\t<li>'genderNames'</li>\n",
       "\t<li>'occupationNames'</li>\n",
       "\t<li>'ethnicity'</li>\n",
       "\t<li>'religion'</li>\n",
       "\t<li>'citizenshipNames'</li>\n",
       "\t<li>'position'</li>\n",
       "\t<li>'birthplace'</li>\n",
       "\t<li>'birthCountry'</li>\n",
       "\t<li>'birthContinent'</li>\n",
       "\t<li>'occupationType'</li>\n",
       "\t<li>'locationIDs'</li>\n",
       "\t<li>'zhwiki'</li>\n",
       "\t<li>'enwiki'</li>\n",
       "\t<li>'hiwiki'</li>\n",
       "\t<li>'eswiki'</li>\n",
       "\t<li>'ruwiki'</li>\n",
       "\t<li>'arwiki'</li>\n",
       "\t<li>'ptwiki'</li>\n",
       "\t<li>'bnwiki'</li>\n",
       "\t<li>'frwiki'</li>\n",
       "\t<li>'idwiki'</li>\n",
       "\t<li>'quality_zhwiki'</li>\n",
       "\t<li>'quality_enwiki'</li>\n",
       "\t<li>'quality_hiwiki'</li>\n",
       "\t<li>'quality_eswiki'</li>\n",
       "\t<li>'quality_ruwiki'</li>\n",
       "\t<li>'quality_arwiki'</li>\n",
       "\t<li>'quality_ptwiki'</li>\n",
       "\t<li>'quality_bnwiki'</li>\n",
       "\t<li>'quality_frwiki'</li>\n",
       "\t<li>'quality_idwiki'</li>\n",
       "\t<li>'numLangPage'</li>\n",
       "\t<li>'pageID_zhwiki'</li>\n",
       "\t<li>'pageID_enwiki'</li>\n",
       "\t<li>'pageID_hiwiki'</li>\n",
       "\t<li>'pageID_eswiki'</li>\n",
       "\t<li>'pageID_ruwiki'</li>\n",
       "\t<li>'pageID_arwiki'</li>\n",
       "\t<li>'pageID_ptwiki'</li>\n",
       "\t<li>'pageID_bnwiki'</li>\n",
       "\t<li>'pageID_frwiki'</li>\n",
       "\t<li>'pageID_idwiki'</li>\n",
       "\t<li>'pageLength_zhwiki'</li>\n",
       "\t<li>'pageLength_enwiki'</li>\n",
       "\t<li>'pageLength_hiwiki'</li>\n",
       "\t<li>'pageLength_eswiki'</li>\n",
       "\t<li>'pageLength_ruwiki'</li>\n",
       "\t<li>'pageLength_arwiki'</li>\n",
       "\t<li>'pageLength_ptwiki'</li>\n",
       "\t<li>'pageLength_bnwiki'</li>\n",
       "\t<li>'pageLength_frwiki'</li>\n",
       "\t<li>'pageLength_idwiki'</li>\n",
       "\t<li>'pageQuality_enwiki'</li>\n",
       "\t<li>'pageQuality_zhwiki'</li>\n",
       "\t<li>'pageQuality_hiwiki'</li>\n",
       "\t<li>'pageQuality_eswiki'</li>\n",
       "\t<li>'pageQuality_ruwiki'</li>\n",
       "\t<li>'pageQuality_arwiki'</li>\n",
       "\t<li>'pageQuality_ptwiki'</li>\n",
       "\t<li>'pageQuality_bnwiki'</li>\n",
       "\t<li>'pageQuality_frwiki'</li>\n",
       "\t<li>'pageQuality_idwiki'</li>\n",
       "</ol>\n"
      ],
      "text/latex": [
       "\\begin{enumerate*}\n",
       "\\item 'peopleID'\n",
       "\\item 'genderNames'\n",
       "\\item 'occupationNames'\n",
       "\\item 'ethnicity'\n",
       "\\item 'religion'\n",
       "\\item 'citizenshipNames'\n",
       "\\item 'position'\n",
       "\\item 'birthplace'\n",
       "\\item 'birthCountry'\n",
       "\\item 'birthContinent'\n",
       "\\item 'occupationType'\n",
       "\\item 'locationIDs'\n",
       "\\item 'zhwiki'\n",
       "\\item 'enwiki'\n",
       "\\item 'hiwiki'\n",
       "\\item 'eswiki'\n",
       "\\item 'ruwiki'\n",
       "\\item 'arwiki'\n",
       "\\item 'ptwiki'\n",
       "\\item 'bnwiki'\n",
       "\\item 'frwiki'\n",
       "\\item 'idwiki'\n",
       "\\item 'quality\\_zhwiki'\n",
       "\\item 'quality\\_enwiki'\n",
       "\\item 'quality\\_hiwiki'\n",
       "\\item 'quality\\_eswiki'\n",
       "\\item 'quality\\_ruwiki'\n",
       "\\item 'quality\\_arwiki'\n",
       "\\item 'quality\\_ptwiki'\n",
       "\\item 'quality\\_bnwiki'\n",
       "\\item 'quality\\_frwiki'\n",
       "\\item 'quality\\_idwiki'\n",
       "\\item 'numLangPage'\n",
       "\\item 'pageID\\_zhwiki'\n",
       "\\item 'pageID\\_enwiki'\n",
       "\\item 'pageID\\_hiwiki'\n",
       "\\item 'pageID\\_eswiki'\n",
       "\\item 'pageID\\_ruwiki'\n",
       "\\item 'pageID\\_arwiki'\n",
       "\\item 'pageID\\_ptwiki'\n",
       "\\item 'pageID\\_bnwiki'\n",
       "\\item 'pageID\\_frwiki'\n",
       "\\item 'pageID\\_idwiki'\n",
       "\\item 'pageLength\\_zhwiki'\n",
       "\\item 'pageLength\\_enwiki'\n",
       "\\item 'pageLength\\_hiwiki'\n",
       "\\item 'pageLength\\_eswiki'\n",
       "\\item 'pageLength\\_ruwiki'\n",
       "\\item 'pageLength\\_arwiki'\n",
       "\\item 'pageLength\\_ptwiki'\n",
       "\\item 'pageLength\\_bnwiki'\n",
       "\\item 'pageLength\\_frwiki'\n",
       "\\item 'pageLength\\_idwiki'\n",
       "\\item 'pageQuality\\_enwiki'\n",
       "\\item 'pageQuality\\_zhwiki'\n",
       "\\item 'pageQuality\\_hiwiki'\n",
       "\\item 'pageQuality\\_eswiki'\n",
       "\\item 'pageQuality\\_ruwiki'\n",
       "\\item 'pageQuality\\_arwiki'\n",
       "\\item 'pageQuality\\_ptwiki'\n",
       "\\item 'pageQuality\\_bnwiki'\n",
       "\\item 'pageQuality\\_frwiki'\n",
       "\\item 'pageQuality\\_idwiki'\n",
       "\\end{enumerate*}\n"
      ],
      "text/markdown": [
       "1. 'peopleID'\n",
       "2. 'genderNames'\n",
       "3. 'occupationNames'\n",
       "4. 'ethnicity'\n",
       "5. 'religion'\n",
       "6. 'citizenshipNames'\n",
       "7. 'position'\n",
       "8. 'birthplace'\n",
       "9. 'birthCountry'\n",
       "10. 'birthContinent'\n",
       "11. 'occupationType'\n",
       "12. 'locationIDs'\n",
       "13. 'zhwiki'\n",
       "14. 'enwiki'\n",
       "15. 'hiwiki'\n",
       "16. 'eswiki'\n",
       "17. 'ruwiki'\n",
       "18. 'arwiki'\n",
       "19. 'ptwiki'\n",
       "20. 'bnwiki'\n",
       "21. 'frwiki'\n",
       "22. 'idwiki'\n",
       "23. 'quality_zhwiki'\n",
       "24. 'quality_enwiki'\n",
       "25. 'quality_hiwiki'\n",
       "26. 'quality_eswiki'\n",
       "27. 'quality_ruwiki'\n",
       "28. 'quality_arwiki'\n",
       "29. 'quality_ptwiki'\n",
       "30. 'quality_bnwiki'\n",
       "31. 'quality_frwiki'\n",
       "32. 'quality_idwiki'\n",
       "33. 'numLangPage'\n",
       "34. 'pageID_zhwiki'\n",
       "35. 'pageID_enwiki'\n",
       "36. 'pageID_hiwiki'\n",
       "37. 'pageID_eswiki'\n",
       "38. 'pageID_ruwiki'\n",
       "39. 'pageID_arwiki'\n",
       "40. 'pageID_ptwiki'\n",
       "41. 'pageID_bnwiki'\n",
       "42. 'pageID_frwiki'\n",
       "43. 'pageID_idwiki'\n",
       "44. 'pageLength_zhwiki'\n",
       "45. 'pageLength_enwiki'\n",
       "46. 'pageLength_hiwiki'\n",
       "47. 'pageLength_eswiki'\n",
       "48. 'pageLength_ruwiki'\n",
       "49. 'pageLength_arwiki'\n",
       "50. 'pageLength_ptwiki'\n",
       "51. 'pageLength_bnwiki'\n",
       "52. 'pageLength_frwiki'\n",
       "53. 'pageLength_idwiki'\n",
       "54. 'pageQuality_enwiki'\n",
       "55. 'pageQuality_zhwiki'\n",
       "56. 'pageQuality_hiwiki'\n",
       "57. 'pageQuality_eswiki'\n",
       "58. 'pageQuality_ruwiki'\n",
       "59. 'pageQuality_arwiki'\n",
       "60. 'pageQuality_ptwiki'\n",
       "61. 'pageQuality_bnwiki'\n",
       "62. 'pageQuality_frwiki'\n",
       "63. 'pageQuality_idwiki'\n",
       "\n",
       "\n"
      ],
      "text/plain": [
       " [1] \"peopleID\"           \"genderNames\"        \"occupationNames\"   \n",
       " [4] \"ethnicity\"          \"religion\"           \"citizenshipNames\"  \n",
       " [7] \"position\"           \"birthplace\"         \"birthCountry\"      \n",
       "[10] \"birthContinent\"     \"occupationType\"     \"locationIDs\"       \n",
       "[13] \"zhwiki\"             \"enwiki\"             \"hiwiki\"            \n",
       "[16] \"eswiki\"             \"ruwiki\"             \"arwiki\"            \n",
       "[19] \"ptwiki\"             \"bnwiki\"             \"frwiki\"            \n",
       "[22] \"idwiki\"             \"quality_zhwiki\"     \"quality_enwiki\"    \n",
       "[25] \"quality_hiwiki\"     \"quality_eswiki\"     \"quality_ruwiki\"    \n",
       "[28] \"quality_arwiki\"     \"quality_ptwiki\"     \"quality_bnwiki\"    \n",
       "[31] \"quality_frwiki\"     \"quality_idwiki\"     \"numLangPage\"       \n",
       "[34] \"pageID_zhwiki\"      \"pageID_enwiki\"      \"pageID_hiwiki\"     \n",
       "[37] \"pageID_eswiki\"      \"pageID_ruwiki\"      \"pageID_arwiki\"     \n",
       "[40] \"pageID_ptwiki\"      \"pageID_bnwiki\"      \"pageID_frwiki\"     \n",
       "[43] \"pageID_idwiki\"      \"pageLength_zhwiki\"  \"pageLength_enwiki\" \n",
       "[46] \"pageLength_hiwiki\"  \"pageLength_eswiki\"  \"pageLength_ruwiki\" \n",
       "[49] \"pageLength_arwiki\"  \"pageLength_ptwiki\"  \"pageLength_bnwiki\" \n",
       "[52] \"pageLength_frwiki\"  \"pageLength_idwiki\"  \"pageQuality_enwiki\"\n",
       "[55] \"pageQuality_zhwiki\" \"pageQuality_hiwiki\" \"pageQuality_eswiki\"\n",
       "[58] \"pageQuality_ruwiki\" \"pageQuality_arwiki\" \"pageQuality_ptwiki\"\n",
       "[61] \"pageQuality_bnwiki\" \"pageQuality_frwiki\" \"pageQuality_idwiki\""
      ]
     },
     "metadata": {},
     "output_type": "display_data"
    }
   ],
   "source": [
    "colnames(bios.df)"
   ]
  },
  {
   "cell_type": "code",
   "execution_count": 72,
   "metadata": {},
   "outputs": [
    {
     "data": {
      "text/html": [
       "<table>\n",
       "<thead><tr><th scope=col>peopleID</th><th scope=col>genderNames</th><th scope=col>occupationNames</th><th scope=col>ethnicity</th><th scope=col>religion</th><th scope=col>citizenshipNames</th><th scope=col>position</th><th scope=col>birthplace</th><th scope=col>birthCountry</th><th scope=col>birthContinent</th><th scope=col>⋯</th><th scope=col>pageQuality_eswiki</th><th scope=col>pageQuality_ruwiki</th><th scope=col>pageQuality_arwiki</th><th scope=col>pageQuality_ptwiki</th><th scope=col>pageQuality_bnwiki</th><th scope=col>pageQuality_frwiki</th><th scope=col>pageQuality_idwiki</th><th scope=col>en.has.image</th><th scope=col>en.page.exists</th><th scope=col>counter</th></tr></thead>\n",
       "<tbody>\n",
       "\t<tr><td>Q23                           </td><td>male                          </td><td>politician                    </td><td>NA                            </td><td>Episcopal Church              </td><td>Great Britain                 </td><td>President of the United States</td><td>Westmoreland County           </td><td>United States                 </td><td>North America                 </td><td>⋯                             </td><td>1.0000000                     </td><td>1.0000000                     </td><td>0.6112000                     </td><td>1.0000000                     </td><td> 1.0000000                    </td><td>1.0000000                     </td><td>1.0000000                     </td><td>TRUE                          </td><td>TRUE                          </td><td>1                             </td></tr>\n",
       "\t<tr><td>Q42                           </td><td>male                          </td><td>playwright                    </td><td>English people                </td><td>atheism                       </td><td>United Kingdom                </td><td>NA                            </td><td>Cambridge                     </td><td>United Kingdom                </td><td>Europe                        </td><td>⋯                             </td><td>0.5961906                     </td><td>0.7012594                     </td><td>0.9929369                     </td><td>0.7896907                     </td><td> 0.4713804                    </td><td>0.6017259                     </td><td>0.2636990                     </td><td>TRUE                          </td><td>TRUE                          </td><td>1                             </td></tr>\n",
       "\t<tr><td>Q1868                         </td><td>male                          </td><td>writer                        </td><td>NA                            </td><td>NA                            </td><td>Belgium                       </td><td>NA                            </td><td>Brussels metropolitan area    </td><td>Belgium                       </td><td>Europe                        </td><td>⋯                             </td><td>0.6475754                     </td><td>0.7961441                     </td><td>0.4007772                     </td><td>0.5566000                     </td><td>-1.0000000                    </td><td>0.9966633                     </td><td>0.2649841                     </td><td>TRUE                          </td><td>TRUE                          </td><td>1                             </td></tr>\n",
       "\t<tr><td>Q207                          </td><td>male                          </td><td>politician                    </td><td>NA                            </td><td>United Methodist Church       </td><td>United States of America      </td><td>Governor of Texas             </td><td>New Haven                     </td><td>United States                 </td><td>North America                 </td><td>⋯                             </td><td>1.0000000                     </td><td>1.0000000                     </td><td>1.0000000                     </td><td>1.0000000                     </td><td> 0.5114717                    </td><td>1.0000000                     </td><td>0.8524299                     </td><td>TRUE                          </td><td>TRUE                          </td><td>1                             </td></tr>\n",
       "\t<tr><td>Q297                          </td><td>male                          </td><td>painter                       </td><td>NA                            </td><td>NA                            </td><td>Switzerland                   </td><td>court painter                 </td><td>Seville                       </td><td>Spain                         </td><td>Europe                        </td><td>⋯                             </td><td>1.0000000                     </td><td>0.9514000                     </td><td>1.0000000                     </td><td>1.0000000                     </td><td> 0.2579916                    </td><td>1.0000000                     </td><td>0.2625320                     </td><td>TRUE                          </td><td>TRUE                          </td><td>1                             </td></tr>\n",
       "\t<tr><td>Q368                          </td><td>male                          </td><td>military officer              </td><td>NA                            </td><td>Catholicism                   </td><td>Chile                         </td><td>President of Chile            </td><td>Valparaíso                    </td><td>Chile                         </td><td>South America                 </td><td>⋯                             </td><td>1.0000000                     </td><td>1.0000000                     </td><td>0.7570000                     </td><td>1.0000000                     </td><td> 0.5685525                    </td><td>1.0000000                     </td><td>0.9518000                     </td><td>TRUE                          </td><td>TRUE                          </td><td>1                             </td></tr>\n",
       "</tbody>\n",
       "</table>\n"
      ],
      "text/latex": [
       "\\begin{tabular}{r|llllllllllllllllllllllllllllllllllllllllllllllllllllllllllllllllll}\n",
       " peopleID & genderNames & occupationNames & ethnicity & religion & citizenshipNames & position & birthplace & birthCountry & birthContinent & ⋯ & pageQuality\\_eswiki & pageQuality\\_ruwiki & pageQuality\\_arwiki & pageQuality\\_ptwiki & pageQuality\\_bnwiki & pageQuality\\_frwiki & pageQuality\\_idwiki & en.has.image & en.page.exists & counter\\\\\n",
       "\\hline\n",
       "\t Q23                            & male                           & politician                     & NA                             & Episcopal Church               & Great Britain                  & President of the United States & Westmoreland County            & United States                  & North America                  & ⋯                              & 1.0000000                      & 1.0000000                      & 0.6112000                      & 1.0000000                      &  1.0000000                     & 1.0000000                      & 1.0000000                      & TRUE                           & TRUE                           & 1                             \\\\\n",
       "\t Q42                            & male                           & playwright                     & English people                 & atheism                        & United Kingdom                 & NA                             & Cambridge                      & United Kingdom                 & Europe                         & ⋯                              & 0.5961906                      & 0.7012594                      & 0.9929369                      & 0.7896907                      &  0.4713804                     & 0.6017259                      & 0.2636990                      & TRUE                           & TRUE                           & 1                             \\\\\n",
       "\t Q1868                          & male                           & writer                         & NA                             & NA                             & Belgium                        & NA                             & Brussels metropolitan area     & Belgium                        & Europe                         & ⋯                              & 0.6475754                      & 0.7961441                      & 0.4007772                      & 0.5566000                      & -1.0000000                     & 0.9966633                      & 0.2649841                      & TRUE                           & TRUE                           & 1                             \\\\\n",
       "\t Q207                           & male                           & politician                     & NA                             & United Methodist Church        & United States of America       & Governor of Texas              & New Haven                      & United States                  & North America                  & ⋯                              & 1.0000000                      & 1.0000000                      & 1.0000000                      & 1.0000000                      &  0.5114717                     & 1.0000000                      & 0.8524299                      & TRUE                           & TRUE                           & 1                             \\\\\n",
       "\t Q297                           & male                           & painter                        & NA                             & NA                             & Switzerland                    & court painter                  & Seville                        & Spain                          & Europe                         & ⋯                              & 1.0000000                      & 0.9514000                      & 1.0000000                      & 1.0000000                      &  0.2579916                     & 1.0000000                      & 0.2625320                      & TRUE                           & TRUE                           & 1                             \\\\\n",
       "\t Q368                           & male                           & military officer               & NA                             & Catholicism                    & Chile                          & President of Chile             & Valparaíso                     & Chile                          & South America                  & ⋯                              & 1.0000000                      & 1.0000000                      & 0.7570000                      & 1.0000000                      &  0.5685525                     & 1.0000000                      & 0.9518000                      & TRUE                           & TRUE                           & 1                             \\\\\n",
       "\\end{tabular}\n"
      ],
      "text/markdown": [
       "\n",
       "peopleID | genderNames | occupationNames | ethnicity | religion | citizenshipNames | position | birthplace | birthCountry | birthContinent | ⋯ | pageQuality_eswiki | pageQuality_ruwiki | pageQuality_arwiki | pageQuality_ptwiki | pageQuality_bnwiki | pageQuality_frwiki | pageQuality_idwiki | en.has.image | en.page.exists | counter | \n",
       "|---|---|---|---|---|---|\n",
       "| Q23                            | male                           | politician                     | NA                             | Episcopal Church               | Great Britain                  | President of the United States | Westmoreland County            | United States                  | North America                  | ⋯                              | 1.0000000                      | 1.0000000                      | 0.6112000                      | 1.0000000                      |  1.0000000                     | 1.0000000                      | 1.0000000                      | TRUE                           | TRUE                           | 1                              | \n",
       "| Q42                            | male                           | playwright                     | English people                 | atheism                        | United Kingdom                 | NA                             | Cambridge                      | United Kingdom                 | Europe                         | ⋯                              | 0.5961906                      | 0.7012594                      | 0.9929369                      | 0.7896907                      |  0.4713804                     | 0.6017259                      | 0.2636990                      | TRUE                           | TRUE                           | 1                              | \n",
       "| Q1868                          | male                           | writer                         | NA                             | NA                             | Belgium                        | NA                             | Brussels metropolitan area     | Belgium                        | Europe                         | ⋯                              | 0.6475754                      | 0.7961441                      | 0.4007772                      | 0.5566000                      | -1.0000000                     | 0.9966633                      | 0.2649841                      | TRUE                           | TRUE                           | 1                              | \n",
       "| Q207                           | male                           | politician                     | NA                             | United Methodist Church        | United States of America       | Governor of Texas              | New Haven                      | United States                  | North America                  | ⋯                              | 1.0000000                      | 1.0000000                      | 1.0000000                      | 1.0000000                      |  0.5114717                     | 1.0000000                      | 0.8524299                      | TRUE                           | TRUE                           | 1                              | \n",
       "| Q297                           | male                           | painter                        | NA                             | NA                             | Switzerland                    | court painter                  | Seville                        | Spain                          | Europe                         | ⋯                              | 1.0000000                      | 0.9514000                      | 1.0000000                      | 1.0000000                      |  0.2579916                     | 1.0000000                      | 0.2625320                      | TRUE                           | TRUE                           | 1                              | \n",
       "| Q368                           | male                           | military officer               | NA                             | Catholicism                    | Chile                          | President of Chile             | Valparaíso                     | Chile                          | South America                  | ⋯                              | 1.0000000                      | 1.0000000                      | 0.7570000                      | 1.0000000                      |  0.5685525                     | 1.0000000                      | 0.9518000                      | TRUE                           | TRUE                           | 1                              | \n",
       "\n",
       "\n"
      ],
      "text/plain": [
       "  peopleID genderNames occupationNames  ethnicity      religion               \n",
       "1 Q23      male        politician       NA             Episcopal Church       \n",
       "2 Q42      male        playwright       English people atheism                \n",
       "3 Q1868    male        writer           NA             NA                     \n",
       "4 Q207     male        politician       NA             United Methodist Church\n",
       "5 Q297     male        painter          NA             NA                     \n",
       "6 Q368     male        military officer NA             Catholicism            \n",
       "  citizenshipNames         position                      \n",
       "1 Great Britain            President of the United States\n",
       "2 United Kingdom           NA                            \n",
       "3 Belgium                  NA                            \n",
       "4 United States of America Governor of Texas             \n",
       "5 Switzerland              court painter                 \n",
       "6 Chile                    President of Chile            \n",
       "  birthplace                 birthCountry   birthContinent ⋯ pageQuality_eswiki\n",
       "1 Westmoreland County        United States  North America  ⋯ 1.0000000         \n",
       "2 Cambridge                  United Kingdom Europe         ⋯ 0.5961906         \n",
       "3 Brussels metropolitan area Belgium        Europe         ⋯ 0.6475754         \n",
       "4 New Haven                  United States  North America  ⋯ 1.0000000         \n",
       "5 Seville                    Spain          Europe         ⋯ 1.0000000         \n",
       "6 Valparaíso                 Chile          South America  ⋯ 1.0000000         \n",
       "  pageQuality_ruwiki pageQuality_arwiki pageQuality_ptwiki pageQuality_bnwiki\n",
       "1 1.0000000          0.6112000          1.0000000           1.0000000        \n",
       "2 0.7012594          0.9929369          0.7896907           0.4713804        \n",
       "3 0.7961441          0.4007772          0.5566000          -1.0000000        \n",
       "4 1.0000000          1.0000000          1.0000000           0.5114717        \n",
       "5 0.9514000          1.0000000          1.0000000           0.2579916        \n",
       "6 1.0000000          0.7570000          1.0000000           0.5685525        \n",
       "  pageQuality_frwiki pageQuality_idwiki en.has.image en.page.exists counter\n",
       "1 1.0000000          1.0000000          TRUE         TRUE           1      \n",
       "2 0.6017259          0.2636990          TRUE         TRUE           1      \n",
       "3 0.9966633          0.2649841          TRUE         TRUE           1      \n",
       "4 1.0000000          0.8524299          TRUE         TRUE           1      \n",
       "5 1.0000000          0.2625320          TRUE         TRUE           1      \n",
       "6 1.0000000          0.9518000          TRUE         TRUE           1      "
      ]
     },
     "metadata": {},
     "output_type": "display_data"
    }
   ],
   "source": [
    "head(bios.df)"
   ]
  },
  {
   "cell_type": "code",
   "execution_count": 71,
   "metadata": {},
   "outputs": [
    {
     "ename": "ERROR",
     "evalue": "Error in `[.data.frame`(bios.df, c(\"pageID_enwiki\", \"citizenshipNames\", : undefined columns selected\n",
     "output_type": "error",
     "traceback": [
      "Error in `[.data.frame`(bios.df, c(\"pageID_enwiki\", \"citizenshipNames\", : undefined columns selected\nTraceback:\n",
      "1. head(bios.df[c(\"pageID_enwiki\", \"citizenshipNames\", \"\")])",
      "2. bios.df[c(\"pageID_enwiki\", \"citizenshipNames\", \"\")]",
      "3. `[.data.frame`(bios.df, c(\"pageID_enwiki\", \"citizenshipNames\", \n .     \"\"))",
      "4. stop(\"undefined columns selected\")"
     ]
    }
   ],
   "source": [
    "head(bios.df[c(\"peopleID\", \"pageID_enwiki\", 'citizenshipNames', '')])"
   ]
  },
  {
   "cell_type": "code",
   "execution_count": 44,
   "metadata": {},
   "outputs": [],
   "source": [
    "included.occupations = c(\"Humanities\",\"Science & Technology\")\n",
    "en.humanities.science.df <- subset(bios.df, en.page.exists & occupationType %in% included.occupations)\n"
   ]
  },
  {
   "cell_type": "code",
   "execution_count": 45,
   "metadata": {},
   "outputs": [
    {
     "name": "stdout",
     "output_type": "stream",
     "text": [
      "\n",
      " \n",
      "   Cell Contents\n",
      "|-------------------------|\n",
      "|                       N |\n",
      "|           N / Col Total |\n",
      "|-------------------------|\n",
      "\n",
      " \n",
      "Total Observations in Table:  189877 \n",
      "\n",
      " \n",
      "                                      | en.humanities.science.df$genderNames \n",
      "en.humanities.science.df$en.has.image |    female |      male |     other | Row Total | \n",
      "--------------------------------------|-----------|-----------|-----------|-----------|\n",
      "                                FALSE |     22214 |     85990 |        27 |    108231 | \n",
      "                                      |     0.636 |     0.555 |     0.466 |           | \n",
      "--------------------------------------|-----------|-----------|-----------|-----------|\n",
      "                                 TRUE |     12738 |     68877 |        31 |     81646 | \n",
      "                                      |     0.364 |     0.445 |     0.534 |           | \n",
      "--------------------------------------|-----------|-----------|-----------|-----------|\n",
      "                         Column Total |     34952 |    154867 |        58 |    189877 | \n",
      "                                      |     0.184 |     0.816 |     0.000 |           | \n",
      "--------------------------------------|-----------|-----------|-----------|-----------|\n",
      "\n",
      " \n"
     ]
    }
   ],
   "source": [
    "CrossTable(en.humanities.science.df$en.has.image, \n",
    "           en.humanities.science.df$genderNames,\n",
    "           prop.r = FALSE, prop.c     = TRUE,\n",
    "           prop.t = FALSE, prop.chisq = FALSE)"
   ]
  },
  {
   "cell_type": "code",
   "execution_count": 49,
   "metadata": {},
   "outputs": [],
   "source": [
    "bios.df$counter <- 1\n",
    "occupation.name.list <- unique(subset(bios.df, enwiki>-1)[c(\"occupationNames\")])\n",
    "occupation.name.agg.df <- \n",
    "        aggregate(subset(bios.df, enwiki>-1)[c(\"counter\")],\n",
    "                  by=list(subset(bios.df, enwiki>-1)$occupationNames), FUN=sum)\n",
    "#unique(bios.df[c(\"occupationNames\")])"
   ]
  },
  {
   "cell_type": "code",
   "execution_count": 63,
   "metadata": {},
   "outputs": [],
   "source": [
    "write.csv(occupation.name.agg.df[order(-occupation.name.agg.df$counter),], \"2022-06-30-occupations-before-selection.csv\")"
   ]
  },
  {
   "cell_type": "raw",
   "metadata": {},
   "source": [
    "occupation.name.agg.df[order(-occupation.name.agg.df$counter),]"
   ]
  },
  {
   "cell_type": "code",
   "execution_count": 64,
   "metadata": {},
   "outputs": [
    {
     "data": {
      "text/html": [
       "1684626"
      ],
      "text/latex": [
       "1684626"
      ],
      "text/markdown": [
       "1684626"
      ],
      "text/plain": [
       "[1] 1684626"
      ]
     },
     "metadata": {},
     "output_type": "display_data"
    }
   ],
   "source": [
    "nrow(subset(bios.df, enwiki>-1))"
   ]
  },
  {
   "cell_type": "code",
   "execution_count": 67,
   "metadata": {},
   "outputs": [
    {
     "data": {
      "text/html": [
       "2.33975833333333"
      ],
      "text/latex": [
       "2.33975833333333"
      ],
      "text/markdown": [
       "2.33975833333333"
      ],
      "text/plain": [
       "[1] 2.339758"
      ]
     },
     "metadata": {},
     "output_type": "display_data"
    }
   ],
   "source": [
    "(1684626/200)/60/60"
   ]
  },
  {
   "cell_type": "code",
   "execution_count": null,
   "metadata": {},
   "outputs": [],
   "source": []
  }
 ],
 "metadata": {
  "kernelspec": {
   "display_name": "R",
   "language": "R",
   "name": "ir"
  },
  "language_info": {
   "codemirror_mode": "r",
   "file_extension": ".r",
   "mimetype": "text/x-r-source",
   "name": "R",
   "pygments_lexer": "r",
   "version": "3.6.3"
  }
 },
 "nbformat": 4,
 "nbformat_minor": 2
}
