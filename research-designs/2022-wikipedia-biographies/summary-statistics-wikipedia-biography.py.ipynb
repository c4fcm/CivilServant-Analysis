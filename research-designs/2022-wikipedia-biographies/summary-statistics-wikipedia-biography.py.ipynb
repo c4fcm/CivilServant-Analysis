{
 "cells": [
  {
   "cell_type": "markdown",
   "metadata": {},
   "source": [
    "# Summary Statistics with Biography Data"
   ]
  },
  {
   "cell_type": "code",
   "execution_count": 12,
   "metadata": {},
   "outputs": [],
   "source": [
    "import csv\n",
    "import pandas as pd\n",
    "import seaborn as sns\n",
    "from collections import defaultdict, Counter\n",
    "import json, requests, urllib, re\n",
    "#import wikidata.client"
   ]
  },
  {
   "cell_type": "markdown",
   "metadata": {},
   "source": [
    "### Load Data"
   ]
  },
  {
   "cell_type": "code",
   "execution_count": 5,
   "metadata": {},
   "outputs": [
    {
     "name": "stderr",
     "output_type": "stream",
     "text": [
      "/home/jupyter/3venv/lib/python3.5/site-packages/IPython/core/interactiveshell.py:3020: DtypeWarning: Columns (3,4) have mixed types. Specify dtype option on import or set low_memory=False.\n",
      "  interactivity=interactivity, compiler=compiler, result=result)\n"
     ]
    }
   ],
   "source": [
    "data_path = \"/home/civilservant/Tresors/Organizing Analysis/2022-wikipedia-biographies/\"\n",
    "\n",
    "all_bios_df = []\n",
    "\n",
    "bios_df = pd.read_csv(data_path + \"wikiPeopleLangCounts_16.csv\")\n",
    "\n",
    "# with open(data_path + \"wikiPeopleLangCounts_16.csv\") as f:\n",
    "#     for row in csv.DictReader(f):\n",
    "#         all_bios_df.append(row)"
   ]
  },
  {
   "cell_type": "code",
   "execution_count": null,
   "metadata": {},
   "outputs": [],
   "source": [
    "#Counter([x['occupationType'] for x in all_bios_df])"
   ]
  },
  {
   "cell_type": "code",
   "execution_count": 19,
   "metadata": {},
   "outputs": [],
   "source": [
    "#bios_df[0]"
   ]
  },
  {
   "cell_type": "markdown",
   "metadata": {},
   "source": [
    "### Query view counts"
   ]
  },
  {
   "cell_type": "code",
   "execution_count": 13,
   "metadata": {},
   "outputs": [],
   "source": [
    "def page_name_query(qid):\n",
    "    return \"https://www.wikidata.org/w/api.php?action=wbgetentities&format=xml&props=sitelinks&ids={0}&sitefilter=enwiki\".format(qid)\n",
    "\n",
    "def view_count_query(page_name):\n",
    "    return \"https://wikimedia.org/api/rest_v1/metrics/pageviews/per-article/en.wikipedia.org/all-access/user/{0}/monthly/20220501/20220601\".format(page_name)\n",
    "    "
   ]
  },
  {
   "cell_type": "code",
   "execution_count": 17,
   "metadata": {},
   "outputs": [
    {
     "name": "stdout",
     "output_type": "stream",
     "text": [
      "https://wikimedia.org/api/rest_v1/metrics/pageviews/per-article/en.wikipedia.org/all-access/user/George_Washington/monthly/20220501/20220601\n"
     ]
    }
   ],
   "source": [
    "qid = \"Q23\"\n",
    "xml_response = requests.get(page_name_query(qid)).text\n",
    "re_result = re.search(\"title=\\\"(.*?)\\\"\", xml_response)\n",
    "page_name = urllib.parse.quote(re_result.group(1).replace(\" \",\"_\"))\n",
    "print(view_count_query(page_name))\n",
    "views_result = requests.get(view_count_query(page_name)).text"
   ]
  },
  {
   "cell_type": "code",
   "execution_count": null,
   "metadata": {},
   "outputs": [],
   "source": []
  }
 ],
 "metadata": {
  "kernelspec": {
   "display_name": "Python 3",
   "language": "python",
   "name": "python3"
  },
  "language_info": {
   "codemirror_mode": {
    "name": "ipython",
    "version": 3
   },
   "file_extension": ".py",
   "mimetype": "text/x-python",
   "name": "python",
   "nbconvert_exporter": "python",
   "pygments_lexer": "ipython3",
   "version": "3.5.2"
  }
 },
 "nbformat": 4,
 "nbformat_minor": 2
}
