{
 "cells": [
  {
   "cell_type": "code",
   "execution_count": 65,
   "metadata": {
    "collapsed": true
   },
   "outputs": [],
   "source": [
    "%matplotlib inline\n",
    "import inspect, os, sys, copy, pytz, re, glob, random\n",
    "import simplejson as json\n",
    "import pandas as pd\n",
    "from dateutil import parser\n",
    "import datetime\n",
    "import matplotlib.pyplot as plt   # Matplotlib for plotting\n",
    "import matplotlib.dates as md\n",
    "import numpy as np\n",
    "import seaborn as sns\n",
    "from collections import Counter, defaultdict\n",
    "utc=pytz.UTC\n",
    "\n",
    "ENV = \"production\"\n",
    "os.environ['CS_ENV'] = 'production'\n",
    "BASE_DIR = \"/home/reddit/CivilServant\"\n",
    "sys.path.append(BASE_DIR)\n",
    "\n",
    "with open(os.path.join(BASE_DIR, \"config\") + \"/{env}.json\".format(env=ENV), \"r\") as config:\n",
    "  DBCONFIG = json.loads(config.read())\n",
    "\n",
    "### LOAD SQLALCHEMY\n",
    "from sqlalchemy import create_engine\n",
    "from sqlalchemy.orm import sessionmaker\n",
    "from sqlalchemy import text\n",
    "\n",
    "db_engine = create_engine(\"mysql://{user}:{password}@{host}/{database}\".format(\n",
    "    host = DBCONFIG['host'],\n",
    "    user = DBCONFIG['user'],\n",
    "    password = DBCONFIG['password'],\n",
    "    database = DBCONFIG['database']))\n",
    "DBSession = sessionmaker(bind=db_engine)\n",
    "\n",
    "### LOAD PRAW\n",
    "import reddit.connection\n",
    "conn = reddit.connection.Connect(base_dir=BASE_DIR, env=\"jupyter\")\n",
    "\n",
    "### FILTER OUT DEPRECATION WARNINGS ASSOCIATED WITH DECORATORS\n",
    "# https://github.com/ipython/ipython/issues/9242\n",
    "import warnings\n",
    "warnings.filterwarnings('ignore', category=DeprecationWarning, message='.*use @default decorator instead.*')"
   ]
  },
  {
   "cell_type": "code",
   "execution_count": null,
   "metadata": {
    "collapsed": true
   },
   "outputs": [],
   "source": []
  },
  {
   "cell_type": "code",
   "execution_count": 4,
   "metadata": {
    "collapsed": false
   },
   "outputs": [
    {
     "name": "stdout",
     "output_type": "stream",
     "text": [
      "Version 3.5.0 of praw is outdated. Version 4.4.0 was released Tuesday February 21, 2017.\n"
     ]
    },
    {
     "name": "stderr",
     "output_type": "stream",
     "text": [
      "substituting https://oauth.reddit.com for https://api.reddit.com in url\n",
      "GET: https://oauth.reddit.com/api/v1/me.json\n",
      "POST: https://api.reddit.com/api/v1/access_token/\n",
      "substituting https://oauth.reddit.com for https://api.reddit.com in url\n",
      "GET: https://oauth.reddit.com/api/v1/me.json\n",
      "substituting https://oauth.reddit.com for https://api.reddit.com in url\n",
      "GET: https://oauth.reddit.com/api/v1/me.json\n"
     ]
    }
   ],
   "source": [
    "### CONNECT TO PRAW\n",
    "r = conn.connect(controller=\"ModLog\")"
   ]
  },
  {
   "cell_type": "code",
   "execution_count": 5,
   "metadata": {
    "collapsed": false
   },
   "outputs": [],
   "source": [
    "actions = []\n",
    "for row in db_engine.execute(text(\"select * from mod_actions WHERE subreddit_id = '2rfxx' ORDER BY created_utc ASC;\")):\n",
    "    action = {}\n",
    "    action_data = json.loads(row['action_data'])\n",
    "    for key in action_data.keys():\n",
    "        action[key] = action_data[key]\n",
    "    for key in row.keys():\n",
    "        action[key]=row[key]\n",
    "    del action['action_data']\n",
    "    actions.append(action)"
   ]
  },
  {
   "cell_type": "code",
   "execution_count": 6,
   "metadata": {
    "collapsed": false
   },
   "outputs": [
    {
     "name": "stdout",
     "output_type": "stream",
     "text": [
      "Within the period of 201 days\n",
      "8.124378109452737 banned per day\n"
     ]
    }
   ],
   "source": [
    "days_covered = (max([x['created_utc'] for x in actions]) - min([x['created_utc'] for x in actions])).days\n",
    "print(\"Within the period of {0} days\".format(days_covered))\n",
    "print(\"{0} banned per day\".format(Counter([x['action'] for x in actions])['banuser'] / days_covered))"
   ]
  },
  {
   "cell_type": "code",
   "execution_count": 76,
   "metadata": {
    "collapsed": false
   },
   "outputs": [
    {
     "data": {
      "text/plain": [
       "datetime.datetime(2016, 9, 3, 23, 58, 41)"
      ]
     },
     "execution_count": 76,
     "metadata": {},
     "output_type": "execute_result"
    }
   ],
   "source": [
    "min([x['created_utc'] for x in actions])"
   ]
  },
  {
   "cell_type": "code",
   "execution_count": 77,
   "metadata": {
    "collapsed": false
   },
   "outputs": [
    {
     "data": {
      "text/plain": [
       "datetime.datetime(2017, 3, 24, 18, 49, 55)"
      ]
     },
     "execution_count": 77,
     "metadata": {},
     "output_type": "execute_result"
    }
   ],
   "source": [
    "max([x['created_utc'] for x in actions])"
   ]
  },
  {
   "cell_type": "code",
   "execution_count": 8,
   "metadata": {
    "collapsed": false
   },
   "outputs": [
    {
     "name": "stdout",
     "output_type": "stream",
     "text": [
      "1633 actions to ban a user.\n",
      "343 actions to unban a user.\n"
     ]
    }
   ],
   "source": [
    "print(\"{0} actions to ban a user.\".format(Counter([x['action'] for x in actions])['banuser']))\n",
    "print(\"{0} actions to unban a user.\".format(Counter([x['action'] for x in actions])['unbanuser']))"
   ]
  },
  {
   "cell_type": "markdown",
   "metadata": {},
   "source": [
    "### Generate per-user dataset"
   ]
  },
  {
   "cell_type": "code",
   "execution_count": 9,
   "metadata": {
    "collapsed": true
   },
   "outputs": [],
   "source": [
    "def persondict():\n",
    "    return {\n",
    "        \"target_author\":None,\n",
    "        \"target_fullname\": None,\n",
    "        \"ban_actions\":[], #list of tuples\n",
    "        \"post_actions\":defaultdict(list),\n",
    "        \"comment_actions\":defaultdict(list)\n",
    "    }\n",
    "\n",
    "people = defaultdict(persondict)"
   ]
  },
  {
   "cell_type": "code",
   "execution_count": 10,
   "metadata": {
    "collapsed": false
   },
   "outputs": [],
   "source": [
    "for action in actions:\n",
    "    action_type = action['action']\n",
    "    author = action['target_author'].lower()\n",
    "    people[author]['target_author'] = author\n",
    "    target_id = action['target_fullname']\n",
    "    if(action_type in [\"removecomment\", \"approvecomment\"]):\n",
    "        people[author]['comment_actions'][target_id].append((action['created_utc'], action))\n",
    "    elif(action_type in [\"approvelink\", \"removelink\"]):\n",
    "        people[author]['post_actions'][target_id].append((action['created_utc'], action))\n",
    "    elif(action_type in [\"banuser\", \"unbanuser\"]): \n",
    "        people[author]['target_author_fullname'] = action['target_fullname']\n",
    "        people[author]['ban_actions'].append((action['created_utc'], action))"
   ]
  },
  {
   "cell_type": "code",
   "execution_count": 11,
   "metadata": {
    "collapsed": false
   },
   "outputs": [],
   "source": [
    "#Counter([x['action'] for x in actions])\n",
    "all_banned = [p for p in people.values() if len(p['ban_actions'])>0]"
   ]
  },
  {
   "cell_type": "code",
   "execution_count": 12,
   "metadata": {
    "collapsed": false
   },
   "outputs": [],
   "source": [
    "def current_ban_status(person):\n",
    "    ban_actions = sorted(person['ban_actions'], key=lambda x: x[0], reverse=True)\n",
    "    current_ban_status = ban_actions[0][1]['action']==\"banuser\"\n",
    "    time_since_ban = None\n",
    "    time_since_unban = None\n",
    "    time_before_unban = None\n",
    "    if(current_ban_status):\n",
    "        timediff = datetime.datetime.now() - ban_actions[0][0]\n",
    "        time_since_ban = timediff.days + timediff.seconds / 86400\n",
    "    else:\n",
    "        ban_datetime = None\n",
    "        for action in ban_actions:\n",
    "            if(action[1]['action']==\"banuser\"):\n",
    "                ban_datetime = action[0]\n",
    "        if(ban_datetime!=None):\n",
    "            timediff = ban_actions[0][0] - ban_datetime\n",
    "            time_before_unban = timediff.days + timediff.seconds/ 86400\n",
    "            timediff = datetime.datetime.now() - ban_datetime\n",
    "            time_since_unban = timediff.days + timediff.seconds/ 86400\n",
    "            \n",
    "    return {\"current_ban_status\": current_ban_status,\n",
    "            \"days_since_ban\":time_since_ban,\n",
    "            \"days_before_unban\": time_before_unban,\n",
    "            \"days_since_unban\": time_since_unban,\n",
    "            \"total_ban_actions\": len(ban_actions),\n",
    "            \"ban_count\": len([x for x in ban_actions if x[1]['action'] ==\"banuser\"]),\n",
    "            \"unban_count\": len([x for x in ban_actions if x[1]['action'] ==\"unbanuser\"])}\n",
    "\n",
    "def removal_stats(person):\n",
    "    modded_comments = len(list(person['comment_actions'].values()))\n",
    "    modded_posts = len(list(person['post_actions'].values()))\n",
    "    return {\"modded_comments\": modded_comments,\n",
    "            \"modded_posts\": modded_posts}"
   ]
  },
  {
   "cell_type": "code",
   "execution_count": 13,
   "metadata": {
    "collapsed": false
   },
   "outputs": [],
   "source": [
    "all_banned_people = []\n",
    "for person in all_banned:\n",
    "    stats = {\"author\":person['target_author'].lower(), \"author_fullname\":person['target_author_fullname']}\n",
    "    stats.update(current_ban_status(person))\n",
    "    stats.update(removal_stats(person))\n",
    "    all_banned_people.append(stats)"
   ]
  },
  {
   "cell_type": "markdown",
   "metadata": {},
   "source": [
    "### Collect User Information"
   ]
  },
  {
   "cell_type": "code",
   "execution_count": 21,
   "metadata": {
    "collapsed": true
   },
   "outputs": [],
   "source": [
    "account_info = {}\n",
    "#old_account_info = copy.copy(account_info)\n",
    "#account_info = {}\n",
    "#for username, account in old_account_info.items():\n",
    "#    account_info[username.lower()] = account"
   ]
  },
  {
   "cell_type": "code",
   "execution_count": 27,
   "metadata": {
    "collapsed": false
   },
   "outputs": [
    {
     "name": "stdout",
     "output_type": "stream",
     "text": [
      "Banned Accounts: 1619\n",
      "Accounts Successfully Queried: 1619\n"
     ]
    }
   ],
   "source": [
    "print(\"Banned Accounts: {0}\".format(len(all_banned_people)))\n",
    "print(\"Accounts Successfully Queried: {0}\".format(len(account_info)))"
   ]
  },
  {
   "cell_type": "code",
   "execution_count": 26,
   "metadata": {
    "collapsed": false,
    "scrolled": true
   },
   "outputs": [
    {
     "name": "stdout",
     "output_type": "stream",
     "text": [
      "--> FETCHING boohoooooo\n"
     ]
    },
    {
     "name": "stderr",
     "output_type": "stream",
     "text": [
      "substituting https://oauth.reddit.com for https://api.reddit.com in url\n",
      "GET: https://oauth.reddit.com/user/boohoooooo/about/.json\n",
      "POST: https://api.reddit.com/api/v1/access_token/\n",
      "substituting https://oauth.reddit.com for https://api.reddit.com in url\n",
      "GET: https://oauth.reddit.com/api/v1/me.json\n",
      "substituting https://oauth.reddit.com for https://api.reddit.com in url\n",
      "GET: https://oauth.reddit.com/user/boohoooooo/about/.json\n"
     ]
    },
    {
     "name": "stdout",
     "output_type": "stream",
     "text": [
      "--> FETCHING elarabizlb\n"
     ]
    },
    {
     "name": "stderr",
     "output_type": "stream",
     "text": [
      "substituting https://oauth.reddit.com for https://api.reddit.com in url\n",
      "GET: https://oauth.reddit.com/user/elarabizlb/about/.json\n"
     ]
    },
    {
     "name": "stdout",
     "output_type": "stream",
     "text": [
      "--> FETCHING tahirivkc\n"
     ]
    },
    {
     "name": "stderr",
     "output_type": "stream",
     "text": [
      "substituting https://oauth.reddit.com for https://api.reddit.com in url\n",
      "GET: https://oauth.reddit.com/user/tahirivkc/about/.json\n"
     ]
    },
    {
     "name": "stdout",
     "output_type": "stream",
     "text": [
      "--> FETCHING athnael\n"
     ]
    },
    {
     "name": "stderr",
     "output_type": "stream",
     "text": [
      "substituting https://oauth.reddit.com for https://api.reddit.com in url\n",
      "GET: https://oauth.reddit.com/user/athnael/about/.json\n"
     ]
    },
    {
     "name": "stdout",
     "output_type": "stream",
     "text": [
      "--> FETCHING boostinggames\n"
     ]
    },
    {
     "name": "stderr",
     "output_type": "stream",
     "text": [
      "substituting https://oauth.reddit.com for https://api.reddit.com in url\n",
      "GET: https://oauth.reddit.com/user/boostinggames/about/.json\n"
     ]
    },
    {
     "name": "stdout",
     "output_type": "stream",
     "text": [
      "--> FETCHING thiswillneverend3\n"
     ]
    },
    {
     "name": "stderr",
     "output_type": "stream",
     "text": [
      "substituting https://oauth.reddit.com for https://api.reddit.com in url\n",
      "GET: https://oauth.reddit.com/user/thiswillneverend3/about/.json\n"
     ]
    },
    {
     "name": "stdout",
     "output_type": "stream",
     "text": [
      "--> FETCHING mememeupbruh\n"
     ]
    },
    {
     "name": "stderr",
     "output_type": "stream",
     "text": [
      "substituting https://oauth.reddit.com for https://api.reddit.com in url\n",
      "GET: https://oauth.reddit.com/user/mememeupbruh/about/.json\n"
     ]
    },
    {
     "name": "stdout",
     "output_type": "stream",
     "text": [
      "--> FETCHING bettachiosg\n"
     ]
    },
    {
     "name": "stderr",
     "output_type": "stream",
     "text": [
      "substituting https://oauth.reddit.com for https://api.reddit.com in url\n",
      "GET: https://oauth.reddit.com/user/bettachiosg/about/.json\n"
     ]
    },
    {
     "name": "stdout",
     "output_type": "stream",
     "text": [
      "--> FETCHING ihumanl\n"
     ]
    },
    {
     "name": "stderr",
     "output_type": "stream",
     "text": [
      "substituting https://oauth.reddit.com for https://api.reddit.com in url\n",
      "GET: https://oauth.reddit.com/user/ihumanl/about/.json\n"
     ]
    },
    {
     "name": "stdout",
     "output_type": "stream",
     "text": [
      "--> FETCHING daseulgimotti\n"
     ]
    },
    {
     "name": "stderr",
     "output_type": "stream",
     "text": [
      "substituting https://oauth.reddit.com for https://api.reddit.com in url\n",
      "GET: https://oauth.reddit.com/user/daseulgimotti/about/.json\n"
     ]
    },
    {
     "name": "stdout",
     "output_type": "stream",
     "text": [
      "--> FETCHING runicecho\n"
     ]
    },
    {
     "name": "stderr",
     "output_type": "stream",
     "text": [
      "substituting https://oauth.reddit.com for https://api.reddit.com in url\n",
      "GET: https://oauth.reddit.com/user/runicecho/about/.json\n"
     ]
    },
    {
     "name": "stdout",
     "output_type": "stream",
     "text": [
      "--> FETCHING azgourikgz\n"
     ]
    },
    {
     "name": "stderr",
     "output_type": "stream",
     "text": [
      "substituting https://oauth.reddit.com for https://api.reddit.com in url\n",
      "GET: https://oauth.reddit.com/user/azgourikgz/about/.json\n"
     ]
    },
    {
     "name": "stdout",
     "output_type": "stream",
     "text": [
      "--> FETCHING kadiriqjt\n"
     ]
    },
    {
     "name": "stderr",
     "output_type": "stream",
     "text": [
      "substituting https://oauth.reddit.com for https://api.reddit.com in url\n",
      "GET: https://oauth.reddit.com/user/kadiriqjt/about/.json\n"
     ]
    },
    {
     "name": "stdout",
     "output_type": "stream",
     "text": [
      "--> FETCHING g2perkz\n"
     ]
    },
    {
     "name": "stderr",
     "output_type": "stream",
     "text": [
      "substituting https://oauth.reddit.com for https://api.reddit.com in url\n",
      "GET: https://oauth.reddit.com/user/g2perkz/about/.json\n"
     ]
    },
    {
     "name": "stdout",
     "output_type": "stream",
     "text": [
      "--> FETCHING bernatiyhd\n"
     ]
    },
    {
     "name": "stderr",
     "output_type": "stream",
     "text": [
      "substituting https://oauth.reddit.com for https://api.reddit.com in url\n",
      "GET: https://oauth.reddit.com/user/bernatiyhd/about/.json\n"
     ]
    },
    {
     "name": "stdout",
     "output_type": "stream",
     "text": [
      "--> FETCHING rissaniqjm\n"
     ]
    },
    {
     "name": "stderr",
     "output_type": "stream",
     "text": [
      "substituting https://oauth.reddit.com for https://api.reddit.com in url\n",
      "GET: https://oauth.reddit.com/user/rissaniqjm/about/.json\n"
     ]
    },
    {
     "name": "stdout",
     "output_type": "stream",
     "text": [
      "--> FETCHING azgouripca\n"
     ]
    },
    {
     "name": "stderr",
     "output_type": "stream",
     "text": [
      "substituting https://oauth.reddit.com for https://api.reddit.com in url\n",
      "GET: https://oauth.reddit.com/user/azgouripca/about/.json\n"
     ]
    },
    {
     "name": "stdout",
     "output_type": "stream",
     "text": [
      "--> FETCHING olivernoah0070\n"
     ]
    },
    {
     "name": "stderr",
     "output_type": "stream",
     "text": [
      "substituting https://oauth.reddit.com for https://api.reddit.com in url\n",
      "GET: https://oauth.reddit.com/user/olivernoah0070/about/.json\n"
     ]
    },
    {
     "name": "stdout",
     "output_type": "stream",
     "text": [
      "--> FETCHING baickie\n"
     ]
    },
    {
     "name": "stderr",
     "output_type": "stream",
     "text": [
      "substituting https://oauth.reddit.com for https://api.reddit.com in url\n",
      "GET: https://oauth.reddit.com/user/baickie/about/.json\n"
     ]
    },
    {
     "name": "stdout",
     "output_type": "stream",
     "text": [
      "--> FETCHING azgourizyv\n"
     ]
    },
    {
     "name": "stderr",
     "output_type": "stream",
     "text": [
      "substituting https://oauth.reddit.com for https://api.reddit.com in url\n",
      "GET: https://oauth.reddit.com/user/azgourizyv/about/.json\n"
     ]
    },
    {
     "name": "stdout",
     "output_type": "stream",
     "text": [
      "--> FETCHING tiaziyzt\n"
     ]
    },
    {
     "name": "stderr",
     "output_type": "stream",
     "text": [
      "substituting https://oauth.reddit.com for https://api.reddit.com in url\n",
      "GET: https://oauth.reddit.com/user/tiaziyzt/about/.json\n"
     ]
    },
    {
     "name": "stdout",
     "output_type": "stream",
     "text": [
      "--> FETCHING canthearyoubot4\n"
     ]
    },
    {
     "name": "stderr",
     "output_type": "stream",
     "text": [
      "substituting https://oauth.reddit.com for https://api.reddit.com in url\n",
      "GET: https://oauth.reddit.com/user/canthearyoubot4/about/.json\n"
     ]
    },
    {
     "name": "stdout",
     "output_type": "stream",
     "text": [
      "--> FETCHING krpeyton\n"
     ]
    },
    {
     "name": "stderr",
     "output_type": "stream",
     "text": [
      "substituting https://oauth.reddit.com for https://api.reddit.com in url\n",
      "GET: https://oauth.reddit.com/user/krpeyton/about/.json\n"
     ]
    },
    {
     "name": "stdout",
     "output_type": "stream",
     "text": [
      "--> FETCHING lmelhawixfo\n"
     ]
    },
    {
     "name": "stderr",
     "output_type": "stream",
     "text": [
      "substituting https://oauth.reddit.com for https://api.reddit.com in url\n",
      "GET: https://oauth.reddit.com/user/lmelhawixfo/about/.json\n"
     ]
    },
    {
     "name": "stdout",
     "output_type": "stream",
     "text": [
      "--> FETCHING scga05\n"
     ]
    },
    {
     "name": "stderr",
     "output_type": "stream",
     "text": [
      "substituting https://oauth.reddit.com for https://api.reddit.com in url\n",
      "GET: https://oauth.reddit.com/user/scga05/about/.json\n"
     ]
    },
    {
     "name": "stdout",
     "output_type": "stream",
     "text": [
      "--> FETCHING suplexduplex\n"
     ]
    },
    {
     "name": "stderr",
     "output_type": "stream",
     "text": [
      "substituting https://oauth.reddit.com for https://api.reddit.com in url\n",
      "GET: https://oauth.reddit.com/user/suplexduplex/about/.json\n"
     ]
    },
    {
     "name": "stdout",
     "output_type": "stream",
     "text": [
      "--> FETCHING karimiafy\n"
     ]
    },
    {
     "name": "stderr",
     "output_type": "stream",
     "text": [
      "substituting https://oauth.reddit.com for https://api.reddit.com in url\n",
      "GET: https://oauth.reddit.com/user/karimiafy/about/.json\n"
     ]
    },
    {
     "name": "stdout",
     "output_type": "stream",
     "text": [
      "--> FETCHING boogyboi88\n"
     ]
    },
    {
     "name": "stderr",
     "output_type": "stream",
     "text": [
      "substituting https://oauth.reddit.com for https://api.reddit.com in url\n",
      "GET: https://oauth.reddit.com/user/boogyboi88/about/.json\n"
     ]
    },
    {
     "name": "stdout",
     "output_type": "stream",
     "text": [
      "--> FETCHING niggasanch\n"
     ]
    },
    {
     "name": "stderr",
     "output_type": "stream",
     "text": [
      "substituting https://oauth.reddit.com for https://api.reddit.com in url\n",
      "GET: https://oauth.reddit.com/user/niggasanch/about/.json\n"
     ]
    },
    {
     "name": "stdout",
     "output_type": "stream",
     "text": [
      "--> FETCHING tijanivdf\n"
     ]
    },
    {
     "name": "stderr",
     "output_type": "stream",
     "text": [
      "substituting https://oauth.reddit.com for https://api.reddit.com in url\n",
      "GET: https://oauth.reddit.com/user/tijanivdf/about/.json\n"
     ]
    },
    {
     "name": "stdout",
     "output_type": "stream",
     "text": [
      "--> FETCHING magicmikexxxxl\n"
     ]
    },
    {
     "name": "stderr",
     "output_type": "stream",
     "text": [
      "substituting https://oauth.reddit.com for https://api.reddit.com in url\n",
      "GET: https://oauth.reddit.com/user/magicmikexxxxl/about/.json\n"
     ]
    },
    {
     "name": "stdout",
     "output_type": "stream",
     "text": [
      "--> FETCHING sablinksex\n"
     ]
    },
    {
     "name": "stderr",
     "output_type": "stream",
     "text": [
      "substituting https://oauth.reddit.com for https://api.reddit.com in url\n",
      "GET: https://oauth.reddit.com/user/sablinksex/about/.json\n"
     ]
    },
    {
     "name": "stdout",
     "output_type": "stream",
     "text": [
      "--> FETCHING dj_kled\n"
     ]
    },
    {
     "name": "stderr",
     "output_type": "stream",
     "text": [
      "substituting https://oauth.reddit.com for https://api.reddit.com in url\n",
      "GET: https://oauth.reddit.com/user/dj_kled/about/.json\n"
     ]
    },
    {
     "name": "stdout",
     "output_type": "stream",
     "text": [
      "--> FETCHING kadiriaia\n"
     ]
    },
    {
     "name": "stderr",
     "output_type": "stream",
     "text": [
      "substituting https://oauth.reddit.com for https://api.reddit.com in url\n",
      "GET: https://oauth.reddit.com/user/kadiriaia/about/.json\n"
     ]
    },
    {
     "name": "stdout",
     "output_type": "stream",
     "text": [
      "--> FETCHING daseulgi\n"
     ]
    },
    {
     "name": "stderr",
     "output_type": "stream",
     "text": [
      "substituting https://oauth.reddit.com for https://api.reddit.com in url\n",
      "GET: https://oauth.reddit.com/user/daseulgi/about/.json\n"
     ]
    },
    {
     "name": "stdout",
     "output_type": "stream",
     "text": [
      "--> FETCHING serfaticyc\n"
     ]
    },
    {
     "name": "stderr",
     "output_type": "stream",
     "text": [
      "substituting https://oauth.reddit.com for https://api.reddit.com in url\n",
      "GET: https://oauth.reddit.com/user/serfaticyc/about/.json\n"
     ]
    },
    {
     "name": "stdout",
     "output_type": "stream",
     "text": [
      "--> FETCHING woessoe\n"
     ]
    },
    {
     "name": "stderr",
     "output_type": "stream",
     "text": [
      "substituting https://oauth.reddit.com for https://api.reddit.com in url\n",
      "GET: https://oauth.reddit.com/user/woessoe/about/.json\n"
     ]
    },
    {
     "name": "stdout",
     "output_type": "stream",
     "text": [
      "--> FETCHING karimizmy\n"
     ]
    },
    {
     "name": "stderr",
     "output_type": "stream",
     "text": [
      "substituting https://oauth.reddit.com for https://api.reddit.com in url\n",
      "GET: https://oauth.reddit.com/user/karimizmy/about/.json\n"
     ]
    },
    {
     "name": "stdout",
     "output_type": "stream",
     "text": [
      "--> FETCHING karma_beggar_bot\n"
     ]
    },
    {
     "name": "stderr",
     "output_type": "stream",
     "text": [
      "substituting https://oauth.reddit.com for https://api.reddit.com in url\n",
      "GET: https://oauth.reddit.com/user/karma_beggar_bot/about/.json\n"
     ]
    },
    {
     "name": "stdout",
     "output_type": "stream",
     "text": [
      "--> FETCHING unlicky123\n"
     ]
    },
    {
     "name": "stderr",
     "output_type": "stream",
     "text": [
      "substituting https://oauth.reddit.com for https://api.reddit.com in url\n",
      "GET: https://oauth.reddit.com/user/unlicky123/about/.json\n"
     ]
    },
    {
     "name": "stdout",
     "output_type": "stream",
     "text": [
      "--> FETCHING lmelhawilif\n"
     ]
    },
    {
     "name": "stderr",
     "output_type": "stream",
     "text": [
      "substituting https://oauth.reddit.com for https://api.reddit.com in url\n",
      "GET: https://oauth.reddit.com/user/lmelhawilif/about/.json\n"
     ]
    },
    {
     "name": "stdout",
     "output_type": "stream",
     "text": [
      "--> FETCHING billyboosted\n"
     ]
    },
    {
     "name": "stderr",
     "output_type": "stream",
     "text": [
      "substituting https://oauth.reddit.com for https://api.reddit.com in url\n",
      "GET: https://oauth.reddit.com/user/billyboosted/about/.json\n"
     ]
    },
    {
     "name": "stdout",
     "output_type": "stream",
     "text": [
      "--> FETCHING leefuckingsin\n"
     ]
    },
    {
     "name": "stderr",
     "output_type": "stream",
     "text": [
      "substituting https://oauth.reddit.com for https://api.reddit.com in url\n",
      "GET: https://oauth.reddit.com/user/leefuckingsin/about/.json\n"
     ]
    },
    {
     "name": "stdout",
     "output_type": "stream",
     "text": [
      "--> FETCHING iam_brood\n"
     ]
    },
    {
     "name": "stderr",
     "output_type": "stream",
     "text": [
      "substituting https://oauth.reddit.com for https://api.reddit.com in url\n",
      "GET: https://oauth.reddit.com/user/iam_brood/about/.json\n"
     ]
    },
    {
     "name": "stdout",
     "output_type": "stream",
     "text": [
      "--> FETCHING lisapistol\n"
     ]
    },
    {
     "name": "stderr",
     "output_type": "stream",
     "text": [
      "substituting https://oauth.reddit.com for https://api.reddit.com in url\n",
      "GET: https://oauth.reddit.com/user/lisapistol/about/.json\n"
     ]
    },
    {
     "name": "stdout",
     "output_type": "stream",
     "text": [
      "--> FETCHING tijanimdr\n"
     ]
    },
    {
     "name": "stderr",
     "output_type": "stream",
     "text": [
      "substituting https://oauth.reddit.com for https://api.reddit.com in url\n",
      "GET: https://oauth.reddit.com/user/tijanimdr/about/.json\n"
     ]
    },
    {
     "name": "stdout",
     "output_type": "stream",
     "text": [
      "--> FETCHING ytxrvg\n"
     ]
    },
    {
     "name": "stderr",
     "output_type": "stream",
     "text": [
      "substituting https://oauth.reddit.com for https://api.reddit.com in url\n",
      "GET: https://oauth.reddit.com/user/ytxrvg/about/.json\n"
     ]
    },
    {
     "name": "stdout",
     "output_type": "stream",
     "text": [
      "--> FETCHING elarabipas\n"
     ]
    },
    {
     "name": "stderr",
     "output_type": "stream",
     "text": [
      "substituting https://oauth.reddit.com for https://api.reddit.com in url\n",
      "GET: https://oauth.reddit.com/user/elarabipas/about/.json\n"
     ]
    },
    {
     "name": "stdout",
     "output_type": "stream",
     "text": [
      "--> FETCHING williemporse\n"
     ]
    },
    {
     "name": "stderr",
     "output_type": "stream",
     "text": [
      "substituting https://oauth.reddit.com for https://api.reddit.com in url\n",
      "GET: https://oauth.reddit.com/user/williemporse/about/.json\n"
     ]
    },
    {
     "name": "stdout",
     "output_type": "stream",
     "text": [
      "--> FETCHING kadirimrm\n"
     ]
    },
    {
     "name": "stderr",
     "output_type": "stream",
     "text": [
      "substituting https://oauth.reddit.com for https://api.reddit.com in url\n",
      "GET: https://oauth.reddit.com/user/kadirimrm/about/.json\n"
     ]
    },
    {
     "name": "stdout",
     "output_type": "stream",
     "text": [
      "--> FETCHING fechtaliazq\n"
     ]
    },
    {
     "name": "stderr",
     "output_type": "stream",
     "text": [
      "substituting https://oauth.reddit.com for https://api.reddit.com in url\n",
      "GET: https://oauth.reddit.com/user/fechtaliazq/about/.json\n"
     ]
    },
    {
     "name": "stdout",
     "output_type": "stream",
     "text": [
      "--> FETCHING fechtalinfd\n"
     ]
    },
    {
     "name": "stderr",
     "output_type": "stream",
     "text": [
      "substituting https://oauth.reddit.com for https://api.reddit.com in url\n",
      "GET: https://oauth.reddit.com/user/fechtalinfd/about/.json\n"
     ]
    },
    {
     "name": "stdout",
     "output_type": "stream",
     "text": [
      "--> FETCHING reinbod\n"
     ]
    },
    {
     "name": "stderr",
     "output_type": "stream",
     "text": [
      "substituting https://oauth.reddit.com for https://api.reddit.com in url\n",
      "GET: https://oauth.reddit.com/user/reinbod/about/.json\n"
     ]
    },
    {
     "name": "stdout",
     "output_type": "stream",
     "text": [
      "--> FETCHING diepiofun\n"
     ]
    },
    {
     "name": "stderr",
     "output_type": "stream",
     "text": [
      "substituting https://oauth.reddit.com for https://api.reddit.com in url\n",
      "GET: https://oauth.reddit.com/user/diepiofun/about/.json\n"
     ]
    },
    {
     "name": "stdout",
     "output_type": "stream",
     "text": [
      "--> FETCHING amgonnakillu\n"
     ]
    },
    {
     "name": "stderr",
     "output_type": "stream",
     "text": [
      "substituting https://oauth.reddit.com for https://api.reddit.com in url\n",
      "GET: https://oauth.reddit.com/user/amgonnakillu/about/.json\n"
     ]
    },
    {
     "name": "stdout",
     "output_type": "stream",
     "text": [
      "--> FETCHING quack_bot\n"
     ]
    },
    {
     "name": "stderr",
     "output_type": "stream",
     "text": [
      "substituting https://oauth.reddit.com for https://api.reddit.com in url\n",
      "GET: https://oauth.reddit.com/user/quack_bot/about/.json\n"
     ]
    },
    {
     "name": "stdout",
     "output_type": "stream",
     "text": [
      "--> FETCHING sovietunion1337\n"
     ]
    },
    {
     "name": "stderr",
     "output_type": "stream",
     "text": [
      "substituting https://oauth.reddit.com for https://api.reddit.com in url\n",
      "GET: https://oauth.reddit.com/user/sovietunion1337/about/.json\n"
     ]
    },
    {
     "name": "stdout",
     "output_type": "stream",
     "text": [
      "--> FETCHING negrachixua\n"
     ]
    },
    {
     "name": "stderr",
     "output_type": "stream",
     "text": [
      "substituting https://oauth.reddit.com for https://api.reddit.com in url\n",
      "GET: https://oauth.reddit.com/user/negrachixua/about/.json\n"
     ]
    },
    {
     "name": "stdout",
     "output_type": "stream",
     "text": [
      "--> FETCHING soldierofnod55\n"
     ]
    },
    {
     "name": "stderr",
     "output_type": "stream",
     "text": [
      "substituting https://oauth.reddit.com for https://api.reddit.com in url\n",
      "GET: https://oauth.reddit.com/user/soldierofnod55/about/.json\n"
     ]
    },
    {
     "name": "stdout",
     "output_type": "stream",
     "text": [
      "--> FETCHING lmelhawikgi\n"
     ]
    },
    {
     "name": "stderr",
     "output_type": "stream",
     "text": [
      "substituting https://oauth.reddit.com for https://api.reddit.com in url\n",
      "GET: https://oauth.reddit.com/user/lmelhawikgi/about/.json\n"
     ]
    },
    {
     "name": "stdout",
     "output_type": "stream",
     "text": [
      "--> FETCHING goliathgawd\n"
     ]
    },
    {
     "name": "stderr",
     "output_type": "stream",
     "text": [
      "substituting https://oauth.reddit.com for https://api.reddit.com in url\n",
      "GET: https://oauth.reddit.com/user/goliathgawd/about/.json\n"
     ]
    },
    {
     "name": "stdout",
     "output_type": "stream",
     "text": [
      "--> FETCHING bernatilis\n"
     ]
    },
    {
     "name": "stderr",
     "output_type": "stream",
     "text": [
      "substituting https://oauth.reddit.com for https://api.reddit.com in url\n",
      "GET: https://oauth.reddit.com/user/bernatilis/about/.json\n"
     ]
    },
    {
     "name": "stdout",
     "output_type": "stream",
     "text": [
      "--> FETCHING serfatiicj\n"
     ]
    },
    {
     "name": "stderr",
     "output_type": "stream",
     "text": [
      "substituting https://oauth.reddit.com for https://api.reddit.com in url\n",
      "GET: https://oauth.reddit.com/user/serfatiicj/about/.json\n"
     ]
    },
    {
     "name": "stdout",
     "output_type": "stream",
     "text": [
      "--> FETCHING pm_me_klaj_misplays\n"
     ]
    },
    {
     "name": "stderr",
     "output_type": "stream",
     "text": [
      "substituting https://oauth.reddit.com for https://api.reddit.com in url\n",
      "GET: https://oauth.reddit.com/user/pm_me_klaj_misplays/about/.json\n"
     ]
    },
    {
     "name": "stdout",
     "output_type": "stream",
     "text": [
      "--> FETCHING kylerocker\n"
     ]
    },
    {
     "name": "stderr",
     "output_type": "stream",
     "text": [
      "substituting https://oauth.reddit.com for https://api.reddit.com in url\n",
      "GET: https://oauth.reddit.com/user/kylerocker/about/.json\n"
     ]
    },
    {
     "name": "stdout",
     "output_type": "stream",
     "text": [
      "--> FETCHING haboubyli\n"
     ]
    },
    {
     "name": "stderr",
     "output_type": "stream",
     "text": [
      "substituting https://oauth.reddit.com for https://api.reddit.com in url\n",
      "GET: https://oauth.reddit.com/user/haboubyli/about/.json\n"
     ]
    },
    {
     "name": "stdout",
     "output_type": "stream",
     "text": [
      "--> FETCHING aquaified\n"
     ]
    },
    {
     "name": "stderr",
     "output_type": "stream",
     "text": [
      "substituting https://oauth.reddit.com for https://api.reddit.com in url\n",
      "GET: https://oauth.reddit.com/user/aquaified/about/.json\n"
     ]
    },
    {
     "name": "stdout",
     "output_type": "stream",
     "text": [
      "--> FETCHING leagueoflegends_pl\n"
     ]
    },
    {
     "name": "stderr",
     "output_type": "stream",
     "text": [
      "substituting https://oauth.reddit.com for https://api.reddit.com in url\n",
      "GET: https://oauth.reddit.com/user/leagueoflegends_pl/about/.json\n"
     ]
    },
    {
     "name": "stdout",
     "output_type": "stream",
     "text": [
      "--> FETCHING haboubrbh\n"
     ]
    },
    {
     "name": "stderr",
     "output_type": "stream",
     "text": [
      "substituting https://oauth.reddit.com for https://api.reddit.com in url\n",
      "GET: https://oauth.reddit.com/user/haboubrbh/about/.json\n"
     ]
    },
    {
     "name": "stdout",
     "output_type": "stream",
     "text": [
      "--> FETCHING letschtenz\n"
     ]
    },
    {
     "name": "stderr",
     "output_type": "stream",
     "text": [
      "substituting https://oauth.reddit.com for https://api.reddit.com in url\n",
      "GET: https://oauth.reddit.com/user/letschtenz/about/.json\n"
     ]
    },
    {
     "name": "stdout",
     "output_type": "stream",
     "text": [
      "--> FETCHING jahangeerseo\n"
     ]
    },
    {
     "name": "stderr",
     "output_type": "stream",
     "text": [
      "substituting https://oauth.reddit.com for https://api.reddit.com in url\n",
      "GET: https://oauth.reddit.com/user/jahangeerseo/about/.json\n"
     ]
    },
    {
     "name": "stdout",
     "output_type": "stream",
     "text": [
      "--> FETCHING tijanihui\n"
     ]
    },
    {
     "name": "stderr",
     "output_type": "stream",
     "text": [
      "substituting https://oauth.reddit.com for https://api.reddit.com in url\n",
      "GET: https://oauth.reddit.com/user/tijanihui/about/.json\n"
     ]
    },
    {
     "name": "stdout",
     "output_type": "stream",
     "text": [
      "--> FETCHING h2wha7\n"
     ]
    },
    {
     "name": "stderr",
     "output_type": "stream",
     "text": [
      "substituting https://oauth.reddit.com for https://api.reddit.com in url\n",
      "GET: https://oauth.reddit.com/user/h2wha7/about/.json\n"
     ]
    },
    {
     "name": "stdout",
     "output_type": "stream",
     "text": [
      "--> FETCHING serfatiyrd\n"
     ]
    },
    {
     "name": "stderr",
     "output_type": "stream",
     "text": [
      "substituting https://oauth.reddit.com for https://api.reddit.com in url\n",
      "GET: https://oauth.reddit.com/user/serfatiyrd/about/.json\n"
     ]
    },
    {
     "name": "stdout",
     "output_type": "stream",
     "text": [
      "--> FETCHING pepe_the_cuck\n"
     ]
    },
    {
     "name": "stderr",
     "output_type": "stream",
     "text": [
      "substituting https://oauth.reddit.com for https://api.reddit.com in url\n",
      "GET: https://oauth.reddit.com/user/pepe_the_cuck/about/.json\n"
     ]
    },
    {
     "name": "stdout",
     "output_type": "stream",
     "text": [
      "--> FETCHING kadirinsp\n"
     ]
    },
    {
     "name": "stderr",
     "output_type": "stream",
     "text": [
      "substituting https://oauth.reddit.com for https://api.reddit.com in url\n",
      "GET: https://oauth.reddit.com/user/kadirinsp/about/.json\n"
     ]
    },
    {
     "name": "stdout",
     "output_type": "stream",
     "text": [
      "--> FETCHING serfatiaat\n"
     ]
    },
    {
     "name": "stderr",
     "output_type": "stream",
     "text": [
      "substituting https://oauth.reddit.com for https://api.reddit.com in url\n",
      "GET: https://oauth.reddit.com/user/serfatiaat/about/.json\n"
     ]
    },
    {
     "name": "stdout",
     "output_type": "stream",
     "text": [
      "--> FETCHING rissanivvp\n"
     ]
    },
    {
     "name": "stderr",
     "output_type": "stream",
     "text": [
      "substituting https://oauth.reddit.com for https://api.reddit.com in url\n",
      "GET: https://oauth.reddit.com/user/rissanivvp/about/.json\n"
     ]
    },
    {
     "name": "stdout",
     "output_type": "stream",
     "text": [
      "--> FETCHING awesomeismatt\n"
     ]
    },
    {
     "name": "stderr",
     "output_type": "stream",
     "text": [
      "substituting https://oauth.reddit.com for https://api.reddit.com in url\n",
      "GET: https://oauth.reddit.com/user/awesomeismatt/about/.json\n"
     ]
    },
    {
     "name": "stdout",
     "output_type": "stream",
     "text": [
      "--> FETCHING dima321\n"
     ]
    },
    {
     "name": "stderr",
     "output_type": "stream",
     "text": [
      "substituting https://oauth.reddit.com for https://api.reddit.com in url\n",
      "GET: https://oauth.reddit.com/user/dima321/about/.json\n"
     ]
    },
    {
     "name": "stdout",
     "output_type": "stream",
     "text": [
      "--> FETCHING aloyka\n"
     ]
    },
    {
     "name": "stderr",
     "output_type": "stream",
     "text": [
      "substituting https://oauth.reddit.com for https://api.reddit.com in url\n",
      "GET: https://oauth.reddit.com/user/aloyka/about/.json\n"
     ]
    },
    {
     "name": "stdout",
     "output_type": "stream",
     "text": [
      "--> FETCHING nyetworks\n"
     ]
    },
    {
     "name": "stderr",
     "output_type": "stream",
     "text": [
      "substituting https://oauth.reddit.com for https://api.reddit.com in url\n",
      "GET: https://oauth.reddit.com/user/nyetworks/about/.json\n"
     ]
    },
    {
     "name": "stdout",
     "output_type": "stream",
     "text": [
      "--> FETCHING cotovanudima0202\n"
     ]
    },
    {
     "name": "stderr",
     "output_type": "stream",
     "text": [
      "substituting https://oauth.reddit.com for https://api.reddit.com in url\n",
      "GET: https://oauth.reddit.com/user/cotovanudima0202/about/.json\n"
     ]
    },
    {
     "name": "stdout",
     "output_type": "stream",
     "text": [
      "--> FETCHING saku65\n"
     ]
    },
    {
     "name": "stderr",
     "output_type": "stream",
     "text": [
      "substituting https://oauth.reddit.com for https://api.reddit.com in url\n",
      "GET: https://oauth.reddit.com/user/saku65/about/.json\n"
     ]
    },
    {
     "name": "stdout",
     "output_type": "stream",
     "text": [
      "--> FETCHING stickleyman7\n"
     ]
    },
    {
     "name": "stderr",
     "output_type": "stream",
     "text": [
      "substituting https://oauth.reddit.com for https://api.reddit.com in url\n",
      "GET: https://oauth.reddit.com/user/stickleyman7/about/.json\n"
     ]
    },
    {
     "name": "stdout",
     "output_type": "stream",
     "text": [
      "--> FETCHING tijanievt\n"
     ]
    },
    {
     "name": "stderr",
     "output_type": "stream",
     "text": [
      "substituting https://oauth.reddit.com for https://api.reddit.com in url\n",
      "GET: https://oauth.reddit.com/user/tijanievt/about/.json\n"
     ]
    },
    {
     "name": "stdout",
     "output_type": "stream",
     "text": [
      "--> FETCHING bennaniwkq\n"
     ]
    },
    {
     "name": "stderr",
     "output_type": "stream",
     "text": [
      "substituting https://oauth.reddit.com for https://api.reddit.com in url\n",
      "GET: https://oauth.reddit.com/user/bennaniwkq/about/.json\n"
     ]
    },
    {
     "name": "stdout",
     "output_type": "stream",
     "text": [
      "--> FETCHING lmelhawijip\n"
     ]
    },
    {
     "name": "stderr",
     "output_type": "stream",
     "text": [
      "substituting https://oauth.reddit.com for https://api.reddit.com in url\n",
      "GET: https://oauth.reddit.com/user/lmelhawijip/about/.json\n"
     ]
    },
    {
     "name": "stdout",
     "output_type": "stream",
     "text": [
      "--> FETCHING [deleted]\n"
     ]
    },
    {
     "name": "stderr",
     "output_type": "stream",
     "text": [
      "substituting https://oauth.reddit.com for https://api.reddit.com in url\n",
      "GET: https://oauth.reddit.com/user/[deleted]/about/.json\n"
     ]
    },
    {
     "name": "stdout",
     "output_type": "stream",
     "text": [
      "--> FETCHING ovetesticals\n"
     ]
    },
    {
     "name": "stderr",
     "output_type": "stream",
     "text": [
      "substituting https://oauth.reddit.com for https://api.reddit.com in url\n",
      "GET: https://oauth.reddit.com/user/ovetesticals/about/.json\n"
     ]
    },
    {
     "name": "stdout",
     "output_type": "stream",
     "text": [
      "--> FETCHING of_have_bot\n"
     ]
    },
    {
     "name": "stderr",
     "output_type": "stream",
     "text": [
      "substituting https://oauth.reddit.com for https://api.reddit.com in url\n",
      "GET: https://oauth.reddit.com/user/of_have_bot/about/.json\n"
     ]
    },
    {
     "name": "stdout",
     "output_type": "stream",
     "text": [
      "--> FETCHING watchshowsmovies\n"
     ]
    },
    {
     "name": "stderr",
     "output_type": "stream",
     "text": [
      "substituting https://oauth.reddit.com for https://api.reddit.com in url\n",
      "GET: https://oauth.reddit.com/user/watchshowsmovies/about/.json\n"
     ]
    },
    {
     "name": "stdout",
     "output_type": "stream",
     "text": [
      "--> FETCHING hiyalongla\n"
     ]
    },
    {
     "name": "stderr",
     "output_type": "stream",
     "text": [
      "substituting https://oauth.reddit.com for https://api.reddit.com in url\n",
      "GET: https://oauth.reddit.com/user/hiyalongla/about/.json\n"
     ]
    },
    {
     "name": "stdout",
     "output_type": "stream",
     "text": [
      "--> FETCHING azgourilms\n"
     ]
    },
    {
     "name": "stderr",
     "output_type": "stream",
     "text": [
      "substituting https://oauth.reddit.com for https://api.reddit.com in url\n",
      "GET: https://oauth.reddit.com/user/azgourilms/about/.json\n"
     ]
    },
    {
     "name": "stdout",
     "output_type": "stream",
     "text": [
      "--> FETCHING bettachiatx\n"
     ]
    },
    {
     "name": "stderr",
     "output_type": "stream",
     "text": [
      "substituting https://oauth.reddit.com for https://api.reddit.com in url\n",
      "GET: https://oauth.reddit.com/user/bettachiatx/about/.json\n"
     ]
    },
    {
     "name": "stdout",
     "output_type": "stream",
     "text": [
      "--> FETCHING lmelhawirss\n"
     ]
    },
    {
     "name": "stderr",
     "output_type": "stream",
     "text": [
      "substituting https://oauth.reddit.com for https://api.reddit.com in url\n",
      "GET: https://oauth.reddit.com/user/lmelhawirss/about/.json\n"
     ]
    },
    {
     "name": "stdout",
     "output_type": "stream",
     "text": [
      "--> FETCHING taipeichlngchong\n"
     ]
    },
    {
     "name": "stderr",
     "output_type": "stream",
     "text": [
      "substituting https://oauth.reddit.com for https://api.reddit.com in url\n",
      "GET: https://oauth.reddit.com/user/taipeichlngchong/about/.json\n"
     ]
    },
    {
     "name": "stdout",
     "output_type": "stream",
     "text": [
      "--> FETCHING posts_bad_content\n"
     ]
    },
    {
     "name": "stderr",
     "output_type": "stream",
     "text": [
      "substituting https://oauth.reddit.com for https://api.reddit.com in url\n",
      "GET: https://oauth.reddit.com/user/posts_bad_content/about/.json\n"
     ]
    },
    {
     "name": "stdout",
     "output_type": "stream",
     "text": [
      "--> FETCHING araqka\n"
     ]
    },
    {
     "name": "stderr",
     "output_type": "stream",
     "text": [
      "substituting https://oauth.reddit.com for https://api.reddit.com in url\n",
      "GET: https://oauth.reddit.com/user/araqka/about/.json\n"
     ]
    },
    {
     "name": "stdout",
     "output_type": "stream",
     "text": [
      "--> FETCHING lmelhawisvb\n"
     ]
    },
    {
     "name": "stderr",
     "output_type": "stream",
     "text": [
      "substituting https://oauth.reddit.com for https://api.reddit.com in url\n",
      "GET: https://oauth.reddit.com/user/lmelhawisvb/about/.json\n"
     ]
    },
    {
     "name": "stdout",
     "output_type": "stream",
     "text": [
      "--> FETCHING lmelhawiwwu\n"
     ]
    },
    {
     "name": "stderr",
     "output_type": "stream",
     "text": [
      "substituting https://oauth.reddit.com for https://api.reddit.com in url\n",
      "GET: https://oauth.reddit.com/user/lmelhawiwwu/about/.json\n"
     ]
    },
    {
     "name": "stdout",
     "output_type": "stream",
     "text": [
      "--> FETCHING tiaziley\n"
     ]
    },
    {
     "name": "stderr",
     "output_type": "stream",
     "text": [
      "substituting https://oauth.reddit.com for https://api.reddit.com in url\n",
      "GET: https://oauth.reddit.com/user/tiaziley/about/.json\n"
     ]
    },
    {
     "name": "stdout",
     "output_type": "stream",
     "text": [
      "--> FETCHING bernatiznn\n"
     ]
    },
    {
     "name": "stderr",
     "output_type": "stream",
     "text": [
      "substituting https://oauth.reddit.com for https://api.reddit.com in url\n",
      "GET: https://oauth.reddit.com/user/bernatiznn/about/.json\n"
     ]
    },
    {
     "name": "stdout",
     "output_type": "stream",
     "text": [
      "--> FETCHING clearlul\n"
     ]
    },
    {
     "name": "stderr",
     "output_type": "stream",
     "text": [
      "substituting https://oauth.reddit.com for https://api.reddit.com in url\n",
      "GET: https://oauth.reddit.com/user/clearlul/about/.json\n"
     ]
    },
    {
     "name": "stdout",
     "output_type": "stream",
     "text": [
      "--> FETCHING lmelhawikon\n"
     ]
    },
    {
     "name": "stderr",
     "output_type": "stream",
     "text": [
      "substituting https://oauth.reddit.com for https://api.reddit.com in url\n",
      "GET: https://oauth.reddit.com/user/lmelhawikon/about/.json\n"
     ]
    },
    {
     "name": "stdout",
     "output_type": "stream",
     "text": [
      "--> FETCHING rissaniqez\n"
     ]
    },
    {
     "name": "stderr",
     "output_type": "stream",
     "text": [
      "substituting https://oauth.reddit.com for https://api.reddit.com in url\n",
      "GET: https://oauth.reddit.com/user/rissaniqez/about/.json\n"
     ]
    },
    {
     "name": "stdout",
     "output_type": "stream",
     "text": [
      "--> FETCHING honestlybot\n"
     ]
    },
    {
     "name": "stderr",
     "output_type": "stream",
     "text": [
      "substituting https://oauth.reddit.com for https://api.reddit.com in url\n",
      "GET: https://oauth.reddit.com/user/honestlybot/about/.json\n"
     ]
    },
    {
     "name": "stdout",
     "output_type": "stream",
     "text": [
      "--> FETCHING serfatiqas\n"
     ]
    },
    {
     "name": "stderr",
     "output_type": "stream",
     "text": [
      "substituting https://oauth.reddit.com for https://api.reddit.com in url\n",
      "GET: https://oauth.reddit.com/user/serfatiqas/about/.json\n"
     ]
    },
    {
     "name": "stdout",
     "output_type": "stream",
     "text": [
      "--> FETCHING karimizdo\n"
     ]
    },
    {
     "name": "stderr",
     "output_type": "stream",
     "text": [
      "substituting https://oauth.reddit.com for https://api.reddit.com in url\n",
      "GET: https://oauth.reddit.com/user/karimizdo/about/.json\n"
     ]
    },
    {
     "name": "stdout",
     "output_type": "stream",
     "text": [
      "--> FETCHING sktthapa\n"
     ]
    },
    {
     "name": "stderr",
     "output_type": "stream",
     "text": [
      "substituting https://oauth.reddit.com for https://api.reddit.com in url\n",
      "GET: https://oauth.reddit.com/user/sktthapa/about/.json\n"
     ]
    },
    {
     "name": "stdout",
     "output_type": "stream",
     "text": [
      "--> FETCHING rissanifrr\n"
     ]
    },
    {
     "name": "stderr",
     "output_type": "stream",
     "text": [
      "substituting https://oauth.reddit.com for https://api.reddit.com in url\n",
      "GET: https://oauth.reddit.com/user/rissanifrr/about/.json\n"
     ]
    },
    {
     "name": "stdout",
     "output_type": "stream",
     "text": [
      "--> FETCHING maymaysdank\n"
     ]
    },
    {
     "name": "stderr",
     "output_type": "stream",
     "text": [
      "substituting https://oauth.reddit.com for https://api.reddit.com in url\n",
      "GET: https://oauth.reddit.com/user/maymaysdank/about/.json\n"
     ]
    },
    {
     "name": "stdout",
     "output_type": "stream",
     "text": [
      "--> FETCHING lmelhawimby\n"
     ]
    },
    {
     "name": "stderr",
     "output_type": "stream",
     "text": [
      "substituting https://oauth.reddit.com for https://api.reddit.com in url\n",
      "GET: https://oauth.reddit.com/user/lmelhawimby/about/.json\n"
     ]
    },
    {
     "name": "stdout",
     "output_type": "stream",
     "text": [
      "--> FETCHING kappachino12\n"
     ]
    },
    {
     "name": "stderr",
     "output_type": "stream",
     "text": [
      "substituting https://oauth.reddit.com for https://api.reddit.com in url\n",
      "GET: https://oauth.reddit.com/user/kappachino12/about/.json\n"
     ]
    },
    {
     "name": "stdout",
     "output_type": "stream",
     "text": [
      "--> FETCHING shado95\n"
     ]
    },
    {
     "name": "stderr",
     "output_type": "stream",
     "text": [
      "substituting https://oauth.reddit.com for https://api.reddit.com in url\n",
      "GET: https://oauth.reddit.com/user/shado95/about/.json\n"
     ]
    },
    {
     "name": "stdout",
     "output_type": "stream",
     "text": [
      "--> FETCHING kadirinqj\n"
     ]
    },
    {
     "name": "stderr",
     "output_type": "stream",
     "text": [
      "substituting https://oauth.reddit.com for https://api.reddit.com in url\n",
      "GET: https://oauth.reddit.com/user/kadirinqj/about/.json\n"
     ]
    },
    {
     "name": "stdout",
     "output_type": "stream",
     "text": [
      "--> FETCHING baickiev2\n"
     ]
    },
    {
     "name": "stderr",
     "output_type": "stream",
     "text": [
      "substituting https://oauth.reddit.com for https://api.reddit.com in url\n",
      "GET: https://oauth.reddit.com/user/baickiev2/about/.json\n"
     ]
    },
    {
     "name": "stdout",
     "output_type": "stream",
     "text": [
      "--> FETCHING freakytrolls\n"
     ]
    },
    {
     "name": "stderr",
     "output_type": "stream",
     "text": [
      "substituting https://oauth.reddit.com for https://api.reddit.com in url\n",
      "GET: https://oauth.reddit.com/user/freakytrolls/about/.json\n"
     ]
    },
    {
     "name": "stdout",
     "output_type": "stream",
     "text": [
      "--> FETCHING mortimz\n"
     ]
    },
    {
     "name": "stderr",
     "output_type": "stream",
     "text": [
      "substituting https://oauth.reddit.com for https://api.reddit.com in url\n",
      "GET: https://oauth.reddit.com/user/mortimz/about/.json\n"
     ]
    },
    {
     "name": "stdout",
     "output_type": "stream",
     "text": [
      "--> FETCHING serfatilbz\n"
     ]
    },
    {
     "name": "stderr",
     "output_type": "stream",
     "text": [
      "substituting https://oauth.reddit.com for https://api.reddit.com in url\n",
      "GET: https://oauth.reddit.com/user/serfatilbz/about/.json\n"
     ]
    },
    {
     "name": "stdout",
     "output_type": "stream",
     "text": [
      "--> FETCHING fechtaliinq\n"
     ]
    },
    {
     "name": "stderr",
     "output_type": "stream",
     "text": [
      "substituting https://oauth.reddit.com for https://api.reddit.com in url\n",
      "GET: https://oauth.reddit.com/user/fechtaliinq/about/.json\n"
     ]
    },
    {
     "name": "stdout",
     "output_type": "stream",
     "text": [
      "--> FETCHING azgourihad\n"
     ]
    },
    {
     "name": "stderr",
     "output_type": "stream",
     "text": [
      "substituting https://oauth.reddit.com for https://api.reddit.com in url\n",
      "GET: https://oauth.reddit.com/user/azgourihad/about/.json\n"
     ]
    },
    {
     "name": "stdout",
     "output_type": "stream",
     "text": [
      "--> FETCHING bennaniojj\n"
     ]
    },
    {
     "name": "stderr",
     "output_type": "stream",
     "text": [
      "substituting https://oauth.reddit.com for https://api.reddit.com in url\n",
      "GET: https://oauth.reddit.com/user/bennaniojj/about/.json\n"
     ]
    },
    {
     "name": "stdout",
     "output_type": "stream",
     "text": [
      "--> FETCHING lmelhawifaf\n"
     ]
    },
    {
     "name": "stderr",
     "output_type": "stream",
     "text": [
      "substituting https://oauth.reddit.com for https://api.reddit.com in url\n",
      "GET: https://oauth.reddit.com/user/lmelhawifaf/about/.json\n"
     ]
    },
    {
     "name": "stdout",
     "output_type": "stream",
     "text": [
      "--> FETCHING hjokak\n"
     ]
    },
    {
     "name": "stderr",
     "output_type": "stream",
     "text": [
      "substituting https://oauth.reddit.com for https://api.reddit.com in url\n",
      "GET: https://oauth.reddit.com/user/hjokak/about/.json\n"
     ]
    },
    {
     "name": "stdout",
     "output_type": "stream",
     "text": [
      "--> FETCHING alper555216\n"
     ]
    },
    {
     "name": "stderr",
     "output_type": "stream",
     "text": [
      "substituting https://oauth.reddit.com for https://api.reddit.com in url\n",
      "GET: https://oauth.reddit.com/user/alper555216/about/.json\n"
     ]
    },
    {
     "name": "stdout",
     "output_type": "stream",
     "text": [
      "--> FETCHING runawaykunta\n"
     ]
    },
    {
     "name": "stderr",
     "output_type": "stream",
     "text": [
      "substituting https://oauth.reddit.com for https://api.reddit.com in url\n",
      "GET: https://oauth.reddit.com/user/runawaykunta/about/.json\n"
     ]
    },
    {
     "name": "stdout",
     "output_type": "stream",
     "text": [
      "--> FETCHING eyepatchouli\n"
     ]
    },
    {
     "name": "stderr",
     "output_type": "stream",
     "text": [
      "substituting https://oauth.reddit.com for https://api.reddit.com in url\n",
      "GET: https://oauth.reddit.com/user/eyepatchouli/about/.json\n"
     ]
    },
    {
     "name": "stdout",
     "output_type": "stream",
     "text": [
      "--> FETCHING bennanikis\n"
     ]
    },
    {
     "name": "stderr",
     "output_type": "stream",
     "text": [
      "substituting https://oauth.reddit.com for https://api.reddit.com in url\n",
      "GET: https://oauth.reddit.com/user/bennanikis/about/.json\n"
     ]
    },
    {
     "name": "stdout",
     "output_type": "stream",
     "text": [
      "--> FETCHING danteadd\n"
     ]
    },
    {
     "name": "stderr",
     "output_type": "stream",
     "text": [
      "substituting https://oauth.reddit.com for https://api.reddit.com in url\n",
      "GET: https://oauth.reddit.com/user/danteadd/about/.json\n"
     ]
    },
    {
     "name": "stdout",
     "output_type": "stream",
     "text": [
      "--> FETCHING bsfired\n"
     ]
    },
    {
     "name": "stderr",
     "output_type": "stream",
     "text": [
      "substituting https://oauth.reddit.com for https://api.reddit.com in url\n",
      "GET: https://oauth.reddit.com/user/bsfired/about/.json\n"
     ]
    },
    {
     "name": "stdout",
     "output_type": "stream",
     "text": [
      "--> FETCHING blek_reeves\n"
     ]
    },
    {
     "name": "stderr",
     "output_type": "stream",
     "text": [
      "substituting https://oauth.reddit.com for https://api.reddit.com in url\n",
      "GET: https://oauth.reddit.com/user/blek_reeves/about/.json\n"
     ]
    },
    {
     "name": "stdout",
     "output_type": "stream",
     "text": [
      "--> FETCHING lmelhawicwa\n"
     ]
    },
    {
     "name": "stderr",
     "output_type": "stream",
     "text": [
      "substituting https://oauth.reddit.com for https://api.reddit.com in url\n",
      "GET: https://oauth.reddit.com/user/lmelhawicwa/about/.json\n"
     ]
    },
    {
     "name": "stdout",
     "output_type": "stream",
     "text": [
      "--> FETCHING tiazibcf\n"
     ]
    },
    {
     "name": "stderr",
     "output_type": "stream",
     "text": [
      "substituting https://oauth.reddit.com for https://api.reddit.com in url\n",
      "GET: https://oauth.reddit.com/user/tiazibcf/about/.json\n"
     ]
    }
   ],
   "source": [
    "for account in [x['author'] for x in all_banned_people]:\n",
    "    if((account in account_info.keys())!=True):\n",
    "        try:\n",
    "            print(\"--> FETCHING {0}\".format(account))\n",
    "            a = r.get_redditor(account)\n",
    "            a.refresh()\n",
    "            account_info[account.lower()] = a.json_dict\n",
    "            time.sleep(2)\n",
    "        except:\n",
    "            account_info[account.lower()] = None\n",
    "            pass"
   ]
  },
  {
   "cell_type": "markdown",
   "metadata": {},
   "source": [
    "### Add User Information To all_banned_people"
   ]
  },
  {
   "cell_type": "code",
   "execution_count": 31,
   "metadata": {
    "collapsed": false
   },
   "outputs": [
    {
     "data": {
      "text/plain": [
       "{'comment_karma': 27999,\n",
       " 'created': 1392893901.0,\n",
       " 'created_utc': 1392865101.0,\n",
       " 'has_verified_email': None,\n",
       " 'hide_from_robots': False,\n",
       " 'id': 'fcypz',\n",
       " 'is_friend': False,\n",
       " 'is_gold': False,\n",
       " 'is_mod': False,\n",
       " 'link_karma': 11570,\n",
       " 'name': 'Imzarth',\n",
       " 'subreddit': None,\n",
       " 'verified': False}"
      ]
     },
     "execution_count": 31,
     "metadata": {},
     "output_type": "execute_result"
    }
   ],
   "source": [
    "list(account_info.values())[0]"
   ]
  },
  {
   "cell_type": "code",
   "execution_count": 33,
   "metadata": {
    "collapsed": false
   },
   "outputs": [
    {
     "name": "stdout",
     "output_type": "stream",
     "text": [
      "{'has_verified_email': None, 'created_utc': 1392865101.0, 'comment_karma': 27999, 'is_mod': False, 'link_karma': 11570, 'subreddit': None, 'name': 'Imzarth', 'is_gold': False, 'verified': False, 'is_friend': False, 'created': 1392893901.0, 'id': 'fcypz', 'hide_from_robots': False}\n",
      "{'author.hide_from_robots': False, 'ban_count': 1, 'days_since_ban': 195.1670949074074, 'author.is_mod': False, 'author_fullname': 't2_11acp3', 'total_ban_actions': 1, 'current_ban_status': True, 'days_before_unban': None, 'author.created_utc': 1473417395.0, 'author.subreddit': None, 'author.has_verified_email': False, 'author.name': 'xToon2', 'modded_comments': 4, 'author': 'xtoon2', 'author.id': '11acp3', 'author.is_friend': False, 'author.info': False, 'author.is_gold': False, 'author.created': 1473446195.0, 'unban_count': 0, 'author.verified': False, 'author.link_karma': 1, 'days_since_unban': None, 'modded_posts': 1, 'author.comment_karma': 16}\n",
      "imzarth\n"
     ]
    }
   ],
   "source": [
    "for person in all_banned_people:\n",
    "    key = person['author']\n",
    "    if account!=None and key in account_info.keys():\n",
    "        account = account_info[key]\n",
    "        person['author.info'] = True\n",
    "        for k in account.keys():\n",
    "            person['author.' + k] = account[k]\n",
    "    else:\n",
    "        person['author.info'] = False\n",
    "\n",
    "print(list(account_info.values())[0])\n",
    "print(all_banned_people[0])\n",
    "print(list(account_info.keys())[0])"
   ]
  },
  {
   "cell_type": "markdown",
   "metadata": {},
   "source": [
    "### Analyze Information"
   ]
  },
  {
   "cell_type": "code",
   "execution_count": 34,
   "metadata": {
    "collapsed": false
   },
   "outputs": [
    {
     "data": {
      "text/html": [
       "<div>\n",
       "<table border=\"1\" class=\"dataframe\">\n",
       "  <thead>\n",
       "    <tr style=\"text-align: right;\">\n",
       "      <th></th>\n",
       "      <th>author</th>\n",
       "      <th>author.comment_karma</th>\n",
       "      <th>author.created</th>\n",
       "      <th>author.created_utc</th>\n",
       "      <th>author.has_verified_email</th>\n",
       "      <th>author.hide_from_robots</th>\n",
       "      <th>author.id</th>\n",
       "      <th>author.info</th>\n",
       "      <th>author.is_friend</th>\n",
       "      <th>author.is_gold</th>\n",
       "      <th>...</th>\n",
       "      <th>author_fullname</th>\n",
       "      <th>ban_count</th>\n",
       "      <th>current_ban_status</th>\n",
       "      <th>days_before_unban</th>\n",
       "      <th>days_since_ban</th>\n",
       "      <th>days_since_unban</th>\n",
       "      <th>modded_comments</th>\n",
       "      <th>modded_posts</th>\n",
       "      <th>total_ban_actions</th>\n",
       "      <th>unban_count</th>\n",
       "    </tr>\n",
       "  </thead>\n",
       "  <tbody>\n",
       "    <tr>\n",
       "      <th>0</th>\n",
       "      <td>xtoon2</td>\n",
       "      <td>16.0</td>\n",
       "      <td>1.473446e+09</td>\n",
       "      <td>1.473417e+09</td>\n",
       "      <td>False</td>\n",
       "      <td>False</td>\n",
       "      <td>11acp3</td>\n",
       "      <td>False</td>\n",
       "      <td>False</td>\n",
       "      <td>False</td>\n",
       "      <td>...</td>\n",
       "      <td>t2_11acp3</td>\n",
       "      <td>1</td>\n",
       "      <td>True</td>\n",
       "      <td>NaN</td>\n",
       "      <td>195.167095</td>\n",
       "      <td>NaN</td>\n",
       "      <td>4</td>\n",
       "      <td>1</td>\n",
       "      <td>1</td>\n",
       "      <td>0</td>\n",
       "    </tr>\n",
       "    <tr>\n",
       "      <th>1</th>\n",
       "      <td>i_met_a_post</td>\n",
       "      <td>4003.0</td>\n",
       "      <td>1.424751e+09</td>\n",
       "      <td>1.424722e+09</td>\n",
       "      <td>False</td>\n",
       "      <td>False</td>\n",
       "      <td>ljosv</td>\n",
       "      <td>False</td>\n",
       "      <td>False</td>\n",
       "      <td>False</td>\n",
       "      <td>...</td>\n",
       "      <td>t2_ljosv</td>\n",
       "      <td>0</td>\n",
       "      <td>False</td>\n",
       "      <td>NaN</td>\n",
       "      <td>NaN</td>\n",
       "      <td>NaN</td>\n",
       "      <td>1</td>\n",
       "      <td>1</td>\n",
       "      <td>1</td>\n",
       "      <td>1</td>\n",
       "    </tr>\n",
       "    <tr>\n",
       "      <th>2</th>\n",
       "      <td>ghoulerino</td>\n",
       "      <td>-51.0</td>\n",
       "      <td>1.445813e+09</td>\n",
       "      <td>1.445784e+09</td>\n",
       "      <td>False</td>\n",
       "      <td>False</td>\n",
       "      <td>rg9d0</td>\n",
       "      <td>False</td>\n",
       "      <td>False</td>\n",
       "      <td>False</td>\n",
       "      <td>...</td>\n",
       "      <td>t2_rg9d0</td>\n",
       "      <td>1</td>\n",
       "      <td>True</td>\n",
       "      <td>NaN</td>\n",
       "      <td>99.595150</td>\n",
       "      <td>NaN</td>\n",
       "      <td>4</td>\n",
       "      <td>7</td>\n",
       "      <td>1</td>\n",
       "      <td>0</td>\n",
       "    </tr>\n",
       "    <tr>\n",
       "      <th>3</th>\n",
       "      <td>sleepingtalent901</td>\n",
       "      <td>309.0</td>\n",
       "      <td>1.417862e+09</td>\n",
       "      <td>1.417833e+09</td>\n",
       "      <td>True</td>\n",
       "      <td>False</td>\n",
       "      <td>ju0vc</td>\n",
       "      <td>False</td>\n",
       "      <td>False</td>\n",
       "      <td>False</td>\n",
       "      <td>...</td>\n",
       "      <td>t2_ju0vc</td>\n",
       "      <td>1</td>\n",
       "      <td>True</td>\n",
       "      <td>NaN</td>\n",
       "      <td>106.957245</td>\n",
       "      <td>NaN</td>\n",
       "      <td>2</td>\n",
       "      <td>3</td>\n",
       "      <td>1</td>\n",
       "      <td>0</td>\n",
       "    </tr>\n",
       "    <tr>\n",
       "      <th>4</th>\n",
       "      <td>stay_triggered</td>\n",
       "      <td>-28.0</td>\n",
       "      <td>1.471568e+09</td>\n",
       "      <td>1.471540e+09</td>\n",
       "      <td>False</td>\n",
       "      <td>False</td>\n",
       "      <td>10o0oj</td>\n",
       "      <td>False</td>\n",
       "      <td>False</td>\n",
       "      <td>False</td>\n",
       "      <td>...</td>\n",
       "      <td>t2_10o0oj</td>\n",
       "      <td>1</td>\n",
       "      <td>True</td>\n",
       "      <td>NaN</td>\n",
       "      <td>200.096285</td>\n",
       "      <td>NaN</td>\n",
       "      <td>2</td>\n",
       "      <td>0</td>\n",
       "      <td>1</td>\n",
       "      <td>0</td>\n",
       "    </tr>\n",
       "  </tbody>\n",
       "</table>\n",
       "<p>5 rows × 25 columns</p>\n",
       "</div>"
      ],
      "text/plain": [
       "              author  author.comment_karma  author.created  \\\n",
       "0             xtoon2                  16.0    1.473446e+09   \n",
       "1       i_met_a_post                4003.0    1.424751e+09   \n",
       "2         ghoulerino                 -51.0    1.445813e+09   \n",
       "3  sleepingtalent901                 309.0    1.417862e+09   \n",
       "4     stay_triggered                 -28.0    1.471568e+09   \n",
       "\n",
       "   author.created_utc author.has_verified_email author.hide_from_robots  \\\n",
       "0        1.473417e+09                     False                   False   \n",
       "1        1.424722e+09                     False                   False   \n",
       "2        1.445784e+09                     False                   False   \n",
       "3        1.417833e+09                      True                   False   \n",
       "4        1.471540e+09                     False                   False   \n",
       "\n",
       "  author.id author.info author.is_friend author.is_gold     ...       \\\n",
       "0    11acp3       False            False          False     ...        \n",
       "1     ljosv       False            False          False     ...        \n",
       "2     rg9d0       False            False          False     ...        \n",
       "3     ju0vc       False            False          False     ...        \n",
       "4    10o0oj       False            False          False     ...        \n",
       "\n",
       "  author_fullname  ban_count current_ban_status  days_before_unban  \\\n",
       "0       t2_11acp3          1               True                NaN   \n",
       "1        t2_ljosv          0              False                NaN   \n",
       "2        t2_rg9d0          1               True                NaN   \n",
       "3        t2_ju0vc          1               True                NaN   \n",
       "4       t2_10o0oj          1               True                NaN   \n",
       "\n",
       "  days_since_ban days_since_unban  modded_comments modded_posts  \\\n",
       "0     195.167095              NaN                4            1   \n",
       "1            NaN              NaN                1            1   \n",
       "2      99.595150              NaN                4            7   \n",
       "3     106.957245              NaN                2            3   \n",
       "4     200.096285              NaN                2            0   \n",
       "\n",
       "   total_ban_actions  unban_count  \n",
       "0                  1            0  \n",
       "1                  1            1  \n",
       "2                  1            0  \n",
       "3                  1            0  \n",
       "4                  1            0  \n",
       "\n",
       "[5 rows x 25 columns]"
      ]
     },
     "execution_count": 34,
     "metadata": {},
     "output_type": "execute_result"
    }
   ],
   "source": [
    "ban_df = pd.DataFrame(all_banned_people)\n",
    "ban_df.head()"
   ]
  },
  {
   "cell_type": "code",
   "execution_count": 35,
   "metadata": {
    "collapsed": false
   },
   "outputs": [
    {
     "name": "stdout",
     "output_type": "stream",
     "text": [
      "count     1619\n",
      "unique       2\n",
      "top       True\n",
      "freq      1341\n",
      "Name: current_ban_status, dtype: object\n"
     ]
    },
    {
     "data": {
      "text/plain": [
       "187"
      ]
     },
     "execution_count": 35,
     "metadata": {},
     "output_type": "execute_result"
    }
   ],
   "source": [
    "print(ban_df.current_ban_status.describe())\n",
    "(1076 - 899)/1076\n",
    "1076-889"
   ]
  },
  {
   "cell_type": "code",
   "execution_count": 36,
   "metadata": {
    "collapsed": false
   },
   "outputs": [
    {
     "data": {
      "text/plain": [
       "<matplotlib.axes._subplots.AxesSubplot at 0x7fbdf6e3ca20>"
      ]
     },
     "execution_count": 36,
     "metadata": {},
     "output_type": "execute_result"
    },
    {
     "data": {
      "image/png": "[encoded data removed]",
      "text/plain": [
       "<matplotlib.figure.Figure at 0x7fbdf6e0d2e8>"
      ]
     },
     "metadata": {},
     "output_type": "display_data"
    }
   ],
   "source": [
    "ban_df.days_since_ban.hist(bins=102)\n",
    "#ban_df.days_since_ban.describe()\n",
    "#np.mean(list(Counter(ban_df[ban_df.days_since_ban<60].days_since_ban.round()).values()))"
   ]
  },
  {
   "cell_type": "code",
   "execution_count": 37,
   "metadata": {
    "collapsed": false
   },
   "outputs": [
    {
     "data": {
      "text/plain": [
       "count    232.000000\n",
       "mean     122.253612\n",
       "std       57.854195\n",
       "min        6.522674\n",
       "25%       69.097086\n",
       "50%      133.355712\n",
       "75%      170.580972\n",
       "max      207.011551\n",
       "Name: days_since_unban, dtype: float64"
      ]
     },
     "execution_count": 37,
     "metadata": {},
     "output_type": "execute_result"
    },
    {
     "data": {
      "image/png": "[encoded data removed]",
      "text/plain": [
       "<matplotlib.figure.Figure at 0x7fbdf6c2ea20>"
      ]
     },
     "metadata": {},
     "output_type": "display_data"
    }
   ],
   "source": [
    "ban_df.days_since_unban.hist(bins=102)\n",
    "ban_df.days_since_unban.describe()"
   ]
  },
  {
   "cell_type": "code",
   "execution_count": 38,
   "metadata": {
    "collapsed": false
   },
   "outputs": [
    {
     "data": {
      "text/plain": [
       "8.10851273148148"
      ]
     },
     "execution_count": 38,
     "metadata": {},
     "output_type": "execute_result"
    },
    {
     "data": {
      "image/png": "[encoded data removed]",
      "text/plain": [
       "<matplotlib.figure.Figure at 0x7fbdf6c331d0>"
      ]
     },
     "metadata": {},
     "output_type": "display_data"
    }
   ],
   "source": [
    "ban_df.days_before_unban.hist(bins=102)\n",
    "ban_df.days_before_unban.median()"
   ]
  },
  {
   "cell_type": "code",
   "execution_count": 39,
   "metadata": {
    "collapsed": false
   },
   "outputs": [
    {
     "data": {
      "text/plain": [
       "count     1619\n",
       "unique       2\n",
       "top       True\n",
       "freq      1341\n",
       "Name: current_ban_status, dtype: object"
      ]
     },
     "execution_count": 39,
     "metadata": {},
     "output_type": "execute_result"
    }
   ],
   "source": [
    "ban_df.current_ban_status.describe()"
   ]
  },
  {
   "cell_type": "code",
   "execution_count": null,
   "metadata": {
    "collapsed": false
   },
   "outputs": [],
   "source": []
  },
  {
   "cell_type": "code",
   "execution_count": 40,
   "metadata": {
    "collapsed": false
   },
   "outputs": [],
   "source": [
    "#ban_df.boxplot(column=\"author.created\", by=\"current_ban_status\")"
   ]
  },
  {
   "cell_type": "markdown",
   "metadata": {},
   "source": [
    "### Initial Report to r/leagueoflegends"
   ]
  },
  {
   "cell_type": "markdown",
   "metadata": {},
   "source": [
    "Hi all,\n",
    "\n",
    "Before our conversation later today, here are some things I learned by analyzing the mod log.\n",
    "\n",
    "**Basic Summary Statistics About Bans & Unbans**\n",
    "\n",
    "Within the last 102 days on r/leagueoflegends, 1089 actions were taken to ban a user, and 208 actions were taken to unban a user. Among bans, that amounts to 10.7 users banned per day. It looks like you had a pretty large spike in bans in early October, with roughly 50 in one day (among those who are still banned), with the bans per day staying mostly within 5 to 10 in more recent months.\n",
    "\n",
    "I also looked at the accounts that received bans and unbans in the period. I'm still fetching data from the reddit API about basic statistics for these accounts.\n",
    "\n",
    "**Information About Unbanned Accounts**\n",
    "\n",
    "16% of banned accounts have been unbanned through your process, a total of 187 across the last 102 days. Among accounts that are unbanned, the median time before becoming unbanned is 8 days, although more than 10 accounts were unbanned more than a month after being initially banned."
   ]
  },
  {
   "cell_type": "markdown",
   "metadata": {
    "collapsed": true
   },
   "source": [
    "# Integrate with Snoonotes"
   ]
  },
  {
   "cell_type": "code",
   "execution_count": 41,
   "metadata": {
    "collapsed": true
   },
   "outputs": [],
   "source": [
    "import requests\n",
    "baseurl = \"https://snoonotes.com\"\n",
    "headers = {'User-agent': \"Mozilla/5.0 (Macintosh; Intel Mac OS X 10.10; rv:51.0) Gecko/20100101 Firefox/51.0\"}\n",
    "cookies = {\"ARRAffinity\":\"ef04bb6afe45d7abaef12256b52f384ceec2bbaf657c7041c3947d764faaffe9\",\n",
    "           \"snPrefs\":\"%7B%22wiki%22%3Afalse%2C%22read%22%3Afalse%7D\",\n",
    "           \"bog\":\"E03Bya0sXViPbWd1Qzmvf0Eau9pLpfCaNsV-vbYD_Npgc27JxtHDIdmCB6U2VhxcUnKNk12A_ETNiFOr2cnJcw01kpfhC9i7CHXIIJ2mdK-dBvj6q7XHfGJM93dT5ZrLyVcs6j8JZTdWNAAWsobyUcota0KtjqdPeDP23OWUYqgwbvy94V98BSRVY0CRQFmc7ULvFisOKbdGnG4AdXSHaEtSie85nHKX_H8w-a0MfRpgB4F4G_o3e3oneL7Y4foadP8jiP5yOPXynvQKm4k9ikfNMBhsr2v8F41ZnhT_st9t0vkjm_zEbaHkV1wPNrF6W-fIcuFM52iG2EZFKgPvb4kmtOe-P38lmYPx1YsSkHEIxKmJd0ZcYDyLLnwrqpN_vXyk1i67gESF3YD5GusbylJ_ItdeQ8xSZOc6R6IP31pu8ucKX_aVEpelScKtPSbFWPvYCQCZtVYQfeODj0o8ZJT8GC31qp9BclzmXlIjLrwqBokESGK11s9exbDdZamZO1_wynlnIsCObcQbzjoaNZsSe0re5VSkq-Wm6DG7Ofmp3JjP2lUqDbsZj6lmayyt7HBssDNVLV28QzPDCIghuNZkWhqyD2G0cPD5-kdjUpUFjxgzZ376Col1-a2GuDWR\"}\n"
   ]
  },
  {
   "cell_type": "markdown",
   "metadata": {},
   "source": [
    "### Load the List of Usernames with Notes"
   ]
  },
  {
   "cell_type": "code",
   "execution_count": 42,
   "metadata": {
    "collapsed": false
   },
   "outputs": [],
   "source": [
    "#url = 'https://snoonotes.com/api/Account/GetCurrentUser'\n",
    "url = 'https://snoonotes.com/api/Note/GetUsernamesWithNotes'\n",
    "rq = requests.get(url,\n",
    "                headers=headers,\n",
    "                cookies=cookies)\n",
    "usernames_with_notes = json.loads(rq.text)"
   ]
  },
  {
   "cell_type": "markdown",
   "metadata": {},
   "source": [
    "### Fetch Notes for Usernames"
   ]
  },
  {
   "cell_type": "code",
   "execution_count": 43,
   "metadata": {
    "collapsed": false
   },
   "outputs": [],
   "source": [
    "#usernames_with_notes[0:100]\n",
    "#paged set of all user notes: 11592\n",
    "#non-paged set of all user notes\n",
    "#len(usernames_with_notes)\n",
    "#len(all_user_notes)"
   ]
  },
  {
   "cell_type": "code",
   "execution_count": 44,
   "metadata": {
    "collapsed": false
   },
   "outputs": [
    {
     "name": "stdout",
     "output_type": "stream",
     "text": [
      "1000...\n",
      "2000...\n",
      "3000...\n",
      "4000...\n",
      "5000...\n",
      "6000...\n",
      "7000...\n",
      "8000...\n",
      "9000...\n",
      "10000...\n",
      "11000...\n",
      "12000...\n"
     ]
    }
   ],
   "source": [
    "all_user_notes = {}\n",
    "\n",
    "url = baseurl + \"/api/Note/GetNotes\"\n",
    "headers = {'User-agent': \"Mozilla/5.0 (Macintosh; Intel Mac OS X 10.10; rv:51.0) Gecko/20100101 Firefox/51.0\",\n",
    "           'content-type':'application/json'}\n",
    "offset = 0\n",
    "# payload = usernames_with_notes\n",
    "# n = requests.post(url, cookies=cookies, headers=headers, json=payload)\n",
    "# if(n.status_code == 200):\n",
    "#     user_notes = json.loads(n.text)\n",
    "#     all_user_notes.update(user_notes)\n",
    "\n",
    "while(offset < len(usernames_with_notes)):\n",
    "    payload = usernames_with_notes[0+offset:1000 + offset]\n",
    "    n = requests.post(url, cookies=cookies, headers=headers, json=payload)\n",
    "    if(n.status_code == 200):\n",
    "        user_notes = json.loads(n.text)\n",
    "        all_user_notes.update(user_notes)\n",
    "        offset +=1000 \n",
    "        print(\"{0}...\".format(offset))\n",
    "    else:\n",
    "        print(\"Difficulty with request. Code {0}\".format(n.status_code))"
   ]
  },
  {
   "cell_type": "code",
   "execution_count": 45,
   "metadata": {
    "collapsed": false
   },
   "outputs": [],
   "source": [
    "#len(all_user_notes)"
   ]
  },
  {
   "cell_type": "code",
   "execution_count": 46,
   "metadata": {
    "collapsed": false
   },
   "outputs": [
    {
     "data": {
      "text/plain": [
       "[{'Message': 'homophobic insults',\n",
       "  'NoteID': 67826,\n",
       "  'NoteTypeID': 509,\n",
       "  'ParentSubreddit': None,\n",
       "  'SubName': 'leagueoflegends',\n",
       "  'Submitter': 'daswef',\n",
       "  'Timestamp': '2016-07-18T21:54:44Z',\n",
       "  'Url': 'https://reddit.com/r/leagueoflegends/comments/4tefi7/-/d5hchwt/'}]"
      ]
     },
     "execution_count": 46,
     "metadata": {},
     "output_type": "execute_result"
    }
   ],
   "source": [
    "list(all_user_notes.values())[0]"
   ]
  },
  {
   "cell_type": "markdown",
   "metadata": {},
   "source": [
    "### Fetch usernotes schema"
   ]
  },
  {
   "cell_type": "code",
   "execution_count": 47,
   "metadata": {
    "collapsed": true
   },
   "outputs": [],
   "source": [
    "url = baseurl + \"/restapi/Subreddit\"\n",
    "s = requests.get(url, cookies=cookies, headers=headers)\n",
    "if(s.status_code == 200):\n",
    "    schemas = json.loads(s.text)\n",
    "else:\n",
    "    print(\"Error querying data\")"
   ]
  },
  {
   "cell_type": "code",
   "execution_count": 48,
   "metadata": {
    "collapsed": false
   },
   "outputs": [],
   "source": [
    "#schemas[1]"
   ]
  },
  {
   "cell_type": "markdown",
   "metadata": {},
   "source": [
    "### Create a Subset of Subreddit's Notes, with Schema Included"
   ]
  },
  {
   "cell_type": "code",
   "execution_count": 49,
   "metadata": {
    "collapsed": false
   },
   "outputs": [],
   "source": [
    "sub_name=\"leagueoflegends\"\n",
    "sub_schema = None\n",
    "for schema in schemas:\n",
    "    if(schema['SubName']==sub_name):\n",
    "        sub_schema = schema\n",
    "\n",
    "sub_schema_codes = {}\n",
    "for note_type in sub_schema['Settings']['NoteTypes']:\n",
    "    sub_schema_codes[note_type['NoteTypeID']] = note_type\n",
    "\n",
    "sub_user_notes = defaultdict(list)\n",
    "for username, notes in all_user_notes.items():\n",
    "    this_user_notes = []\n",
    "    user_sub_notes = [x for x in notes if x['SubName'] == sub_name]\n",
    "    for note in user_sub_notes:\n",
    "        note['NoteTypeName'] = sub_schema_codes[note['NoteTypeID']]['DisplayName']\n",
    "    sub_user_notes[username] = user_sub_notes"
   ]
  },
  {
   "cell_type": "code",
   "execution_count": 50,
   "metadata": {
    "collapsed": false
   },
   "outputs": [],
   "source": [
    "#list(all_user_notes.keys())[0:30]"
   ]
  },
  {
   "cell_type": "code",
   "execution_count": 51,
   "metadata": {
    "collapsed": false
   },
   "outputs": [
    {
     "name": "stdout",
     "output_type": "stream",
     "text": [
      "Earliest Note: 2015-05-12 12:23:23+00:00\n",
      "Note Type Breakdown:\n"
     ]
    },
    {
     "data": {
      "text/plain": [
       "Counter({'Abuse Warning': 4817,\n",
       "         'Account Watch': 24,\n",
       "         'Ban': 2776,\n",
       "         'Bot Ban': 54,\n",
       "         'Del/res warn': 360,\n",
       "         'Good Contributor': 69,\n",
       "         'None': 649,\n",
       "         'Perma Ban': 1452,\n",
       "         'Spam Warning': 2329,\n",
       "         'Spam Watch': 3316})"
      ]
     },
     "execution_count": 51,
     "metadata": {},
     "output_type": "execute_result"
    }
   ],
   "source": [
    "all_notes_for_all = []\n",
    "for notes in sub_user_notes.values():\n",
    "    all_notes_for_all += notes\n",
    "print(\"Earliest Note: {0}\".format(min([parser.parse(x['Timestamp']) for x in all_notes_for_all])))\n",
    "print(\"Note Type Breakdown:\")\n",
    "Counter([x['NoteTypeName'] for x in all_notes_for_all])"
   ]
  },
  {
   "cell_type": "code",
   "execution_count": 52,
   "metadata": {
    "collapsed": false
   },
   "outputs": [
    {
     "data": {
      "text/plain": [
       "11830"
      ]
     },
     "execution_count": 52,
     "metadata": {},
     "output_type": "execute_result"
    }
   ],
   "source": [
    "len(sub_user_notes.values())"
   ]
  },
  {
   "cell_type": "code",
   "execution_count": 53,
   "metadata": {
    "collapsed": false
   },
   "outputs": [
    {
     "data": {
      "text/plain": [
       "[{'Message': 'ins',\n",
       "  'NoteID': 68658,\n",
       "  'NoteTypeID': 510,\n",
       "  'NoteTypeName': 'Ban',\n",
       "  'ParentSubreddit': None,\n",
       "  'SubName': 'leagueoflegends',\n",
       "  'Submitter': 'SimplifyEUW',\n",
       "  'Timestamp': '2016-10-23T05:34:40Z',\n",
       "  'Url': 'https://reddit.com/r/leagueoflegends/comments/58w6y4/-/d93y0ml/'},\n",
       " {'Message': 'Racist',\n",
       "  'NoteID': 68659,\n",
       "  'NoteTypeID': 509,\n",
       "  'NoteTypeName': 'Abuse Warning',\n",
       "  'ParentSubreddit': None,\n",
       "  'SubName': 'leagueoflegends',\n",
       "  'Submitter': 'ReganDryke',\n",
       "  'Timestamp': '2016-08-23T23:25:38Z',\n",
       "  'Url': 'https://reddit.com/r/leagueoflegends/comments/4z7vbm/-/d6twj8g/'}]"
      ]
     },
     "execution_count": 53,
     "metadata": {},
     "output_type": "execute_result"
    }
   ],
   "source": [
    "list(sub_user_notes.values())[4]"
   ]
  },
  {
   "cell_type": "markdown",
   "metadata": {},
   "source": [
    "# Make a List of a Single User's Arc of Moderation Experiences\n",
    "* approvecomment\n",
    "* approvelink\n",
    "* banuser\n",
    "* muteuser (info here: https://www.reddit.com/r/modnews/comments/3l791w/moderators_modmail_muting/ )\n",
    "* removecomment\n",
    "* removelink\n",
    "* unbanuser"
   ]
  },
  {
   "cell_type": "code",
   "execution_count": 54,
   "metadata": {
    "collapsed": false
   },
   "outputs": [],
   "source": [
    "## this will be a per-person list of \n",
    "def experience():\n",
    "    return {\"timestamp\":None,\n",
    "            \"source\":None, # snoonotes or mod_actions \n",
    "            \"type\": None, # note['NoteTypeName'] or action['action']\n",
    "            \"submitter\": None,\n",
    "            \"data\": None}\n",
    "\n",
    "def user_mod_history():\n",
    "    return {\n",
    "        \"experiences\":[], #list of experience dicts\n",
    "        \"metadata\":{\"snoonotes\":0,\n",
    "                    \"mod_actions\":0,\n",
    "                    \"notable_actions\":0,\n",
    "                    \"earliest_experience\":None}\n",
    "    }\n",
    "\n",
    "user_moderation_experiences = defaultdict(user_mod_history)\n",
    "\n",
    "## STEP ONE: LOAD THE MOD ACTIONS\n",
    "## (include all users that appear in mod actions)\n",
    "actions_of_note = ['banuser', 'unbanuser','Abuse Warning','Ban', 'Perma Ban','Bot Ban','Spam Warning']\n",
    "\n",
    "for action in actions:\n",
    "    if action['action'] in ['approvecomment', 'approvelink', \n",
    "                            'banuser', 'muteuser', 'removecomment', \n",
    "                            'removelink', 'unbanuser']:\n",
    "        \n",
    "        target_author = action['target_author'].lower()\n",
    "        \n",
    "        action_info = experience()\n",
    "        action_info['timestamp'] = utc.localize(action['created_utc'])\n",
    "        action_info['type'] = action['action']\n",
    "        action_info['source'] = \"mod_actions\"\n",
    "        action_info['submitter'] = action['mod']\n",
    "        action_info['data'] = action\n",
    "        user_moderation_experiences[target_author]['experiences'].append(\n",
    "            action_info\n",
    "        )\n",
    "        if(action_info['type'] in actions_of_note):\n",
    "           user_moderation_experiences[target_author]['metadata']['notable_actions'] += 1 \n",
    "        user_moderation_experiences[target_author]['metadata']['mod_actions'] += 1\n",
    "        earliest_experience = user_moderation_experiences[\n",
    "            target_author]['metadata']['earliest_experience'] \n",
    "        if(earliest_experience is None or earliest_experience > action_info['timestamp']):\n",
    "            user_moderation_experiences[\n",
    "                target_author]['metadata']['earliest_experience'] = action_info['timestamp']\n",
    "        \n",
    "        \n",
    "## STEP TWO: LOAD THE NOTES ACTIONS\n",
    "## (include all users that appear in notes)\n",
    "for username, notes in sub_user_notes.items():\n",
    "    username = username.lower()\n",
    "    for note in notes:\n",
    "        action_info = experience()\n",
    "        action_info['timestamp'] = parser.parse(note['Timestamp'])\n",
    "        action_info['type'] = note['NoteTypeName']\n",
    "        action_info['source'] = \"SnooNotes\"\n",
    "        action_info['submitter'] = note['Submitter']\n",
    "        action_info['data'] = note\n",
    "        user_moderation_experiences[username]['experiences'].append(\n",
    "            action_info\n",
    "        )\n",
    "        if(action_info['type'] in actions_of_note):\n",
    "           user_moderation_experiences[username]['metadata']['notable_actions'] += 1 \n",
    "        user_moderation_experiences[username]['metadata']['snoonotes'] += 1\n",
    "\n",
    "        earliest_experience = user_moderation_experiences[\n",
    "            username]['metadata']['earliest_experience'] \n",
    "        if(earliest_experience is None or earliest_experience > action_info['timestamp']):\n",
    "            user_moderation_experiences[\n",
    "                username]['metadata']['earliest_experience'] = action_info['timestamp']        \n"
   ]
  },
  {
   "cell_type": "markdown",
   "metadata": {},
   "source": [
    "### Create a Timeline for A User's Moderation Arc"
   ]
  },
  {
   "cell_type": "code",
   "execution_count": 55,
   "metadata": {
    "collapsed": false
   },
   "outputs": [],
   "source": [
    "all_types = ['banuser','unbanuser','removecomment','approvecomment', \n",
    "             'removelink','approvelink']\n",
    "for user in user_moderation_experiences.values():\n",
    "    for experience in user['experiences']:\n",
    "        if experience['type'] not in all_types:\n",
    "            all_types.append(experience['type'])"
   ]
  },
  {
   "cell_type": "code",
   "execution_count": 56,
   "metadata": {
    "collapsed": false,
    "scrolled": false
   },
   "outputs": [
    {
     "data": {
      "image/png": "[encoded data removed]",
      "text/plain": [
       "<matplotlib.figure.Figure at 0x7fbdf4338710>"
      ]
     },
     "metadata": {},
     "output_type": "display_data"
    },
    {
     "data": {
      "image/png": "[encoded data removed]",
      "text/plain": [
       "<matplotlib.figure.Figure at 0x7fbdef9a2860>"
      ]
     },
     "metadata": {},
     "output_type": "display_data"
    },
    {
     "data": {
      "image/png": "[encoded data removed]",
      "text/plain": [
       "<matplotlib.figure.Figure at 0x7fbdef98f8d0>"
      ]
     },
     "metadata": {},
     "output_type": "display_data"
    },
    {
     "data": {
      "image/png": "[encoded data removed]",
      "text/plain": [
       "<matplotlib.figure.Figure at 0x7fbdef8eedd8>"
      ]
     },
     "metadata": {},
     "output_type": "display_data"
    },
    {
     "data": {
      "image/png": "[encoded data removed]",
      "text/plain": [
       "<matplotlib.figure.Figure at 0x7fbdef8cb3c8>"
      ]
     },
     "metadata": {},
     "output_type": "display_data"
    },
    {
     "data": {
      "image/png": "[encoded data removed]",
      "text/plain": [
       "<matplotlib.figure.Figure at 0x7fbdef829898>"
      ]
     },
     "metadata": {},
     "output_type": "display_data"
    },
    {
     "data": {
      "image/png": "[encoded data removed]",
      "text/plain": [
       "<matplotlib.figure.Figure at 0x7fbdef7a60b8>"
      ]
     },
     "metadata": {},
     "output_type": "display_data"
    },
    {
     "data": {
      "image/png": "[encoded data removed]",
      "text/plain": [
       "<matplotlib.figure.Figure at 0x7fbdef71edd8>"
      ]
     },
     "metadata": {},
     "output_type": "display_data"
    },
    {
     "data": {
      "image/png": "[encoded data removed]",
      "text/plain": [
       "<matplotlib.figure.Figure at 0x7fbdef69c5c0>"
      ]
     },
     "metadata": {},
     "output_type": "display_data"
    },
    {
     "data": {
      "image/png": "[encoded data removed]",
      "text/plain": [
       "<matplotlib.figure.Figure at 0x7fbdef6224a8>"
      ]
     },
     "metadata": {},
     "output_type": "display_data"
    }
   ],
   "source": [
    "earliest_modaction = min([utc.localize(x['created_utc']) for x in actions])\n",
    "for modlist in random.sample([x for x in user_moderation_experiences.values() \n",
    "                if(x['metadata']['notable_actions']>1 and \n",
    "                  x['metadata']['earliest_experience'] > earliest_modaction)], 10): \n",
    "    experiences = modlist['experiences']\n",
    "    min_date = min([x['timestamp'] for x in experiences])\n",
    "\n",
    "    days = []\n",
    "    indices = []\n",
    "    for experience in experiences:\n",
    "        diff = experience['timestamp'] - min_date\n",
    "        days_since = diff.days + diff.seconds / (60*60*24)\n",
    "        days.append(days_since)\n",
    "        type_index = all_types.index(experience['type'])\n",
    "        indices.append(type_index)\n",
    "    plt.figure(figsize=(12,3))\n",
    "    plt.scatter(days, indices)\n",
    "    plt.yticks(list(range(0,len(all_types))), all_types)\n",
    "    plt.show()"
   ]
  },
  {
   "cell_type": "markdown",
   "metadata": {
    "collapsed": false
   },
   "source": [
    "## Time To Create Dataframes for Testing Hypotheses\n",
    "* Per-person hypotheses\n",
    "    * after a person is reinstated, what is the chance they will contribute again in the next week?\n",
    "* Per-comment hypotheses\n",
    "    * among people who are reinstated, what is the rate t which their comments are allowed?"
   ]
  },
  {
   "cell_type": "code",
   "execution_count": 66,
   "metadata": {
    "collapsed": false
   },
   "outputs": [
    {
     "name": "stdout",
     "output_type": "stream",
     "text": [
      "Final Date: 2017-03-30 18:48:31\n",
      "N Weeks Before Final Date: 2017-03-02 18:48:31\n"
     ]
    }
   ],
   "source": [
    "final_date = max([x['created_utc'] for x in actions])\n",
    "cutoff_period_days = 28\n",
    "period_before_final_date = final_date - datetime.timedelta(days=cutoff_period_days)\n",
    "print(\"Final Date: {0}\".format(final_date))\n",
    "print(\"N Weeks Before Final Date: {0}\".format(period_before_final_date))"
   ]
  },
  {
   "cell_type": "markdown",
   "metadata": {
    "collapsed": true
   },
   "source": [
    "### Create a Subset of Users That Have Been Unbanned\n",
    "Limiting the dataset to users who were unbanned before the cutoff period"
   ]
  },
  {
   "cell_type": "code",
   "execution_count": 67,
   "metadata": {
    "collapsed": false
   },
   "outputs": [
    {
     "name": "stdout",
     "output_type": "stream",
     "text": [
      ".................................................................................................................................................................................................................................................................................................................Identified 305 users who were unbanned before the cutoff\n"
     ]
    }
   ],
   "source": [
    "## TODO: NEED TO UPDATE THIS DATASET TO MAKE SURE\n",
    "## IT INCLUDES ALL BANNED USERS, NOT JUST UNBANNED ONES\n",
    "## AND THAT IT ALSO HAS INFORMATION ON WHETHER A NOTE WAS STORED\n",
    "\n",
    "unbanned_users = {}\n",
    "all_experience_types = []\n",
    "for username, user_object in user_moderation_experiences.items():\n",
    "    for experience in user_object['experiences']:\n",
    "        all_experience_types.append(experience['type'])\n",
    "        if(experience['type'] == \"unbanuser\" and experience['timestamp'] <=utc.localize(period_before_final_date)):\n",
    "            sys.stdout.write(\".\")\n",
    "            sys.stdout.flush()\n",
    "            user_object['metadata']['unban_timestamp'] = experience['timestamp']\n",
    "            unbanned_users[username] = user_object\n",
    "            break\n",
    "print(\"Identified {0} users who were unbanned before the cutoff\".format(len(unbanned_users)))"
   ]
  },
  {
   "cell_type": "code",
   "execution_count": 68,
   "metadata": {
    "collapsed": false
   },
   "outputs": [],
   "source": [
    "#period_before_final_date"
   ]
  },
  {
   "cell_type": "markdown",
   "metadata": {},
   "source": [
    "### Create  A Subset of Users That Have been Banned"
   ]
  },
  {
   "cell_type": "code",
   "execution_count": 69,
   "metadata": {
    "collapsed": false
   },
   "outputs": [
    {
     "name": "stdout",
     "output_type": "stream",
     "text": [
      "............................................................................................................................................................................................................................................................................................................................................................................................................................................................................................................................................................................................................................................................................................................................................................................................................................................................................................................................................................................................................................................................................................................................................................................................................................................................................................................................................................................................................................................................................................Identified 1436 users who were banned before the cutoff\n"
     ]
    }
   ],
   "source": [
    "banned_users = {}\n",
    "all_experience_types = []\n",
    "for username, user_object in user_moderation_experiences.items():\n",
    "    for experience in user_object['experiences']:\n",
    "        all_experience_types.append(experience['type'])\n",
    "        if(experience['type'] == \"banuser\" and experience['timestamp'] <=utc.localize(period_before_final_date)):\n",
    "            sys.stdout.write(\".\")\n",
    "            sys.stdout.flush()\n",
    "            user_object['metadata']['unban_timestamp'] = experience['timestamp']\n",
    "            banned_users[username] = user_object\n",
    "            break\n",
    "print(\"Identified {0} users who were banned before the cutoff\".format(len(banned_users)))"
   ]
  },
  {
   "cell_type": "markdown",
   "metadata": {},
   "source": [
    "### Now View Trajectories for Unbanned Users"
   ]
  },
  {
   "cell_type": "code",
   "execution_count": 70,
   "metadata": {
    "collapsed": false
   },
   "outputs": [],
   "source": [
    "#list(user_moderation_experiences.values())[0]"
   ]
  },
  {
   "cell_type": "code",
   "execution_count": 71,
   "metadata": {
    "collapsed": false
   },
   "outputs": [
    {
     "data": {
      "image/png": "[encoded data removed]",
      "text/plain": [
       "<matplotlib.figure.Figure at 0x7fbdef241940>"
      ]
     },
     "metadata": {},
     "output_type": "display_data"
    },
    {
     "data": {
      "image/png": "[encoded data removed]",
      "text/plain": [
       "<matplotlib.figure.Figure at 0x7fbdeda07ef0>"
      ]
     },
     "metadata": {},
     "output_type": "display_data"
    },
    {
     "data": {
      "image/png": "[encoded data removed]",
      "text/plain": [
       "<matplotlib.figure.Figure at 0x7fbded981128>"
      ]
     },
     "metadata": {},
     "output_type": "display_data"
    },
    {
     "data": {
      "image/png": "[encoded data removed]",
      "text/plain": [
       "<matplotlib.figure.Figure at 0x7fbded90eef0>"
      ]
     },
     "metadata": {},
     "output_type": "display_data"
    },
    {
     "data": {
      "image/png": "[encoded data removed]",
      "text/plain": [
       "<matplotlib.figure.Figure at 0x7fbded87a5c0>"
      ]
     },
     "metadata": {},
     "output_type": "display_data"
    }
   ],
   "source": [
    "earliest_modaction = min([utc.localize(x['created_utc']) for x in actions])\n",
    "for modlist in random.sample([x for x in [y[1] for y in user_moderation_experiences.items() if \n",
    "                                          y[0] in unbanned_users.keys()] \n",
    "                if(x['metadata']['notable_actions']>1 and \n",
    "                  x['metadata']['earliest_experience'] > earliest_modaction)], 5): \n",
    "    experiences = modlist['experiences']\n",
    "    min_date = min([x['timestamp'] for x in experiences])\n",
    "\n",
    "    days = []\n",
    "    indices = []\n",
    "    for experience in experiences:\n",
    "        diff = experience['timestamp'] - min_date\n",
    "        days_since = diff.days + diff.seconds / (60*60*24)\n",
    "        days.append(days_since)\n",
    "        type_index = all_types.index(experience['type'])\n",
    "        indices.append(type_index)\n",
    "    plt.figure(figsize=(12,3))\n",
    "    plt.scatter(days, indices)\n",
    "    plt.yticks(list(range(0,len(all_types))), all_types)\n",
    "    plt.show()"
   ]
  },
  {
   "cell_type": "markdown",
   "metadata": {},
   "source": [
    "### Create a Comments Dataset for Users That Were Banned"
   ]
  },
  {
   "cell_type": "code",
   "execution_count": 72,
   "metadata": {
    "collapsed": false
   },
   "outputs": [],
   "source": [
    "user_ids = \",\".join(list([\"'\"+str(x)+\"'\" for x in banned_users.keys()]))\n",
    "#user_ids"
   ]
  },
  {
   "cell_type": "code",
   "execution_count": 73,
   "metadata": {
    "collapsed": false
   },
   "outputs": [
    {
     "name": "stdout",
     "output_type": "stream",
     "text": [
      "............211907 Total moderation actions\n",
      "161894 Comments with moderation actions\n",
      "45641 Comments with more than one mod action\n",
      "\n",
      "Summary of Comment Visibility:\n",
      "Counter({True: 58151, False: 3547})\n",
      "Took 5255 actions to set a comment to removed\n",
      "Took 2314 actions to set a comment to approved\n"
     ]
    }
   ],
   "source": [
    "all_comments = []\n",
    "count = 0\n",
    "\n",
    "domains = set()\n",
    "\n",
    "querytext = \"\"\"\n",
    "SELECT * FROM comments \n",
    "    WHERE subreddit_id='2rfxx' AND\n",
    "    user_id IN ({0});\n",
    "\"\"\".format(user_ids)\n",
    "\n",
    "for row in db_engine.execute(text(querytext)):\n",
    "# for row in db_engine.execute(text(\"select * from comments WHERE post_id IN (select posts.id from experiment_things JOIN posts on experiment_things.id = posts.id WHERE experiment_id=8 AND object_type=1);\")):\n",
    "    comment = {}\n",
    "    for key in row.keys():\n",
    "        comment[key] = row[key]\n",
    "    comment_data = json.loads(comment['comment_data'])\n",
    "    for key in comment_data.keys():\n",
    "        comment[key] = comment_data[key]\n",
    "    del comment['comment_data']\n",
    "    \n",
    "    comment['created'] = utc.localize(datetime.datetime.utcfromtimestamp(comment['created_utc']))\n",
    "    comment['body.length'] = len(comment['body'])\n",
    "    comment['link_count'] = 0  #comment['body'].count(\"http\")\n",
    "        \n",
    "#    comment['body'] = None\n",
    "    comment['body_html'] = None\n",
    "    comment['visible'] = True\n",
    "    if(comment['body'] == \"[removed]\"):\n",
    "        comment['visible'] = False\n",
    "    \n",
    "    all_comments.append(comment)\n",
    "    count += 1\n",
    "    if(count % 5000 == 0):\n",
    "        sys.stdout.write(\".\")\n",
    "        sys.stdout.flush()\n",
    "\n",
    "#############################################\n",
    "#### NOW ADD MODERATION ACTIONS TO COMMENTS\n",
    "#############################################\n",
    "comments_with_mod_actions = set()\n",
    "mod_comment_actions = defaultdict(list)\n",
    "for action in actions:\n",
    "     if action['action'] == \"removecomment\" or action['action'] == \"approvecomment\":\n",
    "            comment_id = action['target_fullname'].replace(\"t1_\", \"\")\n",
    "            mod_comment_actions[comment_id].append(action)\n",
    "            comments_with_mod_actions.add(action['target_fullname'])\n",
    "\n",
    "print(\"{0} Total moderation actions\".format(sum([len(x) for x in mod_comment_actions.values()])))\n",
    "print(\"{0} Comments with moderation actions\".format(len(mod_comment_actions)))\n",
    "print(\"{0} Comments with more than one mod action\".format(len([x for x in mod_comment_actions.values() if len(x)>1])))\n",
    "print(\"\")\n",
    "\n",
    "removed_count = 0\n",
    "approved_count = 0\n",
    "for comment in all_comments:\n",
    "    if('later_deleted' not in comment.keys()):\n",
    "        comment['later_deleted'] = False\n",
    "        if(comment['author'] ==\"[deleted]\"):\n",
    "            comment['later_deleted'] = True\n",
    "    if comment['id'] in mod_comment_actions.keys():\n",
    "        for action in mod_comment_actions[comment['id']]:\n",
    "            ## many authors are later deleted, so try to \n",
    "            ## add in the author information here, since\n",
    "            ## the moderation log retains the author information\n",
    "            comment['author']  = action['target_author']\n",
    "            if action['action'] ==\"removecomment\":\n",
    "                removed_count += 1\n",
    "                comment['visible'] = False\n",
    "            elif action['action'] == \"approvecomment\":\n",
    "                approved_count += 1\n",
    "                comment['visible']  = True\n",
    "    if('body' in comment.keys()):\n",
    "        del comment['body']\n",
    "    \n",
    "print(\"Summary of Comment Visibility:\")\n",
    "print(Counter([x['visible'] for x in all_comments]))\n",
    "print(\"Took {0} actions to set a comment to removed\".format(removed_count))\n",
    "print(\"Took {0} actions to set a comment to approved\".format(approved_count))"
   ]
  },
  {
   "cell_type": "markdown",
   "metadata": {},
   "source": [
    "### Now Create an After Banned Dataset of Comment Experiences"
   ]
  },
  {
   "cell_type": "code",
   "execution_count": 74,
   "metadata": {
    "collapsed": false
   },
   "outputs": [],
   "source": [
    "banned_experiences = copy.copy(banned_users)\n",
    "for comment in all_comments:\n",
    "    comment_data = {\"data\":comment,\n",
    "                    \"source\":\"comments\",\n",
    "                    \"submitter\":None,\n",
    "                    \"timestamp\":comment['created'],\n",
    "                    \"type\":\"comment\"}\n",
    "    author = comment['author'].lower()\n",
    "    if(author in banned_experiences.keys()):\n",
    "        banned_experiences[author]['experiences'].append(comment_data)\n",
    "    else:\n",
    "        sys.sydout.write(\"x\")\n",
    "        sys.stdout.flush()"
   ]
  },
  {
   "cell_type": "code",
   "execution_count": null,
   "metadata": {
    "collapsed": false
   },
   "outputs": [],
   "source": []
  },
  {
   "cell_type": "markdown",
   "metadata": {},
   "source": [
    "### Now Create a Posts Dataset of Those Who Were Unbanned"
   ]
  },
  {
   "cell_type": "code",
   "execution_count": 75,
   "metadata": {
    "collapsed": false
   },
   "outputs": [
    {
     "name": "stdout",
     "output_type": "stream",
     "text": [
      "151480 Total moderation actions\n",
      "122889 Submissions with moderation actions\n",
      "17783 Submissions with more than one mod action\n",
      "\n",
      "Summary of Submission Visibility:\n",
      "Counter({True: 723, False: 172})\n",
      "Took 185 actions to set a Submission to removed\n",
      "Took 158 actions to set a Submission to approved\n"
     ]
    }
   ],
   "source": [
    "all_submissions = []\n",
    "count = 0\n",
    "\n",
    "domains = set()\n",
    "\n",
    "querytext = \"\"\"\n",
    "SELECT * FROM posts \n",
    "    WHERE subreddit_id='2rfxx';\n",
    "\"\"\"\n",
    "\n",
    "for row in db_engine.execute(text(querytext)):\n",
    "    submission = {}\n",
    "    for key in row.keys():\n",
    "        submission[key] = row[key]\n",
    "    submission_data = json.loads(submission['post_data'])\n",
    "    for key in submission_data.keys():\n",
    "        submission[key] = submission_data[key]\n",
    "    del submission['post_data']\n",
    "    \n",
    "    if(submission['author'] not in user_ids):\n",
    "        continue\n",
    "    \n",
    "    submission['created'] = utc.localize(datetime.datetime.utcfromtimestamp(submission['created_utc']))\n",
    "    submission['body.length'] = len(submission['selftext'])\n",
    "\n",
    "    submission['selftext_html'] = None\n",
    "    submission['visible'] = True\n",
    "    if(submission['selftext'] == \"[removed]\"):\n",
    "        submission['visible'] = False\n",
    "    \n",
    "    all_submissions.append(submission)\n",
    "    count += 1\n",
    "    if(count % 5000 == 0):\n",
    "        sys.stdout.write(\".\")\n",
    "        sys.stdout.flush()\n",
    "\n",
    "#############################################\n",
    "#### NOW ADD MODERATION ACTIONS TO SUBMISSIONS\n",
    "#############################################\n",
    "submissions_with_mod_actions = set()\n",
    "mod_submission_actions = defaultdict(list)\n",
    "for action in actions:\n",
    "     if action['action'] == \"removelink\" or action['action'] == \"approvelink\":\n",
    "            submission_id = action['target_fullname'].replace(\"t3_\", \"\")\n",
    "            mod_submission_actions[submission_id].append(action)\n",
    "            submissions_with_mod_actions.add(action['target_fullname'])\n",
    "\n",
    "print(\"{0} Total moderation actions\".format(sum([len(x) for x in mod_submission_actions.values()])))\n",
    "print(\"{0} Submissions with moderation actions\".format(len(mod_submission_actions)))\n",
    "print(\"{0} Submissions with more than one mod action\".format(len([x for x in mod_submission_actions.values() if len(x)>1])))\n",
    "print(\"\")\n",
    "\n",
    "removed_count = 0\n",
    "approved_count = 0\n",
    "for submission in all_submissions:\n",
    "    if('later_deleted' not in submission.keys()):\n",
    "        submission['later_deleted'] = False\n",
    "        if(submission['author'] ==\"[deleted]\"):\n",
    "            submission['later_deleted'] = True\n",
    "    if submission['id'] in mod_submission_actions.keys():\n",
    "        for action in mod_submission_actions[submission['id']]:\n",
    "            ## many authors are later deleted, so try to \n",
    "            ## add in the author information here, since\n",
    "            ## the moderation log retains the author information\n",
    "            submission['author']  = action['target_author']\n",
    "            if action['action'] ==\"removelink\":\n",
    "                removed_count += 1\n",
    "                submission['visible'] = False\n",
    "            elif action['action'] == \"approvelink\":\n",
    "                approved_count += 1\n",
    "                submission['visible']  = True\n",
    "    if('selftext' in submission.keys()):\n",
    "        del submission['selftext']\n",
    "        del submission['selftext_html']\n",
    "    \n",
    "print(\"Summary of Submission Visibility:\")\n",
    "print(Counter([x['visible'] for x in all_submissions]))\n",
    "print(\"Took {0} actions to set a Submission to removed\".format(removed_count))\n",
    "print(\"Took {0} actions to set a Submission to approved\".format(approved_count))"
   ]
  },
  {
   "cell_type": "markdown",
   "metadata": {},
   "source": [
    "### Add Posts (Submissions) To Experience List for Banned Users"
   ]
  },
  {
   "cell_type": "code",
   "execution_count": 76,
   "metadata": {
    "collapsed": false
   },
   "outputs": [
    {
     "name": "stdout",
     "output_type": "stream",
     "text": [
      "xxxxxxxxxxxxxxxxxxxxxxxxxxxxxxxxxxxxxxxxxxxxxxxxxxxxxxxxxxxxxxxxxxxxxxxxxxxxxxxxxxxxxxxxxxxxxxxxxxxxxxxxxxxxxxxxxxxxxxxxxxxxxxxxxxxxxxxxxxxxxxx"
     ]
    }
   ],
   "source": [
    "banned_experiences = copy.copy(banned_users)\n",
    "for submission in all_submissions:\n",
    "    submission_data = {\"data\":submission,\n",
    "                    \"source\":\"submissions\",\n",
    "                    \"submitter\":None,\n",
    "                    \"timestamp\":submission['created'],\n",
    "                    \"type\":\"submission\"}\n",
    "    author = submission['author'].lower()\n",
    "    if(author in banned_experiences.keys()):\n",
    "        banned_experiences[author]['experiences'].append(submission_data)\n",
    "    else:\n",
    "        sys.stdout.write(\"x\")\n",
    "        sys.stdout.flush()"
   ]
  },
  {
   "cell_type": "markdown",
   "metadata": {},
   "source": [
    "### Now Sort All Experiences"
   ]
  },
  {
   "cell_type": "code",
   "execution_count": 77,
   "metadata": {
    "collapsed": true
   },
   "outputs": [],
   "source": [
    "observe_experience_types=set()\n",
    "for account in banned_experiences.values():\n",
    "    account['experiences'] = sorted(account['experiences'], key=lambda x: x['timestamp'])\n",
    "    for experience in account['experiences']:\n",
    "        observe_experience_types.add(experience['type'])"
   ]
  },
  {
   "cell_type": "code",
   "execution_count": 78,
   "metadata": {
    "collapsed": false
   },
   "outputs": [],
   "source": [
    "#observe_experience_types"
   ]
  },
  {
   "cell_type": "markdown",
   "metadata": {},
   "source": [
    "### Now Create the Post-Unban Dataframe"
   ]
  },
  {
   "cell_type": "code",
   "execution_count": 87,
   "metadata": {
    "collapsed": false
   },
   "outputs": [],
   "source": [
    "# longitudinal dataframe\n",
    "# - timestamp\n",
    "# - type\n",
    "# - removed by moderators\n",
    "all_actions_after_unban = []\n",
    "\n",
    "# per-person dataset\n",
    "# only covers the following 3-week period\n",
    "post_ban_period = cutoff_period_days\n",
    "# - number of comments\n",
    "# - number of removed comments\n",
    "# - number of submissions\n",
    "# - number of removed submissions\n",
    "# - are they re-banned?\n",
    "person_actions_after_unban = [] \n",
    "for username, account in banned_experiences.items():\n",
    "    unbanned_timestamp = None\n",
    "    banned_timestamp = None\n",
    "    banned = False\n",
    "    unbanned = False\n",
    "    rebanned = False\n",
    "    rebanned_within_period = False\n",
    "    num_comments = 0\n",
    "    num_comments_removed = 0\n",
    "    num_submissions = 0\n",
    "    num_submissions_removed = 0\n",
    "    ever_received_ban_snoonote = False\n",
    "    ever_received_warn_snoonote = False\n",
    "    \n",
    "    \n",
    "    for experience in account['experiences']:\n",
    "        experience = copy.copy(experience)\n",
    "        experience['author']=username\n",
    "        ### IF THE ACCOUNT IS REBANNED, STOP\n",
    "        if(unbanned_timestamp is not None):\n",
    "            time_since_unbanned = experience['timestamp'] - unbanned_timestamp\n",
    "            days_since_unbanned = time_since_unbanned.days + 60*60*24 / time_since_unbanned.seconds\n",
    "            experience['days_since_unbanned'] = days_since_unbanned \n",
    "            \n",
    "            \n",
    "        if(unbanned and experience['type'] in [\"banuser\", 'permaban']):\n",
    "            rebanned = True\n",
    "            if(days_since_unbanned <= post_ban_period):\n",
    "                rebanned_within_period = True\n",
    "\n",
    "            break\n",
    "            \n",
    "        if(banned_timestamp is None and unbanned_timestamp is None):\n",
    "            if(experience['type'] ==\"banuser\"):\n",
    "                banned_timestamp = experience['timestamp']\n",
    "                banned = True\n",
    "         \n",
    "        if(unbanned != True or days_since_unbanned <= post_ban_period):\n",
    "            if(experience['type'] == 'Ban'):\n",
    "                ever_received_ban_snoonote = True\n",
    "        \n",
    "        if(unbanned_timestamp is None and experience['type']==\"unbanuser\"):\n",
    "            unbanned_timestamp = experience['timestamp']\n",
    "            unbanned = True\n",
    "            \n",
    "        if(unbanned and experience['type'] in ['comment', 'submission']):\n",
    "            #if it's within the specified period\n",
    "            experience['visible'] = experience['data']['visible']\n",
    "            if(days_since_unbanned <= post_ban_period):\n",
    "                if(experience['type'] ==\"comment\"):\n",
    "                    num_comments += 1\n",
    "                    if(experience['data']['visible'] == False):\n",
    "                        num_comments_removed += 1\n",
    "                elif(experience['type']==\"submission\"):\n",
    "                    num_submissions += 1\n",
    "                    if(experience['data']['visible'] == False):\n",
    "                        num_submissions_removed += 1\n",
    "            del experience['data']\n",
    "            all_actions_after_unban.append(experience)\n",
    "            \n",
    "        if(unbanned!=True and experience['type'] in ['Spam Warning', 'Abuse Warning']):\n",
    "            ever_received_warn_snoonote = True\n",
    "\n",
    "    person_actions_after_unban.append({\"account\":username,\n",
    "                                       \"banned_timestamp\":banned_timestamp,\n",
    "                                       \"unbanned_timestamp\":unbanned_timestamp,\n",
    "                                       \"num_comments\":num_comments,\n",
    "                                       \"num_comments_removed\":num_comments_removed,\n",
    "                                       \"num_submissions\":num_submissions,\n",
    "                                       \"num_submissions_removed\":num_submissions_removed,\n",
    "                                       \"banned\": banned,\n",
    "                                       \"unbanned\": unbanned,\n",
    "                                       \"rebanned\":rebanned,\n",
    "                                       \"rebanned_within_period\":rebanned_within_period,\n",
    "                                       \"ever_received_ban_snoonote\":ever_received_ban_snoonote,\n",
    "                                       \"ever_received_warn_snoonote\":ever_received_warn_snoonote\n",
    "    })\n",
    "            \n",
    "        "
   ]
  },
  {
   "cell_type": "code",
   "execution_count": 88,
   "metadata": {
    "collapsed": false
   },
   "outputs": [
    {
     "data": {
      "text/plain": [
       "{'account': 'imzarth',\n",
       " 'banned': True,\n",
       " 'banned_timestamp': datetime.datetime(2017, 1, 5, 12, 52, 24, tzinfo=<UTC>),\n",
       " 'ever_received_ban_snoonote': False,\n",
       " 'ever_received_warn_snoonote': True,\n",
       " 'num_comments': 18,\n",
       " 'num_comments_removed': 2,\n",
       " 'num_submissions': 0,\n",
       " 'num_submissions_removed': 0,\n",
       " 'rebanned': False,\n",
       " 'rebanned_within_period': False,\n",
       " 'unbanned': True,\n",
       " 'unbanned_timestamp': datetime.datetime(2017, 1, 5, 13, 52, 45, tzinfo=<UTC>)}"
      ]
     },
     "execution_count": 88,
     "metadata": {},
     "output_type": "execute_result"
    }
   ],
   "source": [
    "person_actions_after_unban[0]"
   ]
  },
  {
   "cell_type": "markdown",
   "metadata": {},
   "source": [
    "### Add Account Info to Person Dataset"
   ]
  },
  {
   "cell_type": "code",
   "execution_count": 100,
   "metadata": {
    "collapsed": false
   },
   "outputs": [],
   "source": [
    "banned_timestamps = {}\n",
    "\n",
    "for person in person_actions_after_unban:\n",
    "    \n",
    "    if(person['account'] not in account_info.keys()):\n",
    "        account_name = person['account']\n",
    "        a = r.get_redditor(account_name)\n",
    "        try:\n",
    "            a.refresh()\n",
    "        except: \n",
    "            pass\n",
    "        account_info[account_name] = a.json_dict\n",
    "\n",
    "    account = account_info[person['account']]\n",
    "    banned_timestamps[person['account']] = person['banned_timestamp']\n",
    "    \n",
    "    if(account is not None and 'has_verified_email' in account.keys()):\n",
    "        person['has_verified_email'] = account['has_verified_email']\n",
    "    else:\n",
    "        person['has_verified_email'] = None\n",
    "\n",
    "    if(account is not None and 'created_utc' in account.keys()):\n",
    "        person['account_created'] = utc.localize(datetime.datetime.utcfromtimestamp(account['created_utc']))\n",
    "    else:\n",
    "        person['account_created'] = None\n",
    "    \n",
    "    person['is_suspended_03.31.2017'] = False\n",
    "    if(account is not None and 'is_suspended' in account.keys()):\n",
    "        person['is_suspended_03.31.2017'] = account['is_suspended']"
   ]
  },
  {
   "cell_type": "markdown",
   "metadata": {
    "collapsed": false
   },
   "source": [
    "### Add Acount Info to Actions Dataset"
   ]
  },
  {
   "cell_type": "code",
   "execution_count": 101,
   "metadata": {
    "collapsed": false
   },
   "outputs": [],
   "source": [
    "for action in all_actions_after_unban:\n",
    "    account = account_info[action['author'].lower()]\n",
    "    action['banned_timestamp'] = banned_timestamps[action['author'].lower()]\n",
    "    \n",
    "    if(account is not None and 'has_verified_email' in account.keys()):\n",
    "        action['has_verified_email'] = account['has_verified_email']\n",
    "    else:\n",
    "        action['has_verified_email'] = None\n",
    "\n",
    "    if(account is not None and 'created_utc' in account.keys()):\n",
    "        action['account_created'] = utc.localize(datetime.datetime.utcfromtimestamp(account['created_utc']))\n",
    "    else:\n",
    "        action['account_created'] = None\n",
    "    \n",
    "    action['is_suspended_03.31.2017'] = False\n",
    "    if(account is not None and 'is_suspended' in account.keys()):\n",
    "        action['is_suspended_03.31.2017'] = account['is_suspended']"
   ]
  },
  {
   "cell_type": "markdown",
   "metadata": {},
   "source": [
    "### Write Data to Files"
   ]
  },
  {
   "cell_type": "code",
   "execution_count": 102,
   "metadata": {
    "collapsed": false
   },
   "outputs": [],
   "source": [
    "unbanned_people_df = pd.DataFrame(person_actions_after_unban)\n",
    "unbanned_people_df.to_csv(\"outputs/r_leagueoflegends_banned_people_actions.03.31.2017.csv\")"
   ]
  },
  {
   "cell_type": "code",
   "execution_count": 103,
   "metadata": {
    "collapsed": false
   },
   "outputs": [
    {
     "data": {
      "image/png": "[encoded data removed]",
      "text/plain": [
       "<matplotlib.figure.Figure at 0x7fbdd622f6a0>"
      ]
     },
     "metadata": {},
     "output_type": "display_data"
    },
    {
     "data": {
      "image/png": "[encoded data removed]",
      "text/plain": [
       "<matplotlib.figure.Figure at 0x7fbdd478bda0>"
      ]
     },
     "metadata": {},
     "output_type": "display_data"
    }
   ],
   "source": [
    "plt.figure(figsize=(10,2))\n",
    "unbanned_people_df.num_comments.hist(bins=100)\n",
    "plt.show()\n",
    "plt.figure(figsize=(10,2))\n",
    "unbanned_people_df.num_submissions.hist(bins=100)\n",
    "plt.show()"
   ]
  },
  {
   "cell_type": "code",
   "execution_count": 104,
   "metadata": {
    "collapsed": false
   },
   "outputs": [],
   "source": [
    "#print(\"Reban Rate\")\n",
    "#print(unbanned_people_df.rebanned.describe())\n",
    "#print(\"\")\n",
    "#print(\"Rebanned Within a Week\")\n",
    "#print(unbanned_people_df.rebanned_within_week.describe())"
   ]
  },
  {
   "cell_type": "code",
   "execution_count": 105,
   "metadata": {
    "collapsed": false
   },
   "outputs": [],
   "source": [
    "## TODO: BEFORE ADDING ACTIONS AFTER UNBAN, ADD A FIELD \n",
    "## TO INDICATE THE USER IN QUESTION\n",
    "actions_df = pd.DataFrame(all_actions_after_unban)\n",
    "actions_df.to_csv(\"outputs/r_leagueoflegends_unbanned_actions.03.31.2017.csv\")"
   ]
  },
  {
   "cell_type": "code",
   "execution_count": null,
   "metadata": {
    "collapsed": false
   },
   "outputs": [],
   "source": [
    "actions_df.head(5)"
   ]
  },
  {
   "cell_type": "code",
   "execution_count": null,
   "metadata": {
    "collapsed": false
   },
   "outputs": [],
   "source": [
    "unbanned_people_df.head()"
   ]
  },
  {
   "cell_type": "markdown",
   "metadata": {
    "collapsed": true
   },
   "source": [
    "## Analysis of Ban/Note Consistency"
   ]
  },
  {
   "cell_type": "code",
   "execution_count": 841,
   "metadata": {
    "collapsed": false
   },
   "outputs": [],
   "source": [
    "import hashlib\n",
    "def ban_note_actions():\n",
    "    return {\n",
    "        \"mod_name\":None,\n",
    "        \"banuser\":0,\n",
    "        \"unbanuser\":0,\n",
    "        \"removecomment\":0,\n",
    "        \"approvecomment\":0,\n",
    "        \"removelink\":0,\n",
    "        \"approvelink\":0,\n",
    "        'Ban':0, 'Permaban':0,\n",
    "        'Del/res warn':0, 'Bot Ban':0\n",
    "    }\n",
    "mod_ban_note_actions = defaultdict(ban_note_actions)\n",
    "#earliest_mod_action = utc.localize(min([x['created_utc'] for x in actions]))\n",
    "earliest_mod_action = utc.localize(parser.parse(\"nov 8 2016\"))"
   ]
  },
  {
   "cell_type": "code",
   "execution_count": 842,
   "metadata": {
    "collapsed": false
   },
   "outputs": [],
   "source": [
    "for action in actions:\n",
    "    if action['action'] in ['banuser','unbanuser']:\n",
    "        ## TEMPORARY LINE OF CODE\n",
    "        if(utc.localize(action['created_utc']) > earliest_mod_action):\n",
    "            modhash =  hashlib.sha224(action['mod'].encode('utf-8')).hexdigest()\n",
    "            mod_ban_note_actions[modhash][action['action']]+=1\n",
    "            mod_ban_note_actions[modhash]['mod_name'] = action['mod'].encode('utf8')"
   ]
  },
  {
   "cell_type": "code",
   "execution_count": 843,
   "metadata": {
    "collapsed": false
   },
   "outputs": [],
   "source": [
    "for user in sub_user_notes.values():\n",
    "    for note in user:\n",
    "        if(parser.parse(note['Timestamp']) >( earliest_mod_action  - datetime.timedelta(seconds=60*60))):\n",
    "            if(note['NoteTypeName'] in ['Ban', 'Permaban','Del/res warn', 'Bot Ban']):\n",
    "                modhash =  hashlib.sha224(note['Submitter'].encode('utf-8')).hexdigest()\n",
    "                mod_ban_note_actions[modhash][note['NoteTypeName']]+=1\n",
    "                mod_ban_note_actions[modhash]['mod_name'] = note['Submitter'].encode('utf8')\n"
   ]
  },
  {
   "cell_type": "code",
   "execution_count": 844,
   "metadata": {
    "collapsed": false
   },
   "outputs": [],
   "source": [
    "#list(mod_ban_note_actions.values())[5]\n"
   ]
  },
  {
   "cell_type": "code",
   "execution_count": 845,
   "metadata": {
    "collapsed": false
   },
   "outputs": [
    {
     "name": "stdout",
     "output_type": "stream",
     "text": [
      "Max Snoonote Ban: 166\n",
      "Max banuser: 232\n"
     ]
    }
   ],
   "source": [
    "for mod in mod_ban_note_actions.values():\n",
    "    mod['Ban + Bot Ban + Perma Ban']  = mod['Ban'] + mod['Bot Ban']\n",
    "    mod['banuser - Snoonote Ban'] = mod['banuser'] - mod['Ban + Bot Ban + Perma Ban'] \n",
    "    mod['banuser - Ban'] = mod['banuser'] - mod['Ban'] \n",
    "    \n",
    "print(\"Max Snoonote Ban: {0}\".format(max([x['Ban + Bot Ban + Perma Ban'] for x in mod_ban_note_actions.values()])))\n",
    "print(\"Max banuser: {0}\".format(max([x['banuser'] for x in mod_ban_note_actions.values()])))"
   ]
  },
  {
   "cell_type": "code",
   "execution_count": 846,
   "metadata": {
    "collapsed": false
   },
   "outputs": [
    {
     "data": {
      "image/png": "[encoded data removed]",
      "text/plain": [
       "<matplotlib.figure.Figure at 0x7fc6c39ddba8>"
      ]
     },
     "metadata": {},
     "output_type": "display_data"
    }
   ],
   "source": [
    "plt.hist([x['banuser - Snoonote Ban'] for x in mod_ban_note_actions.values()], bins=50)\n",
    "plt.title(\"How many more banuser actions than notes about Ban, Perma Ban, or Bot Ban\")\n",
    "plt.show()\n",
    "\n",
    "#plt.hist([x['banuser - Ban'] for x in mod_ban_note_actions.values()])\n",
    "#plt.title(\"\")\n",
    "#plt.show()\n",
    "#plt.scatter([x['Ban + Bot Ban'] for x in mod_ban_note_actions.values()])"
   ]
  },
  {
   "cell_type": "code",
   "execution_count": 852,
   "metadata": {
    "collapsed": false
   },
   "outputs": [
    {
     "data": {
      "text/plain": [
       "5.0"
      ]
     },
     "execution_count": 852,
     "metadata": {},
     "output_type": "execute_result"
    }
   ],
   "source": [
    "np.median([x['banuser - Snoonote Ban'] for x in mod_ban_note_actions.values() if x['banuser - Snoonote Ban']>0])"
   ]
  },
  {
   "cell_type": "code",
   "execution_count": 848,
   "metadata": {
    "collapsed": false
   },
   "outputs": [
    {
     "data": {
      "text/plain": [
       "30"
      ]
     },
     "execution_count": 848,
     "metadata": {},
     "output_type": "execute_result"
    }
   ],
   "source": [
    "len(mod_ban_note_actions)"
   ]
  },
  {
   "cell_type": "markdown",
   "metadata": {},
   "source": [
    "### Random sample of accounts that were banned without any Ban Note"
   ]
  },
  {
   "cell_type": "code",
   "execution_count": 864,
   "metadata": {
    "collapsed": false
   },
   "outputs": [
    {
     "name": "stdout",
     "output_type": "stream",
     "text": [
      "A proportion of 0.2961240310077519 banned users have no note\n",
      "\n",
      "HAS NO NOTE:\n",
      "\n",
      "qasdfer\n",
      "Satalizer\n",
      "MohammedLobster\n",
      "riotkysplz\n",
      "Woessoe\n",
      "bernatilis\n",
      "TransphobicMods\n",
      "EUFANSIN2016LUL\n",
      "PM-FNATIC-FAN-TEARS\n",
      "SUCK_IT_NOW_NA\n"
     ]
    }
   ],
   "source": [
    "banned_user_usernames = []\n",
    "banned_user_no_note = []\n",
    "banned_user_has_note = []\n",
    "\n",
    "for username, data in banned_users.items():\n",
    "    #banned_user_usernames.append(username)\n",
    "    if(username.lower() not in sub_user_notes.keys()):\n",
    "        banned_user_no_note.append(username)\n",
    "    else:\n",
    "        banned_user_has_note.append(username)\n",
    "print(\"A proportion of {0} banned users have no note\".format(len(banned_user_no_note) / len(banned_users)))\n",
    "\n",
    "print(\"\")\n",
    "print(\"HAS NO NOTE:\")\n",
    "print(\"\")\n",
    "for name in random.sample(banned_user_no_note, 10):\n",
    "    print(name)\n",
    "\n",
    "# print(\"\")\n",
    "# print(\"HAS A NOTE:\")\n",
    "# print(\"\")\n",
    "# for name in random.sample(banned_user_has_note, 20):\n",
    "#     print(name)\n",
    "    "
   ]
  },
  {
   "cell_type": "code",
   "execution_count": 851,
   "metadata": {
    "collapsed": false
   },
   "outputs": [
    {
     "data": {
      "text/plain": [
       "Counter({False: 382})"
      ]
     },
     "execution_count": 851,
     "metadata": {},
     "output_type": "execute_result"
    }
   ],
   "source": [
    "lc_usernames_with_notes = [x.lower() for x in usernames_with_notes]\n",
    "Counter([x in lc_usernames_with_notes for x in banned_user_no_note])"
   ]
  },
  {
   "cell_type": "code",
   "execution_count": 780,
   "metadata": {
    "collapsed": false
   },
   "outputs": [
    {
     "name": "stdout",
     "output_type": "stream",
     "text": [
      "11592\n",
      "11593\n"
     ]
    }
   ],
   "source": [
    "print(len(sub_user_notes))\n",
    "print(len(usernames_with_notes))"
   ]
  },
  {
   "cell_type": "code",
   "execution_count": 861,
   "metadata": {
    "collapsed": false
   },
   "outputs": [],
   "source": [
    "for x in mod_ban_note_actions.values():\n",
    "    x['proportional_discrepancy'] = (x['banuser - Snoonote Ban']+1) / (x['banuser'] +1)"
   ]
  },
  {
   "cell_type": "code",
   "execution_count": 865,
   "metadata": {
    "collapsed": false,
    "scrolled": false
   },
   "outputs": [],
   "source": [
    "#sorted([x for x in mod_ban_note_actions.values() if x['banuser - Snoonote Ban']>0], \n",
    "#       key=lambda x: x['banuser - Snoonote Ban'], reverse=True)"
   ]
  },
  {
   "cell_type": "code",
   "execution_count": 884,
   "metadata": {
    "collapsed": false
   },
   "outputs": [
    {
     "data": {
      "text/plain": [
       "{'action': 'removecomment',\n",
       " 'created_at': datetime.datetime(2016, 12, 3, 3, 53, 47),\n",
       " 'created_utc': datetime.datetime(2016, 9, 3, 23, 58, 41),\n",
       " 'description': None,\n",
       " 'details': 'Blacklisted word, retard',\n",
       " 'id': 'ModAction_dddfd834-7253-11e6-80b6-0e18eb2eb5c7',\n",
       " 'mod': 'AutoModerator',\n",
       " 'mod_id36': '6l4z3',\n",
       " 'sr_id36': '2rfxx',\n",
       " 'subreddit': 'leagueoflegends',\n",
       " 'subreddit_id': '2rfxx',\n",
       " 'target_author': 'Dr_Foppo',\n",
       " 'target_body': \"which was a surprisingly retarded thing for him to say\\n\\ni mean...i'm no sports psychologist but still a psychologist myself and I can't imagine a fellow psychologist believing so strongly that genetics and inherent attributes aren't important, like: intelligence; body figure - including hight, number of muscle cells, size of fat cells; eye-hand coordination and general coordination; etc.\\n\\n\",\n",
       " 'target_fullname': 't1_d78ryuv',\n",
       " 'target_permalink': '/r/leagueoflegends/comments/5113lr/konstantinos_forg1ven_tzortziou_2016_ama/d78ryuv/',\n",
       " 'target_title': None}"
      ]
     },
     "execution_count": 884,
     "metadata": {},
     "output_type": "execute_result"
    }
   ],
   "source": [
    "actions[0]"
   ]
  },
  {
   "cell_type": "code",
   "execution_count": 894,
   "metadata": {
    "collapsed": false
   },
   "outputs": [],
   "source": [
    "#[x for x in actions if action['target_author'] in banned_user_no_note[40]]\n",
    "reasons = defaultdict(int)\n",
    "details = [x['details'].split() for x in actions if x['details'] is not None and x['action']=='banuser']\n",
    "for detail in details:\n",
    "    for reason in detail:\n",
    "        reasons[reason] +=1"
   ]
  },
  {
   "cell_type": "code",
   "execution_count": 895,
   "metadata": {
    "collapsed": false
   },
   "outputs": [
    {
     "data": {
      "text/plain": [
       "defaultdict(int, {'1': 4, '7': 11, 'days': 15, 'permanent': 1551})"
      ]
     },
     "execution_count": 895,
     "metadata": {},
     "output_type": "execute_result"
    }
   ],
   "source": [
    "reasons"
   ]
  },
  {
   "cell_type": "markdown",
   "metadata": {
    "collapsed": true
   },
   "source": [
    "## Question: What Percentage of Banned Users Get Unbanned?"
   ]
  },
  {
   "cell_type": "code",
   "execution_count": 991,
   "metadata": {
    "collapsed": false
   },
   "outputs": [
    {
     "name": "stdout",
     "output_type": "stream",
     "text": [
      "....u..u....u.....u....u.......u....u..u....u...u....u.....u..u...u....u...u....u...u....u.....u....u.....u.....u..u"
     ]
    }
   ],
   "source": [
    "def was_unbanned_dict():\n",
    "    return {\"username\":None,\n",
    "            \"banned\": None, #timestamp\n",
    "            \"unbanned\": None, #timestamp\n",
    "            \"rebanned\": None,\n",
    "            \"warned\": None} #timestamp\n",
    "\n",
    "users_were_unbanned = defaultdict(was_unbanned_dict)\n",
    "\n",
    "counter = 0\n",
    "unbancount = 0\n",
    "\n",
    "for username, user_object in user_moderation_experiences.items():\n",
    "    user_was_unbanned = was_unbanned_dict()\n",
    "    something_recorded = False\n",
    "    \n",
    "    for experience in user_object['experiences']:\n",
    "        \n",
    "        if(experience['type']=='Abuse Warning' or \n",
    "           experience['type']=='Spam Warning'):\n",
    "            received_warning= True\n",
    "            user_was_unbanned['warned'] = experience['timestamp']\n",
    "            something_recorded = True\n",
    "            \n",
    "        \n",
    "        ## BREAK IF WE ONLY OBSERVE PART OF THE\n",
    "        ## BAN JOURNEY OF THIS PARTICULAR ACCOUNT\n",
    "#         if((experience['type'] ==\"Perma Ban\" or\n",
    "#             experience['type'] == 'Bot Ban') and\n",
    "#             user_was_unbanned['rebanned'] is None):\n",
    "#             break\n",
    "            \n",
    "        if(experience['type']=='banuser'):\n",
    "            if(user_was_unbanned['banned'] is None and \n",
    "               experience['timestamp'] <= utc.localize(period_before_final_date)):\n",
    "                user_was_unbanned['banned'] = experience['timestamp']\n",
    "                something_recorded = True\n",
    "            elif(user_was_unbanned['unbanned'] is not None):\n",
    "                user_was_unbanned['rebanned'] = experience['timestamp']\n",
    "                something_recorded = True\n",
    "                break\n",
    "\n",
    "        elif(experience['type']=='unbanuser' and user_was_unbanned['unbanned'] is None and\n",
    "             user_was_unbanned['banned'] is not None):\n",
    "            unbancount += 1\n",
    "            if(unbancount % 10 ==0):\n",
    "                sys.stdout.write(\"u\")\n",
    "                sys.stdout.flush()\n",
    "            user_was_unbanned['unbanned'] = experience['timestamp']\n",
    "            something_recorded = True\n",
    "\n",
    "    if(something_recorded):\n",
    "        users_were_unbanned[username] = user_was_unbanned\n",
    "\n",
    "    counter += 1\n",
    "    if(counter % 1000 ==0):\n",
    "        sys.stdout.write(\".\")\n",
    "        sys.stdout.flush()"
   ]
  },
  {
   "cell_type": "code",
   "execution_count": 1002,
   "metadata": {
    "collapsed": true
   },
   "outputs": [],
   "source": [
    "actions_after_unban = {}\n",
    "for person in person_actions_after_unban:\n",
    "    actions_after_unban[person['account'].lower()]  = person\n",
    "\n",
    "boolean_keys = ['rebanned_within_period', 'rebanned', 'ever_received_ban_snoonote']\n",
    "numeric_keys = ['num_submissions', 'num_comments_removed', 'num_comments', 'num_submissions_removed']\n",
    "for username,user in users_were_unbanned.items():\n",
    "    if username in actions_after_unban.keys():\n",
    "        person = actions_after_unban[username]\n",
    "        for key in boolean_keys:\n",
    "            user[key] = person[key]\n",
    "        for key in numeric_keys:\n",
    "            user[key] = person[key]\n",
    "    else:\n",
    "        for key in boolean_keys:\n",
    "            user[key] = False\n",
    "        for key in numeric_keys:\n",
    "            user[key] = 0        "
   ]
  },
  {
   "cell_type": "code",
   "execution_count": 1003,
   "metadata": {
    "collapsed": false
   },
   "outputs": [],
   "source": [
    "#len(user_moderation_experiences)\n",
    "#list(user_moderation_experiences.values())[0]['experiences'][0]\n",
    "#list(users_were_unbanned.values())[10]\n",
    "#user_was_unbanned\n",
    "#experience\n",
    "#Counter([x['banned']!=None for x in users_were_unbanned.values()])\n",
    "unbanned_users_df = pd.DataFrame(list(users_were_unbanned.values()))\n",
    "unbanned_users_df.to_csv(\"outputs/r_leagueoflegends_banned_people_actions.03.07.2017.csv\")"
   ]
  },
  {
   "cell_type": "code",
   "execution_count": 997,
   "metadata": {
    "collapsed": false
   },
   "outputs": [
    {
     "data": {
      "text/plain": [
       "banned      608\n",
       "rebanned      0\n",
       "unbanned    148\n",
       "username      0\n",
       "warned      608\n",
       "dtype: int64"
      ]
     },
     "execution_count": 997,
     "metadata": {},
     "output_type": "execute_result"
    }
   ],
   "source": [
    "unbanned_users_df[(pd.isnull(unbanned_users_df.banned)!=True) & \n",
    "                   (pd.isnull(unbanned_users_df.warned)!=True)].count()"
   ]
  },
  {
   "cell_type": "code",
   "execution_count": 1008,
   "metadata": {
    "collapsed": false
   },
   "outputs": [
    {
     "data": {
      "text/plain": [
       "banned                        1290\n",
       "ever_received_ban_snoonote    7336\n",
       "num_comments                  7336\n",
       "num_comments_removed          7336\n",
       "num_submissions               7336\n",
       "num_submissions_removed       7336\n",
       "rebanned                      7336\n",
       "rebanned_within_period        7336\n",
       "unbanned                       241\n",
       "username                         0\n",
       "warned                        6654\n",
       "dtype: int64"
      ]
     },
     "execution_count": 1008,
     "metadata": {},
     "output_type": "execute_result"
    }
   ],
   "source": [
    "unbanned_users_df.count()"
   ]
  },
  {
   "cell_type": "code",
   "execution_count": 1001,
   "metadata": {
    "collapsed": false
   },
   "outputs": [
    {
     "data": {
      "text/plain": [
       "dict_keys(['num_submissions', 'account_created', 'rebanned_within_period', 'has_verified_email', 'rebanned', 'is_suspended', 'account', 'num_comments_removed', 'unbanned_timestamp', 'num_comments', 'ever_received_ban_snoonote', 'num_submissions_removed'])"
      ]
     },
     "execution_count": 1001,
     "metadata": {},
     "output_type": "execute_result"
    }
   ],
   "source": [
    "person_actions_after_unban[0]"
   ]
  },
  {
   "cell_type": "code",
   "execution_count": 1011,
   "metadata": {
    "collapsed": false
   },
   "outputs": [
    {
     "name": "stdout",
     "output_type": "stream",
     "text": [
      "CAT\n"
     ]
    }
   ],
   "source": [
    "print(\"CAT\")"
   ]
  },
  {
   "cell_type": "code",
   "execution_count": null,
   "metadata": {
    "collapsed": true
   },
   "outputs": [],
   "source": []
  }
 ],
 "metadata": {
  "kernelspec": {
   "display_name": "Python 3",
   "language": "python",
   "name": "python3"
  },
  "language_info": {
   "codemirror_mode": {
    "name": "ipython",
    "version": 3
   },
   "file_extension": ".py",
   "mimetype": "text/x-python",
   "name": "python",
   "nbconvert_exporter": "python",
   "pygments_lexer": "ipython3",
   "version": "3.5.2"
  }
 },
 "nbformat": 4,
 "nbformat_minor": 2
}
