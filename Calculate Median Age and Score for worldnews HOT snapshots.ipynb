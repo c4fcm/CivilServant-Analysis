{
 "cells": [
  {
   "cell_type": "code",
   "execution_count": 12,
   "metadata": {
    "collapsed": false
   },
   "outputs": [],
   "source": [
    "%matplotlib inline\n",
    "import inspect, os, sys, copy, pytz, re, glob\n",
    "import simplejson as json\n",
    "import pandas as pd\n",
    "from dateutil import parser\n",
    "import datetime\n",
    "import matplotlib.pyplot as plt   # Matplotlib for plotting\n",
    "import matplotlib.dates as md\n",
    "import numpy as np\n",
    "import seaborn as sns\n",
    "from collections import Counter, defaultdict\n",
    "\n",
    "utc=pytz.UTC\n",
    "\n",
    "ENV = \"production\"\n",
    "os.environ['CS_ENV'] = 'production'\n",
    "BASE_DIR = \"/home/reddit/CivilServant\"\n",
    "sys.path.append(BASE_DIR)\n",
    "subreddit_id = \"2qh13\"\n",
    "\n",
    "with open(os.path.join(BASE_DIR, \"config\") + \"/{env}.json\".format(env=ENV), \"r\") as config:\n",
    "  DBCONFIG = json.loads(config.read())\n",
    "\n",
    "### LOAD SQLALCHEMY\n",
    "from sqlalchemy import create_engine\n",
    "from sqlalchemy.orm import sessionmaker\n",
    "from sqlalchemy import text, and_, or_\n",
    "from app.models import Base, SubredditPage, FrontPage, Subreddit, Post, ModAction, Experiment\n",
    "from utils.common import PageType\n",
    "\n",
    "db_engine = create_engine(\"mysql://{user}:{password}@{host}/{database}\".format(\n",
    "    host = DBCONFIG['host'],\n",
    "    user = DBCONFIG['user'],\n",
    "    password = DBCONFIG['password'],\n",
    "    database = DBCONFIG['database']))\n",
    "DBSession = sessionmaker(bind=db_engine)\n",
    "db_session = DBSession()\n",
    "\n",
    "### LOAD PRAW\n",
    "import reddit.connection\n",
    "conn = reddit.connection.Connect(base_dir=BASE_DIR, env=\"jupyter\")\n",
    "\n",
    "### FILTER OUT DEPRECATION WARNINGS ASSOCIATED WITH DECORATORS\n",
    "# https://github.com/ipython/ipython/issues/9242\n",
    "import warnings\n",
    "warnings.filterwarnings('ignore', category=DeprecationWarning, message='.*use @default decorator instead.*')"
   ]
  },
  {
   "cell_type": "code",
   "execution_count": 13,
   "metadata": {
    "collapsed": false
   },
   "outputs": [],
   "source": [
    "earliest_date = db_session.query(Experiment).filter(Experiment.id==8).first().created_at"
   ]
  },
  {
   "cell_type": "markdown",
   "metadata": {},
   "source": [
    "### Coding Plan\n",
    "1. get experiment posts\n",
    "2. get all posts from subreddit (confirm that this is at least all that appeared in the rankings) (purpose: to determine the creation time of the post)\n",
    "3. run through the list of pages, page by page, and create the per-post ranking snapshot dataset, without having to store every subreddit HOT page in memory"
   ]
  },
  {
   "cell_type": "markdown",
   "metadata": {},
   "source": [
    "### Collect All Subreddit posts"
   ]
  },
  {
   "cell_type": "code",
   "execution_count": 14,
   "metadata": {
    "collapsed": false
   },
   "outputs": [],
   "source": [
    "# tabloid_domains = [ 'dailymail.co.uk', 'express.co.uk','mirror.co.uk', 'news.com.au', \n",
    "#                     'nypost.com', 'thesun.co.uk','dailystar.co.uk','metro.co.uk']\n",
    "# msm_domains     = [ \"bbc.com\", \"reuters.com\", \"nytimes.com\", \"washingtonpost.com\", \"cnn.com\", \n",
    "#                     \"telegraph.co.uk\", \"latimes.com\", \"huffingtonpost.com\", \"theguardian.com\", \"forbes.com\",\n",
    "#                     \"examiner.com\", \"usatoday.com\", \"wsj.com\", \"cbsnews.com\", \"cbc.ca\", \"time.com\",\n",
    "#                     \"sfgate.com\", \"newsweek.com\", \"bostonglobe.com\", \"nydailynews.com\", \"msnbc.com\",\n",
    "#                     \"foxnews.com\", \"aljazeera.com\", \"nbcnews.com\", \"npr.org\", \"bloomberg.com\", \"abcnews.com\", \n",
    "#                     \"aljazeera.com\", \"bigstory.ap.com\", \"cbc.ca\", \"time.com\"]\n",
    "\n",
    "all_posts = {}\n",
    "for row in db_engine.execute(text(\"select * from posts WHERE subreddit_id = '2qh13' ORDER BY posts.created ASC;\")):\n",
    "    post = {}\n",
    "    post_data = json.loads(row['post_data'])\n",
    "    for key in post_data.keys():\n",
    "        post[key] = post_data[key]\n",
    "    for key in row.keys():\n",
    "        post[key]=row[key]\n",
    "    del post['post_data']\n",
    "    all_posts[post['id']] = post['created']"
   ]
  },
  {
   "cell_type": "markdown",
   "metadata": {},
   "source": [
    "### Process Subreddit Pages"
   ]
  },
  {
   "cell_type": "code",
   "execution_count": 33,
   "metadata": {
    "collapsed": false
   },
   "outputs": [],
   "source": [
    "#pages = db_session.query(SubredditPage).filter(and_(SubredditPage.page_type == PageType.HOT,\n",
    "#                                                    SubredditPage.created_at >= earliest_date)).limit(1)\n",
    "\n",
    "included_posts = set()\n",
    "excluded_posts = set()\n",
    "for page in db_engine.execute(text(\"select * from subreddit_pages WHERE subreddit_id='2qh13' AND page_type={0} AND created_at > '{1}' LIMIT 5;\".format(\n",
    "    4, #PageType.HOT\n",
    "    earliest_date\n",
    "))):\n",
    "    posts = json.loads(page['page_data'])\n",
    "    for post in posts:\n",
    "        if(post['id'] in all_posts.keys()):\n",
    "            included_posts.add(post['id'])\n",
    "        else:\n",
    "            excluded_posts.add(post['id'])"
   ]
  },
  {
   "cell_type": "code",
   "execution_count": 38,
   "metadata": {
    "collapsed": false
   },
   "outputs": [
    {
     "data": {
      "text/plain": [
       "{'author': 'Brianlife',\n",
       " 'id': '5f016v',\n",
       " 'num_comments': 83,\n",
       " 'num_reports': 0,\n",
       " 'score': 250,\n",
       " 'subreddit_id': 't5_2qh13'}"
      ]
     },
     "execution_count": 38,
     "metadata": {},
     "output_type": "execute_result"
    }
   ],
   "source": [
    "page['created_at'] - "
   ]
  },
  {
   "cell_type": "markdown",
   "metadata": {
    "collapsed": false
   },
   "source": [
    "### Conclusion: Many Posts are Excluded, So I Should Plan to Query reddit for Creation Date Info"
   ]
  },
  {
   "cell_type": "code",
   "execution_count": 24,
   "metadata": {
    "collapsed": false
   },
   "outputs": [
    {
     "data": {
      "text/plain": [
       "{'approved_by': None,\n",
       " 'archived': False,\n",
       " 'author': 'god_im_bored',\n",
       " 'author_flair_css_class': None,\n",
       " 'author_flair_text': None,\n",
       " 'banned_by': None,\n",
       " 'clicked': False,\n",
       " 'comment_data': None,\n",
       " 'comments_queried_at': None,\n",
       " 'contest_mode': False,\n",
       " 'created': datetime.datetime(2016, 11, 2, 6, 36, 7),\n",
       " 'created_at': datetime.datetime(2016, 11, 2, 10, 36, 25),\n",
       " 'created_utc': 1478082967.0,\n",
       " 'distinguished': None,\n",
       " 'domain': 'timesofisrael.com',\n",
       " 'downs': 0,\n",
       " 'edited': False,\n",
       " 'gilded': 0,\n",
       " 'hidden': False,\n",
       " 'hide_score': False,\n",
       " 'id': '5ap5oo',\n",
       " 'is_self': False,\n",
       " 'likes': None,\n",
       " 'link_flair_css_class': 'palestisrael',\n",
       " 'link_flair_text': 'Israel/Palestine',\n",
       " 'locked': False,\n",
       " 'media': None,\n",
       " 'media_embed': {},\n",
       " 'mod_reports': [],\n",
       " 'name': 't3_5ap5oo',\n",
       " 'num_comments': 0,\n",
       " 'num_reports': None,\n",
       " 'over_18': False,\n",
       " 'permalink': '/r/worldnews/comments/5ap5oo/eu_declares_israel_boycott_protected_as_free/',\n",
       " 'quarantine': False,\n",
       " 'removal_reason': None,\n",
       " 'report_reasons': None,\n",
       " 'saved': False,\n",
       " 'score': 2,\n",
       " 'secure_media': None,\n",
       " 'secure_media_embed': {},\n",
       " 'selftext': '',\n",
       " 'selftext_html': None,\n",
       " 'spoiler': False,\n",
       " 'stickied': False,\n",
       " 'subreddit': 'worldnews',\n",
       " 'subreddit_id': '2qh13',\n",
       " 'suggested_sort': None,\n",
       " 'thumbnail': '',\n",
       " 'title': 'EU declares Israel boycott protected as free speech',\n",
       " 'ups': 2,\n",
       " 'url': 'http://www.timesofisrael.com/eu-declares-israel-boycott-protected-as-free-speech/',\n",
       " 'user_reports': [],\n",
       " 'visited': False}"
      ]
     },
     "execution_count": 24,
     "metadata": {},
     "output_type": "execute_result"
    }
   ],
   "source": [
    "list(all_posts.values())[0]"
   ]
  },
  {
   "cell_type": "code",
   "execution_count": null,
   "metadata": {
    "collapsed": true
   },
   "outputs": [],
   "source": []
  }
 ],
 "metadata": {
  "kernelspec": {
   "display_name": "Python 3",
   "language": "python",
   "name": "python3"
  },
  "language_info": {
   "codemirror_mode": {
    "name": "ipython",
    "version": 3
   },
   "file_extension": ".py",
   "mimetype": "text/x-python",
   "name": "python",
   "nbconvert_exporter": "python",
   "pygments_lexer": "ipython3",
   "version": "3.5.2"
  }
 },
 "nbformat": 4,
 "nbformat_minor": 2
}
